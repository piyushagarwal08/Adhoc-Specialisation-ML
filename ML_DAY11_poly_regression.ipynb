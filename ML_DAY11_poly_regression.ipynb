{
  "nbformat": 4,
  "nbformat_minor": 0,
  "metadata": {
    "colab": {
      "name": "ML_DAY11_poly_regression.ipynb",
      "version": "0.3.2",
      "provenance": [],
      "collapsed_sections": [],
      "include_colab_link": true
    },
    "kernelspec": {
      "name": "python3",
      "display_name": "Python 3"
    }
  },
  "cells": [
    {
      "cell_type": "markdown",
      "metadata": {
        "id": "view-in-github",
        "colab_type": "text"
      },
      "source": [
        "<a href=\"https://colab.research.google.com/github/piyushagarwal08/Adhoc-Specialisation-ML/blob/Supervised_ML/ML_DAY11_poly_regression.ipynb\" target=\"_parent\"><img src=\"https://colab.research.google.com/assets/colab-badge.svg\" alt=\"Open In Colab\"/></a>"
      ]
    },
    {
      "cell_type": "code",
      "metadata": {
        "id": "r6zp5ddLNwcE",
        "colab_type": "code",
        "colab": {}
      },
      "source": [
        "import pandas as pd\n",
        "import matplotlib.pyplot as plt"
      ],
      "execution_count": 0,
      "outputs": []
    },
    {
      "cell_type": "code",
      "metadata": {
        "id": "I82cPY1bN4FL",
        "colab_type": "code",
        "colab": {}
      },
      "source": [
        "df = pd.read_csv('http://13.234.66.67/summer19/datasets/pos_sal.csv')"
      ],
      "execution_count": 0,
      "outputs": []
    },
    {
      "cell_type": "code",
      "metadata": {
        "id": "Xe-u96JdN-hM",
        "colab_type": "code",
        "outputId": "54990821-b206-4b68-c042-232061efa44d",
        "colab": {
          "base_uri": "https://localhost:8080/",
          "height": 156
        }
      },
      "source": [
        "df.info()"
      ],
      "execution_count": 0,
      "outputs": [
        {
          "output_type": "stream",
          "text": [
            "<class 'pandas.core.frame.DataFrame'>\n",
            "RangeIndex: 10 entries, 0 to 9\n",
            "Data columns (total 3 columns):\n",
            "Position    10 non-null object\n",
            "Level       10 non-null int64\n",
            "Salary      10 non-null int64\n",
            "dtypes: int64(2), object(1)\n",
            "memory usage: 320.0+ bytes\n"
          ],
          "name": "stdout"
        }
      ]
    },
    {
      "cell_type": "code",
      "metadata": {
        "id": "zpJTaPfDODm6",
        "colab_type": "code",
        "outputId": "18af05a9-8bed-4876-f5b5-a67f9c9f3837",
        "colab": {
          "base_uri": "https://localhost:8080/",
          "height": 206
        }
      },
      "source": [
        "# training features\n",
        "df.head()"
      ],
      "execution_count": 0,
      "outputs": [
        {
          "output_type": "execute_result",
          "data": {
            "text/html": [
              "<div>\n",
              "<style scoped>\n",
              "    .dataframe tbody tr th:only-of-type {\n",
              "        vertical-align: middle;\n",
              "    }\n",
              "\n",
              "    .dataframe tbody tr th {\n",
              "        vertical-align: top;\n",
              "    }\n",
              "\n",
              "    .dataframe thead th {\n",
              "        text-align: right;\n",
              "    }\n",
              "</style>\n",
              "<table border=\"1\" class=\"dataframe\">\n",
              "  <thead>\n",
              "    <tr style=\"text-align: right;\">\n",
              "      <th></th>\n",
              "      <th>Position</th>\n",
              "      <th>Level</th>\n",
              "      <th>Salary</th>\n",
              "    </tr>\n",
              "  </thead>\n",
              "  <tbody>\n",
              "    <tr>\n",
              "      <th>0</th>\n",
              "      <td>Business Analyst</td>\n",
              "      <td>1</td>\n",
              "      <td>45000</td>\n",
              "    </tr>\n",
              "    <tr>\n",
              "      <th>1</th>\n",
              "      <td>Junior Consultant</td>\n",
              "      <td>2</td>\n",
              "      <td>50000</td>\n",
              "    </tr>\n",
              "    <tr>\n",
              "      <th>2</th>\n",
              "      <td>Senior Consultant</td>\n",
              "      <td>3</td>\n",
              "      <td>60000</td>\n",
              "    </tr>\n",
              "    <tr>\n",
              "      <th>3</th>\n",
              "      <td>Manager</td>\n",
              "      <td>4</td>\n",
              "      <td>80000</td>\n",
              "    </tr>\n",
              "    <tr>\n",
              "      <th>4</th>\n",
              "      <td>Country Manager</td>\n",
              "      <td>5</td>\n",
              "      <td>110000</td>\n",
              "    </tr>\n",
              "  </tbody>\n",
              "</table>\n",
              "</div>"
            ],
            "text/plain": [
              "            Position  Level  Salary\n",
              "0   Business Analyst      1   45000\n",
              "1  Junior Consultant      2   50000\n",
              "2  Senior Consultant      3   60000\n",
              "3            Manager      4   80000\n",
              "4    Country Manager      5  110000"
            ]
          },
          "metadata": {
            "tags": []
          },
          "execution_count": 5
        }
      ]
    },
    {
      "cell_type": "code",
      "metadata": {
        "id": "ZCt42s8cOJeO",
        "colab_type": "code",
        "colab": {}
      },
      "source": [
        "# for polynomial regression model\n",
        "level = df.iloc[:,1:2].values\n",
        "sal = df.iloc[:,2:].values"
      ],
      "execution_count": 0,
      "outputs": []
    },
    {
      "cell_type": "code",
      "metadata": {
        "id": "69Xf2zddOXuT",
        "colab_type": "code",
        "colab": {}
      },
      "source": [
        "from sklearn.preprocessing import PolynomialFeatures"
      ],
      "execution_count": 0,
      "outputs": []
    },
    {
      "cell_type": "code",
      "metadata": {
        "id": "Nao65eAUOgki",
        "colab_type": "code",
        "colab": {}
      },
      "source": [
        "poly = PolynomialFeatures(degree=2)"
      ],
      "execution_count": 0,
      "outputs": []
    },
    {
      "cell_type": "code",
      "metadata": {
        "id": "L-bDMpQ1Oi4K",
        "colab_type": "code",
        "colab": {}
      },
      "source": [
        "# calling linear regression\n",
        "from sklearn.linear_model import LinearRegression"
      ],
      "execution_count": 0,
      "outputs": []
    },
    {
      "cell_type": "code",
      "metadata": {
        "id": "rLcLJrCtOsbh",
        "colab_type": "code",
        "colab": {}
      },
      "source": [
        "regr = LinearRegression()\n",
        "trained = regr.fit(level,sal)"
      ],
      "execution_count": 0,
      "outputs": []
    },
    {
      "cell_type": "code",
      "metadata": {
        "id": "baNazRnzO8_C",
        "colab_type": "code",
        "outputId": "62d494f2-79fb-4287-fd9c-9bf1cbea108f",
        "colab": {
          "base_uri": "https://localhost:8080/",
          "height": 283
        }
      },
      "source": [
        "# visualizing the data\n",
        "plt.xlabel('Position')\n",
        "plt.ylabel('Sal')\n",
        "plt.scatter(level,sal,label=\"actual model salary\")\n",
        "plt.plot(level,trained.predict(level),label=\"linear model predicted salary\")\n",
        "plt.legend()\n",
        "plt.show()"
      ],
      "execution_count": 0,
      "outputs": [
        {
          "output_type": "display_data",
          "data": {
            "image/png": "[encoded data removed]",
            "text/plain": [
              "<Figure size 432x288 with 1 Axes>"
            ]
          },
          "metadata": {
            "tags": []
          }
        }
      ]
    },
    {
      "cell_type": "code",
      "metadata": {
        "id": "zwsT20viPTzF",
        "colab_type": "code",
        "colab": {}
      },
      "source": [
        "from sklearn.preprocessing import PolynomialFeatures"
      ],
      "execution_count": 0,
      "outputs": []
    },
    {
      "cell_type": "code",
      "metadata": {
        "id": "PF0hPBU-P9XH",
        "colab_type": "code",
        "colab": {}
      },
      "source": [
        "# degree feature\n",
        "poly = PolynomialFeatures(degree=2)"
      ],
      "execution_count": 0,
      "outputs": []
    },
    {
      "cell_type": "code",
      "metadata": {
        "id": "YWCpc373P_UX",
        "colab_type": "code",
        "colab": {}
      },
      "source": [
        "applying data in poly\n",
        "newlevel = poly.fit_transform(level)"
      ],
      "execution_count": 0,
      "outputs": []
    },
    {
      "cell_type": "code",
      "metadata": {
        "id": "Px174y2AQK6M",
        "colab_type": "code",
        "colab": {}
      },
      "source": [
        "regr2 = LinearRegression()"
      ],
      "execution_count": 0,
      "outputs": []
    },
    {
      "cell_type": "code",
      "metadata": {
        "id": "zchUgxmGQf1H",
        "colab_type": "code",
        "colab": {}
      },
      "source": [
        "trained2 = regr2.fit(newlevel,sal)"
      ],
      "execution_count": 0,
      "outputs": []
    },
    {
      "cell_type": "code",
      "metadata": {
        "id": "Xu1yTJ0bQlBc",
        "colab_type": "code",
        "outputId": "03758b7f-0fe1-42a2-ede0-bcc09d96a083",
        "colab": {
          "base_uri": "https://localhost:8080/",
          "height": 283
        }
      },
      "source": [
        "# visualizing the data polynomial\n",
        "plt.xlabel('Position')\n",
        "plt.ylabel('Sal')\n",
        "plt.scatter(level,sal,label=\"actual model salary\")\n",
        "plt.plot(level,trained2.predict(newlevel),label=\"Polynomial model predicted salary\")\n",
        "plt.legend()\n",
        "plt.show()"
      ],
      "execution_count": 0,
      "outputs": [
        {
          "output_type": "display_data",
          "data": {
            "image/png": "[encoded data removed]",
            "text/plain": [
              "<Figure size 432x288 with 1 Axes>"
            ]
          },
          "metadata": {
            "tags": []
          }
        }
      ]
    },
    {
      "cell_type": "markdown",
      "metadata": {
        "id": "-33m5qzEQ7Ko",
        "colab_type": "text"
      },
      "source": [
        "# Adding more degree"
      ]
    },
    {
      "cell_type": "code",
      "metadata": {
        "id": "Kc3DROq7QoBh",
        "colab_type": "code",
        "colab": {}
      },
      "source": [
        "poly = PolynomialFeatures(degree=5)\n",
        "newlevel1 = poly.fit_transform(level)"
      ],
      "execution_count": 0,
      "outputs": []
    },
    {
      "cell_type": "code",
      "metadata": {
        "id": "mPAIYkawRWOL",
        "colab_type": "code",
        "colab": {}
      },
      "source": [
        "regr3 = LinearRegression()"
      ],
      "execution_count": 0,
      "outputs": []
    },
    {
      "cell_type": "code",
      "metadata": {
        "id": "aXCXPr1rRayQ",
        "colab_type": "code",
        "colab": {}
      },
      "source": [
        "trained3 = regr3.fit(newlevel1,sal)"
      ],
      "execution_count": 0,
      "outputs": []
    },
    {
      "cell_type": "code",
      "metadata": {
        "id": "-Ni4BfPuRfwf",
        "colab_type": "code",
        "outputId": "cdf52144-c1ab-47bf-d36d-2633a12a1405",
        "colab": {
          "base_uri": "https://localhost:8080/",
          "height": 283
        }
      },
      "source": [
        "# visualizing the data polynomial degree 5\n",
        "plt.xlabel('Position')\n",
        "plt.ylabel('Sal')\n",
        "plt.scatter(level,sal,label=\"actual model salary\")\n",
        "plt.plot(level,trained3.predict(newlevel1),label=\"Polynomial model predicted salary\")\n",
        "plt.legend()\n",
        "plt.show()"
      ],
      "execution_count": 0,
      "outputs": [
        {
          "output_type": "display_data",
          "data": {
            "image/png": "[encoded data removed]",
            "text/plain": [
              "<Figure size 432x288 with 1 Axes>"
            ]
          },
          "metadata": {
            "tags": []
          }
        }
      ]
    },
    {
      "cell_type": "code",
      "metadata": {
        "id": "bZZgK28fRoOB",
        "colab_type": "code",
        "colab": {}
      },
      "source": [
        ""
      ],
      "execution_count": 0,
      "outputs": []
    }
  ]
}