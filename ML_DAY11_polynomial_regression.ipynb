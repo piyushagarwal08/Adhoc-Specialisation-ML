{
  "nbformat": 4,
  "nbformat_minor": 0,
  "metadata": {
    "colab": {
      "name": "ML_DAY11_polynomial_regression",
      "version": "0.3.2",
      "provenance": [],
      "collapsed_sections": [],
      "include_colab_link": true
    },
    "kernelspec": {
      "name": "python3",
      "display_name": "Python 3"
    }
  },
  "cells": [
    {
      "cell_type": "markdown",
      "metadata": {
        "id": "view-in-github",
        "colab_type": "text"
      },
      "source": [
        "<a href=\"https://colab.research.google.com/github/piyushagarwal08/Adhoc-Specialisation-ML/blob/Supervised_ML/ML_DAY11_polynomial_regression.ipynb\" target=\"_parent\"><img src=\"https://colab.research.google.com/assets/colab-badge.svg\" alt=\"Open In Colab\"/></a>"
      ]
    },
    {
      "cell_type": "markdown",
      "metadata": {
        "id": "NRg8VGtvDuZL",
        "colab_type": "text"
      },
      "source": [
        "# Polynomial Regression (RESTUDY)"
      ]
    },
    {
      "cell_type": "code",
      "metadata": {
        "id": "seX4FYJSD2WK",
        "colab_type": "code",
        "colab": {}
      },
      "source": [
        "import pandas as pd\n",
        "import matplotlib.pyplot as plt"
      ],
      "execution_count": 0,
      "outputs": []
    },
    {
      "cell_type": "code",
      "metadata": {
        "id": "X4AmnhppD7q2",
        "colab_type": "code",
        "colab": {}
      },
      "source": [
        "# data loading\n",
        "df = pd.read_csv('http://13.234.66.67/summer19/datasets/salary.csv')"
      ],
      "execution_count": 0,
      "outputs": []
    },
    {
      "cell_type": "code",
      "metadata": {
        "id": "LJJAERMFEEPy",
        "colab_type": "code",
        "colab": {}
      },
      "source": [
        "# experience\n",
        "exp = df.iloc[0:,0:1].values\n",
        "sal = df.iloc[0:,1:].values"
      ],
      "execution_count": 0,
      "outputs": []
    },
    {
      "cell_type": "code",
      "metadata": {
        "id": "hMzGEXBaEL-3",
        "colab_type": "code",
        "colab": {}
      },
      "source": [
        "# calling Linear Model just for comparison\n",
        "from sklearn.linear_model import LinearRegression"
      ],
      "execution_count": 0,
      "outputs": []
    },
    {
      "cell_type": "code",
      "metadata": {
        "id": "dGc3qGpgEWpc",
        "colab_type": "code",
        "colab": {}
      },
      "source": [
        "regr = LinearRegression()"
      ],
      "execution_count": 0,
      "outputs": []
    },
    {
      "cell_type": "code",
      "metadata": {
        "id": "XA-jBSvoEnZs",
        "colab_type": "code",
        "colab": {}
      },
      "source": [
        "# to transfer data we can call\n",
        "from sklearn.preprocessing import PolynomialFeatures"
      ],
      "execution_count": 0,
      "outputs": []
    },
    {
      "cell_type": "code",
      "metadata": {
        "id": "YO9G5KiHGy4I",
        "colab_type": "code",
        "colab": {}
      },
      "source": [
        "poly = PolynomialFeatures(degree=15)"
      ],
      "execution_count": 0,
      "outputs": []
    },
    {
      "cell_type": "code",
      "metadata": {
        "id": "zksGzmtTHLej",
        "colab_type": "code",
        "colab": {}
      },
      "source": [
        "newexp = poly.fit_transform(exp)"
      ],
      "execution_count": 0,
      "outputs": []
    },
    {
      "cell_type": "code",
      "metadata": {
        "id": "jnLL2KtEGzf0",
        "colab_type": "code",
        "colab": {}
      },
      "source": [
        "# Applying new experience data in model\n",
        "trained = regr.fit(newexp,sal)"
      ],
      "execution_count": 0,
      "outputs": []
    },
    {
      "cell_type": "code",
      "metadata": {
        "id": "8b91XlVzHbcL",
        "colab_type": "code",
        "outputId": "ed33386a-2b3e-45dd-bd30-3b5030c73b6f",
        "colab": {
          "base_uri": "https://localhost:8080/",
          "height": 283
        }
      },
      "source": [
        "# now we can visualize this experience and salary data\n",
        "plt.xlabel('Experience')\n",
        "plt.ylabel('Salary')\n",
        "plt.scatter(exp,sal,label='actual')\n",
        "plt.plot(exp,trained.predict(newexp),label='new_model')\n",
        "plt.legend()\n",
        "#plt.scatter(exp,sal)\n",
        "plt.show()\n"
      ],
      "execution_count": 10,
      "outputs": [
        {
          "output_type": "display_data",
          "data": {
            "image/png": "[encoded data removed]",
            "text/plain": [
              "<Figure size 432x288 with 1 Axes>"
            ]
          },
          "metadata": {
            "tags": []
          }
        }
      ]
    },
    {
      "cell_type": "code",
      "metadata": {
        "id": "P35m23M0HzIb",
        "colab_type": "code",
        "colab": {}
      },
      "source": [
        "trained2 = regr.fit(newexp,sal)"
      ],
      "execution_count": 0,
      "outputs": []
    },
    {
      "cell_type": "code",
      "metadata": {
        "id": "MV20R6bPITHh",
        "colab_type": "code",
        "outputId": "b7c30dec-1036-439e-f462-a5faf9d5fdb8",
        "colab": {
          "base_uri": "https://localhost:8080/",
          "height": 283
        }
      },
      "source": [
        "# now we can visualize this experience and salary data\n",
        "plt.xlabel('Experience')\n",
        "plt.ylabel('Salary')\n",
        "plt.scatter(exp,sal,label='actual')\n",
        "plt.plot(exp,trained2.predict(newexp),label='new_model')\n",
        "plt.legend()\n",
        "#plt.scatter(exp,sal)\n",
        "plt.show()\n"
      ],
      "execution_count": 12,
      "outputs": [
        {
          "output_type": "display_data",
          "data": {
            "image/png": "[encoded data removed]",
            "text/plain": [
              "<Figure size 432x288 with 1 Axes>"
            ]
          },
          "metadata": {
            "tags": []
          }
        }
      ]
    },
    {
      "cell_type": "code",
      "metadata": {
        "id": "9yIhypgNKCKe",
        "colab_type": "code",
        "colab": {}
      },
      "source": [
        ""
      ],
      "execution_count": 0,
      "outputs": []
    }
  ]
}