{
  "nbformat": 4,
  "nbformat_minor": 0,
  "metadata": {
    "colab": {
      "name": "ML-TASKS.ipynb",
      "version": "0.3.2",
      "provenance": [],
      "collapsed_sections": [],
      "include_colab_link": true
    },
    "kernelspec": {
      "name": "python3",
      "display_name": "Python 3"
    }
  },
  "cells": [
    {
      "cell_type": "markdown",
      "metadata": {
        "id": "view-in-github",
        "colab_type": "text"
      },
      "source": [
        "<a href=\"https://colab.research.google.com/github/piyushagarwal08/Adhoc-Specialisation-ML/blob/master/ML_TASKS.ipynb\" target=\"_parent\"><img src=\"https://colab.research.google.com/assets/colab-badge.svg\" alt=\"Open In Colab\"/></a>"
      ]
    },
    {
      "cell_type": "markdown",
      "metadata": {
        "id": "t6hWmGXLVuSt",
        "colab_type": "text"
      },
      "source": [
        "pynumber: 1\n",
        "\n",
        "create 2D numpy  based array with given conditions:\n",
        "\n",
        "i)   take input from user in terms of dimension like (3x2 or 6x7)\n",
        "ii)   fill this numpy array with random number\n",
        "iii)  store this array in a file"
      ]
    },
    {
      "cell_type": "code",
      "metadata": {
        "id": "rPNBgLJ6V1Z4",
        "colab_type": "code",
        "outputId": "76498342-031a-4e24-cbd3-3c556251c622",
        "colab": {
          "base_uri": "https://localhost:8080/",
          "height": 34
        }
      },
      "source": [
        "row,column = input().split('x')"
      ],
      "execution_count": 1,
      "outputs": [
        {
          "output_type": "stream",
          "text": [
            "6x7\n"
          ],
          "name": "stdout"
        }
      ]
    },
    {
      "cell_type": "code",
      "metadata": {
        "id": "UW5_dorCWBhE",
        "colab_type": "code",
        "colab": {}
      },
      "source": [
        "import numpy as np"
      ],
      "execution_count": 0,
      "outputs": []
    },
    {
      "cell_type": "code",
      "metadata": {
        "id": "ZeyMenLRWIqo",
        "colab_type": "code",
        "colab": {}
      },
      "source": [
        "array1 = np.random.random((int(row),int(column)))"
      ],
      "execution_count": 0,
      "outputs": []
    },
    {
      "cell_type": "code",
      "metadata": {
        "id": "g2oMRnJGZ0ht",
        "colab_type": "code",
        "colab": {}
      },
      "source": [
        "np.savetxt('array.txt',array1)"
      ],
      "execution_count": 0,
      "outputs": []
    },
    {
      "cell_type": "code",
      "metadata": {
        "id": "7oLjbuB5adqg",
        "colab_type": "code",
        "outputId": "8d4bc3fb-cc03-4795-8a9a-97ef83b95694",
        "colab": {
          "base_uri": "https://localhost:8080/",
          "height": 225
        }
      },
      "source": [
        "y = np.loadtxt('array.txt')\n",
        "y"
      ],
      "execution_count": 5,
      "outputs": [
        {
          "output_type": "execute_result",
          "data": {
            "text/plain": [
              "array([[0.26943606, 0.73765797, 0.95928882, 0.65986955, 0.93831112,\n",
              "        0.30648951, 0.81343016],\n",
              "       [0.88624007, 0.22299117, 0.63311115, 0.33952989, 0.55386331,\n",
              "        0.19411365, 0.73277894],\n",
              "       [0.5528077 , 0.98108072, 0.21197295, 0.72605661, 0.78246798,\n",
              "        0.00270045, 0.97304166],\n",
              "       [0.89207453, 0.66217733, 0.8847877 , 0.63045081, 0.74915129,\n",
              "        0.08001989, 0.69539826],\n",
              "       [0.13807528, 0.06513815, 0.35296419, 0.92871105, 0.45451667,\n",
              "        0.54310752, 0.51910035],\n",
              "       [0.42978659, 0.34803081, 0.05419793, 0.38091901, 0.7118686 ,\n",
              "        0.01023773, 0.04042323]])"
            ]
          },
          "metadata": {
            "tags": []
          },
          "execution_count": 5
        }
      ]
    },
    {
      "cell_type": "markdown",
      "metadata": {
        "id": "N1bBoBaDcIYc",
        "colab_type": "text"
      },
      "source": [
        "pynumber: 2\n",
        "\n",
        "create a numpy array of  8x2 as having number  in each cell between 100 and 200 such that difference between each element is 5 \n"
      ]
    },
    {
      "cell_type": "code",
      "metadata": {
        "id": "yXtpz2iGb_ew",
        "colab_type": "code",
        "outputId": "855e86c0-3dd2-4e96-d469-03ecdc38fbea",
        "colab": {
          "base_uri": "https://localhost:8080/",
          "height": 156
        }
      },
      "source": [
        "x = np.arange(100,200,5)\n",
        "x = x[0:16].reshape(8,2)\n",
        "x"
      ],
      "execution_count": 6,
      "outputs": [
        {
          "output_type": "execute_result",
          "data": {
            "text/plain": [
              "array([[100, 105],\n",
              "       [110, 115],\n",
              "       [120, 125],\n",
              "       [130, 135],\n",
              "       [140, 145],\n",
              "       [150, 155],\n",
              "       [160, 165],\n",
              "       [170, 175]])"
            ]
          },
          "metadata": {
            "tags": []
          },
          "execution_count": 6
        }
      ]
    },
    {
      "cell_type": "markdown",
      "metadata": {
        "id": "KOMr0WM4gx8s",
        "colab_type": "text"
      },
      "source": [
        "data_visualization: 1\n",
        "\n",
        "visualize data graphs \n",
        "i)  take input from  a file where you have 4 rows and 5 columns\n",
        "ii)  columns having - student_name , marks , age , contact , study_hours\n",
        "iii)  visualize this data as pie chart\n",
        "iv)  file name must  student.csv with all column separated by ','"
      ]
    },
    {
      "cell_type": "code",
      "metadata": {
        "id": "_hKNzH7wfQMc",
        "colab_type": "code",
        "colab": {}
      },
      "source": [
        "import pandas as pd\n",
        "import matplotlib.pyplot as plt"
      ],
      "execution_count": 0,
      "outputs": []
    },
    {
      "cell_type": "code",
      "metadata": {
        "id": "SCpb7glNknts",
        "colab_type": "code",
        "colab": {}
      },
      "source": [
        "data = {'student_name': ['Piyush','Saksham','Shivam','Akshay'],'marks':[76,89,96,99],'age':[20,20,21,21],'contact':['8749573948','3847563947','7480384729','9485736402'],'study_hours':[10,6,8,23]}"
      ],
      "execution_count": 0,
      "outputs": []
    },
    {
      "cell_type": "code",
      "metadata": {
        "id": "sKkXHTvNliMw",
        "colab_type": "code",
        "outputId": "35460526-bdb0-4dc6-df7f-bb206ceaf6ca",
        "colab": {
          "base_uri": "https://localhost:8080/",
          "height": 175
        }
      },
      "source": [
        "student = pd.DataFrame(data,columns=['student_name','marks','age','contact','study_hours'])\n",
        "student"
      ],
      "execution_count": 9,
      "outputs": [
        {
          "output_type": "execute_result",
          "data": {
            "text/html": [
              "<div>\n",
              "<style scoped>\n",
              "    .dataframe tbody tr th:only-of-type {\n",
              "        vertical-align: middle;\n",
              "    }\n",
              "\n",
              "    .dataframe tbody tr th {\n",
              "        vertical-align: top;\n",
              "    }\n",
              "\n",
              "    .dataframe thead th {\n",
              "        text-align: right;\n",
              "    }\n",
              "</style>\n",
              "<table border=\"1\" class=\"dataframe\">\n",
              "  <thead>\n",
              "    <tr style=\"text-align: right;\">\n",
              "      <th></th>\n",
              "      <th>student_name</th>\n",
              "      <th>marks</th>\n",
              "      <th>age</th>\n",
              "      <th>contact</th>\n",
              "      <th>study_hours</th>\n",
              "    </tr>\n",
              "  </thead>\n",
              "  <tbody>\n",
              "    <tr>\n",
              "      <th>0</th>\n",
              "      <td>Piyush</td>\n",
              "      <td>76</td>\n",
              "      <td>20</td>\n",
              "      <td>8749573948</td>\n",
              "      <td>10</td>\n",
              "    </tr>\n",
              "    <tr>\n",
              "      <th>1</th>\n",
              "      <td>Saksham</td>\n",
              "      <td>89</td>\n",
              "      <td>20</td>\n",
              "      <td>3847563947</td>\n",
              "      <td>6</td>\n",
              "    </tr>\n",
              "    <tr>\n",
              "      <th>2</th>\n",
              "      <td>Shivam</td>\n",
              "      <td>96</td>\n",
              "      <td>21</td>\n",
              "      <td>7480384729</td>\n",
              "      <td>8</td>\n",
              "    </tr>\n",
              "    <tr>\n",
              "      <th>3</th>\n",
              "      <td>Akshay</td>\n",
              "      <td>99</td>\n",
              "      <td>21</td>\n",
              "      <td>9485736402</td>\n",
              "      <td>23</td>\n",
              "    </tr>\n",
              "  </tbody>\n",
              "</table>\n",
              "</div>"
            ],
            "text/plain": [
              "  student_name  marks  age     contact  study_hours\n",
              "0       Piyush     76   20  8749573948           10\n",
              "1      Saksham     89   20  3847563947            6\n",
              "2       Shivam     96   21  7480384729            8\n",
              "3       Akshay     99   21  9485736402           23"
            ]
          },
          "metadata": {
            "tags": []
          },
          "execution_count": 9
        }
      ]
    },
    {
      "cell_type": "code",
      "metadata": {
        "id": "NO4cA30emD5V",
        "colab_type": "code",
        "outputId": "7e7903e9-a738-4fa7-a3a1-00b1ce3880d3",
        "colab": {
          "base_uri": "https://localhost:8080/",
          "height": 394
        }
      },
      "source": [
        "plt.pie(student['marks'],labels=student['student_name'])"
      ],
      "execution_count": 10,
      "outputs": [
        {
          "output_type": "execute_result",
          "data": {
            "text/plain": [
              "([<matplotlib.patches.Wedge at 0x7f06e6b190b8>,\n",
              "  <matplotlib.patches.Wedge at 0x7f06e6b19588>,\n",
              "  <matplotlib.patches.Wedge at 0x7f06e6b19a58>,\n",
              "  <matplotlib.patches.Wedge at 0x7f06e6b19e48>],\n",
              " [Text(0.8668118240357677, 0.6772276291704181, 'Piyush'),\n",
              "  Text(-0.5582921913688901, 0.9477920811319974, 'Saksham'),\n",
              "  Text(-0.9225376172610245, -0.5991029500330906, 'Shivam'),\n",
              "  Text(0.714392915814223, -0.8364465086510031, 'Akshay')])"
            ]
          },
          "metadata": {
            "tags": []
          },
          "execution_count": 10
        },
        {
          "output_type": "display_data",
          "data": {
            "image/png": "[encoded data removed]",
            "text/plain": [
              "<Figure size 432x288 with 1 Axes>"
            ]
          },
          "metadata": {
            "tags": []
          }
        }
      ]
    },
    {
      "cell_type": "markdown",
      "metadata": {
        "id": "qmqBpu8Cq7ph",
        "colab_type": "text"
      },
      "source": [
        "Q. Generate 3x2 and 2x5  2D array with random element and save this data into two seperate files and print the data"
      ]
    },
    {
      "cell_type": "code",
      "metadata": {
        "id": "IZxURsAumaog",
        "colab_type": "code",
        "outputId": "6fe10ea3-fe43-456b-e8b2-24ff08340773",
        "colab": {
          "base_uri": "https://localhost:8080/",
          "height": 124
        }
      },
      "source": [
        "a = np.random.random_integers(low=1,high=100,size=(3,2))\n",
        "a"
      ],
      "execution_count": 11,
      "outputs": [
        {
          "output_type": "stream",
          "text": [
            "/usr/local/lib/python3.6/dist-packages/ipykernel_launcher.py:1: DeprecationWarning: This function is deprecated. Please call randint(1, 100 + 1) instead\n",
            "  \"\"\"Entry point for launching an IPython kernel.\n"
          ],
          "name": "stderr"
        },
        {
          "output_type": "execute_result",
          "data": {
            "text/plain": [
              "array([[11, 78],\n",
              "       [ 3, 89],\n",
              "       [85, 23]])"
            ]
          },
          "metadata": {
            "tags": []
          },
          "execution_count": 11
        }
      ]
    },
    {
      "cell_type": "code",
      "metadata": {
        "id": "pIYgfOBcrRZj",
        "colab_type": "code",
        "outputId": "72d6f78a-ae30-485c-c5d4-4abdc5f25c20",
        "colab": {
          "base_uri": "https://localhost:8080/",
          "height": 106
        }
      },
      "source": [
        "b = np.random.random_integers(low=1,high=100,size=(2,5))\n",
        "b"
      ],
      "execution_count": 12,
      "outputs": [
        {
          "output_type": "stream",
          "text": [
            "/usr/local/lib/python3.6/dist-packages/ipykernel_launcher.py:1: DeprecationWarning: This function is deprecated. Please call randint(1, 100 + 1) instead\n",
            "  \"\"\"Entry point for launching an IPython kernel.\n"
          ],
          "name": "stderr"
        },
        {
          "output_type": "execute_result",
          "data": {
            "text/plain": [
              "array([[26, 98, 12, 43, 84],\n",
              "       [32, 34, 96, 93, 18]])"
            ]
          },
          "metadata": {
            "tags": []
          },
          "execution_count": 12
        }
      ]
    },
    {
      "cell_type": "code",
      "metadata": {
        "id": "oloKBgBmrbQ9",
        "colab_type": "code",
        "colab": {}
      },
      "source": [
        "np.savetxt('3x2.csv',a)\n",
        "np.savetxt('2x5.csv',b)"
      ],
      "execution_count": 0,
      "outputs": []
    },
    {
      "cell_type": "markdown",
      "metadata": {
        "id": "MfBtG4z_h2X3",
        "colab_type": "text"
      },
      "source": [
        "data_visualization: 2:\n",
        "\n",
        "plot  graphs given below in python3 with following data\n",
        "\n",
        "i) calculate the internet speed from any web site you want\n",
        "ii)  graph the result as guage graph\n",
        "iii) it must move as per the speed changes"
      ]
    },
    {
      "cell_type": "code",
      "metadata": {
        "id": "9RI-fiOlsDzv",
        "colab_type": "code",
        "colab": {}
      },
      "source": [
        "from matplotlib.patches import Circle, Wedge, Rectangle\n",
        "from matplotlib import pyplot as plt\n",
        "import numpy as np"
      ],
      "execution_count": 0,
      "outputs": []
    },
    {
      "cell_type": "code",
      "metadata": {
        "id": "sxIAr8eJsEI1",
        "colab_type": "code",
        "colab": {}
      },
      "source": [
        "def degree_range(n): \n",
        "    start = np.linspace(0,180,n+1, endpoint=True)[0:-1]\n",
        "    end = np.linspace(0,180,n+1, endpoint=True)[1::]\n",
        "    mid_points = start + ((end-start)/2.)\n",
        "    return np.c_[start, end], mid_points\n",
        "\n"
      ],
      "execution_count": 0,
      "outputs": []
    },
    {
      "cell_type": "code",
      "metadata": {
        "id": "ZSOsecWgsEbK",
        "colab_type": "code",
        "colab": {}
      },
      "source": [
        ""
      ],
      "execution_count": 0,
      "outputs": []
    },
    {
      "cell_type": "code",
      "metadata": {
        "id": "7CdW2DZHl2vx",
        "colab_type": "code",
        "colab": {}
      },
      "source": [
        ""
      ],
      "execution_count": 0,
      "outputs": []
    },
    {
      "cell_type": "markdown",
      "metadata": {
        "id": "cl8HnhnsmhWG",
        "colab_type": "text"
      },
      "source": [
        "data_visualization: 3 \n",
        "\n",
        "use this data from pandas\n",
        "\n",
        "i)  data source  http://13.234.66.67/summer19/datasets/bank.csv\n",
        "ii)  read this data by pandas\n",
        "iii)  plot all the possible graphs\n",
        "iv) use all possible combination of  all columns\n"
      ]
    },
    {
      "cell_type": "code",
      "metadata": {
        "id": "qubVeP2emmUI",
        "colab_type": "code",
        "colab": {}
      },
      "source": [
        "import pandas as pd\n",
        "import matplotlib.pyplot as plt"
      ],
      "execution_count": 0,
      "outputs": []
    },
    {
      "cell_type": "code",
      "metadata": {
        "id": "LyXpKRYvmsIh",
        "colab_type": "code",
        "outputId": "76713ff5-1bab-4741-f1ef-f691f5958512",
        "colab": {
          "base_uri": "https://localhost:8080/",
          "height": 226
        }
      },
      "source": [
        "read = pd.read_csv('http://13.234.66.67/summer19/datasets/bank.csv')\n",
        "read.head(5)"
      ],
      "execution_count": 17,
      "outputs": [
        {
          "output_type": "execute_result",
          "data": {
            "text/html": [
              "<div>\n",
              "<style scoped>\n",
              "    .dataframe tbody tr th:only-of-type {\n",
              "        vertical-align: middle;\n",
              "    }\n",
              "\n",
              "    .dataframe tbody tr th {\n",
              "        vertical-align: top;\n",
              "    }\n",
              "\n",
              "    .dataframe thead th {\n",
              "        text-align: right;\n",
              "    }\n",
              "</style>\n",
              "<table border=\"1\" class=\"dataframe\">\n",
              "  <thead>\n",
              "    <tr style=\"text-align: right;\">\n",
              "      <th></th>\n",
              "      <th>RowNumber</th>\n",
              "      <th>CustomerId</th>\n",
              "      <th>Surname</th>\n",
              "      <th>CreditScore</th>\n",
              "      <th>Geography</th>\n",
              "      <th>Gender</th>\n",
              "      <th>Age</th>\n",
              "      <th>Tenure</th>\n",
              "      <th>Balance</th>\n",
              "      <th>NumOfProducts</th>\n",
              "      <th>HasCrCard</th>\n",
              "      <th>IsActiveMember</th>\n",
              "      <th>EstimatedSalary</th>\n",
              "      <th>Exited</th>\n",
              "    </tr>\n",
              "  </thead>\n",
              "  <tbody>\n",
              "    <tr>\n",
              "      <th>0</th>\n",
              "      <td>1</td>\n",
              "      <td>15634602</td>\n",
              "      <td>Hargrave</td>\n",
              "      <td>619</td>\n",
              "      <td>France</td>\n",
              "      <td>Female</td>\n",
              "      <td>42</td>\n",
              "      <td>2</td>\n",
              "      <td>0.00</td>\n",
              "      <td>1</td>\n",
              "      <td>1</td>\n",
              "      <td>1</td>\n",
              "      <td>101348.88</td>\n",
              "      <td>1</td>\n",
              "    </tr>\n",
              "    <tr>\n",
              "      <th>1</th>\n",
              "      <td>2</td>\n",
              "      <td>15647311</td>\n",
              "      <td>Hill</td>\n",
              "      <td>608</td>\n",
              "      <td>Spain</td>\n",
              "      <td>Female</td>\n",
              "      <td>41</td>\n",
              "      <td>1</td>\n",
              "      <td>83807.86</td>\n",
              "      <td>1</td>\n",
              "      <td>0</td>\n",
              "      <td>1</td>\n",
              "      <td>112542.58</td>\n",
              "      <td>0</td>\n",
              "    </tr>\n",
              "    <tr>\n",
              "      <th>2</th>\n",
              "      <td>3</td>\n",
              "      <td>15619304</td>\n",
              "      <td>Onio</td>\n",
              "      <td>502</td>\n",
              "      <td>France</td>\n",
              "      <td>Female</td>\n",
              "      <td>42</td>\n",
              "      <td>8</td>\n",
              "      <td>159660.80</td>\n",
              "      <td>3</td>\n",
              "      <td>1</td>\n",
              "      <td>0</td>\n",
              "      <td>113931.57</td>\n",
              "      <td>1</td>\n",
              "    </tr>\n",
              "    <tr>\n",
              "      <th>3</th>\n",
              "      <td>4</td>\n",
              "      <td>15701354</td>\n",
              "      <td>Boni</td>\n",
              "      <td>699</td>\n",
              "      <td>France</td>\n",
              "      <td>Female</td>\n",
              "      <td>39</td>\n",
              "      <td>1</td>\n",
              "      <td>0.00</td>\n",
              "      <td>2</td>\n",
              "      <td>0</td>\n",
              "      <td>0</td>\n",
              "      <td>93826.63</td>\n",
              "      <td>0</td>\n",
              "    </tr>\n",
              "    <tr>\n",
              "      <th>4</th>\n",
              "      <td>5</td>\n",
              "      <td>15737888</td>\n",
              "      <td>Mitchell</td>\n",
              "      <td>850</td>\n",
              "      <td>Spain</td>\n",
              "      <td>Female</td>\n",
              "      <td>43</td>\n",
              "      <td>2</td>\n",
              "      <td>125510.82</td>\n",
              "      <td>1</td>\n",
              "      <td>1</td>\n",
              "      <td>1</td>\n",
              "      <td>79084.10</td>\n",
              "      <td>0</td>\n",
              "    </tr>\n",
              "  </tbody>\n",
              "</table>\n",
              "</div>"
            ],
            "text/plain": [
              "   RowNumber  CustomerId   Surname  ...  IsActiveMember EstimatedSalary Exited\n",
              "0          1    15634602  Hargrave  ...               1       101348.88      1\n",
              "1          2    15647311      Hill  ...               1       112542.58      0\n",
              "2          3    15619304      Onio  ...               0       113931.57      1\n",
              "3          4    15701354      Boni  ...               0        93826.63      0\n",
              "4          5    15737888  Mitchell  ...               1        79084.10      0\n",
              "\n",
              "[5 rows x 14 columns]"
            ]
          },
          "metadata": {
            "tags": []
          },
          "execution_count": 17
        }
      ]
    },
    {
      "cell_type": "code",
      "metadata": {
        "id": "TVYinjdBm7Ji",
        "colab_type": "code",
        "outputId": "b192f15c-1e04-4b3b-c486-0b5ad578e410",
        "colab": {
          "base_uri": "https://localhost:8080/",
          "height": 430
        }
      },
      "source": [
        "plt.pie(read['CustomerId'].head(5),labels=read['CreditScore'].head(5),explode=[0.1,0.2,0.1,0.2,0.1],shadow=True)"
      ],
      "execution_count": 18,
      "outputs": [
        {
          "output_type": "execute_result",
          "data": {
            "text/plain": [
              "([<matplotlib.patches.Wedge at 0x7f06e4249400>,\n",
              "  <matplotlib.patches.Wedge at 0x7f06e4249be0>,\n",
              "  <matplotlib.patches.Wedge at 0x7f06e4256400>,\n",
              "  <matplotlib.patches.Wedge at 0x7f06e4256be0>,\n",
              "  <matplotlib.patches.Wedge at 0x7f06e425d400>],\n",
              " [Text(0.9717667730471701, 0.7040378816523227, '619'),\n",
              "  Text(-0.39736849269471114, 1.2377795769092064, '608'),\n",
              "  Text(-1.1999761176951635, 0.0075707966055807655, '502'),\n",
              "  Text(-0.4102824090825198, -1.233559218196453, '699'),\n",
              "  Text(0.9688425519710763, -0.708056572238527, '850')])"
            ]
          },
          "metadata": {
            "tags": []
          },
          "execution_count": 18
        },
        {
          "output_type": "display_data",
          "data": {
            "image/png": "[encoded data removed]",
            "text/plain": [
              "<Figure size 432x288 with 1 Axes>"
            ]
          },
          "metadata": {
            "tags": []
          }
        }
      ]
    },
    {
      "cell_type": "code",
      "metadata": {
        "id": "2gG7jCaVnkij",
        "colab_type": "code",
        "outputId": "9f8c1899-88ce-4ec7-cb42-708743d7b4e1",
        "colab": {
          "base_uri": "https://localhost:8080/",
          "height": 286
        }
      },
      "source": [
        "plt.bar(read['Surname'].head(9),read['CreditScore'].head(9),label='Enjoy')"
      ],
      "execution_count": 19,
      "outputs": [
        {
          "output_type": "execute_result",
          "data": {
            "text/plain": [
              "<BarContainer object of 9 artists>"
            ]
          },
          "metadata": {
            "tags": []
          },
          "execution_count": 19
        },
        {
          "output_type": "display_data",
          "data": {
            "image/png": "[encoded data removed]",
            "text/plain": [
              "<Figure size 432x288 with 1 Axes>"
            ]
          },
          "metadata": {
            "tags": []
          }
        }
      ]
    },
    {
      "cell_type": "code",
      "metadata": {
        "id": "cPLsV76usCt_",
        "colab_type": "code",
        "outputId": "f254628b-9a39-407c-96a0-d0fb28d5e1c5",
        "colab": {
          "base_uri": "https://localhost:8080/",
          "height": 286
        }
      },
      "source": [
        "plt.scatter(read['Surname'].head(9),read['CreditScore'].head(9),label='Enjoy')"
      ],
      "execution_count": 20,
      "outputs": [
        {
          "output_type": "execute_result",
          "data": {
            "text/plain": [
              "<matplotlib.collections.PathCollection at 0x7f06e41a1ba8>"
            ]
          },
          "metadata": {
            "tags": []
          },
          "execution_count": 20
        },
        {
          "output_type": "display_data",
          "data": {
            "image/png": "[encoded data removed]",
            "text/plain": [
              "<Figure size 432x288 with 1 Axes>"
            ]
          },
          "metadata": {
            "tags": []
          }
        }
      ]
    },
    {
      "cell_type": "code",
      "metadata": {
        "id": "zs2hHHsNxpY3",
        "colab_type": "code",
        "outputId": "dbe35b73-b192-4707-f654-85e386f221e5",
        "colab": {
          "base_uri": "https://localhost:8080/",
          "height": 286
        }
      },
      "source": [
        "plt.plot(read['Surname'].head(9),read['CreditScore'].head(9),label='Enjoy')"
      ],
      "execution_count": 21,
      "outputs": [
        {
          "output_type": "execute_result",
          "data": {
            "text/plain": [
              "[<matplotlib.lines.Line2D at 0x7f06e41029e8>]"
            ]
          },
          "metadata": {
            "tags": []
          },
          "execution_count": 21
        },
        {
          "output_type": "display_data",
          "data": {
            "image/png": "[encoded data removed]",
            "text/plain": [
              "<Figure size 432x288 with 1 Axes>"
            ]
          },
          "metadata": {
            "tags": []
          }
        }
      ]
    },
    {
      "cell_type": "code",
      "metadata": {
        "id": "apYDC9lp0tYc",
        "colab_type": "code",
        "outputId": "c1befd14-6779-4e38-987e-97cc8f3d134b",
        "colab": {
          "base_uri": "https://localhost:8080/",
          "height": 530
        }
      },
      "source": [
        "plt.hist2d(read['Balance'].head(9),read['CreditScore'].head(9),label='Enjoy')"
      ],
      "execution_count": 22,
      "outputs": [
        {
          "output_type": "execute_result",
          "data": {
            "text/plain": [
              "(array([[0., 0., 0., 0., 0., 1., 1., 0., 0., 1.],\n",
              "        [0., 0., 0., 0., 0., 0., 0., 0., 0., 0.],\n",
              "        [0., 0., 0., 0., 0., 0., 0., 0., 0., 0.],\n",
              "        [0., 0., 0., 0., 0., 0., 0., 0., 0., 0.],\n",
              "        [0., 0., 0., 0., 0., 0., 0., 0., 0., 0.],\n",
              "        [0., 0., 0., 0., 1., 0., 0., 0., 0., 0.],\n",
              "        [0., 0., 0., 0., 0., 0., 0., 0., 0., 0.],\n",
              "        [1., 0., 0., 0., 0., 1., 0., 0., 0., 1.],\n",
              "        [0., 0., 1., 0., 0., 0., 0., 0., 0., 0.],\n",
              "        [0., 0., 1., 0., 0., 0., 0., 0., 0., 0.]]),\n",
              " array([     0.  ,  15966.08,  31932.16,  47898.24,  63864.32,  79830.4 ,\n",
              "         95796.48, 111762.56, 127728.64, 143694.72, 159660.8 ]),\n",
              " array([376. , 423.4, 470.8, 518.2, 565.6, 613. , 660.4, 707.8, 755.2,\n",
              "        802.6, 850. ]),\n",
              " <matplotlib.collections.QuadMesh at 0x7f06e40de668>)"
            ]
          },
          "metadata": {
            "tags": []
          },
          "execution_count": 22
        },
        {
          "output_type": "display_data",
          "data": {
            "image/png": "[encoded data removed]",
            "text/plain": [
              "<Figure size 432x288 with 1 Axes>"
            ]
          },
          "metadata": {
            "tags": []
          }
        }
      ]
    },
    {
      "cell_type": "code",
      "metadata": {
        "id": "5SHWvVh81Y-z",
        "colab_type": "code",
        "outputId": "afdc0bbd-82d5-443b-fd0e-52a5c94116bc",
        "colab": {
          "base_uri": "https://localhost:8080/",
          "height": 460
        }
      },
      "source": [
        "plt.hist(read['Surname'].head(9),label='Enjoy')"
      ],
      "execution_count": 23,
      "outputs": [
        {
          "output_type": "execute_result",
          "data": {
            "text/plain": [
              "([array([1., 0., 0., 0., 0., 0., 0., 0., 0., 0.]),\n",
              "  array([0., 1., 0., 0., 0., 0., 0., 0., 0., 0.]),\n",
              "  array([0., 0., 1., 0., 0., 0., 0., 0., 0., 0.]),\n",
              "  array([0., 0., 0., 1., 0., 0., 0., 0., 0., 0.]),\n",
              "  array([0., 0., 0., 0., 0., 1., 0., 0., 0., 0.]),\n",
              "  array([0., 0., 0., 0., 0., 0., 1., 0., 0., 0.]),\n",
              "  array([0., 0., 0., 0., 0., 0., 0., 1., 0., 0.]),\n",
              "  array([0., 0., 0., 0., 0., 0., 0., 0., 1., 0.]),\n",
              "  array([0., 0., 0., 0., 0., 0., 0., 0., 0., 1.])],\n",
              " array([0. , 0.8, 1.6, 2.4, 3.2, 4. , 4.8, 5.6, 6.4, 7.2, 8. ]),\n",
              " <a list of 9 Lists of Patches objects>)"
            ]
          },
          "metadata": {
            "tags": []
          },
          "execution_count": 23
        },
        {
          "output_type": "display_data",
          "data": {
            "image/png": "[encoded data removed]",
            "text/plain": [
              "<Figure size 432x288 with 1 Axes>"
            ]
          },
          "metadata": {
            "tags": []
          }
        }
      ]
    },
    {
      "cell_type": "code",
      "metadata": {
        "id": "lucYjChu2K09",
        "colab_type": "code",
        "outputId": "55f6eee7-a62b-4fed-d347-ef765a8dd592",
        "colab": {
          "base_uri": "https://localhost:8080/",
          "height": 304
        }
      },
      "source": [
        "plt.stackplot(read['Surname'].head(10),read['CreditScore'].head(10),read['Balance'].head(10),color=['b'])\n"
      ],
      "execution_count": 24,
      "outputs": [
        {
          "output_type": "execute_result",
          "data": {
            "text/plain": [
              "[<matplotlib.collections.PolyCollection at 0x7f06e3f69fd0>,\n",
              " <matplotlib.collections.PolyCollection at 0x7f06e3f6f390>]"
            ]
          },
          "metadata": {
            "tags": []
          },
          "execution_count": 24
        },
        {
          "output_type": "display_data",
          "data": {
            "image/png": "[encoded data removed]",
            "text/plain": [
              "<Figure size 432x288 with 1 Axes>"
            ]
          },
          "metadata": {
            "tags": []
          }
        }
      ]
    },
    {
      "cell_type": "markdown",
      "metadata": {
        "id": "csEWwQt-8UUK",
        "colab_type": "text"
      },
      "source": [
        "data_visualization: 4 \n",
        "\n",
        "write the code will follow conditions\n",
        "\n",
        "i)   scrape data of  the url  https://en.wikipedia.org/wiki/Machine_learning\n",
        "ii)  count  all the words after scraping\n",
        "iii) plot the pie and bar plot of top 20 repeated words\n",
        "iv)  plot scatter graph of  all the words having presence more 3 times  in scraped data\n",
        "v)   show stack plot of all the links that are present in above URL"
      ]
    },
    {
      "cell_type": "code",
      "metadata": {
        "id": "mzZCeK28Fx2x",
        "colab_type": "code",
        "colab": {}
      },
      "source": [
        "import requests\n",
        "from bs4 import BeautifulSoup\n"
      ],
      "execution_count": 0,
      "outputs": []
    },
    {
      "cell_type": "code",
      "metadata": {
        "id": "kCKHqYdFG1bf",
        "colab_type": "code",
        "colab": {}
      },
      "source": [
        "url =  'https://en.wikipedia.org/wiki/Machine_learning'\n",
        "r = requests.get(url)\n",
        "html = r.text"
      ],
      "execution_count": 0,
      "outputs": []
    },
    {
      "cell_type": "code",
      "metadata": {
        "id": "8DH-iRNqHhr-",
        "colab_type": "code",
        "colab": {}
      },
      "source": [
        "soup = BeautifulSoup(html, \"html5lib\")\n"
      ],
      "execution_count": 0,
      "outputs": []
    },
    {
      "cell_type": "code",
      "metadata": {
        "id": "w_pb6D8lwm4P",
        "colab_type": "code",
        "colab": {}
      },
      "source": [
        "text = soup.get_text().rstrip()"
      ],
      "execution_count": 0,
      "outputs": []
    },
    {
      "cell_type": "code",
      "metadata": {
        "id": "OcNhtq6nxLfF",
        "colab_type": "code",
        "colab": {}
      },
      "source": [
        "import nltk #natural language tool kit"
      ],
      "execution_count": 0,
      "outputs": []
    },
    {
      "cell_type": "code",
      "metadata": {
        "id": "ZCaYIWptzLNE",
        "colab_type": "code",
        "colab": {}
      },
      "source": [
        "token = nltk.RegexpTokenizer('\\w+') #creating an object to found words by regex \\w+"
      ],
      "execution_count": 0,
      "outputs": []
    },
    {
      "cell_type": "code",
      "metadata": {
        "id": "ihrXT48_zOFH",
        "colab_type": "code",
        "colab": {}
      },
      "source": [
        "word_list = token.tokenize(text)   # list all words differently without any tags"
      ],
      "execution_count": 0,
      "outputs": []
    },
    {
      "cell_type": "code",
      "metadata": {
        "id": "1iN5Ezdiz-yC",
        "colab_type": "code",
        "colab": {}
      },
      "source": [
        "word = nltk.FreqDist(word_list)     # does the work of Counter and makes a dictionary"
      ],
      "execution_count": 0,
      "outputs": []
    },
    {
      "cell_type": "code",
      "metadata": {
        "id": "ULx-EE4s29fF",
        "colab_type": "code",
        "outputId": "03ad9efd-9c4a-434b-9442-38d85dbcdb7d",
        "colab": {
          "base_uri": "https://localhost:8080/",
          "height": 326
        }
      },
      "source": [
        "nltk.FreqDist(word).plot(20)"
      ],
      "execution_count": 33,
      "outputs": [
        {
          "output_type": "display_data",
          "data": {
            "image/png": "[encoded data removed]",
            "text/plain": [
              "<Figure size 432x288 with 1 Axes>"
            ]
          },
          "metadata": {
            "tags": []
          }
        }
      ]
    },
    {
      "cell_type": "code",
      "metadata": {
        "id": "oEStJcc-4ZYz",
        "colab_type": "code",
        "colab": {}
      },
      "source": [
        "from matplotlib import pyplot as plt"
      ],
      "execution_count": 0,
      "outputs": []
    },
    {
      "cell_type": "code",
      "metadata": {
        "id": "PdK1NsUf5QLi",
        "colab_type": "code",
        "colab": {}
      },
      "source": [
        "task = {}\n",
        "for i in sorted(word,key=word.get,reverse=True):\n",
        "  \n",
        "  task[i] = word[i]\n",
        "keys = []\n",
        "values = []\n",
        "for i,j in task.items():\n",
        "  keys.append(i)\n",
        "  values.append(j)\n",
        "  if len(keys) == 20:\n",
        "    break\n",
        "# sorted the dictionary based on values and created two list of top 20 values"
      ],
      "execution_count": 0,
      "outputs": []
    },
    {
      "cell_type": "code",
      "metadata": {
        "id": "dclgu76Y5Z8V",
        "colab_type": "code",
        "outputId": "694cb5b0-661c-4a8c-d13c-7a1ec4aa4ef2",
        "colab": {
          "base_uri": "https://localhost:8080/",
          "height": 950
        }
      },
      "source": [
        "plt.pie(values,labels=keys)"
      ],
      "execution_count": 36,
      "outputs": [
        {
          "output_type": "execute_result",
          "data": {
            "text/plain": [
              "([<matplotlib.patches.Wedge at 0x7f06d2f59588>,\n",
              "  <matplotlib.patches.Wedge at 0x7f06d2f59a58>,\n",
              "  <matplotlib.patches.Wedge at 0x7f06d2f59f28>,\n",
              "  <matplotlib.patches.Wedge at 0x7f06d2f62438>,\n",
              "  <matplotlib.patches.Wedge at 0x7f06d2f62908>,\n",
              "  <matplotlib.patches.Wedge at 0x7f06d2f62dd8>,\n",
              "  <matplotlib.patches.Wedge at 0x7f06d2eed2e8>,\n",
              "  <matplotlib.patches.Wedge at 0x7f06d2eed7b8>,\n",
              "  <matplotlib.patches.Wedge at 0x7f06d2eedc88>,\n",
              "  <matplotlib.patches.Wedge at 0x7f06d2ef6198>,\n",
              "  <matplotlib.patches.Wedge at 0x7f06d2f42080>,\n",
              "  <matplotlib.patches.Wedge at 0x7f06d2ef6b00>,\n",
              "  <matplotlib.patches.Wedge at 0x7f06d2ef6fd0>,\n",
              "  <matplotlib.patches.Wedge at 0x7f06d2eff4e0>,\n",
              "  <matplotlib.patches.Wedge at 0x7f06d2eff9b0>,\n",
              "  <matplotlib.patches.Wedge at 0x7f06d2effe80>,\n",
              "  <matplotlib.patches.Wedge at 0x7f06d2f08390>,\n",
              "  <matplotlib.patches.Wedge at 0x7f06d2f08860>,\n",
              "  <matplotlib.patches.Wedge at 0x7f06d2f08d30>,\n",
              "  <matplotlib.patches.Wedge at 0x7f06d2f13240>],\n",
              " [Text(1.0082675780678498, 0.43976867898611477, 'the'),\n",
              "  Text(0.45659087726968695, 1.0007620950026523, 'of'),\n",
              "  Text(-0.2116175163430975, 1.0794526514751719, 'learning'),\n",
              "  Text(-0.7633582626188485, 0.7920127289959001, 'a'),\n",
              "  Text(-1.0619121202760522, 0.2869540883326452, 'and'),\n",
              "  Text(-1.064556397263491, -0.2769831710508356, 'to'),\n",
              "  Text(-0.8502822601801721, -0.6978682382963839, 'in'),\n",
              "  Text(-0.5948739076205253, -0.9252702491879261, 'is'),\n",
              "  Text(-0.355298147712503, -1.0410394931183278, 'machine'),\n",
              "  Text(-0.11693521274405391, -1.093766956906499, 'data'),\n",
              "  Text(0.11546987250902455, -1.0939226245684608, 'that'),\n",
              "  Text(0.3272804536616897, -1.0501845098129179, 'Machine'),\n",
              "  Text(0.5056164073516497, -0.9769094372646887, 'are'),\n",
              "  Text(0.6542886395632449, -0.884254700942256, 'algorithms'),\n",
              "  Text(0.7843028964521234, -0.7712774900234092, '1'),\n",
              "  Text(0.8907841164506419, -0.6453709459522093, 'for'),\n",
              "  Text(0.9738435544935138, -0.5114965604688254, 'from'),\n",
              "  Text(1.0359387387424075, -0.36990664980882676, 'on'),\n",
              "  Text(1.0772719318508677, -0.2224526575393061, 'as'),\n",
              "  Text(1.0975330866197797, -0.07362828108043312, 'Learning')])"
            ]
          },
          "metadata": {
            "tags": []
          },
          "execution_count": 36
        },
        {
          "output_type": "display_data",
          "data": {
            "image/png": "[encoded data removed]",
            "text/plain": [
              "<Figure size 432x288 with 1 Axes>"
            ]
          },
          "metadata": {
            "tags": []
          }
        }
      ]
    },
    {
      "cell_type": "markdown",
      "metadata": {
        "id": "F0XEqZ1Hq1O5",
        "colab_type": "text"
      },
      "source": [
        "supervised machine learning 1:\n",
        "\n",
        "write supervised  machine learning code to predict minimum death\n",
        "Note:  find data of titanic from kaggle or any relevant datasource\n",
        "\n",
        "apply supervised machine learning with your choice of classifier"
      ]
    },
    {
      "cell_type": "code",
      "metadata": {
        "id": "roLpIaWqD5e2",
        "colab_type": "code",
        "colab": {}
      },
      "source": [
        "from sklearn.preprocessing import Imputer\n",
        "from sklearn.preprocessing import LabelEncoder"
      ],
      "execution_count": 0,
      "outputs": []
    },
    {
      "cell_type": "code",
      "metadata": {
        "id": "f3s9JXbPEEPP",
        "colab_type": "code",
        "colab": {}
      },
      "source": [
        "import pandas as pd"
      ],
      "execution_count": 0,
      "outputs": []
    },
    {
      "cell_type": "code",
      "metadata": {
        "id": "5yh8xo_dESKU",
        "colab_type": "code",
        "colab": {}
      },
      "source": [
        "train = pd.read_csv('train.csv')\n",
        "test = pd.read_csv('test.csv')\n",
        "test_survived = pd.read_csv('gender_submission.csv')"
      ],
      "execution_count": 0,
      "outputs": []
    },
    {
      "cell_type": "markdown",
      "metadata": {
        "id": "jnLuCVFkIIWP",
        "colab_type": "text"
      },
      "source": [
        "(predict,actual)death\n",
        "option1 = passengerid,age -> 54%       (224, 418)\n",
        "\n",
        "option2 = passengerid,fare ->  62.2              (254, 418)\n",
        "\n",
        "option3=passengerid,sex   -> 63.6          (418, 418)\n",
        "\n",
        "option4 = passengerid,pcclass-> 61.9     (311, 418)\n",
        "\n",
        "option5 = passengerid,age,fare-> 62.4     (289, 418)\n",
        "\n"
      ]
    },
    {
      "cell_type": "code",
      "metadata": {
        "id": "EsHkRdbmEaRe",
        "colab_type": "code",
        "colab": {
          "base_uri": "https://localhost:8080/",
          "height": 98
        },
        "outputId": "cdcf6a90-aa46-43f9-f2e6-6ffb57123dc4"
      },
      "source": [
        "train.head(1)"
      ],
      "execution_count": 40,
      "outputs": [
        {
          "output_type": "execute_result",
          "data": {
            "text/html": [
              "<div>\n",
              "<style scoped>\n",
              "    .dataframe tbody tr th:only-of-type {\n",
              "        vertical-align: middle;\n",
              "    }\n",
              "\n",
              "    .dataframe tbody tr th {\n",
              "        vertical-align: top;\n",
              "    }\n",
              "\n",
              "    .dataframe thead th {\n",
              "        text-align: right;\n",
              "    }\n",
              "</style>\n",
              "<table border=\"1\" class=\"dataframe\">\n",
              "  <thead>\n",
              "    <tr style=\"text-align: right;\">\n",
              "      <th></th>\n",
              "      <th>PassengerId</th>\n",
              "      <th>Survived</th>\n",
              "      <th>Pclass</th>\n",
              "      <th>Name</th>\n",
              "      <th>Sex</th>\n",
              "      <th>Age</th>\n",
              "      <th>SibSp</th>\n",
              "      <th>Parch</th>\n",
              "      <th>Ticket</th>\n",
              "      <th>Fare</th>\n",
              "      <th>Cabin</th>\n",
              "      <th>Embarked</th>\n",
              "    </tr>\n",
              "  </thead>\n",
              "  <tbody>\n",
              "    <tr>\n",
              "      <th>0</th>\n",
              "      <td>1</td>\n",
              "      <td>0</td>\n",
              "      <td>3</td>\n",
              "      <td>Braund, Mr. Owen Harris</td>\n",
              "      <td>male</td>\n",
              "      <td>22.0</td>\n",
              "      <td>1</td>\n",
              "      <td>0</td>\n",
              "      <td>A/5 21171</td>\n",
              "      <td>7.25</td>\n",
              "      <td>NaN</td>\n",
              "      <td>S</td>\n",
              "    </tr>\n",
              "  </tbody>\n",
              "</table>\n",
              "</div>"
            ],
            "text/plain": [
              "   PassengerId  Survived  Pclass  ...  Fare Cabin  Embarked\n",
              "0            1         0       3  ...  7.25   NaN         S\n",
              "\n",
              "[1 rows x 12 columns]"
            ]
          },
          "metadata": {
            "tags": []
          },
          "execution_count": 40
        }
      ]
    },
    {
      "cell_type": "code",
      "metadata": {
        "id": "ojiLcuHbFoJa",
        "colab_type": "code",
        "colab": {
          "base_uri": "https://localhost:8080/",
          "height": 81
        },
        "outputId": "0085ec76-4c5e-4d82-c448-96d5f776adac"
      },
      "source": [
        "test.head(1)"
      ],
      "execution_count": 41,
      "outputs": [
        {
          "output_type": "execute_result",
          "data": {
            "text/html": [
              "<div>\n",
              "<style scoped>\n",
              "    .dataframe tbody tr th:only-of-type {\n",
              "        vertical-align: middle;\n",
              "    }\n",
              "\n",
              "    .dataframe tbody tr th {\n",
              "        vertical-align: top;\n",
              "    }\n",
              "\n",
              "    .dataframe thead th {\n",
              "        text-align: right;\n",
              "    }\n",
              "</style>\n",
              "<table border=\"1\" class=\"dataframe\">\n",
              "  <thead>\n",
              "    <tr style=\"text-align: right;\">\n",
              "      <th></th>\n",
              "      <th>PassengerId</th>\n",
              "      <th>Pclass</th>\n",
              "      <th>Name</th>\n",
              "      <th>Sex</th>\n",
              "      <th>Age</th>\n",
              "      <th>SibSp</th>\n",
              "      <th>Parch</th>\n",
              "      <th>Ticket</th>\n",
              "      <th>Fare</th>\n",
              "      <th>Cabin</th>\n",
              "      <th>Embarked</th>\n",
              "    </tr>\n",
              "  </thead>\n",
              "  <tbody>\n",
              "    <tr>\n",
              "      <th>0</th>\n",
              "      <td>892</td>\n",
              "      <td>3</td>\n",
              "      <td>Kelly, Mr. James</td>\n",
              "      <td>male</td>\n",
              "      <td>34.5</td>\n",
              "      <td>0</td>\n",
              "      <td>0</td>\n",
              "      <td>330911</td>\n",
              "      <td>7.8292</td>\n",
              "      <td>NaN</td>\n",
              "      <td>Q</td>\n",
              "    </tr>\n",
              "  </tbody>\n",
              "</table>\n",
              "</div>"
            ],
            "text/plain": [
              "   PassengerId  Pclass              Name   Sex  ...  Ticket    Fare  Cabin Embarked\n",
              "0          892       3  Kelly, Mr. James  male  ...  330911  7.8292    NaN        Q\n",
              "\n",
              "[1 rows x 11 columns]"
            ]
          },
          "metadata": {
            "tags": []
          },
          "execution_count": 41
        }
      ]
    },
    {
      "cell_type": "code",
      "metadata": {
        "id": "X0DDRQwZGIeo",
        "colab_type": "code",
        "colab": {
          "base_uri": "https://localhost:8080/",
          "height": 112
        },
        "outputId": "3c7ac769-bf8d-40bb-96d9-c3ed123743f9"
      },
      "source": [
        "test_survived.head(2)"
      ],
      "execution_count": 42,
      "outputs": [
        {
          "output_type": "execute_result",
          "data": {
            "text/html": [
              "<div>\n",
              "<style scoped>\n",
              "    .dataframe tbody tr th:only-of-type {\n",
              "        vertical-align: middle;\n",
              "    }\n",
              "\n",
              "    .dataframe tbody tr th {\n",
              "        vertical-align: top;\n",
              "    }\n",
              "\n",
              "    .dataframe thead th {\n",
              "        text-align: right;\n",
              "    }\n",
              "</style>\n",
              "<table border=\"1\" class=\"dataframe\">\n",
              "  <thead>\n",
              "    <tr style=\"text-align: right;\">\n",
              "      <th></th>\n",
              "      <th>PassengerId</th>\n",
              "      <th>Survived</th>\n",
              "    </tr>\n",
              "  </thead>\n",
              "  <tbody>\n",
              "    <tr>\n",
              "      <th>0</th>\n",
              "      <td>892</td>\n",
              "      <td>0</td>\n",
              "    </tr>\n",
              "    <tr>\n",
              "      <th>1</th>\n",
              "      <td>893</td>\n",
              "      <td>1</td>\n",
              "    </tr>\n",
              "  </tbody>\n",
              "</table>\n",
              "</div>"
            ],
            "text/plain": [
              "   PassengerId  Survived\n",
              "0          892         0\n",
              "1          893         1"
            ]
          },
          "metadata": {
            "tags": []
          },
          "execution_count": 42
        }
      ]
    },
    {
      "cell_type": "code",
      "metadata": {
        "id": "tKrWtZdjEh1W",
        "colab_type": "code",
        "colab": {}
      },
      "source": [
        "option1 = train.iloc[0:,[0,5]].values\n",
        "option1_test = test.iloc[0:,[0,4]].values"
      ],
      "execution_count": 0,
      "outputs": []
    },
    {
      "cell_type": "code",
      "metadata": {
        "id": "0EqqGzABE3m-",
        "colab_type": "code",
        "colab": {
          "base_uri": "https://localhost:8080/",
          "height": 72
        },
        "outputId": "60e5cc07-a9a2-4a94-bdd2-07f4848dfc5b"
      },
      "source": [
        "imp = Imputer(missing_values = 'NaN',axis=0,strategy='mean')"
      ],
      "execution_count": 44,
      "outputs": [
        {
          "output_type": "stream",
          "text": [
            "/usr/local/lib/python3.6/dist-packages/sklearn/utils/deprecation.py:66: DeprecationWarning: Class Imputer is deprecated; Imputer was deprecated in version 0.20 and will be removed in 0.22. Import impute.SimpleImputer from sklearn instead.\n",
            "  warnings.warn(msg, category=DeprecationWarning)\n"
          ],
          "name": "stderr"
        }
      ]
    },
    {
      "cell_type": "code",
      "metadata": {
        "id": "ulmxj0RPFE9Z",
        "colab_type": "code",
        "colab": {}
      },
      "source": [
        "LE = LabelEncoder()"
      ],
      "execution_count": 0,
      "outputs": []
    },
    {
      "cell_type": "code",
      "metadata": {
        "id": "luztsgPcFIvc",
        "colab_type": "code",
        "colab": {}
      },
      "source": [
        "option1 = imp.fit_transform(option1)\n",
        "option1_test = imp.fit_transform(option1_test)"
      ],
      "execution_count": 0,
      "outputs": []
    },
    {
      "cell_type": "code",
      "metadata": {
        "id": "Rd6nMvF_Fagj",
        "colab_type": "code",
        "colab": {}
      },
      "source": [
        "option1_survived = train.iloc[0:,1].values\n",
        "option1_test_survived = test_survived.iloc[0:,1].values"
      ],
      "execution_count": 0,
      "outputs": []
    },
    {
      "cell_type": "code",
      "metadata": {
        "id": "i5nnsLSTGxm_",
        "colab_type": "code",
        "colab": {
          "base_uri": "https://localhost:8080/",
          "height": 347
        },
        "outputId": "76b442a0-7c8b-4316-ecd1-61ab4f5c391b"
      },
      "source": [
        "option1_survived\n",
        "option1_test_survived"
      ],
      "execution_count": 48,
      "outputs": [
        {
          "output_type": "execute_result",
          "data": {
            "text/plain": [
              "array([0, 1, 0, 0, 1, 0, 1, 0, 1, 0, 0, 0, 1, 0, 1, 1, 0, 0, 1, 1, 0, 0,\n",
              "       1, 0, 1, 0, 1, 0, 0, 0, 0, 0, 1, 1, 0, 0, 1, 1, 0, 0, 0, 0, 0, 1,\n",
              "       1, 0, 0, 0, 1, 1, 0, 0, 1, 1, 0, 0, 0, 0, 0, 1, 0, 0, 0, 1, 0, 1,\n",
              "       1, 0, 0, 1, 1, 0, 1, 0, 1, 0, 0, 1, 0, 1, 0, 0, 0, 0, 0, 0, 1, 1,\n",
              "       1, 0, 1, 0, 1, 0, 0, 0, 1, 0, 1, 0, 1, 0, 0, 0, 1, 0, 0, 0, 0, 0,\n",
              "       0, 1, 1, 1, 1, 0, 0, 1, 0, 1, 1, 0, 1, 0, 0, 1, 0, 1, 0, 0, 0, 0,\n",
              "       1, 0, 0, 0, 0, 0, 1, 0, 1, 1, 0, 0, 0, 0, 0, 0, 0, 0, 1, 0, 0, 1,\n",
              "       0, 0, 1, 1, 0, 1, 1, 0, 1, 0, 0, 1, 0, 0, 1, 1, 0, 0, 0, 0, 0, 1,\n",
              "       1, 0, 1, 1, 0, 0, 1, 0, 1, 0, 1, 0, 1, 0, 0, 0, 0, 0, 0, 0, 0, 1,\n",
              "       0, 1, 1, 0, 0, 1, 0, 0, 1, 0, 1, 0, 0, 0, 0, 1, 1, 0, 1, 0, 1, 0,\n",
              "       1, 0, 1, 0, 1, 1, 0, 1, 0, 0, 0, 1, 0, 0, 0, 0, 0, 0, 1, 1, 1, 1,\n",
              "       0, 0, 0, 0, 1, 0, 1, 1, 1, 0, 0, 0, 0, 0, 0, 0, 1, 0, 0, 0, 1, 1,\n",
              "       0, 0, 0, 0, 1, 0, 0, 0, 1, 1, 0, 1, 0, 0, 0, 0, 1, 0, 1, 1, 1, 0,\n",
              "       0, 0, 0, 0, 0, 1, 0, 0, 0, 0, 1, 0, 0, 0, 0, 0, 0, 0, 1, 1, 0, 0,\n",
              "       0, 1, 0, 0, 0, 1, 1, 1, 0, 0, 0, 0, 0, 0, 0, 0, 1, 0, 1, 0, 0, 0,\n",
              "       1, 0, 0, 1, 0, 0, 0, 0, 0, 0, 0, 0, 0, 1, 0, 1, 0, 1, 0, 1, 1, 0,\n",
              "       0, 0, 1, 0, 1, 0, 0, 1, 0, 1, 1, 0, 1, 1, 0, 1, 1, 0, 0, 1, 0, 0,\n",
              "       1, 1, 1, 0, 0, 0, 0, 0, 1, 1, 0, 1, 0, 0, 0, 0, 0, 1, 0, 0, 0, 1,\n",
              "       0, 1, 0, 0, 1, 0, 1, 0, 0, 0, 0, 0, 1, 1, 1, 1, 1, 0, 1, 0, 0, 0])"
            ]
          },
          "metadata": {
            "tags": []
          },
          "execution_count": 48
        }
      ]
    },
    {
      "cell_type": "code",
      "metadata": {
        "id": "uQqFqLbIHCYt",
        "colab_type": "code",
        "colab": {}
      },
      "source": [
        "from sklearn.tree import DecisionTreeClassifier\n"
      ],
      "execution_count": 0,
      "outputs": []
    },
    {
      "cell_type": "code",
      "metadata": {
        "id": "00pN3GFwHc1s",
        "colab_type": "code",
        "colab": {}
      },
      "source": [
        "clf = DecisionTreeClassifier()"
      ],
      "execution_count": 0,
      "outputs": []
    },
    {
      "cell_type": "code",
      "metadata": {
        "id": "pn9liqFkHfCZ",
        "colab_type": "code",
        "colab": {}
      },
      "source": [
        "trained = clf.fit(option1,option1_survived)"
      ],
      "execution_count": 0,
      "outputs": []
    },
    {
      "cell_type": "code",
      "metadata": {
        "id": "XDS7B30YHmpQ",
        "colab_type": "code",
        "colab": {}
      },
      "source": [
        "predict = trained.predict(option1_test)"
      ],
      "execution_count": 0,
      "outputs": []
    },
    {
      "cell_type": "code",
      "metadata": {
        "id": "EEnHptQQHq6Z",
        "colab_type": "code",
        "colab": {
          "base_uri": "https://localhost:8080/",
          "height": 347
        },
        "outputId": "1a2b40bd-6731-4241-9569-01c4de0a58a5"
      },
      "source": [
        "predict"
      ],
      "execution_count": 53,
      "outputs": [
        {
          "output_type": "execute_result",
          "data": {
            "text/plain": [
              "array([0, 0, 1, 0, 1, 1, 0, 1, 1, 1, 0, 0, 1, 1, 0, 1, 0, 1, 0, 0, 1, 1,\n",
              "       0, 1, 1, 1, 1, 1, 0, 0, 1, 1, 0, 0, 0, 1, 0, 1, 1, 0, 0, 0, 0, 0,\n",
              "       0, 1, 0, 0, 1, 0, 1, 0, 1, 0, 0, 1, 0, 1, 0, 0, 1, 0, 1, 1, 1, 0,\n",
              "       1, 0, 0, 1, 1, 1, 0, 0, 0, 0, 0, 1, 0, 1, 1, 0, 1, 0, 0, 0, 0, 1,\n",
              "       0, 1, 1, 0, 0, 0, 1, 1, 0, 0, 1, 0, 0, 0, 0, 1, 1, 0, 1, 0, 0, 1,\n",
              "       0, 0, 0, 1, 1, 1, 0, 1, 0, 0, 1, 0, 0, 0, 0, 1, 1, 0, 0, 1, 0, 1,\n",
              "       0, 0, 0, 1, 1, 1, 1, 0, 1, 0, 1, 0, 0, 0, 0, 1, 0, 0, 1, 0, 1, 0,\n",
              "       1, 1, 0, 1, 0, 1, 0, 1, 1, 0, 0, 1, 1, 1, 0, 1, 0, 0, 1, 0, 0, 1,\n",
              "       1, 1, 0, 0, 0, 0, 1, 0, 0, 0, 1, 1, 0, 0, 0, 0, 1, 1, 1, 0, 1, 1,\n",
              "       1, 0, 0, 1, 0, 1, 1, 0, 0, 1, 0, 1, 0, 0, 1, 1, 0, 0, 0, 1, 1, 0,\n",
              "       0, 1, 1, 1, 1, 0, 1, 0, 0, 0, 1, 1, 1, 0, 0, 1, 0, 1, 1, 1, 1, 0,\n",
              "       0, 0, 0, 0, 1, 0, 0, 0, 1, 1, 0, 1, 0, 0, 0, 0, 1, 1, 0, 1, 0, 1,\n",
              "       0, 0, 0, 0, 0, 1, 0, 0, 1, 0, 0, 1, 0, 0, 0, 1, 1, 1, 0, 1, 1, 0,\n",
              "       0, 1, 0, 0, 0, 0, 0, 1, 0, 1, 1, 0, 0, 0, 0, 0, 0, 1, 0, 0, 0, 1,\n",
              "       1, 0, 1, 1, 0, 0, 1, 1, 1, 1, 0, 1, 1, 1, 1, 0, 0, 1, 1, 0, 0, 1,\n",
              "       1, 0, 0, 1, 0, 0, 0, 0, 1, 0, 1, 0, 0, 1, 0, 1, 1, 0, 1, 0, 0, 1,\n",
              "       1, 1, 1, 1, 1, 0, 0, 0, 1, 1, 0, 0, 1, 0, 0, 1, 0, 0, 1, 0, 1, 0,\n",
              "       1, 0, 1, 1, 1, 1, 0, 1, 0, 1, 0, 1, 1, 1, 1, 1, 1, 1, 1, 0, 0, 1,\n",
              "       1, 1, 1, 0, 0, 0, 1, 1, 0, 1, 1, 1, 0, 1, 0, 0, 0, 0, 0, 0, 0, 0])"
            ]
          },
          "metadata": {
            "tags": []
          },
          "execution_count": 53
        }
      ]
    },
    {
      "cell_type": "code",
      "metadata": {
        "id": "wwNR5_uJHuge",
        "colab_type": "code",
        "colab": {}
      },
      "source": [
        "from sklearn.metrics import accuracy_score"
      ],
      "execution_count": 0,
      "outputs": []
    },
    {
      "cell_type": "code",
      "metadata": {
        "id": "X5AW79A_Hzct",
        "colab_type": "code",
        "colab": {
          "base_uri": "https://localhost:8080/",
          "height": 34
        },
        "outputId": "e9979eb2-e984-4974-c107-c6f5e3e6f56a"
      },
      "source": [
        "accuracy_score(predict,option1_test_survived)"
      ],
      "execution_count": 55,
      "outputs": [
        {
          "output_type": "execute_result",
          "data": {
            "text/plain": [
              "0.5406698564593302"
            ]
          },
          "metadata": {
            "tags": []
          },
          "execution_count": 55
        }
      ]
    },
    {
      "cell_type": "code",
      "metadata": {
        "id": "EoJmwOoDH5su",
        "colab_type": "code",
        "colab": {}
      },
      "source": [
        "predict_death=len([i for i in predict if i == 0])"
      ],
      "execution_count": 0,
      "outputs": []
    },
    {
      "cell_type": "code",
      "metadata": {
        "id": "wVvbhNA6Ifxo",
        "colab_type": "code",
        "colab": {}
      },
      "source": [
        "actual_death = len([i for i in option1_test_survived])"
      ],
      "execution_count": 0,
      "outputs": []
    },
    {
      "cell_type": "code",
      "metadata": {
        "id": "i3Zf7dwbIqM_",
        "colab_type": "code",
        "colab": {
          "base_uri": "https://localhost:8080/",
          "height": 34
        },
        "outputId": "765e98d2-c128-4768-c1c2-8a5196a377e4"
      },
      "source": [
        "predict_death,actual_death"
      ],
      "execution_count": 58,
      "outputs": [
        {
          "output_type": "execute_result",
          "data": {
            "text/plain": [
              "(224, 418)"
            ]
          },
          "metadata": {
            "tags": []
          },
          "execution_count": 58
        }
      ]
    },
    {
      "cell_type": "code",
      "metadata": {
        "id": "HnePpcDJItw_",
        "colab_type": "code",
        "colab": {}
      },
      "source": [
        "option2 = train.iloc[0:,[0,9]].values"
      ],
      "execution_count": 0,
      "outputs": []
    },
    {
      "cell_type": "code",
      "metadata": {
        "id": "KeR06BaWJQFR",
        "colab_type": "code",
        "colab": {}
      },
      "source": [
        "option2_test = test.iloc[0:,[0,8]].values"
      ],
      "execution_count": 0,
      "outputs": []
    },
    {
      "cell_type": "code",
      "metadata": {
        "id": "Gr5dI9tHJT83",
        "colab_type": "code",
        "colab": {}
      },
      "source": [
        "option2 = imp.fit_transform(option2)"
      ],
      "execution_count": 0,
      "outputs": []
    },
    {
      "cell_type": "code",
      "metadata": {
        "id": "DrIg1--6Jw7X",
        "colab_type": "code",
        "colab": {}
      },
      "source": [
        "option2_test = imp.fit_transform(option2_test)"
      ],
      "execution_count": 0,
      "outputs": []
    },
    {
      "cell_type": "code",
      "metadata": {
        "id": "Od1f2QfBJ_8S",
        "colab_type": "code",
        "colab": {}
      },
      "source": [
        "trained = clf.fit(option2,option1_survived)"
      ],
      "execution_count": 0,
      "outputs": []
    },
    {
      "cell_type": "code",
      "metadata": {
        "id": "LCpRwfaeKMWY",
        "colab_type": "code",
        "colab": {}
      },
      "source": [
        "predict = trained.predict(option2_test)"
      ],
      "execution_count": 0,
      "outputs": []
    },
    {
      "cell_type": "code",
      "metadata": {
        "id": "VRvbzhGBKT1Y",
        "colab_type": "code",
        "colab": {
          "base_uri": "https://localhost:8080/",
          "height": 34
        },
        "outputId": "3c33d422-722f-4516-b1a6-6b2a44e7b853"
      },
      "source": [
        "accuracy_score(predict,option1_test_survived)"
      ],
      "execution_count": 65,
      "outputs": [
        {
          "output_type": "execute_result",
          "data": {
            "text/plain": [
              "0.638755980861244"
            ]
          },
          "metadata": {
            "tags": []
          },
          "execution_count": 65
        }
      ]
    },
    {
      "cell_type": "code",
      "metadata": {
        "id": "Ht9-7afrKZiJ",
        "colab_type": "code",
        "colab": {
          "base_uri": "https://localhost:8080/",
          "height": 34
        },
        "outputId": "dc24b7e8-b1f5-473b-b901-34035974f562"
      },
      "source": [
        "len([i for i in predict if i == 0]),len([i for i in option1_test_survived])"
      ],
      "execution_count": 66,
      "outputs": [
        {
          "output_type": "execute_result",
          "data": {
            "text/plain": [
              "(269, 418)"
            ]
          },
          "metadata": {
            "tags": []
          },
          "execution_count": 66
        }
      ]
    },
    {
      "cell_type": "code",
      "metadata": {
        "id": "r8XTqIx2KoBp",
        "colab_type": "code",
        "colab": {}
      },
      "source": [
        "option3 = train.iloc[0:,[0,4]].values\n",
        "option3_test = test.iloc[0:,[0,3]].values"
      ],
      "execution_count": 0,
      "outputs": []
    },
    {
      "cell_type": "code",
      "metadata": {
        "id": "QWFHkxirLZZa",
        "colab_type": "code",
        "colab": {}
      },
      "source": [
        "option3[0:,1] = LE.fit_transform(option3[0:,1])"
      ],
      "execution_count": 0,
      "outputs": []
    },
    {
      "cell_type": "code",
      "metadata": {
        "id": "jutDn-ohL12y",
        "colab_type": "code",
        "colab": {}
      },
      "source": [
        "option3_test[0:,1] = LE.fit_transform(option3_test[0:,1])"
      ],
      "execution_count": 0,
      "outputs": []
    },
    {
      "cell_type": "code",
      "metadata": {
        "id": "VexULRYDMA4w",
        "colab_type": "code",
        "colab": {}
      },
      "source": [
        "trained = clf.fit(option3,option1_survived)"
      ],
      "execution_count": 0,
      "outputs": []
    },
    {
      "cell_type": "code",
      "metadata": {
        "id": "sKcBwvBpMKc_",
        "colab_type": "code",
        "colab": {}
      },
      "source": [
        "predict = trained.predict(option3_test)"
      ],
      "execution_count": 0,
      "outputs": []
    },
    {
      "cell_type": "code",
      "metadata": {
        "id": "c48vXbV_MPZv",
        "colab_type": "code",
        "colab": {
          "base_uri": "https://localhost:8080/",
          "height": 34
        },
        "outputId": "f9ca9abc-b579-4249-cdfc-067beae0c2a6"
      },
      "source": [
        "accuracy_score(predict,option1_test_survived)"
      ],
      "execution_count": 72,
      "outputs": [
        {
          "output_type": "execute_result",
          "data": {
            "text/plain": [
              "0.6363636363636364"
            ]
          },
          "metadata": {
            "tags": []
          },
          "execution_count": 72
        }
      ]
    },
    {
      "cell_type": "code",
      "metadata": {
        "id": "u_b6memeMT5Y",
        "colab_type": "code",
        "colab": {
          "base_uri": "https://localhost:8080/",
          "height": 34
        },
        "outputId": "732c8b2a-7918-4b26-83a2-58d875555969"
      },
      "source": [
        "len([i for i in predict if i == 0]),len([i for i in option1_test_survived])"
      ],
      "execution_count": 73,
      "outputs": [
        {
          "output_type": "execute_result",
          "data": {
            "text/plain": [
              "(418, 418)"
            ]
          },
          "metadata": {
            "tags": []
          },
          "execution_count": 73
        }
      ]
    },
    {
      "cell_type": "code",
      "metadata": {
        "id": "Zz9sxMGDMZo2",
        "colab_type": "code",
        "colab": {}
      },
      "source": [
        "option4 = train.iloc[0:,[0,2]].values\n",
        "option4_test = test.iloc[0:,[0,1]].values"
      ],
      "execution_count": 0,
      "outputs": []
    },
    {
      "cell_type": "code",
      "metadata": {
        "id": "9I3QU0lLN6Ge",
        "colab_type": "code",
        "colab": {}
      },
      "source": [
        "option4 = imp.fit_transform(option4)\n",
        "option4_test = imp.fit_transform(option4_test)"
      ],
      "execution_count": 0,
      "outputs": []
    },
    {
      "cell_type": "code",
      "metadata": {
        "id": "LEQ2H97tNHxM",
        "colab_type": "code",
        "colab": {}
      },
      "source": [
        "trained = clf.fit(option4,option1_survived)"
      ],
      "execution_count": 0,
      "outputs": []
    },
    {
      "cell_type": "code",
      "metadata": {
        "id": "G-gTbvMgNUBs",
        "colab_type": "code",
        "colab": {}
      },
      "source": [
        "predict = trained.predict(option4_test)"
      ],
      "execution_count": 0,
      "outputs": []
    },
    {
      "cell_type": "code",
      "metadata": {
        "id": "Cb3S6Df3NYaS",
        "colab_type": "code",
        "colab": {
          "base_uri": "https://localhost:8080/",
          "height": 34
        },
        "outputId": "96aaf6df-1630-4cff-fcd7-035db24d6492"
      },
      "source": [
        "accuracy_score(predict,option1_test_survived)"
      ],
      "execution_count": 78,
      "outputs": [
        {
          "output_type": "execute_result",
          "data": {
            "text/plain": [
              "0.6196172248803827"
            ]
          },
          "metadata": {
            "tags": []
          },
          "execution_count": 78
        }
      ]
    },
    {
      "cell_type": "code",
      "metadata": {
        "id": "0inmt4n3Ncyp",
        "colab_type": "code",
        "colab": {
          "base_uri": "https://localhost:8080/",
          "height": 34
        },
        "outputId": "c087c2e8-0513-4424-818b-ae3be529a026"
      },
      "source": [
        "len([i for i in predict if i == 0]),len([i for i in option1_test_survived])"
      ],
      "execution_count": 79,
      "outputs": [
        {
          "output_type": "execute_result",
          "data": {
            "text/plain": [
              "(311, 418)"
            ]
          },
          "metadata": {
            "tags": []
          },
          "execution_count": 79
        }
      ]
    },
    {
      "cell_type": "code",
      "metadata": {
        "id": "C-DFOXQ8NgCy",
        "colab_type": "code",
        "colab": {}
      },
      "source": [
        "option5 = imp.fit_transform(train.iloc[0:,[0,5,9]].values)\n",
        "option5_test = imp.fit_transform(test.iloc[0:,[0,4,8]].values)\n"
      ],
      "execution_count": 0,
      "outputs": []
    },
    {
      "cell_type": "code",
      "metadata": {
        "id": "p5MBRQ5xOq03",
        "colab_type": "code",
        "colab": {}
      },
      "source": [
        "trained = clf.fit(option5,option1_survived)"
      ],
      "execution_count": 0,
      "outputs": []
    },
    {
      "cell_type": "code",
      "metadata": {
        "id": "cIb-lm6BPJXD",
        "colab_type": "code",
        "colab": {}
      },
      "source": [
        "predict = trained.predict(option5_test)"
      ],
      "execution_count": 0,
      "outputs": []
    },
    {
      "cell_type": "code",
      "metadata": {
        "id": "jn5mmaDvPOaR",
        "colab_type": "code",
        "colab": {
          "base_uri": "https://localhost:8080/",
          "height": 34
        },
        "outputId": "95dc74c7-a898-4578-ccea-2b497960e9d7"
      },
      "source": [
        "accuracy_score(predict,option1_test_survived)"
      ],
      "execution_count": 83,
      "outputs": [
        {
          "output_type": "execute_result",
          "data": {
            "text/plain": [
              "0.645933014354067"
            ]
          },
          "metadata": {
            "tags": []
          },
          "execution_count": 83
        }
      ]
    },
    {
      "cell_type": "code",
      "metadata": {
        "id": "r60v_rRNPRea",
        "colab_type": "code",
        "colab": {
          "base_uri": "https://localhost:8080/",
          "height": 34
        },
        "outputId": "12c065e2-9a05-4081-9e43-2f0df97e2015"
      },
      "source": [
        "len([i for i in predict if i == 0]),len([i for i in option1_test_survived])"
      ],
      "execution_count": 84,
      "outputs": [
        {
          "output_type": "execute_result",
          "data": {
            "text/plain": [
              "(308, 418)"
            ]
          },
          "metadata": {
            "tags": []
          },
          "execution_count": 84
        }
      ]
    },
    {
      "cell_type": "code",
      "metadata": {
        "id": "BpfQOY0JPT_N",
        "colab_type": "code",
        "colab": {}
      },
      "source": [
        ""
      ],
      "execution_count": 0,
      "outputs": []
    }
  ]
}