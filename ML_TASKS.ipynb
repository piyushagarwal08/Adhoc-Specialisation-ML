{
  "nbformat": 4,
  "nbformat_minor": 0,
  "metadata": {
    "colab": {
      "name": "ML-TASKS.ipynb",
      "version": "0.3.2",
      "provenance": [],
      "collapsed_sections": [],
      "include_colab_link": true
    },
    "kernelspec": {
      "name": "python3",
      "display_name": "Python 3"
    }
  },
  "cells": [
    {
      "cell_type": "markdown",
      "metadata": {
        "id": "view-in-github",
        "colab_type": "text"
      },
      "source": [
        "<a href=\"https://colab.research.google.com/github/piyushagarwal08/Adhoc-Specialisation-ML/blob/master/ML_TASKS.ipynb\" target=\"_parent\"><img src=\"https://colab.research.google.com/assets/colab-badge.svg\" alt=\"Open In Colab\"/></a>"
      ]
    },
    {
      "cell_type": "markdown",
      "metadata": {
        "id": "t6hWmGXLVuSt",
        "colab_type": "text"
      },
      "source": [
        "pynumber: 1\n",
        "\n",
        "create 2D numpy  based array with given conditions:\n",
        "\n",
        "i)   take input from user in terms of dimension like (3x2 or 6x7)\n",
        "ii)   fill this numpy array with random number\n",
        "iii)  store this array in a file"
      ]
    },
    {
      "cell_type": "code",
      "metadata": {
        "id": "rPNBgLJ6V1Z4",
        "colab_type": "code",
        "outputId": "1b934bf2-6fdb-4ad9-c489-2029338fd946",
        "colab": {
          "base_uri": "https://localhost:8080/",
          "height": 34
        }
      },
      "source": [
        "row,column = input().split('x')"
      ],
      "execution_count": 1,
      "outputs": [
        {
          "output_type": "stream",
          "text": [
            "6x7\n"
          ],
          "name": "stdout"
        }
      ]
    },
    {
      "cell_type": "code",
      "metadata": {
        "id": "UW5_dorCWBhE",
        "colab_type": "code",
        "colab": {}
      },
      "source": [
        "import numpy as np"
      ],
      "execution_count": 0,
      "outputs": []
    },
    {
      "cell_type": "code",
      "metadata": {
        "id": "ZeyMenLRWIqo",
        "colab_type": "code",
        "colab": {}
      },
      "source": [
        "array1 = np.random.random((int(row),int(column)))"
      ],
      "execution_count": 0,
      "outputs": []
    },
    {
      "cell_type": "code",
      "metadata": {
        "id": "g2oMRnJGZ0ht",
        "colab_type": "code",
        "colab": {}
      },
      "source": [
        "np.savetxt('array.txt',array1)"
      ],
      "execution_count": 0,
      "outputs": []
    },
    {
      "cell_type": "code",
      "metadata": {
        "id": "7oLjbuB5adqg",
        "colab_type": "code",
        "outputId": "3cf605f2-75cf-4054-ce34-d625df311e62",
        "colab": {
          "base_uri": "https://localhost:8080/",
          "height": 225
        }
      },
      "source": [
        "y = np.loadtxt('array.txt')\n",
        "y"
      ],
      "execution_count": 5,
      "outputs": [
        {
          "output_type": "execute_result",
          "data": {
            "text/plain": [
              "array([[0.59161707, 0.65261995, 0.04055636, 0.34590649, 0.20447082,\n",
              "        0.22349026, 0.25239654],\n",
              "       [0.26416527, 0.29043228, 0.41759082, 0.94713411, 0.14979212,\n",
              "        0.78156367, 0.05478603],\n",
              "       [0.6000456 , 0.7433967 , 0.31211191, 0.60363403, 0.98352927,\n",
              "        0.59806758, 0.01469937],\n",
              "       [0.10948216, 0.62299485, 0.28339797, 0.00427324, 0.71302128,\n",
              "        0.55204143, 0.54123563],\n",
              "       [0.66113948, 0.06052919, 0.02032065, 0.88852723, 0.04193848,\n",
              "        0.14065973, 0.74189779],\n",
              "       [0.91380242, 0.9158241 , 0.20867185, 0.88260916, 0.07994891,\n",
              "        0.26084031, 0.13368151]])"
            ]
          },
          "metadata": {
            "tags": []
          },
          "execution_count": 5
        }
      ]
    },
    {
      "cell_type": "markdown",
      "metadata": {
        "id": "N1bBoBaDcIYc",
        "colab_type": "text"
      },
      "source": [
        "pynumber: 2\n",
        "\n",
        "create a numpy array of  8x2 as having number  in each cell between 100 and 200 such that difference between each element is 5 \n"
      ]
    },
    {
      "cell_type": "code",
      "metadata": {
        "id": "yXtpz2iGb_ew",
        "colab_type": "code",
        "outputId": "f926e8dd-8af1-4c61-a083-2c877354cd7f",
        "colab": {
          "base_uri": "https://localhost:8080/",
          "height": 156
        }
      },
      "source": [
        "x = np.arange(100,200,5)\n",
        "x = x[0:16].reshape(8,2)\n",
        "x"
      ],
      "execution_count": 6,
      "outputs": [
        {
          "output_type": "execute_result",
          "data": {
            "text/plain": [
              "array([[100, 105],\n",
              "       [110, 115],\n",
              "       [120, 125],\n",
              "       [130, 135],\n",
              "       [140, 145],\n",
              "       [150, 155],\n",
              "       [160, 165],\n",
              "       [170, 175]])"
            ]
          },
          "metadata": {
            "tags": []
          },
          "execution_count": 6
        }
      ]
    },
    {
      "cell_type": "markdown",
      "metadata": {
        "id": "KOMr0WM4gx8s",
        "colab_type": "text"
      },
      "source": [
        "data_visualization: 1\n",
        "\n",
        "visualize data graphs \n",
        "i)  take input from  a file where you have 4 rows and 5 columns\n",
        "ii)  columns having - student_name , marks , age , contact , study_hours\n",
        "iii)  visualize this data as pie chart\n",
        "iv)  file name must  student.csv with all column separated by ','"
      ]
    },
    {
      "cell_type": "code",
      "metadata": {
        "id": "_hKNzH7wfQMc",
        "colab_type": "code",
        "colab": {}
      },
      "source": [
        "import pandas as pd\n",
        "import matplotlib.pyplot as plt"
      ],
      "execution_count": 0,
      "outputs": []
    },
    {
      "cell_type": "code",
      "metadata": {
        "id": "SCpb7glNknts",
        "colab_type": "code",
        "colab": {}
      },
      "source": [
        "data = {'student_name': ['Piyush','Saksham','Shivam','Akshay'],'marks':[76,89,96,99],'age':[20,20,21,21],'contact':['8749573948','3847563947','7480384729','9485736402'],'study_hours':[10,6,8,23]}"
      ],
      "execution_count": 0,
      "outputs": []
    },
    {
      "cell_type": "code",
      "metadata": {
        "id": "sKkXHTvNliMw",
        "colab_type": "code",
        "outputId": "67564160-9f68-4713-ca10-090468ff19f7",
        "colab": {
          "base_uri": "https://localhost:8080/",
          "height": 175
        }
      },
      "source": [
        "student = pd.DataFrame(data,columns=['student_name','marks','age','contact','study_hours'])\n",
        "student"
      ],
      "execution_count": 9,
      "outputs": [
        {
          "output_type": "execute_result",
          "data": {
            "text/html": [
              "<div>\n",
              "<style scoped>\n",
              "    .dataframe tbody tr th:only-of-type {\n",
              "        vertical-align: middle;\n",
              "    }\n",
              "\n",
              "    .dataframe tbody tr th {\n",
              "        vertical-align: top;\n",
              "    }\n",
              "\n",
              "    .dataframe thead th {\n",
              "        text-align: right;\n",
              "    }\n",
              "</style>\n",
              "<table border=\"1\" class=\"dataframe\">\n",
              "  <thead>\n",
              "    <tr style=\"text-align: right;\">\n",
              "      <th></th>\n",
              "      <th>student_name</th>\n",
              "      <th>marks</th>\n",
              "      <th>age</th>\n",
              "      <th>contact</th>\n",
              "      <th>study_hours</th>\n",
              "    </tr>\n",
              "  </thead>\n",
              "  <tbody>\n",
              "    <tr>\n",
              "      <th>0</th>\n",
              "      <td>Piyush</td>\n",
              "      <td>76</td>\n",
              "      <td>20</td>\n",
              "      <td>8749573948</td>\n",
              "      <td>10</td>\n",
              "    </tr>\n",
              "    <tr>\n",
              "      <th>1</th>\n",
              "      <td>Saksham</td>\n",
              "      <td>89</td>\n",
              "      <td>20</td>\n",
              "      <td>3847563947</td>\n",
              "      <td>6</td>\n",
              "    </tr>\n",
              "    <tr>\n",
              "      <th>2</th>\n",
              "      <td>Shivam</td>\n",
              "      <td>96</td>\n",
              "      <td>21</td>\n",
              "      <td>7480384729</td>\n",
              "      <td>8</td>\n",
              "    </tr>\n",
              "    <tr>\n",
              "      <th>3</th>\n",
              "      <td>Akshay</td>\n",
              "      <td>99</td>\n",
              "      <td>21</td>\n",
              "      <td>9485736402</td>\n",
              "      <td>23</td>\n",
              "    </tr>\n",
              "  </tbody>\n",
              "</table>\n",
              "</div>"
            ],
            "text/plain": [
              "  student_name  marks  age     contact  study_hours\n",
              "0       Piyush     76   20  8749573948           10\n",
              "1      Saksham     89   20  3847563947            6\n",
              "2       Shivam     96   21  7480384729            8\n",
              "3       Akshay     99   21  9485736402           23"
            ]
          },
          "metadata": {
            "tags": []
          },
          "execution_count": 9
        }
      ]
    },
    {
      "cell_type": "code",
      "metadata": {
        "id": "NO4cA30emD5V",
        "colab_type": "code",
        "outputId": "8fe87b00-0bc1-4ce4-da31-12d9f4d97c61",
        "colab": {
          "base_uri": "https://localhost:8080/",
          "height": 394
        }
      },
      "source": [
        "plt.pie(student['marks'],labels=student['student_name'])"
      ],
      "execution_count": 10,
      "outputs": [
        {
          "output_type": "execute_result",
          "data": {
            "text/plain": [
              "([<matplotlib.patches.Wedge at 0x7fd8e0b0dc88>,\n",
              "  <matplotlib.patches.Wedge at 0x7fd8e0b1e198>,\n",
              "  <matplotlib.patches.Wedge at 0x7fd8e0b1e668>,\n",
              "  <matplotlib.patches.Wedge at 0x7fd8e0b1eb00>],\n",
              " [Text(0.8668118240357677, 0.6772276291704181, 'Piyush'),\n",
              "  Text(-0.5582921913688901, 0.9477920811319974, 'Saksham'),\n",
              "  Text(-0.9225376172610245, -0.5991029500330906, 'Shivam'),\n",
              "  Text(0.714392915814223, -0.8364465086510031, 'Akshay')])"
            ]
          },
          "metadata": {
            "tags": []
          },
          "execution_count": 10
        },
        {
          "output_type": "display_data",
          "data": {
            "image/png": "[encoded data removed]",
            "text/plain": [
              "<Figure size 432x288 with 1 Axes>"
            ]
          },
          "metadata": {
            "tags": []
          }
        }
      ]
    },
    {
      "cell_type": "markdown",
      "metadata": {
        "id": "qmqBpu8Cq7ph",
        "colab_type": "text"
      },
      "source": [
        "Q. Generate 3x2 and 2x5  2D array with random element and save this data into two seperate files and print the data"
      ]
    },
    {
      "cell_type": "code",
      "metadata": {
        "id": "IZxURsAumaog",
        "colab_type": "code",
        "outputId": "6999f69b-c4c1-442b-ea7c-b38fc81465d4",
        "colab": {
          "base_uri": "https://localhost:8080/",
          "height": 124
        }
      },
      "source": [
        "a = np.random.random_integers(low=1,high=100,size=(3,2))\n",
        "a"
      ],
      "execution_count": 11,
      "outputs": [
        {
          "output_type": "stream",
          "text": [
            "/usr/local/lib/python3.6/dist-packages/ipykernel_launcher.py:1: DeprecationWarning: This function is deprecated. Please call randint(1, 100 + 1) instead\n",
            "  \"\"\"Entry point for launching an IPython kernel.\n"
          ],
          "name": "stderr"
        },
        {
          "output_type": "execute_result",
          "data": {
            "text/plain": [
              "array([[88, 22],\n",
              "       [90, 44],\n",
              "       [ 7, 56]])"
            ]
          },
          "metadata": {
            "tags": []
          },
          "execution_count": 11
        }
      ]
    },
    {
      "cell_type": "code",
      "metadata": {
        "id": "pIYgfOBcrRZj",
        "colab_type": "code",
        "outputId": "829db508-c711-4aaf-d59f-8262dbb88ccb",
        "colab": {
          "base_uri": "https://localhost:8080/",
          "height": 106
        }
      },
      "source": [
        "b = np.random.random_integers(low=1,high=100,size=(2,5))\n",
        "b"
      ],
      "execution_count": 12,
      "outputs": [
        {
          "output_type": "stream",
          "text": [
            "/usr/local/lib/python3.6/dist-packages/ipykernel_launcher.py:1: DeprecationWarning: This function is deprecated. Please call randint(1, 100 + 1) instead\n",
            "  \"\"\"Entry point for launching an IPython kernel.\n"
          ],
          "name": "stderr"
        },
        {
          "output_type": "execute_result",
          "data": {
            "text/plain": [
              "array([[ 5, 29, 58, 81, 55],\n",
              "       [26, 92, 39, 94, 74]])"
            ]
          },
          "metadata": {
            "tags": []
          },
          "execution_count": 12
        }
      ]
    },
    {
      "cell_type": "code",
      "metadata": {
        "id": "oloKBgBmrbQ9",
        "colab_type": "code",
        "colab": {}
      },
      "source": [
        "np.savetxt('3x2.csv',a)\n",
        "np.savetxt('2x5.csv',b)"
      ],
      "execution_count": 0,
      "outputs": []
    },
    {
      "cell_type": "markdown",
      "metadata": {
        "id": "MfBtG4z_h2X3",
        "colab_type": "text"
      },
      "source": [
        "data_visualization: 2:\n",
        "\n",
        "plot  graphs given below in python3 with following data\n",
        "\n",
        "i) calculate the internet speed from any web site you want\n",
        "ii)  graph the result as guage graph\n",
        "iii) it must move as per the speed changes"
      ]
    },
    {
      "cell_type": "code",
      "metadata": {
        "id": "7CdW2DZHl2vx",
        "colab_type": "code",
        "colab": {}
      },
      "source": [
        ""
      ],
      "execution_count": 0,
      "outputs": []
    },
    {
      "cell_type": "markdown",
      "metadata": {
        "id": "cl8HnhnsmhWG",
        "colab_type": "text"
      },
      "source": [
        "data_visualization: 3 \n",
        "\n",
        "use this data from pandas\n",
        "\n",
        "i)  data source  http://13.234.66.67/summer19/datasets/bank.csv\n",
        "ii)  read this data by pandas\n",
        "iii)  plot all the possible graphs\n",
        "iv) use all possible combination of  all columns\n"
      ]
    },
    {
      "cell_type": "code",
      "metadata": {
        "id": "qubVeP2emmUI",
        "colab_type": "code",
        "colab": {}
      },
      "source": [
        "import pandas as pd\n",
        "import matplotlib.pyplot as plt"
      ],
      "execution_count": 0,
      "outputs": []
    },
    {
      "cell_type": "code",
      "metadata": {
        "id": "LyXpKRYvmsIh",
        "colab_type": "code",
        "outputId": "a4a8aa71-c89b-4b9a-ad4e-1dd0ab050eaa",
        "colab": {
          "base_uri": "https://localhost:8080/",
          "height": 226
        }
      },
      "source": [
        "read = pd.read_csv('http://13.234.66.67/summer19/datasets/bank.csv')\n",
        "read.head(5)"
      ],
      "execution_count": 15,
      "outputs": [
        {
          "output_type": "execute_result",
          "data": {
            "text/html": [
              "<div>\n",
              "<style scoped>\n",
              "    .dataframe tbody tr th:only-of-type {\n",
              "        vertical-align: middle;\n",
              "    }\n",
              "\n",
              "    .dataframe tbody tr th {\n",
              "        vertical-align: top;\n",
              "    }\n",
              "\n",
              "    .dataframe thead th {\n",
              "        text-align: right;\n",
              "    }\n",
              "</style>\n",
              "<table border=\"1\" class=\"dataframe\">\n",
              "  <thead>\n",
              "    <tr style=\"text-align: right;\">\n",
              "      <th></th>\n",
              "      <th>RowNumber</th>\n",
              "      <th>CustomerId</th>\n",
              "      <th>Surname</th>\n",
              "      <th>CreditScore</th>\n",
              "      <th>Geography</th>\n",
              "      <th>Gender</th>\n",
              "      <th>Age</th>\n",
              "      <th>Tenure</th>\n",
              "      <th>Balance</th>\n",
              "      <th>NumOfProducts</th>\n",
              "      <th>HasCrCard</th>\n",
              "      <th>IsActiveMember</th>\n",
              "      <th>EstimatedSalary</th>\n",
              "      <th>Exited</th>\n",
              "    </tr>\n",
              "  </thead>\n",
              "  <tbody>\n",
              "    <tr>\n",
              "      <th>0</th>\n",
              "      <td>1</td>\n",
              "      <td>15634602</td>\n",
              "      <td>Hargrave</td>\n",
              "      <td>619</td>\n",
              "      <td>France</td>\n",
              "      <td>Female</td>\n",
              "      <td>42</td>\n",
              "      <td>2</td>\n",
              "      <td>0.00</td>\n",
              "      <td>1</td>\n",
              "      <td>1</td>\n",
              "      <td>1</td>\n",
              "      <td>101348.88</td>\n",
              "      <td>1</td>\n",
              "    </tr>\n",
              "    <tr>\n",
              "      <th>1</th>\n",
              "      <td>2</td>\n",
              "      <td>15647311</td>\n",
              "      <td>Hill</td>\n",
              "      <td>608</td>\n",
              "      <td>Spain</td>\n",
              "      <td>Female</td>\n",
              "      <td>41</td>\n",
              "      <td>1</td>\n",
              "      <td>83807.86</td>\n",
              "      <td>1</td>\n",
              "      <td>0</td>\n",
              "      <td>1</td>\n",
              "      <td>112542.58</td>\n",
              "      <td>0</td>\n",
              "    </tr>\n",
              "    <tr>\n",
              "      <th>2</th>\n",
              "      <td>3</td>\n",
              "      <td>15619304</td>\n",
              "      <td>Onio</td>\n",
              "      <td>502</td>\n",
              "      <td>France</td>\n",
              "      <td>Female</td>\n",
              "      <td>42</td>\n",
              "      <td>8</td>\n",
              "      <td>159660.80</td>\n",
              "      <td>3</td>\n",
              "      <td>1</td>\n",
              "      <td>0</td>\n",
              "      <td>113931.57</td>\n",
              "      <td>1</td>\n",
              "    </tr>\n",
              "    <tr>\n",
              "      <th>3</th>\n",
              "      <td>4</td>\n",
              "      <td>15701354</td>\n",
              "      <td>Boni</td>\n",
              "      <td>699</td>\n",
              "      <td>France</td>\n",
              "      <td>Female</td>\n",
              "      <td>39</td>\n",
              "      <td>1</td>\n",
              "      <td>0.00</td>\n",
              "      <td>2</td>\n",
              "      <td>0</td>\n",
              "      <td>0</td>\n",
              "      <td>93826.63</td>\n",
              "      <td>0</td>\n",
              "    </tr>\n",
              "    <tr>\n",
              "      <th>4</th>\n",
              "      <td>5</td>\n",
              "      <td>15737888</td>\n",
              "      <td>Mitchell</td>\n",
              "      <td>850</td>\n",
              "      <td>Spain</td>\n",
              "      <td>Female</td>\n",
              "      <td>43</td>\n",
              "      <td>2</td>\n",
              "      <td>125510.82</td>\n",
              "      <td>1</td>\n",
              "      <td>1</td>\n",
              "      <td>1</td>\n",
              "      <td>79084.10</td>\n",
              "      <td>0</td>\n",
              "    </tr>\n",
              "  </tbody>\n",
              "</table>\n",
              "</div>"
            ],
            "text/plain": [
              "   RowNumber  CustomerId   Surname  ...  IsActiveMember EstimatedSalary Exited\n",
              "0          1    15634602  Hargrave  ...               1       101348.88      1\n",
              "1          2    15647311      Hill  ...               1       112542.58      0\n",
              "2          3    15619304      Onio  ...               0       113931.57      1\n",
              "3          4    15701354      Boni  ...               0        93826.63      0\n",
              "4          5    15737888  Mitchell  ...               1        79084.10      0\n",
              "\n",
              "[5 rows x 14 columns]"
            ]
          },
          "metadata": {
            "tags": []
          },
          "execution_count": 15
        }
      ]
    },
    {
      "cell_type": "code",
      "metadata": {
        "id": "TVYinjdBm7Ji",
        "colab_type": "code",
        "outputId": "d8d3ac6c-fa4b-41f8-f61a-899bf44ab021",
        "colab": {
          "base_uri": "https://localhost:8080/",
          "height": 430
        }
      },
      "source": [
        "plt.pie(read['CustomerId'].head(5),labels=read['CreditScore'].head(5),explode=[0.1,0.2,0.1,0.2,0.1],shadow=True)"
      ],
      "execution_count": 16,
      "outputs": [
        {
          "output_type": "execute_result",
          "data": {
            "text/plain": [
              "([<matplotlib.patches.Wedge at 0x7fd8de23feb8>,\n",
              "  <matplotlib.patches.Wedge at 0x7fd8de2496d8>,\n",
              "  <matplotlib.patches.Wedge at 0x7fd8de249eb8>,\n",
              "  <matplotlib.patches.Wedge at 0x7fd8de2536d8>,\n",
              "  <matplotlib.patches.Wedge at 0x7fd8de253eb8>],\n",
              " [Text(0.9717667730471701, 0.7040378816523227, '619'),\n",
              "  Text(-0.39736849269471114, 1.2377795769092064, '608'),\n",
              "  Text(-1.1999761176951635, 0.0075707966055807655, '502'),\n",
              "  Text(-0.4102824090825198, -1.233559218196453, '699'),\n",
              "  Text(0.9688425519710763, -0.708056572238527, '850')])"
            ]
          },
          "metadata": {
            "tags": []
          },
          "execution_count": 16
        },
        {
          "output_type": "display_data",
          "data": {
            "image/png": "[encoded data removed]",
            "text/plain": [
              "<Figure size 432x288 with 1 Axes>"
            ]
          },
          "metadata": {
            "tags": []
          }
        }
      ]
    },
    {
      "cell_type": "code",
      "metadata": {
        "id": "2gG7jCaVnkij",
        "colab_type": "code",
        "outputId": "c0c82c1c-cadd-4944-da8c-6d000e2d3fc3",
        "colab": {
          "base_uri": "https://localhost:8080/",
          "height": 286
        }
      },
      "source": [
        "plt.bar(read['Surname'].head(9),read['CreditScore'].head(9),label='Enjoy')"
      ],
      "execution_count": 17,
      "outputs": [
        {
          "output_type": "execute_result",
          "data": {
            "text/plain": [
              "<BarContainer object of 9 artists>"
            ]
          },
          "metadata": {
            "tags": []
          },
          "execution_count": 17
        },
        {
          "output_type": "display_data",
          "data": {
            "image/png": "[encoded data removed]",
            "text/plain": [
              "<Figure size 432x288 with 1 Axes>"
            ]
          },
          "metadata": {
            "tags": []
          }
        }
      ]
    },
    {
      "cell_type": "code",
      "metadata": {
        "id": "cPLsV76usCt_",
        "colab_type": "code",
        "outputId": "cfe834d2-f3e4-46d4-efa2-d664711e91d4",
        "colab": {
          "base_uri": "https://localhost:8080/",
          "height": 286
        }
      },
      "source": [
        "plt.scatter(read['Surname'].head(9),read['CreditScore'].head(9),label='Enjoy')"
      ],
      "execution_count": 18,
      "outputs": [
        {
          "output_type": "execute_result",
          "data": {
            "text/plain": [
              "<matplotlib.collections.PathCollection at 0x7fd8de1a26d8>"
            ]
          },
          "metadata": {
            "tags": []
          },
          "execution_count": 18
        },
        {
          "output_type": "display_data",
          "data": {
            "image/png": "[encoded data removed]",
            "text/plain": [
              "<Figure size 432x288 with 1 Axes>"
            ]
          },
          "metadata": {
            "tags": []
          }
        }
      ]
    },
    {
      "cell_type": "code",
      "metadata": {
        "id": "zs2hHHsNxpY3",
        "colab_type": "code",
        "outputId": "3dc99b15-5c9c-444f-ced3-a304f5635526",
        "colab": {
          "base_uri": "https://localhost:8080/",
          "height": 286
        }
      },
      "source": [
        "plt.plot(read['Surname'].head(9),read['CreditScore'].head(9),label='Enjoy')"
      ],
      "execution_count": 19,
      "outputs": [
        {
          "output_type": "execute_result",
          "data": {
            "text/plain": [
              "[<matplotlib.lines.Line2D at 0x7fd8de104518>]"
            ]
          },
          "metadata": {
            "tags": []
          },
          "execution_count": 19
        },
        {
          "output_type": "display_data",
          "data": {
            "image/png": "[encoded data removed]",
            "text/plain": [
              "<Figure size 432x288 with 1 Axes>"
            ]
          },
          "metadata": {
            "tags": []
          }
        }
      ]
    },
    {
      "cell_type": "code",
      "metadata": {
        "id": "apYDC9lp0tYc",
        "colab_type": "code",
        "outputId": "1fa5b60b-ac06-45fa-ee7c-6bdcacf4aef9",
        "colab": {
          "base_uri": "https://localhost:8080/",
          "height": 530
        }
      },
      "source": [
        "plt.hist2d(read['Balance'].head(9),read['CreditScore'].head(9),label='Enjoy')"
      ],
      "execution_count": 21,
      "outputs": [
        {
          "output_type": "execute_result",
          "data": {
            "text/plain": [
              "(array([[0., 0., 0., 0., 0., 1., 1., 0., 0., 1.],\n",
              "        [0., 0., 0., 0., 0., 0., 0., 0., 0., 0.],\n",
              "        [0., 0., 0., 0., 0., 0., 0., 0., 0., 0.],\n",
              "        [0., 0., 0., 0., 0., 0., 0., 0., 0., 0.],\n",
              "        [0., 0., 0., 0., 0., 0., 0., 0., 0., 0.],\n",
              "        [0., 0., 0., 0., 1., 0., 0., 0., 0., 0.],\n",
              "        [0., 0., 0., 0., 0., 0., 0., 0., 0., 0.],\n",
              "        [1., 0., 0., 0., 0., 1., 0., 0., 0., 1.],\n",
              "        [0., 0., 1., 0., 0., 0., 0., 0., 0., 0.],\n",
              "        [0., 0., 1., 0., 0., 0., 0., 0., 0., 0.]]),\n",
              " array([     0.  ,  15966.08,  31932.16,  47898.24,  63864.32,  79830.4 ,\n",
              "         95796.48, 111762.56, 127728.64, 143694.72, 159660.8 ]),\n",
              " array([376. , 423.4, 470.8, 518.2, 565.6, 613. , 660.4, 707.8, 755.2,\n",
              "        802.6, 850. ]),\n",
              " <matplotlib.collections.QuadMesh at 0x7fd8de0e3240>)"
            ]
          },
          "metadata": {
            "tags": []
          },
          "execution_count": 21
        },
        {
          "output_type": "display_data",
          "data": {
            "image/png": "[encoded data removed]",
            "text/plain": [
              "<Figure size 432x288 with 1 Axes>"
            ]
          },
          "metadata": {
            "tags": []
          }
        }
      ]
    },
    {
      "cell_type": "code",
      "metadata": {
        "id": "5SHWvVh81Y-z",
        "colab_type": "code",
        "outputId": "1adac4a6-c09b-45ef-b62c-bbbd20c66673",
        "colab": {
          "base_uri": "https://localhost:8080/",
          "height": 460
        }
      },
      "source": [
        "plt.hist(read['Surname'].head(9),label='Enjoy')"
      ],
      "execution_count": 22,
      "outputs": [
        {
          "output_type": "execute_result",
          "data": {
            "text/plain": [
              "([array([1., 0., 0., 0., 0., 0., 0., 0., 0., 0.]),\n",
              "  array([0., 1., 0., 0., 0., 0., 0., 0., 0., 0.]),\n",
              "  array([0., 0., 1., 0., 0., 0., 0., 0., 0., 0.]),\n",
              "  array([0., 0., 0., 1., 0., 0., 0., 0., 0., 0.]),\n",
              "  array([0., 0., 0., 0., 0., 1., 0., 0., 0., 0.]),\n",
              "  array([0., 0., 0., 0., 0., 0., 1., 0., 0., 0.]),\n",
              "  array([0., 0., 0., 0., 0., 0., 0., 1., 0., 0.]),\n",
              "  array([0., 0., 0., 0., 0., 0., 0., 0., 1., 0.]),\n",
              "  array([0., 0., 0., 0., 0., 0., 0., 0., 0., 1.])],\n",
              " array([0. , 0.8, 1.6, 2.4, 3.2, 4. , 4.8, 5.6, 6.4, 7.2, 8. ]),\n",
              " <a list of 9 Lists of Patches objects>)"
            ]
          },
          "metadata": {
            "tags": []
          },
          "execution_count": 22
        },
        {
          "output_type": "display_data",
          "data": {
            "image/png": "[encoded data removed]",
            "text/plain": [
              "<Figure size 432x288 with 1 Axes>"
            ]
          },
          "metadata": {
            "tags": []
          }
        }
      ]
    },
    {
      "cell_type": "code",
      "metadata": {
        "id": "lucYjChu2K09",
        "colab_type": "code",
        "outputId": "f7cf195d-d83d-45d3-de01-9af8c3917987",
        "colab": {
          "base_uri": "https://localhost:8080/",
          "height": 304
        }
      },
      "source": [
        "plt.stackplot(read['Surname'].head(10),read['CreditScore'].head(10),read['Balance'].head(10),color=['b'])\n"
      ],
      "execution_count": 23,
      "outputs": [
        {
          "output_type": "execute_result",
          "data": {
            "text/plain": [
              "[<matplotlib.collections.PolyCollection at 0x7fd8ddf68d30>,\n",
              " <matplotlib.collections.PolyCollection at 0x7fd8ddf68f60>]"
            ]
          },
          "metadata": {
            "tags": []
          },
          "execution_count": 23
        },
        {
          "output_type": "display_data",
          "data": {
            "image/png": "[encoded data removed]",
            "text/plain": [
              "<Figure size 432x288 with 1 Axes>"
            ]
          },
          "metadata": {
            "tags": []
          }
        }
      ]
    },
    {
      "cell_type": "markdown",
      "metadata": {
        "id": "csEWwQt-8UUK",
        "colab_type": "text"
      },
      "source": [
        "data_visualization: 4 \n",
        "\n",
        "write the code will follow conditions\n",
        "\n",
        "i)   scrape data of  the url  https://en.wikipedia.org/wiki/Machine_learning\n",
        "ii)  count  all the words after scraping\n",
        "iii) plot the pie and bar plot of top 20 repeated words\n",
        "iv)  plot scatter graph of  all the words having presence more 3 times  in scraped data\n",
        "v)   show stack plot of all the links that are present in above URL"
      ]
    },
    {
      "cell_type": "code",
      "metadata": {
        "id": "mzZCeK28Fx2x",
        "colab_type": "code",
        "colab": {}
      },
      "source": [
        "import requests\n",
        "from bs4 import BeautifulSoup\n"
      ],
      "execution_count": 0,
      "outputs": []
    },
    {
      "cell_type": "code",
      "metadata": {
        "id": "kCKHqYdFG1bf",
        "colab_type": "code",
        "colab": {}
      },
      "source": [
        "url =  'https://en.wikipedia.org/wiki/Machine_learning'\n",
        "r = requests.get(url)\n",
        "html = r.text"
      ],
      "execution_count": 0,
      "outputs": []
    },
    {
      "cell_type": "code",
      "metadata": {
        "id": "8DH-iRNqHhr-",
        "colab_type": "code",
        "colab": {}
      },
      "source": [
        "soup = BeautifulSoup(html, \"html5lib\")\n"
      ],
      "execution_count": 0,
      "outputs": []
    },
    {
      "cell_type": "code",
      "metadata": {
        "id": "w_pb6D8lwm4P",
        "colab_type": "code",
        "colab": {}
      },
      "source": [
        "text = soup.get_text().rstrip()"
      ],
      "execution_count": 0,
      "outputs": []
    },
    {
      "cell_type": "code",
      "metadata": {
        "id": "OcNhtq6nxLfF",
        "colab_type": "code",
        "colab": {}
      },
      "source": [
        "import nltk #natural language tool kit"
      ],
      "execution_count": 0,
      "outputs": []
    },
    {
      "cell_type": "code",
      "metadata": {
        "id": "ZCaYIWptzLNE",
        "colab_type": "code",
        "colab": {}
      },
      "source": [
        "token = nltk.RegexpTokenizer('\\w+') #creating an object to found words by regex \\w+"
      ],
      "execution_count": 0,
      "outputs": []
    },
    {
      "cell_type": "code",
      "metadata": {
        "id": "ihrXT48_zOFH",
        "colab_type": "code",
        "colab": {}
      },
      "source": [
        "word_list = token.tokenize(text)   # list all words differently without any tags"
      ],
      "execution_count": 0,
      "outputs": []
    },
    {
      "cell_type": "code",
      "metadata": {
        "id": "1iN5Ezdiz-yC",
        "colab_type": "code",
        "colab": {}
      },
      "source": [
        "word = nltk.FreqDist(word_list)     # does the work of Counter and makes a dictionary"
      ],
      "execution_count": 0,
      "outputs": []
    },
    {
      "cell_type": "code",
      "metadata": {
        "id": "ULx-EE4s29fF",
        "colab_type": "code",
        "colab": {
          "base_uri": "https://localhost:8080/",
          "height": 326
        },
        "outputId": "005fb91e-1d2f-41eb-a29d-305605703a8a"
      },
      "source": [
        "nltk.FreqDist(word).plot(20)"
      ],
      "execution_count": 32,
      "outputs": [
        {
          "output_type": "display_data",
          "data": {
            "image/png": "[encoded data removed]",
            "text/plain": [
              "<Figure size 432x288 with 1 Axes>"
            ]
          },
          "metadata": {
            "tags": []
          }
        }
      ]
    },
    {
      "cell_type": "code",
      "metadata": {
        "id": "oEStJcc-4ZYz",
        "colab_type": "code",
        "colab": {}
      },
      "source": [
        "from matplotlib import pyplot as plt"
      ],
      "execution_count": 0,
      "outputs": []
    },
    {
      "cell_type": "code",
      "metadata": {
        "id": "PdK1NsUf5QLi",
        "colab_type": "code",
        "colab": {}
      },
      "source": [
        "task = {}\n",
        "for i in sorted(word,key=word.get,reverse=True):\n",
        "  \n",
        "  task[i] = word[i]\n",
        "keys = []\n",
        "values = []\n",
        "for i,j in task.items():\n",
        "  keys.append(i)\n",
        "  values.append(j)\n",
        "  if len(keys) == 20:\n",
        "    break\n",
        "# sorted the dictionary based on values and created two list of top 20 values"
      ],
      "execution_count": 0,
      "outputs": []
    },
    {
      "cell_type": "code",
      "metadata": {
        "id": "dclgu76Y5Z8V",
        "colab_type": "code",
        "colab": {
          "base_uri": "https://localhost:8080/",
          "height": 950
        },
        "outputId": "f35419db-8488-4ac5-c668-e56962ed2956"
      },
      "source": [
        "plt.pie(values,labels=keys)"
      ],
      "execution_count": 35,
      "outputs": [
        {
          "output_type": "execute_result",
          "data": {
            "text/plain": [
              "([<matplotlib.patches.Wedge at 0x7fd8ccf4ecc0>,\n",
              "  <matplotlib.patches.Wedge at 0x7fd8ccf561d0>,\n",
              "  <matplotlib.patches.Wedge at 0x7fd8ccf566a0>,\n",
              "  <matplotlib.patches.Wedge at 0x7fd8ccf56b70>,\n",
              "  <matplotlib.patches.Wedge at 0x7fd8ccf60080>,\n",
              "  <matplotlib.patches.Wedge at 0x7fd8ccf60550>,\n",
              "  <matplotlib.patches.Wedge at 0x7fd8ccf60a20>,\n",
              "  <matplotlib.patches.Wedge at 0x7fd8ccf60ef0>,\n",
              "  <matplotlib.patches.Wedge at 0x7fd8cceeb400>,\n",
              "  <matplotlib.patches.Wedge at 0x7fd8cceeb8d0>,\n",
              "  <matplotlib.patches.Wedge at 0x7fd8ccf39748>,\n",
              "  <matplotlib.patches.Wedge at 0x7fd8ccef6278>,\n",
              "  <matplotlib.patches.Wedge at 0x7fd8ccef6748>,\n",
              "  <matplotlib.patches.Wedge at 0x7fd8ccef6c18>,\n",
              "  <matplotlib.patches.Wedge at 0x7fd8cceff128>,\n",
              "  <matplotlib.patches.Wedge at 0x7fd8cceff5f8>,\n",
              "  <matplotlib.patches.Wedge at 0x7fd8cceffac8>,\n",
              "  <matplotlib.patches.Wedge at 0x7fd8ccefff98>,\n",
              "  <matplotlib.patches.Wedge at 0x7fd8ccef04a8>,\n",
              "  <matplotlib.patches.Wedge at 0x7fd8ccef0978>],\n",
              " [Text(1.008344661103386, 0.4395919066865291, 'the'),\n",
              "  Text(0.45707828750005347, 1.0005395739779703, 'of'),\n",
              "  Text(-0.2108056467322543, 1.0796114946154456, 'learning'),\n",
              "  Text(-0.7625686486165114, 0.7927730167880259, 'a'),\n",
              "  Text(-1.0615593356892372, 0.2882564427918753, 'and'),\n",
              "  Text(-1.0649562453319361, -0.27544181877214163, 'to'),\n",
              "  Text(-0.8514200864868334, -0.6964796022330828, 'in'),\n",
              "  Text(-0.5965061839740803, -0.9242187903741629, 'is'),\n",
              "  Text(-0.3572426695074405, -1.0403738150699477, 'machine'),\n",
              "  Text(-0.1190823343429469, -1.093535274989991, 'data'),\n",
              "  Text(0.11322326899099927, -1.0941574344485312, 'that'),\n",
              "  Text(0.32503500716214023, -1.0508816508623164, 'Machine'),\n",
              "  Text(0.5034540115121231, -0.9780255918391662, 'are'),\n",
              "  Text(0.6522706699970499, -0.8857443045606332, '1'),\n",
              "  Text(0.783525147329065, -0.7720675770312903, 'algorithms'),\n",
              "  Text(0.8909565875623471, -0.6451328228196563, 'for'),\n",
              "  Text(0.9739489990249487, -0.5112957532566654, 'from'),\n",
              "  Text(1.0359928181690206, -0.3697551631853313, 'on'),\n",
              "  Text(1.077291244013488, -0.22235911398427458, 'as'),\n",
              "  Text(1.0975351908666526, -0.073596907606913, 'Learning')])"
            ]
          },
          "metadata": {
            "tags": []
          },
          "execution_count": 35
        },
        {
          "output_type": "display_data",
          "data": {
            "image/png": "[encoded data removed]",
            "text/plain": [
              "<Figure size 432x288 with 1 Axes>"
            ]
          },
          "metadata": {
            "tags": []
          }
        }
      ]
    },
    {
      "cell_type": "code",
      "metadata": {
        "id": "Bb7nGQQc5_Zc",
        "colab_type": "code",
        "colab": {}
      },
      "source": [
        ""
      ],
      "execution_count": 0,
      "outputs": []
    }
  ]
}