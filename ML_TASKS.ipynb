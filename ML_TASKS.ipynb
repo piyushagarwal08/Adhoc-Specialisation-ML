{
  "nbformat": 4,
  "nbformat_minor": 0,
  "metadata": {
    "colab": {
      "name": "ML_TASKS.ipynb",
      "version": "0.3.2",
      "provenance": [],
      "collapsed_sections": [],
      "include_colab_link": true
    },
    "kernelspec": {
      "name": "python3",
      "display_name": "Python 3"
    }
  },
  "cells": [
    {
      "cell_type": "markdown",
      "metadata": {
        "id": "view-in-github",
        "colab_type": "text"
      },
      "source": [
        "<a href=\"https://colab.research.google.com/github/piyushagarwal08/Adhoc-Specialisation-ML/blob/master/ML_TASKS.ipynb\" target=\"_parent\"><img src=\"https://colab.research.google.com/assets/colab-badge.svg\" alt=\"Open In Colab\"/></a>"
      ]
    },
    {
      "cell_type": "markdown",
      "metadata": {
        "id": "t6hWmGXLVuSt",
        "colab_type": "text"
      },
      "source": [
        "pynumber: 1\n",
        "\n",
        "create 2D numpy  based array with given conditions:\n",
        "\n",
        "i)   take input from user in terms of dimension like (3x2 or 6x7)\n",
        "ii)   fill this numpy array with random number\n",
        "iii)  store this array in a file"
      ]
    },
    {
      "cell_type": "code",
      "metadata": {
        "id": "rPNBgLJ6V1Z4",
        "colab_type": "code",
        "outputId": "a64f017c-0a20-40ca-e03e-8173c8a82651",
        "colab": {
          "base_uri": "https://localhost:8080/",
          "height": 34
        }
      },
      "source": [
        "row,column = input().split('x')"
      ],
      "execution_count": 0,
      "outputs": [
        {
          "output_type": "stream",
          "text": [
            "6x7\n"
          ],
          "name": "stdout"
        }
      ]
    },
    {
      "cell_type": "code",
      "metadata": {
        "id": "UW5_dorCWBhE",
        "colab_type": "code",
        "colab": {}
      },
      "source": [
        "import numpy as np"
      ],
      "execution_count": 0,
      "outputs": []
    },
    {
      "cell_type": "code",
      "metadata": {
        "id": "ZeyMenLRWIqo",
        "colab_type": "code",
        "colab": {}
      },
      "source": [
        "array1 = np.random.random((int(row),int(column)))"
      ],
      "execution_count": 0,
      "outputs": []
    },
    {
      "cell_type": "code",
      "metadata": {
        "id": "g2oMRnJGZ0ht",
        "colab_type": "code",
        "colab": {}
      },
      "source": [
        "np.savetxt('array.txt',array1)"
      ],
      "execution_count": 0,
      "outputs": []
    },
    {
      "cell_type": "code",
      "metadata": {
        "id": "7oLjbuB5adqg",
        "colab_type": "code",
        "outputId": "46c03798-0953-44b1-ee51-6c281888e217",
        "colab": {
          "base_uri": "https://localhost:8080/",
          "height": 225
        }
      },
      "source": [
        "y = np.loadtxt('array.txt')\n",
        "y"
      ],
      "execution_count": 0,
      "outputs": [
        {
          "output_type": "execute_result",
          "data": {
            "text/plain": [
              "array([[0.40428772, 0.73309937, 0.66534877, 0.57510388, 0.66860435,\n",
              "        0.74888709, 0.51495115],\n",
              "       [0.77087295, 0.95990978, 0.8774961 , 0.72154994, 0.90665452,\n",
              "        0.53756129, 0.98875697],\n",
              "       [0.7540841 , 0.88412249, 0.90658452, 0.82709655, 0.26558024,\n",
              "        0.94415765, 0.5366644 ],\n",
              "       [0.69843221, 0.24261056, 0.51727011, 0.95165216, 0.09496263,\n",
              "        0.37921466, 0.72110687],\n",
              "       [0.29143073, 0.85216994, 0.57853082, 0.82329872, 0.51872811,\n",
              "        0.96520199, 0.61771062],\n",
              "       [0.58762131, 0.03646372, 0.7710308 , 0.10588733, 0.36139337,\n",
              "        0.27916492, 0.2806825 ]])"
            ]
          },
          "metadata": {
            "tags": []
          },
          "execution_count": 5
        }
      ]
    },
    {
      "cell_type": "markdown",
      "metadata": {
        "id": "N1bBoBaDcIYc",
        "colab_type": "text"
      },
      "source": [
        "pynumber: 2\n",
        "\n",
        "create a numpy array of  8x2 as having number  in each cell between 100 and 200 such that difference between each element is 5 \n"
      ]
    },
    {
      "cell_type": "code",
      "metadata": {
        "id": "yXtpz2iGb_ew",
        "colab_type": "code",
        "outputId": "8bf81a4a-f95e-48a9-d602-ff0aa6521f89",
        "colab": {
          "base_uri": "https://localhost:8080/",
          "height": 156
        }
      },
      "source": [
        "x = np.arange(100,200,5)\n",
        "x = x[0:16].reshape(8,2)\n",
        "x"
      ],
      "execution_count": 0,
      "outputs": [
        {
          "output_type": "execute_result",
          "data": {
            "text/plain": [
              "array([[100, 105],\n",
              "       [110, 115],\n",
              "       [120, 125],\n",
              "       [130, 135],\n",
              "       [140, 145],\n",
              "       [150, 155],\n",
              "       [160, 165],\n",
              "       [170, 175]])"
            ]
          },
          "metadata": {
            "tags": []
          },
          "execution_count": 27
        }
      ]
    },
    {
      "cell_type": "markdown",
      "metadata": {
        "id": "KOMr0WM4gx8s",
        "colab_type": "text"
      },
      "source": [
        "data_visualization: 1\n",
        "\n",
        "visualize data graphs \n",
        "i)  take input from  a file where you have 4 rows and 5 columns\n",
        "ii)  columns having - student_name , marks , age , contact , study_hours\n",
        "iii)  visualize this data as pie chart\n",
        "iv)  file name must  student.csv with all column separated by ','"
      ]
    },
    {
      "cell_type": "code",
      "metadata": {
        "id": "_hKNzH7wfQMc",
        "colab_type": "code",
        "colab": {}
      },
      "source": [
        "import pandas as pd\n",
        "import matplotlib.pyplot as plt"
      ],
      "execution_count": 0,
      "outputs": []
    },
    {
      "cell_type": "code",
      "metadata": {
        "id": "SCpb7glNknts",
        "colab_type": "code",
        "colab": {}
      },
      "source": [
        "data = {'student_name': ['Piyush','Saksham','Shivam','Akshay'],'marks':[76,89,96,99],'age':[20,20,21,21],'contact':['8749573948','3847563947','7480384729','9485736402'],'study_hours':[10,6,8,23]}"
      ],
      "execution_count": 0,
      "outputs": []
    },
    {
      "cell_type": "code",
      "metadata": {
        "id": "sKkXHTvNliMw",
        "colab_type": "code",
        "outputId": "9cb423fa-a21b-44f9-a3fe-8f4acca2d6bc",
        "colab": {
          "base_uri": "https://localhost:8080/",
          "height": 175
        }
      },
      "source": [
        "student = pd.DataFrame(data,columns=['student_name','marks','age','contact','study_hours'])\n",
        "student"
      ],
      "execution_count": 0,
      "outputs": [
        {
          "output_type": "execute_result",
          "data": {
            "text/html": [
              "<div>\n",
              "<style scoped>\n",
              "    .dataframe tbody tr th:only-of-type {\n",
              "        vertical-align: middle;\n",
              "    }\n",
              "\n",
              "    .dataframe tbody tr th {\n",
              "        vertical-align: top;\n",
              "    }\n",
              "\n",
              "    .dataframe thead th {\n",
              "        text-align: right;\n",
              "    }\n",
              "</style>\n",
              "<table border=\"1\" class=\"dataframe\">\n",
              "  <thead>\n",
              "    <tr style=\"text-align: right;\">\n",
              "      <th></th>\n",
              "      <th>student_name</th>\n",
              "      <th>marks</th>\n",
              "      <th>age</th>\n",
              "      <th>contact</th>\n",
              "      <th>study_hours</th>\n",
              "    </tr>\n",
              "  </thead>\n",
              "  <tbody>\n",
              "    <tr>\n",
              "      <th>0</th>\n",
              "      <td>Piyush</td>\n",
              "      <td>76</td>\n",
              "      <td>20</td>\n",
              "      <td>8749573948</td>\n",
              "      <td>10</td>\n",
              "    </tr>\n",
              "    <tr>\n",
              "      <th>1</th>\n",
              "      <td>Saksham</td>\n",
              "      <td>89</td>\n",
              "      <td>20</td>\n",
              "      <td>3847563947</td>\n",
              "      <td>6</td>\n",
              "    </tr>\n",
              "    <tr>\n",
              "      <th>2</th>\n",
              "      <td>Shivam</td>\n",
              "      <td>96</td>\n",
              "      <td>21</td>\n",
              "      <td>7480384729</td>\n",
              "      <td>8</td>\n",
              "    </tr>\n",
              "    <tr>\n",
              "      <th>3</th>\n",
              "      <td>Akshay</td>\n",
              "      <td>99</td>\n",
              "      <td>21</td>\n",
              "      <td>9485736402</td>\n",
              "      <td>23</td>\n",
              "    </tr>\n",
              "  </tbody>\n",
              "</table>\n",
              "</div>"
            ],
            "text/plain": [
              "  student_name  marks  age     contact  study_hours\n",
              "0       Piyush     76   20  8749573948           10\n",
              "1      Saksham     89   20  3847563947            6\n",
              "2       Shivam     96   21  7480384729            8\n",
              "3       Akshay     99   21  9485736402           23"
            ]
          },
          "metadata": {
            "tags": []
          },
          "execution_count": 9
        }
      ]
    },
    {
      "cell_type": "code",
      "metadata": {
        "id": "NO4cA30emD5V",
        "colab_type": "code",
        "outputId": "f5f03972-9ff6-4eed-c2a6-578af58d2b88",
        "colab": {
          "base_uri": "https://localhost:8080/",
          "height": 394
        }
      },
      "source": [
        "plt.pie(student['marks'],labels=student['student_name'])"
      ],
      "execution_count": 0,
      "outputs": [
        {
          "output_type": "execute_result",
          "data": {
            "text/plain": [
              "([<matplotlib.patches.Wedge at 0x7fa1f780fc18>,\n",
              "  <matplotlib.patches.Wedge at 0x7fa1f7822128>,\n",
              "  <matplotlib.patches.Wedge at 0x7fa1f78225f8>,\n",
              "  <matplotlib.patches.Wedge at 0x7fa1f7822ac8>],\n",
              " [Text(0.8668118240357677, 0.6772276291704181, 'Piyush'),\n",
              "  Text(-0.5582921913688901, 0.9477920811319974, 'Saksham'),\n",
              "  Text(-0.9225376172610245, -0.5991029500330906, 'Shivam'),\n",
              "  Text(0.714392915814223, -0.8364465086510031, 'Akshay')])"
            ]
          },
          "metadata": {
            "tags": []
          },
          "execution_count": 10
        },
        {
          "output_type": "display_data",
          "data": {
            "image/png": "[encoded data removed]",
            "text/plain": [
              "<Figure size 432x288 with 1 Axes>"
            ]
          },
          "metadata": {
            "tags": []
          }
        }
      ]
    },
    {
      "cell_type": "markdown",
      "metadata": {
        "id": "qmqBpu8Cq7ph",
        "colab_type": "text"
      },
      "source": [
        "Q. Generate 3x2 and 2x5  2D array with random element and save this data into two seperate files and print the data"
      ]
    },
    {
      "cell_type": "code",
      "metadata": {
        "id": "IZxURsAumaog",
        "colab_type": "code",
        "outputId": "c3314ca3-cadb-4530-bb1a-5d58bcf8b99d",
        "colab": {
          "base_uri": "https://localhost:8080/",
          "height": 124
        }
      },
      "source": [
        "a = np.random.random_integers(low=1,high=100,size=(3,2))\n",
        "a"
      ],
      "execution_count": 0,
      "outputs": [
        {
          "output_type": "stream",
          "text": [
            "/usr/local/lib/python3.6/dist-packages/ipykernel_launcher.py:1: DeprecationWarning: This function is deprecated. Please call randint(1, 100 + 1) instead\n",
            "  \"\"\"Entry point for launching an IPython kernel.\n"
          ],
          "name": "stderr"
        },
        {
          "output_type": "execute_result",
          "data": {
            "text/plain": [
              "array([[35, 83],\n",
              "       [87,  2],\n",
              "       [36, 80]])"
            ]
          },
          "metadata": {
            "tags": []
          },
          "execution_count": 14
        }
      ]
    },
    {
      "cell_type": "code",
      "metadata": {
        "id": "pIYgfOBcrRZj",
        "colab_type": "code",
        "outputId": "52f0ece3-0ee5-4b9d-810b-e504db58545f",
        "colab": {
          "base_uri": "https://localhost:8080/",
          "height": 106
        }
      },
      "source": [
        "b = np.random.random_integers(low=1,high=100,size=(2,5))\n",
        "b"
      ],
      "execution_count": 0,
      "outputs": [
        {
          "output_type": "stream",
          "text": [
            "/usr/local/lib/python3.6/dist-packages/ipykernel_launcher.py:1: DeprecationWarning: This function is deprecated. Please call randint(1, 100 + 1) instead\n",
            "  \"\"\"Entry point for launching an IPython kernel.\n"
          ],
          "name": "stderr"
        },
        {
          "output_type": "execute_result",
          "data": {
            "text/plain": [
              "array([[52, 71, 82, 67,  8],\n",
              "       [48, 17, 34, 48, 32]])"
            ]
          },
          "metadata": {
            "tags": []
          },
          "execution_count": 15
        }
      ]
    },
    {
      "cell_type": "code",
      "metadata": {
        "id": "oloKBgBmrbQ9",
        "colab_type": "code",
        "colab": {}
      },
      "source": [
        "np.savetxt('3x2.csv',a)\n",
        "np.savetxt('2x5.csv',b)"
      ],
      "execution_count": 0,
      "outputs": []
    },
    {
      "cell_type": "markdown",
      "metadata": {
        "id": "MfBtG4z_h2X3",
        "colab_type": "text"
      },
      "source": [
        "data_visualization: 2:\n",
        "\n",
        "plot  graphs given below in python3 with following data\n",
        "\n",
        "i) calculate the internet speed from any web site you want\n",
        "ii)  graph the result as guage graph\n",
        "iii) it must move as per the speed changes"
      ]
    },
    {
      "cell_type": "code",
      "metadata": {
        "id": "7CdW2DZHl2vx",
        "colab_type": "code",
        "colab": {}
      },
      "source": [
        ""
      ],
      "execution_count": 0,
      "outputs": []
    },
    {
      "cell_type": "markdown",
      "metadata": {
        "id": "cl8HnhnsmhWG",
        "colab_type": "text"
      },
      "source": [
        "data_visualization: 3 \n",
        "\n",
        "use this data from pandas\n",
        "\n",
        "i)  data source  http://13.234.66.67/summer19/datasets/bank.csv\n",
        "ii)  read this data by pandas\n",
        "iii)  plot all the possible graphs\n",
        "iv) use all possible combination of  all columns\n"
      ]
    },
    {
      "cell_type": "code",
      "metadata": {
        "id": "qubVeP2emmUI",
        "colab_type": "code",
        "colab": {}
      },
      "source": [
        "import pandas as pd\n",
        "import matplotlib.pyplot as plt"
      ],
      "execution_count": 0,
      "outputs": []
    },
    {
      "cell_type": "code",
      "metadata": {
        "id": "LyXpKRYvmsIh",
        "colab_type": "code",
        "colab": {
          "base_uri": "https://localhost:8080/",
          "height": 226
        },
        "outputId": "8c0a6c4e-5e79-4830-9680-6d8ee28dc404"
      },
      "source": [
        "read = pd.read_csv('http://13.234.66.67/summer19/datasets/bank.csv')\n",
        "read.head(5)"
      ],
      "execution_count": 24,
      "outputs": [
        {
          "output_type": "execute_result",
          "data": {
            "text/html": [
              "<div>\n",
              "<style scoped>\n",
              "    .dataframe tbody tr th:only-of-type {\n",
              "        vertical-align: middle;\n",
              "    }\n",
              "\n",
              "    .dataframe tbody tr th {\n",
              "        vertical-align: top;\n",
              "    }\n",
              "\n",
              "    .dataframe thead th {\n",
              "        text-align: right;\n",
              "    }\n",
              "</style>\n",
              "<table border=\"1\" class=\"dataframe\">\n",
              "  <thead>\n",
              "    <tr style=\"text-align: right;\">\n",
              "      <th></th>\n",
              "      <th>RowNumber</th>\n",
              "      <th>CustomerId</th>\n",
              "      <th>Surname</th>\n",
              "      <th>CreditScore</th>\n",
              "      <th>Geography</th>\n",
              "      <th>Gender</th>\n",
              "      <th>Age</th>\n",
              "      <th>Tenure</th>\n",
              "      <th>Balance</th>\n",
              "      <th>NumOfProducts</th>\n",
              "      <th>HasCrCard</th>\n",
              "      <th>IsActiveMember</th>\n",
              "      <th>EstimatedSalary</th>\n",
              "      <th>Exited</th>\n",
              "    </tr>\n",
              "  </thead>\n",
              "  <tbody>\n",
              "    <tr>\n",
              "      <th>0</th>\n",
              "      <td>1</td>\n",
              "      <td>15634602</td>\n",
              "      <td>Hargrave</td>\n",
              "      <td>619</td>\n",
              "      <td>France</td>\n",
              "      <td>Female</td>\n",
              "      <td>42</td>\n",
              "      <td>2</td>\n",
              "      <td>0.00</td>\n",
              "      <td>1</td>\n",
              "      <td>1</td>\n",
              "      <td>1</td>\n",
              "      <td>101348.88</td>\n",
              "      <td>1</td>\n",
              "    </tr>\n",
              "    <tr>\n",
              "      <th>1</th>\n",
              "      <td>2</td>\n",
              "      <td>15647311</td>\n",
              "      <td>Hill</td>\n",
              "      <td>608</td>\n",
              "      <td>Spain</td>\n",
              "      <td>Female</td>\n",
              "      <td>41</td>\n",
              "      <td>1</td>\n",
              "      <td>83807.86</td>\n",
              "      <td>1</td>\n",
              "      <td>0</td>\n",
              "      <td>1</td>\n",
              "      <td>112542.58</td>\n",
              "      <td>0</td>\n",
              "    </tr>\n",
              "    <tr>\n",
              "      <th>2</th>\n",
              "      <td>3</td>\n",
              "      <td>15619304</td>\n",
              "      <td>Onio</td>\n",
              "      <td>502</td>\n",
              "      <td>France</td>\n",
              "      <td>Female</td>\n",
              "      <td>42</td>\n",
              "      <td>8</td>\n",
              "      <td>159660.80</td>\n",
              "      <td>3</td>\n",
              "      <td>1</td>\n",
              "      <td>0</td>\n",
              "      <td>113931.57</td>\n",
              "      <td>1</td>\n",
              "    </tr>\n",
              "    <tr>\n",
              "      <th>3</th>\n",
              "      <td>4</td>\n",
              "      <td>15701354</td>\n",
              "      <td>Boni</td>\n",
              "      <td>699</td>\n",
              "      <td>France</td>\n",
              "      <td>Female</td>\n",
              "      <td>39</td>\n",
              "      <td>1</td>\n",
              "      <td>0.00</td>\n",
              "      <td>2</td>\n",
              "      <td>0</td>\n",
              "      <td>0</td>\n",
              "      <td>93826.63</td>\n",
              "      <td>0</td>\n",
              "    </tr>\n",
              "    <tr>\n",
              "      <th>4</th>\n",
              "      <td>5</td>\n",
              "      <td>15737888</td>\n",
              "      <td>Mitchell</td>\n",
              "      <td>850</td>\n",
              "      <td>Spain</td>\n",
              "      <td>Female</td>\n",
              "      <td>43</td>\n",
              "      <td>2</td>\n",
              "      <td>125510.82</td>\n",
              "      <td>1</td>\n",
              "      <td>1</td>\n",
              "      <td>1</td>\n",
              "      <td>79084.10</td>\n",
              "      <td>0</td>\n",
              "    </tr>\n",
              "  </tbody>\n",
              "</table>\n",
              "</div>"
            ],
            "text/plain": [
              "   RowNumber  CustomerId   Surname  ...  IsActiveMember EstimatedSalary Exited\n",
              "0          1    15634602  Hargrave  ...               1       101348.88      1\n",
              "1          2    15647311      Hill  ...               1       112542.58      0\n",
              "2          3    15619304      Onio  ...               0       113931.57      1\n",
              "3          4    15701354      Boni  ...               0        93826.63      0\n",
              "4          5    15737888  Mitchell  ...               1        79084.10      0\n",
              "\n",
              "[5 rows x 14 columns]"
            ]
          },
          "metadata": {
            "tags": []
          },
          "execution_count": 24
        }
      ]
    },
    {
      "cell_type": "code",
      "metadata": {
        "id": "TVYinjdBm7Ji",
        "colab_type": "code",
        "colab": {
          "base_uri": "https://localhost:8080/",
          "height": 430
        },
        "outputId": "67c8f71c-9a34-4047-9282-6689bd857c09"
      },
      "source": [
        "plt.pie(read['CustomerId'].head(5),labels=read['CreditScore'].head(5),explode=[0.1,0.2,0.1,0.2,0.1],shadow=True)"
      ],
      "execution_count": 37,
      "outputs": [
        {
          "output_type": "execute_result",
          "data": {
            "text/plain": [
              "([<matplotlib.patches.Wedge at 0x7f297a2cef98>,\n",
              "  <matplotlib.patches.Wedge at 0x7f297a2d7710>,\n",
              "  <matplotlib.patches.Wedge at 0x7f297a2d7ef0>,\n",
              "  <matplotlib.patches.Wedge at 0x7f297a2e1710>,\n",
              "  <matplotlib.patches.Wedge at 0x7f297a2e1ef0>],\n",
              " [Text(0.9717667730471701, 0.7040378816523227, '619'),\n",
              "  Text(-0.39736849269471114, 1.2377795769092064, '608'),\n",
              "  Text(-1.1999761176951635, 0.0075707966055807655, '502'),\n",
              "  Text(-0.4102824090825198, -1.233559218196453, '699'),\n",
              "  Text(0.9688425519710763, -0.708056572238527, '850')])"
            ]
          },
          "metadata": {
            "tags": []
          },
          "execution_count": 37
        },
        {
          "output_type": "display_data",
          "data": {
            "image/png": "[encoded data removed]",
            "text/plain": [
              "<Figure size 432x288 with 1 Axes>"
            ]
          },
          "metadata": {
            "tags": []
          }
        }
      ]
    },
    {
      "cell_type": "code",
      "metadata": {
        "id": "2gG7jCaVnkij",
        "colab_type": "code",
        "colab": {
          "base_uri": "https://localhost:8080/",
          "height": 286
        },
        "outputId": "a319cce0-875c-453f-a034-4f43fdfb8ce4"
      },
      "source": [
        "plt.bar(read['Surname'].head(9),read['CreditScore'].head(9),label='Enjoy')"
      ],
      "execution_count": 96,
      "outputs": [
        {
          "output_type": "execute_result",
          "data": {
            "text/plain": [
              "<BarContainer object of 9 artists>"
            ]
          },
          "metadata": {
            "tags": []
          },
          "execution_count": 96
        },
        {
          "output_type": "display_data",
          "data": {
            "image/png": "[encoded data removed]",
            "text/plain": [
              "<Figure size 432x288 with 1 Axes>"
            ]
          },
          "metadata": {
            "tags": []
          }
        }
      ]
    },
    {
      "cell_type": "code",
      "metadata": {
        "id": "cPLsV76usCt_",
        "colab_type": "code",
        "colab": {
          "base_uri": "https://localhost:8080/",
          "height": 286
        },
        "outputId": "ed8bdeef-1d5c-45dc-a182-2cffa92fb040"
      },
      "source": [
        "plt.scatter(read['Surname'].head(9),read['CreditScore'].head(9),label='Enjoy')"
      ],
      "execution_count": 67,
      "outputs": [
        {
          "output_type": "execute_result",
          "data": {
            "text/plain": [
              "<matplotlib.collections.PathCollection at 0x7f29797cc390>"
            ]
          },
          "metadata": {
            "tags": []
          },
          "execution_count": 67
        },
        {
          "output_type": "display_data",
          "data": {
            "image/png": "[encoded data removed]",
            "text/plain": [
              "<Figure size 432x288 with 1 Axes>"
            ]
          },
          "metadata": {
            "tags": []
          }
        }
      ]
    },
    {
      "cell_type": "code",
      "metadata": {
        "id": "zs2hHHsNxpY3",
        "colab_type": "code",
        "colab": {
          "base_uri": "https://localhost:8080/",
          "height": 286
        },
        "outputId": "e92b8631-05e4-4f36-8098-c3b70731265a"
      },
      "source": [
        "plt.plot(read['Surname'].head(9),read['CreditScore'].head(9),label='Enjoy')"
      ],
      "execution_count": 68,
      "outputs": [
        {
          "output_type": "execute_result",
          "data": {
            "text/plain": [
              "[<matplotlib.lines.Line2D at 0x7f29797a0c18>]"
            ]
          },
          "metadata": {
            "tags": []
          },
          "execution_count": 68
        },
        {
          "output_type": "display_data",
          "data": {
            "image/png": "[encoded data removed]",
            "text/plain": [
              "<Figure size 432x288 with 1 Axes>"
            ]
          },
          "metadata": {
            "tags": []
          }
        }
      ]
    },
    {
      "cell_type": "code",
      "metadata": {
        "id": "9EqWVJpO0nUl",
        "colab_type": "code",
        "colab": {
          "base_uri": "https://localhost:8080/",
          "height": 52
        },
        "outputId": "ceb4ba61-a592-4f66-8a8a-785b8cade666"
      },
      "source": [
        "import matplotlib\n",
        "for i in dir(matplotlib.pyplot):\n",
        "  if \"hist\" in i:\n",
        "    print(i)\n",
        "    "
      ],
      "execution_count": 76,
      "outputs": [
        {
          "output_type": "stream",
          "text": [
            "hist\n",
            "hist2d\n"
          ],
          "name": "stdout"
        }
      ]
    },
    {
      "cell_type": "code",
      "metadata": {
        "id": "apYDC9lp0tYc",
        "colab_type": "code",
        "colab": {
          "base_uri": "https://localhost:8080/",
          "height": 530
        },
        "outputId": "31dc2d82-6e0f-4b1e-e537-566c1a9f50ca"
      },
      "source": [
        "plt.hist2d(read['Balance'].head(9),read['CreditScore'].head(9),label='Enjoy')"
      ],
      "execution_count": 79,
      "outputs": [
        {
          "output_type": "execute_result",
          "data": {
            "text/plain": [
              "(array([[0., 0., 0., 0., 0., 1., 1., 0., 0., 1.],\n",
              "        [0., 0., 0., 0., 0., 0., 0., 0., 0., 0.],\n",
              "        [0., 0., 0., 0., 0., 0., 0., 0., 0., 0.],\n",
              "        [0., 0., 0., 0., 0., 0., 0., 0., 0., 0.],\n",
              "        [0., 0., 0., 0., 0., 0., 0., 0., 0., 0.],\n",
              "        [0., 0., 0., 0., 1., 0., 0., 0., 0., 0.],\n",
              "        [0., 0., 0., 0., 0., 0., 0., 0., 0., 0.],\n",
              "        [1., 0., 0., 0., 0., 1., 0., 0., 0., 1.],\n",
              "        [0., 0., 1., 0., 0., 0., 0., 0., 0., 0.],\n",
              "        [0., 0., 1., 0., 0., 0., 0., 0., 0., 0.]]),\n",
              " array([     0.  ,  15966.08,  31932.16,  47898.24,  63864.32,  79830.4 ,\n",
              "         95796.48, 111762.56, 127728.64, 143694.72, 159660.8 ]),\n",
              " array([376. , 423.4, 470.8, 518.2, 565.6, 613. , 660.4, 707.8, 755.2,\n",
              "        802.6, 850. ]),\n",
              " <matplotlib.collections.QuadMesh at 0x7f297953eda0>)"
            ]
          },
          "metadata": {
            "tags": []
          },
          "execution_count": 79
        },
        {
          "output_type": "display_data",
          "data": {
            "image/png": "[encoded data removed]",
            "text/plain": [
              "<Figure size 432x288 with 1 Axes>"
            ]
          },
          "metadata": {
            "tags": []
          }
        }
      ]
    },
    {
      "cell_type": "code",
      "metadata": {
        "id": "5SHWvVh81Y-z",
        "colab_type": "code",
        "colab": {
          "base_uri": "https://localhost:8080/",
          "height": 460
        },
        "outputId": "87e184d5-0d47-42c7-fef1-ffafefd58efc"
      },
      "source": [
        "plt.hist(read['Surname'].head(9),label='Enjoy')"
      ],
      "execution_count": 81,
      "outputs": [
        {
          "output_type": "execute_result",
          "data": {
            "text/plain": [
              "([array([1., 0., 0., 0., 0., 0., 0., 0., 0., 0.]),\n",
              "  array([0., 1., 0., 0., 0., 0., 0., 0., 0., 0.]),\n",
              "  array([0., 0., 1., 0., 0., 0., 0., 0., 0., 0.]),\n",
              "  array([0., 0., 0., 1., 0., 0., 0., 0., 0., 0.]),\n",
              "  array([0., 0., 0., 0., 0., 1., 0., 0., 0., 0.]),\n",
              "  array([0., 0., 0., 0., 0., 0., 1., 0., 0., 0.]),\n",
              "  array([0., 0., 0., 0., 0., 0., 0., 1., 0., 0.]),\n",
              "  array([0., 0., 0., 0., 0., 0., 0., 0., 1., 0.]),\n",
              "  array([0., 0., 0., 0., 0., 0., 0., 0., 0., 1.])],\n",
              " array([0. , 0.8, 1.6, 2.4, 3.2, 4. , 4.8, 5.6, 6.4, 7.2, 8. ]),\n",
              " <a list of 9 Lists of Patches objects>)"
            ]
          },
          "metadata": {
            "tags": []
          },
          "execution_count": 81
        },
        {
          "output_type": "display_data",
          "data": {
            "image/png": "[encoded data removed]",
            "text/plain": [
              "<Figure size 432x288 with 1 Axes>"
            ]
          },
          "metadata": {
            "tags": []
          }
        }
      ]
    },
    {
      "cell_type": "code",
      "metadata": {
        "id": "lucYjChu2K09",
        "colab_type": "code",
        "colab": {
          "base_uri": "https://localhost:8080/",
          "height": 304
        },
        "outputId": "42cc3d01-94a2-4f27-fe89-e861dc972e23"
      },
      "source": [
        "plt.stackplot(read['Surname'].head(10),read['CreditScore'].head(10),read['Balance'].head(10),color=['b'])"
      ],
      "execution_count": 89,
      "outputs": [
        {
          "output_type": "execute_result",
          "data": {
            "text/plain": [
              "[<matplotlib.collections.PolyCollection at 0x7f29779813c8>,\n",
              " <matplotlib.collections.PolyCollection at 0x7f29779815f8>]"
            ]
          },
          "metadata": {
            "tags": []
          },
          "execution_count": 89
        },
        {
          "output_type": "display_data",
          "data": {
            "image/png": "[encoded data removed]",
            "text/plain": [
              "<Figure size 432x288 with 1 Axes>"
            ]
          },
          "metadata": {
            "tags": []
          }
        }
      ]
    },
    {
      "cell_type": "markdown",
      "metadata": {
        "id": "csEWwQt-8UUK",
        "colab_type": "text"
      },
      "source": [
        "data_visualization: 4 \n",
        "\n",
        "write the code will follow conditions\n",
        "\n",
        "i)   scrape data of  the url  https://en.wikipedia.org/wiki/Machine_learning\n",
        "ii)  count  all the words after scraping\n",
        "iii) plot the pie and bar plot of top 20 repeated words\n",
        "iv)  plot scatter graph of  all the words having presence more 3 times  in scraped data\n",
        "v)   show stack plot of all the links that are present in above URL"
      ]
    },
    {
      "cell_type": "code",
      "metadata": {
        "id": "mzZCeK28Fx2x",
        "colab_type": "code",
        "colab": {}
      },
      "source": [
        "import requests\n"
      ],
      "execution_count": 0,
      "outputs": []
    },
    {
      "cell_type": "code",
      "metadata": {
        "id": "kCKHqYdFG1bf",
        "colab_type": "code",
        "colab": {}
      },
      "source": [
        "url =  'https://en.wikipedia.org/wiki/Machine_learning'\n",
        "r = requests.get(url)"
      ],
      "execution_count": 0,
      "outputs": []
    },
    {
      "cell_type": "code",
      "metadata": {
        "id": "1zm2qY7iHdvJ",
        "colab_type": "code",
        "colab": {
          "base_uri": "https://localhost:8080/",
          "height": 18480
        },
        "outputId": "0ca68851-836c-40ff-b59a-dd287cd09d6d"
      },
      "source": [
        "print(r.text)"
      ],
      "execution_count": 106,
      "outputs": [
        {
          "output_type": "stream",
          "text": [
            "<!DOCTYPE html>\n",
            "<html class=\"client-nojs\" lang=\"en\" dir=\"ltr\">\n",
            "<head>\n",
            "<meta charset=\"UTF-8\"/>\n",
            "<title>Machine learning - Wikipedia</title>\n",
            "<script>document.documentElement.className=document.documentElement.className.replace(/(^|\\s)client-nojs(\\s|$)/,\"$1client-js$2\");RLCONF={\"wgCanonicalNamespace\":\"\",\"wgCanonicalSpecialPageName\":!1,\"wgNamespaceNumber\":0,\"wgPageName\":\"Machine_learning\",\"wgTitle\":\"Machine learning\",\"wgCurRevisionId\":902636685,\"wgRevisionId\":902636685,\"wgArticleId\":233488,\"wgIsArticle\":!0,\"wgIsRedirect\":!1,\"wgAction\":\"view\",\"wgUserName\":null,\"wgUserGroups\":[\"*\"],\"wgCategories\":[\"CS1 maint: Multiple names: authors list\",\"CS1 maint: others\",\"Wikipedia articles needing clarification from November 2018\",\"Commons category link from Wikidata\",\"Machine learning\",\"Cybernetics\",\"Learning\"],\"wgBreakFrames\":!1,\"wgPageContentLanguage\":\"en\",\"wgPageContentModel\":\"wikitext\",\"wgSeparatorTransformTable\":[\"\",\"\"],\"wgDigitTransformTable\":[\"\",\"\"],\"wgDefaultDateFormat\":\"dmy\",\"wgMonthNames\":[\"\",\"January\",\"February\",\"March\",\"April\",\"May\",\"June\",\"July\",\"August\",\"September\",\"October\",\"November\",\"December\"],\"wgMonthNamesShort\":[\"\",\n",
            "\"Jan\",\"Feb\",\"Mar\",\"Apr\",\"May\",\"Jun\",\"Jul\",\"Aug\",\"Sep\",\"Oct\",\"Nov\",\"Dec\"],\"wgRelevantPageName\":\"Machine_learning\",\"wgRelevantArticleId\":233488,\"wgRequestId\":\"XQtVAApAAEYAAFG4pS4AAACU\",\"wgCSPNonce\":!1,\"wgIsProbablyEditable\":!0,\"wgRelevantPageIsProbablyEditable\":!0,\"wgRestrictionEdit\":[],\"wgRestrictionMove\":[],\"wgMediaViewerOnClick\":!0,\"wgMediaViewerEnabledByDefault\":!0,\"wgPopupsReferencePreviews\":!1,\"wgPopupsConflictsWithNavPopupGadget\":!1,\"wgVisualEditor\":{\"pageLanguageCode\":\"en\",\"pageLanguageDir\":\"ltr\",\"pageVariantFallbacks\":\"en\"},\"wgMFDisplayWikibaseDescriptions\":{\"search\":!0,\"nearby\":!0,\"watchlist\":!0,\"tagline\":!1},\"wgWMESchemaEditAttemptStepOversample\":!1,\"wgPoweredByHHVM\":!0,\"wgULSCurrentAutonym\":\"English\",\"wgNoticeProject\":\"wikipedia\",\"wgCentralNoticeCategoriesUsingLegacy\":[\"Fundraising\",\"fundraising\"],\"wgWikibaseItemId\":\"Q2539\",\"wgCentralAuthMobileDomain\":!1,\"wgEditSubmitButtonLabelPublish\":!0};RLSTATE={\"ext.gadget.charinsert-styles\":\"ready\",\n",
            "\"ext.globalCssJs.user.styles\":\"ready\",\"ext.globalCssJs.site.styles\":\"ready\",\"site.styles\":\"ready\",\"noscript\":\"ready\",\"user.styles\":\"ready\",\"ext.globalCssJs.user\":\"ready\",\"ext.globalCssJs.site\":\"ready\",\"user\":\"ready\",\"user.options\":\"ready\",\"user.tokens\":\"loading\",\"ext.cite.styles\":\"ready\",\"ext.math.styles\":\"ready\",\"mediawiki.legacy.shared\":\"ready\",\"mediawiki.legacy.commonPrint\":\"ready\",\"mediawiki.toc.styles\":\"ready\",\"wikibase.client.init\":\"ready\",\"ext.visualEditor.desktopArticleTarget.noscript\":\"ready\",\"ext.uls.interlanguage\":\"ready\",\"ext.wikimediaBadges\":\"ready\",\"ext.3d.styles\":\"ready\",\"mediawiki.skinning.interface\":\"ready\",\"skins.vector.styles\":\"ready\"};RLPAGEMODULES=[\"ext.cite.ux-enhancements\",\"ext.math.scripts\",\"ext.scribunto.logs\",\"site\",\"mediawiki.page.startup\",\"mediawiki.page.ready\",\"mediawiki.toc\",\"mediawiki.searchSuggest\",\"ext.gadget.teahouse\",\"ext.gadget.ReferenceTooltips\",\"ext.gadget.watchlist-notice\",\"ext.gadget.DRN-wizard\",\"ext.gadget.charinsert\",\"ext.gadget.refToolbar\",\n",
            "\"ext.gadget.extra-toolbar-buttons\",\"ext.gadget.switcher\",\"ext.centralauth.centralautologin\",\"mmv.head\",\"mmv.bootstrap.autostart\",\"ext.popups\",\"ext.visualEditor.desktopArticleTarget.init\",\"ext.visualEditor.targetLoader\",\"ext.eventLogging\",\"ext.wikimediaEvents\",\"ext.navigationTiming\",\"ext.uls.compactlinks\",\"ext.uls.interface\",\"ext.quicksurveys.init\",\"ext.centralNotice.geoIP\",\"ext.centralNotice.startUp\",\"skins.vector.js\"];</script>\n",
            "<script>(RLQ=window.RLQ||[]).push(function(){mw.loader.implement(\"user.tokens@0tffind\",function($,jQuery,require,module){/*@nomin*/mw.user.tokens.set({\"editToken\":\"+\\\\\",\"patrolToken\":\"+\\\\\",\"watchToken\":\"+\\\\\",\"csrfToken\":\"+\\\\\"});\n",
            "});});</script>\n",
            "<link rel=\"stylesheet\" href=\"/w/load.php?lang=en&amp;modules=ext.3d.styles%7Cext.cite.styles%7Cext.math.styles%7Cext.uls.interlanguage%7Cext.visualEditor.desktopArticleTarget.noscript%7Cext.wikimediaBadges%7Cmediawiki.legacy.commonPrint%2Cshared%7Cmediawiki.skinning.interface%7Cmediawiki.toc.styles%7Cskins.vector.styles%7Cwikibase.client.init&amp;only=styles&amp;skin=vector\"/>\n",
            "<script async=\"\" src=\"/w/load.php?lang=en&amp;modules=startup&amp;only=scripts&amp;skin=vector\"></script>\n",
            "<meta name=\"ResourceLoaderDynamicStyles\" content=\"\"/>\n",
            "<link rel=\"stylesheet\" href=\"/w/load.php?lang=en&amp;modules=ext.gadget.charinsert-styles&amp;only=styles&amp;skin=vector\"/>\n",
            "<link rel=\"stylesheet\" href=\"/w/load.php?lang=en&amp;modules=site.styles&amp;only=styles&amp;skin=vector\"/>\n",
            "<meta name=\"generator\" content=\"MediaWiki 1.34.0-wmf.8\"/>\n",
            "<meta name=\"referrer\" content=\"origin\"/>\n",
            "<meta name=\"referrer\" content=\"origin-when-crossorigin\"/>\n",
            "<meta name=\"referrer\" content=\"origin-when-cross-origin\"/>\n",
            "<meta property=\"og:image\" content=\"https://upload.wikimedia.org/wikipedia/commons/thumb/f/fe/Kernel_Machine.svg/1200px-Kernel_Machine.svg.png\"/>\n",
            "<link rel=\"alternate\" href=\"android-app://org.wikipedia/http/en.m.wikipedia.org/wiki/Machine_learning\"/>\n",
            "<link rel=\"alternate\" type=\"application/x-wiki\" title=\"Edit this page\" href=\"/w/index.php?title=Machine_learning&amp;action=edit\"/>\n",
            "<link rel=\"edit\" title=\"Edit this page\" href=\"/w/index.php?title=Machine_learning&amp;action=edit\"/>\n",
            "<link rel=\"apple-touch-icon\" href=\"/static/apple-touch/wikipedia.png\"/>\n",
            "<link rel=\"shortcut icon\" href=\"/static/favicon/wikipedia.ico\"/>\n",
            "<link rel=\"search\" type=\"application/opensearchdescription+xml\" href=\"/w/opensearch_desc.php\" title=\"Wikipedia (en)\"/>\n",
            "<link rel=\"EditURI\" type=\"application/rsd+xml\" href=\"//en.wikipedia.org/w/api.php?action=rsd\"/>\n",
            "<link rel=\"license\" href=\"//creativecommons.org/licenses/by-sa/3.0/\"/>\n",
            "<link rel=\"canonical\" href=\"https://en.wikipedia.org/wiki/Machine_learning\"/>\n",
            "<link rel=\"dns-prefetch\" href=\"//login.wikimedia.org\"/>\n",
            "<link rel=\"dns-prefetch\" href=\"//meta.wikimedia.org\" />\n",
            "<!--[if lt IE 9]><script src=\"/w/load.php?lang=qqx&amp;modules=html5shiv&amp;only=scripts&amp;skin=fallback&amp;sync=1\"></script><![endif]-->\n",
            "</head>\n",
            "<body class=\"mediawiki ltr sitedir-ltr mw-hide-empty-elt ns-0 ns-subject mw-editable page-Machine_learning rootpage-Machine_learning skin-vector action-view\">\n",
            "<div id=\"mw-page-base\" class=\"noprint\"></div>\n",
            "<div id=\"mw-head-base\" class=\"noprint\"></div>\n",
            "<div id=\"content\" class=\"mw-body\" role=\"main\">\n",
            "\t<a id=\"top\"></a>\n",
            "\t<div id=\"siteNotice\" class=\"mw-body-content\"><!-- CentralNotice --></div>\n",
            "\t<div class=\"mw-indicators mw-body-content\">\n",
            "</div>\n",
            "\n",
            "\t<h1 id=\"firstHeading\" class=\"firstHeading\" lang=\"en\">Machine learning</h1>\n",
            "\t\n",
            "\t<div id=\"bodyContent\" class=\"mw-body-content\">\n",
            "\t\t<div id=\"siteSub\" class=\"noprint\">From Wikipedia, the free encyclopedia</div>\n",
            "\t\t<div id=\"contentSub\"></div>\n",
            "\t\t\n",
            "\t\t\n",
            "\t\t\n",
            "\t\t<div id=\"jump-to-nav\"></div>\n",
            "\t\t<a class=\"mw-jump-link\" href=\"#mw-head\">Jump to navigation</a>\n",
            "\t\t<a class=\"mw-jump-link\" href=\"#p-search\">Jump to search</a>\n",
            "\t\t<div id=\"mw-content-text\" lang=\"en\" dir=\"ltr\" class=\"mw-content-ltr\"><div class=\"mw-parser-output\"><div role=\"note\" class=\"hatnote navigation-not-searchable\">For the journal, see <a href=\"/wiki/Machine_Learning_(journal)\" title=\"Machine Learning (journal)\">Machine Learning (journal)</a>.</div>\n",
            "<div role=\"note\" class=\"hatnote navigation-not-searchable\">\"Statistical learning\" redirects here. For statistical learning in linguistics, see <a href=\"/wiki/Statistical_learning_in_language_acquisition\" title=\"Statistical learning in language acquisition\">statistical learning in language acquisition</a>.</div>\n",
            "<table class=\"vertical-navbox nowraplinks\" style=\"float:right;clear:right;width:22.0em;margin:0 0 1.0em 1.0em;background:#f9f9f9;border:1px solid #aaa;padding:0.2em;border-spacing:0.4em 0;text-align:center;line-height:1.4em;font-size:88%\"><tbody><tr><th style=\"padding:0.2em 0.4em 0.2em;font-size:145%;line-height:1.2em\"><a class=\"mw-selflink selflink\">Machine learning</a> and<br /><a href=\"/wiki/Data_mining\" title=\"Data mining\">data mining</a></th></tr><tr><td style=\"padding:0.2em 0 0.4em;padding:0.25em 0.25em 0.75em;\"><a href=\"/wiki/File:Kernel_Machine.svg\" class=\"image\"><img alt=\"Kernel Machine.svg\" src=\"//upload.wikimedia.org/wikipedia/commons/thumb/f/fe/Kernel_Machine.svg/220px-Kernel_Machine.svg.png\" decoding=\"async\" width=\"220\" height=\"100\" srcset=\"//upload.wikimedia.org/wikipedia/commons/thumb/f/fe/Kernel_Machine.svg/330px-Kernel_Machine.svg.png 1.5x, //upload.wikimedia.org/wikipedia/commons/thumb/f/fe/Kernel_Machine.svg/440px-Kernel_Machine.svg.png 2x\" data-file-width=\"512\" data-file-height=\"233\" /></a></td></tr><tr><td style=\"padding:0 0.1em 0.4em\">\n",
            "<div class=\"NavFrame collapsed\" style=\"border:none;padding:0\"><div class=\"NavHead\" style=\"font-size:105%;background:transparent;text-align:left\">Problems</div><div class=\"NavContent\" style=\"font-size:105%;padding:0.2em 0 0.4em;text-align:center\"><div class=\"hlist\">\n",
            "<ul><li><a href=\"/wiki/Statistical_classification\" title=\"Statistical classification\">Classification</a></li>\n",
            "<li><a href=\"/wiki/Cluster_analysis\" title=\"Cluster analysis\">Clustering</a></li>\n",
            "<li><a href=\"/wiki/Regression_analysis\" title=\"Regression analysis\">Regression</a></li>\n",
            "<li><a href=\"/wiki/Anomaly_detection\" title=\"Anomaly detection\">Anomaly detection</a></li>\n",
            "<li><a href=\"/wiki/Automated_machine_learning\" title=\"Automated machine learning\">AutoML</a></li>\n",
            "<li><a href=\"/wiki/Association_rule_learning\" title=\"Association rule learning\">Association rules</a></li>\n",
            "<li><a href=\"/wiki/Reinforcement_learning\" title=\"Reinforcement learning\">Reinforcement learning</a></li>\n",
            "<li><a href=\"/wiki/Structured_prediction\" title=\"Structured prediction\">Structured prediction</a></li>\n",
            "<li><a href=\"/wiki/Feature_engineering\" title=\"Feature engineering\">Feature engineering</a></li>\n",
            "<li><a href=\"/wiki/Feature_learning\" title=\"Feature learning\">Feature learning</a></li>\n",
            "<li><a href=\"/wiki/Online_machine_learning\" title=\"Online machine learning\">Online learning</a></li>\n",
            "<li><a href=\"/wiki/Semi-supervised_learning\" title=\"Semi-supervised learning\">Semi-supervised learning</a></li>\n",
            "<li><a href=\"/wiki/Unsupervised_learning\" title=\"Unsupervised learning\">Unsupervised learning</a></li>\n",
            "<li><a href=\"/wiki/Learning_to_rank\" title=\"Learning to rank\">Learning to rank</a></li>\n",
            "<li><a href=\"/wiki/Grammar_induction\" title=\"Grammar induction\">Grammar induction</a></li></ul>\n",
            "</div></div></div></td>\n",
            "</tr><tr><td style=\"padding:0 0.1em 0.4em\">\n",
            "<div class=\"NavFrame collapsed\" style=\"border:none;padding:0\"><div class=\"NavHead\" style=\"font-size:105%;background:transparent;text-align:left\"><div style=\"padding:0.1em 0;line-height:1.2em;\"><a href=\"/wiki/Supervised_learning\" title=\"Supervised learning\">Supervised learning</a><br /><style data-mw-deduplicate=\"TemplateStyles:r886047488\">.mw-parser-output .nobold{font-weight:normal}</style><span class=\"nobold\"><span style=\"font-size:85%;\">(<b><a href=\"/wiki/Statistical_classification\" title=\"Statistical classification\">classification</a></b>&#160;&#8226;&#32;<b><a href=\"/wiki/Regression_analysis\" title=\"Regression analysis\">regression</a></b>)</span></span> </div></div><div class=\"NavContent\" style=\"font-size:105%;padding:0.2em 0 0.4em;text-align:center\"><div class=\"hlist\">\n",
            "<ul><li><a href=\"/wiki/Decision_tree_learning\" title=\"Decision tree learning\">Decision trees</a></li>\n",
            "<li><a href=\"/wiki/Ensemble_learning\" title=\"Ensemble learning\">Ensembles</a>\n",
            "<ul><li><a href=\"/wiki/Bootstrap_aggregating\" title=\"Bootstrap aggregating\">Bagging</a></li>\n",
            "<li><a href=\"/wiki/Boosting_(machine_learning)\" title=\"Boosting (machine learning)\">Boosting</a></li>\n",
            "<li><a href=\"/wiki/Random_forest\" title=\"Random forest\">Random forest</a></li></ul></li>\n",
            "<li><a href=\"/wiki/K-nearest_neighbors_algorithm\" title=\"K-nearest neighbors algorithm\"><i>k</i>-NN</a></li>\n",
            "<li><a href=\"/wiki/Linear_regression\" title=\"Linear regression\">Linear regression</a></li>\n",
            "<li><a href=\"/wiki/Naive_Bayes_classifier\" title=\"Naive Bayes classifier\">Naive Bayes</a></li>\n",
            "<li><a href=\"/wiki/Artificial_neural_network\" title=\"Artificial neural network\">Artificial neural networks</a></li>\n",
            "<li><a href=\"/wiki/Logistic_regression\" title=\"Logistic regression\">Logistic regression</a></li>\n",
            "<li><a href=\"/wiki/Perceptron\" title=\"Perceptron\">Perceptron</a></li>\n",
            "<li><a href=\"/wiki/Relevance_vector_machine\" title=\"Relevance vector machine\">Relevance vector machine (RVM)</a></li>\n",
            "<li><a href=\"/wiki/Support-vector_machine\" title=\"Support-vector machine\">Support vector machine (SVM)</a></li></ul>\n",
            "</div></div></div></td>\n",
            "</tr><tr><td style=\"padding:0 0.1em 0.4em\">\n",
            "<div class=\"NavFrame collapsed\" style=\"border:none;padding:0\"><div class=\"NavHead\" style=\"font-size:105%;background:transparent;text-align:left\"><a href=\"/wiki/Cluster_analysis\" title=\"Cluster analysis\">Clustering</a></div><div class=\"NavContent\" style=\"font-size:105%;padding:0.2em 0 0.4em;text-align:center\"><div class=\"hlist\">\n",
            "<ul><li><a href=\"/wiki/BIRCH\" title=\"BIRCH\">BIRCH</a></li>\n",
            "<li><a href=\"/wiki/CURE_data_clustering_algorithm\" class=\"mw-redirect\" title=\"CURE data clustering algorithm\">CURE</a></li>\n",
            "<li><a href=\"/wiki/Hierarchical_clustering\" title=\"Hierarchical clustering\">Hierarchical</a></li>\n",
            "<li><a href=\"/wiki/K-means_clustering\" title=\"K-means clustering\"><i>k</i>-means</a></li>\n",
            "<li><a href=\"/wiki/Expectation%E2%80%93maximization_algorithm\" title=\"Expectation–maximization algorithm\">Expectation–maximization (EM)</a></li>\n",
            "<li><br /><a href=\"/wiki/DBSCAN\" title=\"DBSCAN\">DBSCAN</a></li>\n",
            "<li><a href=\"/wiki/OPTICS_algorithm\" title=\"OPTICS algorithm\">OPTICS</a></li>\n",
            "<li><a href=\"/wiki/Mean-shift\" class=\"mw-redirect\" title=\"Mean-shift\">Mean-shift</a></li></ul>\n",
            "</div></div></div></td>\n",
            "</tr><tr><td style=\"padding:0 0.1em 0.4em\">\n",
            "<div class=\"NavFrame collapsed\" style=\"border:none;padding:0\"><div class=\"NavHead\" style=\"font-size:105%;background:transparent;text-align:left\"><a href=\"/wiki/Dimensionality_reduction\" title=\"Dimensionality reduction\">Dimensionality reduction</a></div><div class=\"NavContent\" style=\"font-size:105%;padding:0.2em 0 0.4em;text-align:center\"><div class=\"hlist\">\n",
            "<ul><li><a href=\"/wiki/Factor_analysis\" title=\"Factor analysis\">Factor analysis</a></li>\n",
            "<li><a href=\"/wiki/Canonical_correlation_analysis\" class=\"mw-redirect\" title=\"Canonical correlation analysis\">CCA</a></li>\n",
            "<li><a href=\"/wiki/Independent_component_analysis\" title=\"Independent component analysis\">ICA</a></li>\n",
            "<li><a href=\"/wiki/Linear_discriminant_analysis\" title=\"Linear discriminant analysis\">LDA</a></li>\n",
            "<li><a href=\"/wiki/Non-negative_matrix_factorization\" title=\"Non-negative matrix factorization\">NMF</a></li>\n",
            "<li><a href=\"/wiki/Principal_component_analysis\" title=\"Principal component analysis\">PCA</a></li>\n",
            "<li><a href=\"/wiki/T-distributed_stochastic_neighbor_embedding\" title=\"T-distributed stochastic neighbor embedding\">t-SNE</a></li></ul>\n",
            "</div></div></div></td>\n",
            "</tr><tr><td style=\"padding:0 0.1em 0.4em\">\n",
            "<div class=\"NavFrame collapsed\" style=\"border:none;padding:0\"><div class=\"NavHead\" style=\"font-size:105%;background:transparent;text-align:left\"><a href=\"/wiki/Structured_prediction\" title=\"Structured prediction\">Structured prediction</a></div><div class=\"NavContent\" style=\"font-size:105%;padding:0.2em 0 0.4em;text-align:center\"><div class=\"hlist\">\n",
            "<ul><li><a href=\"/wiki/Graphical_model\" title=\"Graphical model\">Graphical models</a>\n",
            "<ul><li><a href=\"/wiki/Bayesian_network\" title=\"Bayesian network\">Bayes net</a></li>\n",
            "<li><a href=\"/wiki/Conditional_random_field\" title=\"Conditional random field\">Conditional random field</a></li>\n",
            "<li><a href=\"/wiki/Hidden_Markov_model\" title=\"Hidden Markov model\">Hidden Markov</a></li></ul></li></ul>\n",
            "</div></div></div></td>\n",
            "</tr><tr><td style=\"padding:0 0.1em 0.4em\">\n",
            "<div class=\"NavFrame collapsed\" style=\"border:none;padding:0\"><div class=\"NavHead\" style=\"font-size:105%;background:transparent;text-align:left\"><a href=\"/wiki/Anomaly_detection\" title=\"Anomaly detection\">Anomaly detection</a></div><div class=\"NavContent\" style=\"font-size:105%;padding:0.2em 0 0.4em;text-align:center\"><div class=\"hlist\">\n",
            "<ul><li><a href=\"/wiki/K-nearest_neighbors_classification\" class=\"mw-redirect\" title=\"K-nearest neighbors classification\"><i>k</i>-NN</a></li>\n",
            "<li><a href=\"/wiki/Local_outlier_factor\" title=\"Local outlier factor\">Local outlier factor</a></li></ul>\n",
            "</div></div></div></td>\n",
            "</tr><tr><td style=\"padding:0 0.1em 0.4em\">\n",
            "<div class=\"NavFrame collapsed\" style=\"border:none;padding:0\"><div class=\"NavHead\" style=\"font-size:105%;background:transparent;text-align:left\"><a href=\"/wiki/Artificial_neural_networks\" class=\"mw-redirect\" title=\"Artificial neural networks\">Artificial neural networks</a></div><div class=\"NavContent\" style=\"font-size:105%;padding:0.2em 0 0.4em;text-align:center\"><div class=\"hlist\">\n",
            "<ul><li><a href=\"/wiki/Autoencoder\" title=\"Autoencoder\">Autoencoder</a></li>\n",
            "<li><a href=\"/wiki/Deep_learning\" title=\"Deep learning\">Deep learning</a></li>\n",
            "<li><a href=\"/wiki/DeepDream\" title=\"DeepDream\">DeepDream</a></li>\n",
            "<li><a href=\"/wiki/Multilayer_perceptron\" title=\"Multilayer perceptron\">Multilayer perceptron</a></li>\n",
            "<li><a href=\"/wiki/Recurrent_neural_network\" title=\"Recurrent neural network\">RNN</a>\n",
            "<ul><li><a href=\"/wiki/Long_short-term_memory\" title=\"Long short-term memory\">LSTM</a></li>\n",
            "<li><a href=\"/wiki/Gated_recurrent_unit\" title=\"Gated recurrent unit\">GRU</a></li></ul></li>\n",
            "<li><a href=\"/wiki/Restricted_Boltzmann_machine\" title=\"Restricted Boltzmann machine\">Restricted Boltzmann machine</a></li>\n",
            "<li><a href=\"/wiki/Generative_adversarial_network\" title=\"Generative adversarial network\">GAN</a></li>\n",
            "<li><a href=\"/wiki/Self-organizing_map\" title=\"Self-organizing map\">SOM</a></li>\n",
            "<li><a href=\"/wiki/Convolutional_neural_network\" title=\"Convolutional neural network\">Convolutional neural network</a>\n",
            "<ul><li><a href=\"/wiki/U-Net\" title=\"U-Net\">U-Net</a></li></ul></li></ul>\n",
            "</div></div></div></td>\n",
            "</tr><tr><td style=\"padding:0 0.1em 0.4em\">\n",
            "<div class=\"NavFrame collapsed\" style=\"border:none;padding:0\"><div class=\"NavHead\" style=\"font-size:105%;background:transparent;text-align:left\"><a href=\"/wiki/Reinforcement_learning\" title=\"Reinforcement learning\">Reinforcement learning</a></div><div class=\"NavContent\" style=\"font-size:105%;padding:0.2em 0 0.4em;text-align:center\"><div class=\"hlist\">\n",
            "<ul><li><a href=\"/wiki/Q-learning\" title=\"Q-learning\">Q-learning</a></li>\n",
            "<li><a href=\"/wiki/State%E2%80%93action%E2%80%93reward%E2%80%93state%E2%80%93action\" title=\"State–action–reward–state–action\">SARSA</a></li>\n",
            "<li><a href=\"/wiki/Temporal_difference_learning\" title=\"Temporal difference learning\">Temporal difference (TD)</a></li></ul>\n",
            "</div></div></div></td>\n",
            "</tr><tr><td style=\"padding:0 0.1em 0.4em\">\n",
            "<div class=\"NavFrame collapsed\" style=\"border:none;padding:0\"><div class=\"NavHead\" style=\"font-size:105%;background:transparent;text-align:left\">Theory</div><div class=\"NavContent\" style=\"font-size:105%;padding:0.2em 0 0.4em;text-align:center\"><div class=\"hlist\">\n",
            "<ul><li><a href=\"/wiki/Bias%E2%80%93variance_dilemma\" class=\"mw-redirect\" title=\"Bias–variance dilemma\">Bias–variance dilemma</a></li>\n",
            "<li><a href=\"/wiki/Computational_learning_theory\" title=\"Computational learning theory\">Computational learning theory</a></li>\n",
            "<li><a href=\"/wiki/Empirical_risk_minimization\" title=\"Empirical risk minimization\">Empirical risk minimization</a></li>\n",
            "<li><a href=\"/wiki/Occam_learning\" title=\"Occam learning\">Occam learning</a></li>\n",
            "<li><a href=\"/wiki/Probably_approximately_correct_learning\" title=\"Probably approximately correct learning\">PAC learning</a></li>\n",
            "<li><a href=\"/wiki/Statistical_learning_theory\" title=\"Statistical learning theory\">Statistical learning</a></li>\n",
            "<li><a href=\"/wiki/Vapnik%E2%80%93Chervonenkis_theory\" title=\"Vapnik–Chervonenkis theory\">VC theory</a></li></ul>\n",
            "</div></div></div></td>\n",
            "</tr><tr><td style=\"padding:0 0.1em 0.4em\">\n",
            "<div class=\"NavFrame collapsed\" style=\"border:none;padding:0\"><div class=\"NavHead\" style=\"font-size:105%;background:transparent;text-align:left\">Machine-learning venues</div><div class=\"NavContent\" style=\"font-size:105%;padding:0.2em 0 0.4em;text-align:center\"><div class=\"hlist\">\n",
            "<ul><li><a href=\"/wiki/Conference_on_Neural_Information_Processing_Systems\" title=\"Conference on Neural Information Processing Systems\">NIPS</a></li>\n",
            "<li><a href=\"/wiki/International_Conference_on_Machine_Learning\" title=\"International Conference on Machine Learning\">ICML</a></li>\n",
            "<li><a href=\"/wiki/Machine_Learning_(journal)\" title=\"Machine Learning (journal)\">ML</a></li>\n",
            "<li><a href=\"/wiki/Journal_of_Machine_Learning_Research\" title=\"Journal of Machine Learning Research\">JMLR</a></li>\n",
            "<li><a rel=\"nofollow\" class=\"external text\" href=\"https://arxiv.org/list/cs.LG/recent\">ArXiv:cs.LG</a></li></ul>\n",
            "</div></div></div></td>\n",
            "</tr><tr><td style=\"padding:0 0.1em 0.4em\">\n",
            "<div class=\"NavFrame collapsed\" style=\"border:none;padding:0\"><div class=\"NavHead\" style=\"font-size:105%;background:transparent;text-align:left\"><a href=\"/wiki/Glossary_of_artificial_intelligence\" title=\"Glossary of artificial intelligence\">Glossary of artificial intelligence</a></div><div class=\"NavContent\" style=\"font-size:105%;padding:0.2em 0 0.4em;text-align:center\"><div class=\"hlist\">\n",
            "<ul><li><a href=\"/wiki/Glossary_of_artificial_intelligence\" title=\"Glossary of artificial intelligence\">Glossary of artificial intelligence</a></li></ul>\n",
            "</div></div></div></td>\n",
            "</tr><tr><td style=\"padding:0 0.1em 0.4em\">\n",
            "<div class=\"NavFrame collapsed\" style=\"border:none;padding:0\"><div class=\"NavHead\" style=\"font-size:105%;background:transparent;text-align:left\">Related articles</div><div class=\"NavContent\" style=\"font-size:105%;padding:0.2em 0 0.4em;text-align:center\"><div class=\"hlist\">\n",
            "<ul><li><a href=\"/wiki/List_of_datasets_for_machine-learning_research\" title=\"List of datasets for machine-learning research\">List of datasets for machine-learning research</a></li>\n",
            "<li><a href=\"/wiki/Outline_of_machine_learning\" title=\"Outline of machine learning\">Outline of machine learning</a></li></ul>\n",
            "</div></div></div></td>\n",
            "</tr><tr><td class=\"plainlist\" style=\"padding:0.3em 0.4em 0.3em;font-weight:bold;border-top: 1px solid #aaa; border-bottom: 1px solid #aaa;border-top:1px solid #aaa;border-bottom:1px solid #aaa;\">\n",
            "<ul><li><a href=\"/wiki/File:Portal-puzzle.svg\" class=\"image\"><img alt=\"Portal-puzzle.svg\" src=\"//upload.wikimedia.org/wikipedia/en/thumb/f/fd/Portal-puzzle.svg/16px-Portal-puzzle.svg.png\" decoding=\"async\" width=\"16\" height=\"14\" class=\"noviewer\" srcset=\"//upload.wikimedia.org/wikipedia/en/thumb/f/fd/Portal-puzzle.svg/24px-Portal-puzzle.svg.png 1.5x, //upload.wikimedia.org/wikipedia/en/thumb/f/fd/Portal-puzzle.svg/32px-Portal-puzzle.svg.png 2x\" data-file-width=\"32\" data-file-height=\"28\" /></a> <a href=\"/wiki/Portal:Machine_learning\" title=\"Portal:Machine learning\">Machine learning&#32;portal</a></li></ul></td></tr><tr><td style=\"text-align:right;font-size:115%;padding-top: 0.6em;\"><div class=\"plainlinks hlist navbar mini\"><ul><li class=\"nv-view\"><a href=\"/wiki/Template:Machine_learning_bar\" title=\"Template:Machine learning bar\"><abbr title=\"View this template\">v</abbr></a></li><li class=\"nv-talk\"><a href=\"/wiki/Template_talk:Machine_learning_bar\" title=\"Template talk:Machine learning bar\"><abbr title=\"Discuss this template\">t</abbr></a></li><li class=\"nv-edit\"><a class=\"external text\" href=\"//en.wikipedia.org/w/index.php?title=Template:Machine_learning_bar&amp;action=edit\"><abbr title=\"Edit this template\">e</abbr></a></li></ul></div></td></tr></tbody></table>\n",
            "<p><b>Machine learning</b> (<b>ML</b>) is the <a href=\"/wiki/Branches_of_science\" title=\"Branches of science\">scientific study</a> of <a href=\"/wiki/Algorithm\" title=\"Algorithm\">algorithms</a> and <a href=\"/wiki/Statistical_model\" title=\"Statistical model\">statistical models</a> that <a href=\"/wiki/Computer_systems\" class=\"mw-redirect\" title=\"Computer systems\">computer systems</a> use in order to perform a specific task effectively without using explicit instructions, relying on patterns and inference instead. It is seen as a subset of <a href=\"/wiki/Artificial_intelligence\" title=\"Artificial intelligence\">artificial intelligence</a>. Machine learning algorithms build a <a href=\"/wiki/Mathematical_model\" title=\"Mathematical model\">mathematical model</a> based on sample data, known as \"<a href=\"/wiki/Training_data\" class=\"mw-redirect\" title=\"Training data\">training data</a>\", in order to make predictions or decisions without being explicitly programmed to perform the task.<sup id=\"cite_ref-1\" class=\"reference\"><a href=\"#cite_note-1\">&#91;1&#93;</a></sup><sup id=\"cite_ref-bishop2006_2-0\" class=\"reference\"><a href=\"#cite_note-bishop2006-2\">&#91;2&#93;</a></sup><sup class=\"reference\" style=\"white-space:nowrap;\">:<span>2</span></sup> Machine learning algorithms are used in a wide variety of applications, such as <a href=\"/wiki/Email_filtering\" title=\"Email filtering\">email filtering</a>, and <a href=\"/wiki/Computer_vision\" title=\"Computer vision\">computer vision</a>, where it is infeasible to develop an algorithm of specific instructions for performing the task. Machine learning is closely related to <a href=\"/wiki/Computational_statistics\" title=\"Computational statistics\">computational statistics</a>, which focuses on making predictions using computers. The study of <a href=\"/wiki/Mathematical_optimization\" title=\"Mathematical optimization\">mathematical optimization</a> delivers methods, theory and application domains to the field of machine learning. <a href=\"/wiki/Data_mining\" title=\"Data mining\">Data mining</a> is a field of study within machine learning, and focuses on <a href=\"/wiki/Exploratory_data_analysis\" title=\"Exploratory data analysis\">exploratory data analysis</a> through <a href=\"/wiki/Unsupervised_learning\" title=\"Unsupervised learning\">unsupervised learning</a>.<sup id=\"cite_ref-3\" class=\"reference\"><a href=\"#cite_note-3\">&#91;3&#93;</a></sup><sup id=\"cite_ref-4\" class=\"reference\"><a href=\"#cite_note-4\">&#91;4&#93;</a></sup> In its application across business problems, machine learning is also referred to as <a href=\"/wiki/Predictive_analytics\" title=\"Predictive analytics\">predictive analytics</a>.\n",
            "</p>\n",
            "<div id=\"toc\" class=\"toc\"><input type=\"checkbox\" role=\"button\" id=\"toctogglecheckbox\" class=\"toctogglecheckbox\" style=\"display:none\" /><div class=\"toctitle\" lang=\"en\" dir=\"ltr\"><h2>Contents</h2><span class=\"toctogglespan\"><label class=\"toctogglelabel\" for=\"toctogglecheckbox\"></label></span></div>\n",
            "<ul>\n",
            "<li class=\"toclevel-1 tocsection-1\"><a href=\"#Overview\"><span class=\"tocnumber\">1</span> <span class=\"toctext\">Overview</span></a>\n",
            "<ul>\n",
            "<li class=\"toclevel-2 tocsection-2\"><a href=\"#Machine_learning_tasks\"><span class=\"tocnumber\">1.1</span> <span class=\"toctext\">Machine learning tasks</span></a></li>\n",
            "</ul>\n",
            "</li>\n",
            "<li class=\"toclevel-1 tocsection-3\"><a href=\"#History_and_relationships_to_other_fields\"><span class=\"tocnumber\">2</span> <span class=\"toctext\">History and relationships to other fields</span></a>\n",
            "<ul>\n",
            "<li class=\"toclevel-2 tocsection-4\"><a href=\"#Relation_to_data_mining\"><span class=\"tocnumber\">2.1</span> <span class=\"toctext\">Relation to data mining</span></a></li>\n",
            "<li class=\"toclevel-2 tocsection-5\"><a href=\"#Relation_to_optimization\"><span class=\"tocnumber\">2.2</span> <span class=\"toctext\">Relation to optimization</span></a></li>\n",
            "<li class=\"toclevel-2 tocsection-6\"><a href=\"#Relation_to_statistics\"><span class=\"tocnumber\">2.3</span> <span class=\"toctext\">Relation to statistics</span></a></li>\n",
            "</ul>\n",
            "</li>\n",
            "<li class=\"toclevel-1 tocsection-7\"><a href=\"#Theory\"><span class=\"tocnumber\">3</span> <span class=\"toctext\">Theory</span></a></li>\n",
            "<li class=\"toclevel-1 tocsection-8\"><a href=\"#Approaches\"><span class=\"tocnumber\">4</span> <span class=\"toctext\">Approaches</span></a>\n",
            "<ul>\n",
            "<li class=\"toclevel-2 tocsection-9\"><a href=\"#Types_of_learning_algorithms\"><span class=\"tocnumber\">4.1</span> <span class=\"toctext\">Types of learning algorithms</span></a>\n",
            "<ul>\n",
            "<li class=\"toclevel-3 tocsection-10\"><a href=\"#Supervised_learning\"><span class=\"tocnumber\">4.1.1</span> <span class=\"toctext\">Supervised learning</span></a></li>\n",
            "<li class=\"toclevel-3 tocsection-11\"><a href=\"#Unsupervised_learning\"><span class=\"tocnumber\">4.1.2</span> <span class=\"toctext\">Unsupervised learning</span></a></li>\n",
            "<li class=\"toclevel-3 tocsection-12\"><a href=\"#Reinforcement_learning\"><span class=\"tocnumber\">4.1.3</span> <span class=\"toctext\">Reinforcement learning</span></a></li>\n",
            "<li class=\"toclevel-3 tocsection-13\"><a href=\"#Feature_learning\"><span class=\"tocnumber\">4.1.4</span> <span class=\"toctext\">Feature learning</span></a></li>\n",
            "<li class=\"toclevel-3 tocsection-14\"><a href=\"#Sparse_dictionary_learning\"><span class=\"tocnumber\">4.1.5</span> <span class=\"toctext\">Sparse dictionary learning</span></a></li>\n",
            "<li class=\"toclevel-3 tocsection-15\"><a href=\"#Anomaly_detection\"><span class=\"tocnumber\">4.1.6</span> <span class=\"toctext\">Anomaly detection</span></a></li>\n",
            "<li class=\"toclevel-3 tocsection-16\"><a href=\"#Association_rules\"><span class=\"tocnumber\">4.1.7</span> <span class=\"toctext\">Association rules</span></a></li>\n",
            "</ul>\n",
            "</li>\n",
            "<li class=\"toclevel-2 tocsection-17\"><a href=\"#Models\"><span class=\"tocnumber\">4.2</span> <span class=\"toctext\">Models</span></a>\n",
            "<ul>\n",
            "<li class=\"toclevel-3 tocsection-18\"><a href=\"#Artificial_neural_networks\"><span class=\"tocnumber\">4.2.1</span> <span class=\"toctext\">Artificial neural networks</span></a></li>\n",
            "<li class=\"toclevel-3 tocsection-19\"><a href=\"#Decision_trees\"><span class=\"tocnumber\">4.2.2</span> <span class=\"toctext\">Decision trees</span></a></li>\n",
            "<li class=\"toclevel-3 tocsection-20\"><a href=\"#Support_vector_machines\"><span class=\"tocnumber\">4.2.3</span> <span class=\"toctext\">Support vector machines</span></a></li>\n",
            "<li class=\"toclevel-3 tocsection-21\"><a href=\"#Bayesian_networks\"><span class=\"tocnumber\">4.2.4</span> <span class=\"toctext\">Bayesian networks</span></a></li>\n",
            "<li class=\"toclevel-3 tocsection-22\"><a href=\"#Genetic_algorithms\"><span class=\"tocnumber\">4.2.5</span> <span class=\"toctext\">Genetic algorithms</span></a></li>\n",
            "</ul>\n",
            "</li>\n",
            "<li class=\"toclevel-2 tocsection-23\"><a href=\"#Training_models\"><span class=\"tocnumber\">4.3</span> <span class=\"toctext\">Training models</span></a>\n",
            "<ul>\n",
            "<li class=\"toclevel-3 tocsection-24\"><a href=\"#Federated_learning\"><span class=\"tocnumber\">4.3.1</span> <span class=\"toctext\">Federated learning</span></a></li>\n",
            "</ul>\n",
            "</li>\n",
            "</ul>\n",
            "</li>\n",
            "<li class=\"toclevel-1 tocsection-25\"><a href=\"#Applications\"><span class=\"tocnumber\">5</span> <span class=\"toctext\">Applications</span></a></li>\n",
            "<li class=\"toclevel-1 tocsection-26\"><a href=\"#Limitations\"><span class=\"tocnumber\">6</span> <span class=\"toctext\">Limitations</span></a>\n",
            "<ul>\n",
            "<li class=\"toclevel-2 tocsection-27\"><a href=\"#Bias\"><span class=\"tocnumber\">6.1</span> <span class=\"toctext\">Bias</span></a></li>\n",
            "</ul>\n",
            "</li>\n",
            "<li class=\"toclevel-1 tocsection-28\"><a href=\"#Model_assessments\"><span class=\"tocnumber\">7</span> <span class=\"toctext\">Model assessments</span></a></li>\n",
            "<li class=\"toclevel-1 tocsection-29\"><a href=\"#Ethics\"><span class=\"tocnumber\">8</span> <span class=\"toctext\">Ethics</span></a></li>\n",
            "<li class=\"toclevel-1 tocsection-30\"><a href=\"#Software\"><span class=\"tocnumber\">9</span> <span class=\"toctext\">Software</span></a>\n",
            "<ul>\n",
            "<li class=\"toclevel-2 tocsection-31\"><a href=\"#Free_and_open-source_software\"><span class=\"tocnumber\">9.1</span> <span class=\"toctext\">Free and open-source software</span></a></li>\n",
            "<li class=\"toclevel-2 tocsection-32\"><a href=\"#Proprietary_software_with_free_and_open-source_editions\"><span class=\"tocnumber\">9.2</span> <span class=\"toctext\">Proprietary software with free and open-source editions</span></a></li>\n",
            "<li class=\"toclevel-2 tocsection-33\"><a href=\"#Proprietary_software\"><span class=\"tocnumber\">9.3</span> <span class=\"toctext\">Proprietary software</span></a></li>\n",
            "</ul>\n",
            "</li>\n",
            "<li class=\"toclevel-1 tocsection-34\"><a href=\"#Journals\"><span class=\"tocnumber\">10</span> <span class=\"toctext\">Journals</span></a></li>\n",
            "<li class=\"toclevel-1 tocsection-35\"><a href=\"#Conferences\"><span class=\"tocnumber\">11</span> <span class=\"toctext\">Conferences</span></a></li>\n",
            "<li class=\"toclevel-1 tocsection-36\"><a href=\"#See_also\"><span class=\"tocnumber\">12</span> <span class=\"toctext\">See also</span></a></li>\n",
            "<li class=\"toclevel-1 tocsection-37\"><a href=\"#References\"><span class=\"tocnumber\">13</span> <span class=\"toctext\">References</span></a></li>\n",
            "<li class=\"toclevel-1 tocsection-38\"><a href=\"#Further_reading\"><span class=\"tocnumber\">14</span> <span class=\"toctext\">Further reading</span></a></li>\n",
            "<li class=\"toclevel-1 tocsection-39\"><a href=\"#External_links\"><span class=\"tocnumber\">15</span> <span class=\"toctext\">External links</span></a></li>\n",
            "</ul>\n",
            "</div>\n",
            "\n",
            "<h2><span class=\"mw-headline\" id=\"Overview\">Overview</span><span class=\"mw-editsection\"><span class=\"mw-editsection-bracket\">[</span><a href=\"/w/index.php?title=Machine_learning&amp;action=edit&amp;section=1\" title=\"Edit section: Overview\">edit</a><span class=\"mw-editsection-bracket\">]</span></span></h2>\n",
            "<p>The name <i>machine learning</i> was coined in 1959 by <a href=\"/wiki/Arthur_Samuel\" title=\"Arthur Samuel\">Arthur Samuel</a>.<sup id=\"cite_ref-Samuel_5-0\" class=\"reference\"><a href=\"#cite_note-Samuel-5\">&#91;5&#93;</a></sup> <a href=\"/wiki/Tom_M._Mitchell\" title=\"Tom M. Mitchell\">Tom M. Mitchell</a> provided a widely quoted, more formal definition of the algorithms studied in the machine learning field: \"A computer program is said to learn from experience <i>E</i> with respect to some class of tasks <i>T</i> and performance measure <i>P</i> if its performance at tasks in <i>T</i>, as measured by <i>P</i>,  improves with experience <i>E</i>.\"<sup id=\"cite_ref-Mitchell-1997_6-0\" class=\"reference\"><a href=\"#cite_note-Mitchell-1997-6\">&#91;6&#93;</a></sup> This definition of the tasks in which machine learning is concerned offers a fundamentally <a href=\"/wiki/Operational_definition\" title=\"Operational definition\">operational definition</a> rather than defining the field in cognitive terms. This follows <a href=\"/wiki/Alan_Turing\" title=\"Alan Turing\">Alan Turing</a>'s proposal in his paper \"<a href=\"/wiki/Computing_Machinery_and_Intelligence\" title=\"Computing Machinery and Intelligence\">Computing Machinery and Intelligence</a>\", in which the question \"Can machines think?\" is replaced with the question \"Can machines do what we (as thinking entities) can do?\".<sup id=\"cite_ref-7\" class=\"reference\"><a href=\"#cite_note-7\">&#91;7&#93;</a></sup> In Turing's proposal the various characteristics that could be possessed by a <i>thinking machine</i> and the various implications in constructing one are exposed.\n",
            "</p>\n",
            "<h3><span class=\"mw-headline\" id=\"Machine_learning_tasks\">Machine learning tasks</span><span class=\"mw-editsection\"><span class=\"mw-editsection-bracket\">[</span><a href=\"/w/index.php?title=Machine_learning&amp;action=edit&amp;section=2\" title=\"Edit section: Machine learning tasks\">edit</a><span class=\"mw-editsection-bracket\">]</span></span></h3>\n",
            "<p><span id=\"Algorithm_types\"></span>\n",
            "</p>\n",
            "<div class=\"thumb tright\"><div class=\"thumbinner\" style=\"width:222px;\"><a href=\"/wiki/File:Svm_max_sep_hyperplane_with_margin.png\" class=\"image\"><img alt=\"\" src=\"//upload.wikimedia.org/wikipedia/commons/thumb/2/2a/Svm_max_sep_hyperplane_with_margin.png/220px-Svm_max_sep_hyperplane_with_margin.png\" decoding=\"async\" width=\"220\" height=\"237\" class=\"thumbimage\" srcset=\"//upload.wikimedia.org/wikipedia/commons/thumb/2/2a/Svm_max_sep_hyperplane_with_margin.png/330px-Svm_max_sep_hyperplane_with_margin.png 1.5x, //upload.wikimedia.org/wikipedia/commons/thumb/2/2a/Svm_max_sep_hyperplane_with_margin.png/440px-Svm_max_sep_hyperplane_with_margin.png 2x\" data-file-width=\"800\" data-file-height=\"862\" /></a>  <div class=\"thumbcaption\"><div class=\"magnify\"><a href=\"/wiki/File:Svm_max_sep_hyperplane_with_margin.png\" class=\"internal\" title=\"Enlarge\"></a></div>A <a href=\"/wiki/Support_vector_machine\" class=\"mw-redirect\" title=\"Support vector machine\">support vector machine</a> is a supervised learning model that divides the data into regions separated by a <a href=\"/wiki/Linear_classifier\" title=\"Linear classifier\">linear boundary</a>. Here, the linear boundary divides the black circles from the white.</div></div></div>\n",
            "<p>Machine learning tasks are classified into several broad categories. In <a href=\"/wiki/Supervised_learning\" title=\"Supervised learning\">supervised learning</a>, the algorithm builds a mathematical model from a set of data that contains both the inputs and the desired outputs. For example, if the task were determining whether an image contained a certain object, the <a href=\"/wiki/Training_data\" class=\"mw-redirect\" title=\"Training data\">training data</a> for a supervised learning algorithm would include images with and without that object (the input), and each image would have a label (the output) designating whether it contained the object. In special cases, the input may be only partially available, or restricted to special feedback.<sup class=\"noprint Inline-Template\" style=\"margin-left:0.1em; white-space:nowrap;\">&#91;<i><a href=\"/wiki/Wikipedia:Please_clarify\" title=\"Wikipedia:Please clarify\"><span title=\"The text near this tag may need clarification or removal of jargon. (November 2018)\">clarification needed</span></a></i>&#93;</sup> <a href=\"/wiki/Semi-supervised_learning\" title=\"Semi-supervised learning\">Semi-supervised learning</a> algorithms develop mathematical models from incomplete training data, where a portion of the sample input doesn't have labels.\n",
            "</p><p><a href=\"/wiki/Statistical_classification\" title=\"Statistical classification\">Classification</a> algorithms and <a href=\"/wiki/Regression_analysis\" title=\"Regression analysis\">regression</a> algorithms are types of supervised learning. Classification algorithms are used when the outputs are restricted to a <a href=\"/wiki/Discrete_number\" class=\"mw-redirect\" title=\"Discrete number\">limited set</a> of values. For a classification algorithm that filters emails, the input would be an incoming email, and the output would be the name of the folder in which to file the email. For an algorithm that identifies spam emails, the output would be the prediction of either \"<a href=\"/wiki/Email_spam\" title=\"Email spam\">spam</a>\" or \"not spam\", represented by the <a href=\"/wiki/Boolean_data_type\" title=\"Boolean data type\">Boolean</a> values true and false. <a href=\"/wiki/Regression_analysis\" title=\"Regression analysis\">Regression</a> algorithms are named for their continuous outputs, meaning they may have any value within a range. Examples of a continuous value are the temperature, length, or price of an object.\n",
            "</p><p>In <a href=\"/wiki/Unsupervised_learning\" title=\"Unsupervised learning\">unsupervised learning</a>, the algorithm builds a mathematical model from a set of data which contains only inputs and no desired output labels. Unsupervised learning algorithms are used to find structure in the data, like grouping or <a href=\"/wiki/Cluster_analysis\" title=\"Cluster analysis\">clustering</a> of data points. Unsupervised learning can discover patterns in the data, and can group the inputs into categories, as in <a href=\"/wiki/Feature_learning\" title=\"Feature learning\">feature learning</a>. <a href=\"/wiki/Dimensionality_reduction\" title=\"Dimensionality reduction\">Dimensionality reduction</a> is the process of reducing the number of \"features\", or inputs, in a set of data. \n",
            "</p><p><a href=\"/wiki/Active_learning_(machine_learning)\" title=\"Active learning (machine learning)\">Active learning</a> algorithms access the desired outputs (training labels) for a limited set of inputs based on a budget, and optimize the choice of inputs for which it will acquire training labels. When used interactively, these can be presented to a human user for labeling. <a href=\"/wiki/Reinforcement_learning\" title=\"Reinforcement learning\">Reinforcement learning</a> algorithms are given feedback in the form of positive or negative reinforcement in a dynamic environment, and are used in <a href=\"/wiki/Autonomous_vehicle\" class=\"mw-redirect\" title=\"Autonomous vehicle\">autonomous vehicles</a> or in learning to play a game against a human opponent.<sup id=\"cite_ref-bishop2006_2-2\" class=\"reference\"><a href=\"#cite_note-bishop2006-2\">&#91;2&#93;</a></sup><sup class=\"reference\" style=\"white-space:nowrap;\">:<span>3</span></sup> Other specialized algorithms in machine learning include <a href=\"/wiki/Topic_modeling\" class=\"mw-redirect\" title=\"Topic modeling\">topic modeling</a>, where the computer program is given a set of <a href=\"/wiki/Natural_language\" title=\"Natural language\">natural language</a> documents and finds other documents that cover similar topics. Machine learning algorithms can be used to find the unobservable <a href=\"/wiki/Probability_density_function\" title=\"Probability density function\">probability density function</a> in <a href=\"/wiki/Density_estimation\" title=\"Density estimation\">density estimation</a> problems. <a href=\"/wiki/Meta_learning_(computer_science)\" title=\"Meta learning (computer science)\">Meta learning</a> algorithms learn their own <a href=\"/wiki/Inductive_bias\" title=\"Inductive bias\">inductive bias</a> based on previous experience. In <a href=\"/wiki/Developmental_robotics\" title=\"Developmental robotics\">developmental robotics</a>, <a href=\"/wiki/Robot_learning\" title=\"Robot learning\">robot learning</a> algorithms generate their own sequences of learning experiences, also known as a curriculum, to cumulatively acquire new skills through self-guided exploration and social interaction with humans. These robots use guidance mechanisms such as active learning, maturation, motor synergies, and imitation.<sup class=\"noprint Inline-Template\" style=\"margin-left:0.1em; white-space:nowrap;\">&#91;<i><a href=\"/wiki/Wikipedia:Please_clarify\" title=\"Wikipedia:Please clarify\"><span title=\"The text near this tag may need clarification or removal of jargon. (November 2018)\">clarification needed</span></a></i>&#93;</sup>\n",
            "</p>\n",
            "<h2><span class=\"mw-headline\" id=\"History_and_relationships_to_other_fields\">History and relationships to other fields</span><span class=\"mw-editsection\"><span class=\"mw-editsection-bracket\">[</span><a href=\"/w/index.php?title=Machine_learning&amp;action=edit&amp;section=3\" title=\"Edit section: History and relationships to other fields\">edit</a><span class=\"mw-editsection-bracket\">]</span></span></h2>\n",
            "<div role=\"note\" class=\"hatnote navigation-not-searchable\">See also: <a href=\"/wiki/Timeline_of_machine_learning\" title=\"Timeline of machine learning\">Timeline of machine learning</a></div>\n",
            "<p><a href=\"/wiki/Arthur_Samuel\" title=\"Arthur Samuel\">Arthur Samuel</a>, an American pioneer in the field of <a href=\"/wiki/Computer_gaming\" class=\"mw-redirect\" title=\"Computer gaming\">computer gaming</a> and <a href=\"/wiki/Artificial_intelligence\" title=\"Artificial intelligence\">artificial intelligence</a>, coined the term \"Machine Learning\" in 1959 while at <a href=\"/wiki/IBM\" title=\"IBM\">IBM</a><sup id=\"cite_ref-8\" class=\"reference\"><a href=\"#cite_note-8\">&#91;8&#93;</a></sup>. \n",
            "As a scientific endeavour, machine learning grew out of the quest for artificial intelligence. Already in the early days of AI as an <a href=\"/wiki/Discipline_(academia)\" title=\"Discipline (academia)\">academic discipline</a>, some researchers were interested in having machines learn from data. They attempted to approach the problem with various symbolic methods, as well as what were then termed \"<a href=\"/wiki/Neural_network\" title=\"Neural network\">neural networks</a>\"; these were mostly <a href=\"/wiki/Perceptron\" title=\"Perceptron\">perceptrons</a> and <a href=\"/wiki/ADALINE\" title=\"ADALINE\">other models</a> that were later found to be reinventions of the <a href=\"/wiki/Generalized_linear_model\" title=\"Generalized linear model\">generalized linear models</a> of statistics.<sup id=\"cite_ref-9\" class=\"reference\"><a href=\"#cite_note-9\">&#91;9&#93;</a></sup> <a href=\"/wiki/Probability_theory\" title=\"Probability theory\">Probabilistic</a> reasoning was also employed, especially in automated <a href=\"/wiki/Medical_diagnosis\" title=\"Medical diagnosis\">medical diagnosis</a>.<sup id=\"cite_ref-aima_10-0\" class=\"reference\"><a href=\"#cite_note-aima-10\">&#91;10&#93;</a></sup><sup class=\"reference\" style=\"white-space:nowrap;\">:<span>488</span></sup>\n",
            "</p><p>However, an increasing emphasis on the <a href=\"/wiki/GOFAI\" class=\"mw-redirect\" title=\"GOFAI\">logical, knowledge-based approach</a> caused a rift between AI and machine learning. Probabilistic systems were plagued by theoretical and practical problems of data acquisition and representation.<sup id=\"cite_ref-aima_10-1\" class=\"reference\"><a href=\"#cite_note-aima-10\">&#91;10&#93;</a></sup><sup class=\"reference\" style=\"white-space:nowrap;\">:<span>488</span></sup> By 1980, <a href=\"/wiki/Expert_system\" title=\"Expert system\">expert systems</a> had come to dominate AI, and statistics was out of favor.<sup id=\"cite_ref-changing_11-0\" class=\"reference\"><a href=\"#cite_note-changing-11\">&#91;11&#93;</a></sup> Work on symbolic/knowledge-based learning did continue within AI, leading to <a href=\"/wiki/Inductive_logic_programming\" title=\"Inductive logic programming\">inductive logic programming</a>, but the more statistical line of research was now outside the field of AI proper, in <a href=\"/wiki/Pattern_recognition\" title=\"Pattern recognition\">pattern recognition</a> and <a href=\"/wiki/Information_retrieval\" title=\"Information retrieval\">information retrieval</a>.<sup id=\"cite_ref-aima_10-2\" class=\"reference\"><a href=\"#cite_note-aima-10\">&#91;10&#93;</a></sup><sup class=\"reference\" style=\"white-space:nowrap;\">:<span>708–710; 755</span></sup> Neural networks research had been abandoned by AI and <a href=\"/wiki/Computer_science\" title=\"Computer science\">computer science</a> around the same time. This line, too, was continued outside the AI/CS field, as \"<a href=\"/wiki/Connectionism\" title=\"Connectionism\">connectionism</a>\", by researchers from other disciplines including <a href=\"/wiki/John_Hopfield\" title=\"John Hopfield\">Hopfield</a>, <a href=\"/wiki/David_Rumelhart\" title=\"David Rumelhart\">Rumelhart</a> and <a href=\"/wiki/Geoff_Hinton\" class=\"mw-redirect\" title=\"Geoff Hinton\">Hinton</a>. Their main success came in the mid-1980s with the reinvention of <a href=\"/wiki/Backpropagation\" title=\"Backpropagation\">backpropagation</a>.<sup id=\"cite_ref-aima_10-3\" class=\"reference\"><a href=\"#cite_note-aima-10\">&#91;10&#93;</a></sup><sup class=\"reference\" style=\"white-space:nowrap;\">:<span>25</span></sup>\n",
            "</p><p>Machine learning, reorganized as a separate field, started to flourish in the 1990s. The field changed its goal from achieving artificial intelligence to tackling solvable problems of a practical nature. It shifted focus away from the symbolic approaches it had inherited from AI, and toward methods and models borrowed from statistics and <a href=\"/wiki/Probability_theory\" title=\"Probability theory\">probability theory</a>.<sup id=\"cite_ref-changing_11-1\" class=\"reference\"><a href=\"#cite_note-changing-11\">&#91;11&#93;</a></sup> It also benefited from the increasing availability of digitized information, and the ability to distribute it via the <a href=\"/wiki/Internet\" title=\"Internet\">Internet</a>.\n",
            "</p>\n",
            "<h3><span class=\"mw-headline\" id=\"Relation_to_data_mining\">Relation to data mining</span><span class=\"mw-editsection\"><span class=\"mw-editsection-bracket\">[</span><a href=\"/w/index.php?title=Machine_learning&amp;action=edit&amp;section=4\" title=\"Edit section: Relation to data mining\">edit</a><span class=\"mw-editsection-bracket\">]</span></span></h3>\n",
            "<p>Machine learning and <a href=\"/wiki/Data_mining\" title=\"Data mining\">data mining</a> often employ the same methods and overlap significantly, but while machine learning focuses on prediction, based on <i>known</i> properties learned from the training data, <a href=\"/wiki/Data_mining\" title=\"Data mining\">data mining</a> focuses on the <a href=\"/wiki/Discovery_(observation)\" title=\"Discovery (observation)\">discovery</a> of (previously) <i>unknown</i> properties in the data (this is the analysis step of <a href=\"/wiki/Knowledge_discovery\" class=\"mw-redirect\" title=\"Knowledge discovery\">knowledge discovery</a> in databases). Data mining uses many machine learning methods, but with different goals; on the other hand, machine learning also employs data mining methods as \"unsupervised learning\" or as a preprocessing step to improve learner accuracy. Much of the confusion between these two research communities (which do often have separate conferences and separate journals, <a href=\"/wiki/ECML_PKDD\" title=\"ECML PKDD\">ECML PKDD</a> being a major exception) comes from the basic assumptions they work with: in machine learning, performance is usually evaluated with respect to the ability to <i>reproduce known</i> knowledge, while in knowledge discovery and data mining (KDD) the key task is the discovery of previously <i>unknown</i> knowledge. Evaluated with respect to known knowledge, an uninformed (unsupervised) method will easily be outperformed by other supervised methods, while in a typical KDD task, supervised methods cannot be used due to the unavailability of training data.\n",
            "</p>\n",
            "<h3><span class=\"mw-headline\" id=\"Relation_to_optimization\">Relation to optimization</span><span class=\"mw-editsection\"><span class=\"mw-editsection-bracket\">[</span><a href=\"/w/index.php?title=Machine_learning&amp;action=edit&amp;section=5\" title=\"Edit section: Relation to optimization\">edit</a><span class=\"mw-editsection-bracket\">]</span></span></h3>\n",
            "<p>Machine learning also has intimate ties to <a href=\"/wiki/Mathematical_optimization\" title=\"Mathematical optimization\">optimization</a>: many learning problems are formulated as minimization of some <a href=\"/wiki/Loss_function\" title=\"Loss function\">loss function</a> on a training set of examples. Loss functions express the discrepancy between the predictions of the model being trained and the actual problem instances (for example, in classification, one wants to assign a label to instances, and models are trained to correctly predict the pre-assigned labels of a set of examples). The difference between the two fields arises from the goal of generalization: while optimization algorithms can minimize the loss on a training set, machine learning is concerned with minimizing the loss on unseen samples.<sup id=\"cite_ref-12\" class=\"reference\"><a href=\"#cite_note-12\">&#91;12&#93;</a></sup>\n",
            "</p>\n",
            "<h3><span class=\"mw-headline\" id=\"Relation_to_statistics\">Relation to statistics</span><span class=\"mw-editsection\"><span class=\"mw-editsection-bracket\">[</span><a href=\"/w/index.php?title=Machine_learning&amp;action=edit&amp;section=6\" title=\"Edit section: Relation to statistics\">edit</a><span class=\"mw-editsection-bracket\">]</span></span></h3>\n",
            "<p>Machine learning and <a href=\"/wiki/Statistics\" title=\"Statistics\">statistics</a> are closely related fields. According to <a href=\"/wiki/Michael_I._Jordan\" title=\"Michael I. Jordan\">Michael I. Jordan</a>, the ideas of machine learning, from methodological principles to theoretical tools, have had a long pre-history in statistics.<sup id=\"cite_ref-mi_jordan_ama_13-0\" class=\"reference\"><a href=\"#cite_note-mi_jordan_ama-13\">&#91;13&#93;</a></sup> He also suggested the term <a href=\"/wiki/Data_science\" title=\"Data science\">data science</a> as a placeholder to call the overall field.<sup id=\"cite_ref-mi_jordan_ama_13-1\" class=\"reference\"><a href=\"#cite_note-mi_jordan_ama-13\">&#91;13&#93;</a></sup>\n",
            "</p><p><a href=\"/wiki/Leo_Breiman\" title=\"Leo Breiman\">Leo Breiman</a> distinguished two statistical modelling paradigms: data model and algorithmic model,<sup id=\"cite_ref-14\" class=\"reference\"><a href=\"#cite_note-14\">&#91;14&#93;</a></sup> wherein \"algorithmic model\" means more or less the machine learning algorithms like <a href=\"/wiki/Random_forest\" title=\"Random forest\">Random forest</a>.\n",
            "</p><p>Some statisticians have adopted methods from machine learning, leading to a combined field that they call <i>statistical learning</i>.<sup id=\"cite_ref-islr_15-0\" class=\"reference\"><a href=\"#cite_note-islr-15\">&#91;15&#93;</a></sup>\n",
            "</p>\n",
            "<h2><span class=\"mw-headline\" id=\"Theory\"><span id=\"Generalization\"></span> Theory</span><span class=\"mw-editsection\"><span class=\"mw-editsection-bracket\">[</span><a href=\"/w/index.php?title=Machine_learning&amp;action=edit&amp;section=7\" title=\"Edit section: Theory\">edit</a><span class=\"mw-editsection-bracket\">]</span></span></h2>\n",
            "<div role=\"note\" class=\"hatnote navigation-not-searchable\">Main articles: <a href=\"/wiki/Computational_learning_theory\" title=\"Computational learning theory\">Computational learning theory</a> and <a href=\"/wiki/Statistical_learning_theory\" title=\"Statistical learning theory\">Statistical learning theory</a></div>\n",
            "<p>A core objective of a learner is to generalize from its experience.<sup id=\"cite_ref-bishop2006_2-3\" class=\"reference\"><a href=\"#cite_note-bishop2006-2\">&#91;2&#93;</a></sup><sup id=\"cite_ref-16\" class=\"reference\"><a href=\"#cite_note-16\">&#91;16&#93;</a></sup> Generalization in this context is the ability of a learning machine to perform accurately on new, unseen examples/tasks after having experienced a learning data set. The training examples come from some generally unknown probability distribution (considered representative of the space of occurrences) and the learner has to build a general model about this space that enables it to produce sufficiently accurate predictions in new cases.\n",
            "</p><p>The computational analysis of machine learning algorithms and their performance is a branch of <a href=\"/wiki/Theoretical_computer_science\" title=\"Theoretical computer science\">theoretical computer science</a> known as <a href=\"/wiki/Computational_learning_theory\" title=\"Computational learning theory\">computational learning theory</a>. Because training sets are finite and the future is uncertain, learning theory usually does not yield guarantees of the performance of algorithms. Instead, probabilistic bounds on the performance are quite common. The <a href=\"/wiki/Bias%E2%80%93variance_decomposition\" class=\"mw-redirect\" title=\"Bias–variance decomposition\">bias–variance decomposition</a> is one way to quantify generalization <a href=\"/wiki/Errors_and_residuals\" title=\"Errors and residuals\">error</a>.\n",
            "</p><p>For the best performance in the context of generalization, the complexity of the hypothesis should match the complexity of the function underlying the data. If the hypothesis is less complex than the function, then the model has underfit the data. If the complexity of the model is increased in response, then the training error decreases. But if the hypothesis is too complex, then the model is subject to <a href=\"/wiki/Overfitting\" title=\"Overfitting\">overfitting</a> and generalization will be poorer.<sup id=\"cite_ref-alpaydin_17-0\" class=\"reference\"><a href=\"#cite_note-alpaydin-17\">&#91;17&#93;</a></sup>\n",
            "</p><p>In addition to performance bounds, learning theorists study the time complexity and feasibility of learning. In computational learning theory, a computation is considered feasible if it can be done in <a href=\"/wiki/Time_complexity#Polynomial_time\" title=\"Time complexity\">polynomial time</a>. There are two kinds of <a href=\"/wiki/Time_complexity\" title=\"Time complexity\">time complexity</a> results. Positive results show that a certain class of functions can be learned in polynomial time. Negative results show that certain classes cannot be learned in polynomial time.\n",
            "</p>\n",
            "<h2><span class=\"mw-headline\" id=\"Approaches\">Approaches</span><span class=\"mw-editsection\"><span class=\"mw-editsection-bracket\">[</span><a href=\"/w/index.php?title=Machine_learning&amp;action=edit&amp;section=8\" title=\"Edit section: Approaches\">edit</a><span class=\"mw-editsection-bracket\">]</span></span></h2>\n",
            "<h3><span class=\"mw-headline\" id=\"Types_of_learning_algorithms\">Types of learning algorithms</span><span class=\"mw-editsection\"><span class=\"mw-editsection-bracket\">[</span><a href=\"/w/index.php?title=Machine_learning&amp;action=edit&amp;section=9\" title=\"Edit section: Types of learning algorithms\">edit</a><span class=\"mw-editsection-bracket\">]</span></span></h3>\n",
            "<p>The types of machine learning algorithms differ in their approach, the type of data they input and output, and the type of task or problem that they are intended to solve.\n",
            "</p>\n",
            "<h4><span class=\"mw-headline\" id=\"Supervised_learning\">Supervised learning</span><span class=\"mw-editsection\"><span class=\"mw-editsection-bracket\">[</span><a href=\"/w/index.php?title=Machine_learning&amp;action=edit&amp;section=10\" title=\"Edit section: Supervised learning\">edit</a><span class=\"mw-editsection-bracket\">]</span></span></h4>\n",
            "<div role=\"note\" class=\"hatnote navigation-not-searchable\">Main article: <a href=\"/wiki/Supervised_learning\" title=\"Supervised learning\">Supervised learning</a></div>\n",
            "<p>Supervised learning algorithms build a mathematical model of a set of data that contains both the inputs and the desired outputs.<sup id=\"cite_ref-18\" class=\"reference\"><a href=\"#cite_note-18\">&#91;18&#93;</a></sup> The data is known as <a href=\"/wiki/Training_data\" class=\"mw-redirect\" title=\"Training data\">training data</a>, and consists of a set of training examples. Each training example has one or more inputs and a desired output, also known as a supervisory signal.  In the mathematical model, each training example is represented by an <a href=\"/wiki/Array_data_structure\" title=\"Array data structure\">array</a> or vector, sometimes called a feature vector, and the training data is represented by a <a href=\"/wiki/Matrix_(mathematics)\" title=\"Matrix (mathematics)\">matrix</a>. Through iterative optimization of an <a href=\"/wiki/Loss_function\" title=\"Loss function\">objective function</a>, supervised learning algorithms learn a function that can be used to predict the output associated with new inputs.<sup id=\"cite_ref-19\" class=\"reference\"><a href=\"#cite_note-19\">&#91;19&#93;</a></sup> An optimal function will allow the algorithm to correctly determine the output for inputs that were not a part of the training data. An algorithm that improves the accuracy of its outputs or predictions over time is said to have learned to perform that task.<sup id=\"cite_ref-Mitchell-1997_6-1\" class=\"reference\"><a href=\"#cite_note-Mitchell-1997-6\">&#91;6&#93;</a></sup>\n",
            "</p><p>Supervised learning algorithms include <a href=\"/wiki/Statistical_classification\" title=\"Statistical classification\">classification</a> and <a href=\"/wiki/Regression_analysis\" title=\"Regression analysis\">regression</a>.<sup id=\"cite_ref-20\" class=\"reference\"><a href=\"#cite_note-20\">&#91;20&#93;</a></sup> Classification algorithms are used when the outputs are restricted to a limited set of values, and regression algorithms are used when the outputs may have any numerical value within a range. <a href=\"/wiki/Similarity_learning\" title=\"Similarity learning\">Similarity learning</a> is an area of supervised machine learning closely related to regression and classification, but the goal is to learn from examples using a similarity function that measures how similar or related two objects are. It has applications in <a href=\"/wiki/Ranking\" title=\"Ranking\">ranking</a>, <a href=\"/wiki/Recommendation_systems\" class=\"mw-redirect\" title=\"Recommendation systems\">recommendation systems</a>, visual identity tracking, face verification, and speaker verification.\n",
            "</p><p>In the case of <a href=\"/wiki/Semi-supervised_learning\" title=\"Semi-supervised learning\">semi-supervised</a> learning algorithms, some of the training examples are missing training labels, but they can nevertheless be used to improve the quality of a model. In <a href=\"/wiki/Weak_supervision\" title=\"Weak supervision\">weakly supervised learning</a>, the training labels are noisy, limited, or imprecise; however, these labels are often cheaper to obtain, resulting in larger effective training sets.<sup id=\"cite_ref-21\" class=\"reference\"><a href=\"#cite_note-21\">&#91;21&#93;</a></sup>\n",
            "</p>\n",
            "<h4><span class=\"mw-headline\" id=\"Unsupervised_learning\">Unsupervised learning</span><span class=\"mw-editsection\"><span class=\"mw-editsection-bracket\">[</span><a href=\"/w/index.php?title=Machine_learning&amp;action=edit&amp;section=11\" title=\"Edit section: Unsupervised learning\">edit</a><span class=\"mw-editsection-bracket\">]</span></span></h4>\n",
            "<div role=\"note\" class=\"hatnote navigation-not-searchable\">Main article: <a href=\"/wiki/Unsupervised_learning\" title=\"Unsupervised learning\">Unsupervised learning</a></div><div role=\"note\" class=\"hatnote navigation-not-searchable\">See also: <a href=\"/wiki/Cluster_analysis\" title=\"Cluster analysis\">Cluster analysis</a></div>\n",
            "<p>Unsupervised learning algorithms take a set of data that contains only inputs, and find structure in the data, like grouping or clustering of data points. The algorithms therefore learn from test data that has not been labeled, classified or categorized. Instead of responding to feedback, unsupervised learning algorithms identify commonalities in the data and react based on the presence or absence of such commonalities in each new piece of data. A central application of unsupervised learning is in the field of <a href=\"/wiki/Density_estimation\" title=\"Density estimation\">density estimation</a> in <a href=\"/wiki/Statistics\" title=\"Statistics\">statistics</a>,<sup id=\"cite_ref-JordanBishop2004_22-0\" class=\"reference\"><a href=\"#cite_note-JordanBishop2004-22\">&#91;22&#93;</a></sup> though unsupervised learning encompasses other domains involving summarizing and explaining data features.\n",
            "</p><p>Cluster analysis is the assignment of a set of observations into subsets (called <i>clusters</i>) so that observations within the same cluster are similar according to one or more predesignated criteria, while observations drawn from different clusters are dissimilar. Different clustering techniques make different assumptions on the structure of the data, often defined by some <i>similarity metric</i> and evaluated, for example, by <i>internal compactness</i>, or the similarity between members of the same cluster, and <i>separation</i>, the difference between clusters. Other methods are based on <i>estimated density</i> and <i>graph connectivity</i>.\n",
            "</p>\n",
            "<h4><span class=\"mw-headline\" id=\"Reinforcement_learning\">Reinforcement learning</span><span class=\"mw-editsection\"><span class=\"mw-editsection-bracket\">[</span><a href=\"/w/index.php?title=Machine_learning&amp;action=edit&amp;section=12\" title=\"Edit section: Reinforcement learning\">edit</a><span class=\"mw-editsection-bracket\">]</span></span></h4>\n",
            "<div role=\"note\" class=\"hatnote navigation-not-searchable\">Main article: <a href=\"/wiki/Reinforcement_learning\" title=\"Reinforcement learning\">Reinforcement learning</a></div>\n",
            "<p>Reinforcement learning is an area of machine learning concerned with how <a href=\"/wiki/Software_agent\" title=\"Software agent\">software agents</a> ought to take <a href=\"/wiki/Action_selection\" title=\"Action selection\">actions</a> in an environment so as to maximize some notion of cumulative reward. Due to its generality, the field is studied in many other disciplines, such as <a href=\"/wiki/Game_theory\" title=\"Game theory\">game theory</a>, <a href=\"/wiki/Control_theory\" title=\"Control theory\">control theory</a>, <a href=\"/wiki/Operations_research\" title=\"Operations research\">operations research</a>, <a href=\"/wiki/Information_theory\" title=\"Information theory\">information theory</a>, <a href=\"/wiki/Simulation-based_optimization\" title=\"Simulation-based optimization\">simulation-based optimization</a>, <a href=\"/wiki/Multi-agent_system\" title=\"Multi-agent system\">multi-agent systems</a>, <a href=\"/wiki/Swarm_intelligence\" title=\"Swarm intelligence\">swarm intelligence</a>, <a href=\"/wiki/Statistics\" title=\"Statistics\">statistics</a> and <a href=\"/wiki/Genetic_algorithm\" title=\"Genetic algorithm\">genetic algorithms</a>.<sup id=\"cite_ref-Bert12_23-0\" class=\"reference\"><a href=\"#cite_note-Bert12-23\">&#91;23&#93;</a></sup><sup id=\"cite_ref-BertTsi96_24-0\" class=\"reference\"><a href=\"#cite_note-BertTsi96-24\">&#91;24&#93;</a></sup> In machine learning, the environment is typically represented as a <a href=\"/wiki/Markov_Decision_Process\" class=\"mw-redirect\" title=\"Markov Decision Process\">Markov Decision Process</a> (MDP). Many reinforcement learning algorithms use <a href=\"/wiki/Dynamic_programming\" title=\"Dynamic programming\">dynamic programming</a> techniques.<sup id=\"cite_ref-Bert12_23-1\" class=\"reference\"><a href=\"#cite_note-Bert12-23\">&#91;23&#93;</a></sup><sup id=\"cite_ref-BertTsi96_24-1\" class=\"reference\"><a href=\"#cite_note-BertTsi96-24\">&#91;24&#93;</a></sup><sup id=\"cite_ref-25\" class=\"reference\"><a href=\"#cite_note-25\">&#91;25&#93;</a></sup> Reinforcement learning algorithms do not assume knowledge of an exact mathematical model of the MDP, and are used when exact models are infeasible.<sup id=\"cite_ref-Bert12_23-2\" class=\"reference\"><a href=\"#cite_note-Bert12-23\">&#91;23&#93;</a></sup><sup id=\"cite_ref-BertTsi96_24-2\" class=\"reference\"><a href=\"#cite_note-BertTsi96-24\">&#91;24&#93;</a></sup> Reinforcement learning algorithms are used in autonomous vehicles or in learning to play a game against a human opponent.\n",
            "</p>\n",
            "<h4><span class=\"mw-headline\" id=\"Feature_learning\">Feature learning</span><span class=\"mw-editsection\"><span class=\"mw-editsection-bracket\">[</span><a href=\"/w/index.php?title=Machine_learning&amp;action=edit&amp;section=13\" title=\"Edit section: Feature learning\">edit</a><span class=\"mw-editsection-bracket\">]</span></span></h4>\n",
            "<div role=\"note\" class=\"hatnote navigation-not-searchable\">Main article: <a href=\"/wiki/Feature_learning\" title=\"Feature learning\">Feature learning</a></div>\n",
            "<p>Several learning algorithms aim at discovering better representations of the inputs provided during training.<sup id=\"cite_ref-pami_26-0\" class=\"reference\"><a href=\"#cite_note-pami-26\">&#91;26&#93;</a></sup> Classic examples include <a href=\"/wiki/Principal_components_analysis\" class=\"mw-redirect\" title=\"Principal components analysis\">principal components analysis</a> and cluster analysis. Feature learning algorithms, also called representation learning algorithms, often attempt to preserve the information in their input but also transform it in a way that makes it useful, often as a pre-processing step before performing classification or predictions. This technique allows reconstruction of the inputs coming from the unknown data-generating distribution, while not being necessarily faithful to configurations that are implausible under that distribution. This replaces manual <a href=\"/wiki/Feature_engineering\" title=\"Feature engineering\">feature engineering</a>, and allows a machine to both learn the features and use them to perform a specific task.\n",
            "</p><p>Feature learning can be either supervised or unsupervised. In supervised feature learning, features are learned using labeled input data. Examples include <a href=\"/wiki/Artificial_neural_network\" title=\"Artificial neural network\">artificial neural networks</a>, <a href=\"/wiki/Multilayer_perceptron\" title=\"Multilayer perceptron\">multilayer perceptrons</a>, and supervised <a href=\"/wiki/Dictionary_learning\" class=\"mw-redirect\" title=\"Dictionary learning\">dictionary learning</a>. In unsupervised feature learning, features are learned with unlabeled input data.  Examples include dictionary learning, <a href=\"/wiki/Independent_component_analysis\" title=\"Independent component analysis\">independent component analysis</a>, <a href=\"/wiki/Autoencoder\" title=\"Autoencoder\">autoencoders</a>, <a href=\"/wiki/Matrix_decomposition\" title=\"Matrix decomposition\">matrix factorization</a><sup id=\"cite_ref-27\" class=\"reference\"><a href=\"#cite_note-27\">&#91;27&#93;</a></sup> and various forms of <a href=\"/wiki/Cluster_analysis\" title=\"Cluster analysis\">clustering</a>.<sup id=\"cite_ref-coates2011_28-0\" class=\"reference\"><a href=\"#cite_note-coates2011-28\">&#91;28&#93;</a></sup><sup id=\"cite_ref-29\" class=\"reference\"><a href=\"#cite_note-29\">&#91;29&#93;</a></sup><sup id=\"cite_ref-jurafsky_30-0\" class=\"reference\"><a href=\"#cite_note-jurafsky-30\">&#91;30&#93;</a></sup>\n",
            "</p><p><a href=\"/wiki/Manifold_learning\" class=\"mw-redirect\" title=\"Manifold learning\">Manifold learning</a> algorithms attempt to do so under the constraint that the learned representation is low-dimensional. <a href=\"/wiki/Sparse_coding\" class=\"mw-redirect\" title=\"Sparse coding\">Sparse coding</a> algorithms attempt to do so under the constraint that the learned representation is sparse, meaning that the mathematical model has many zeros. <a href=\"/wiki/Multilinear_subspace_learning\" title=\"Multilinear subspace learning\">Multilinear subspace learning</a> algorithms aim to learn low-dimensional representations directly from <a href=\"/wiki/Tensor\" title=\"Tensor\">tensor</a> representations for multidimensional data, without reshaping them into higher-dimensional vectors.<sup id=\"cite_ref-31\" class=\"reference\"><a href=\"#cite_note-31\">&#91;31&#93;</a></sup> <a href=\"/wiki/Deep_learning\" title=\"Deep learning\">Deep learning</a> algorithms discover multiple levels of representation, or a hierarchy of features, with higher-level, more abstract features defined in terms of (or generating) lower-level features. It has been argued that an intelligent machine is one that learns a representation that disentangles the underlying factors of variation that explain the observed data.<sup id=\"cite_ref-32\" class=\"reference\"><a href=\"#cite_note-32\">&#91;32&#93;</a></sup>\n",
            "</p><p>Feature learning is motivated by the fact that machine learning tasks such as classification often require input that is mathematically and computationally convenient to process. However, real-world data such as images, video, and sensory data has not yielded to attempts to algorithmically define specific features. An alternative is to discover such features or representations through examination, without relying on explicit algorithms.\n",
            "</p>\n",
            "<h4><span class=\"mw-headline\" id=\"Sparse_dictionary_learning\">Sparse dictionary learning</span><span class=\"mw-editsection\"><span class=\"mw-editsection-bracket\">[</span><a href=\"/w/index.php?title=Machine_learning&amp;action=edit&amp;section=14\" title=\"Edit section: Sparse dictionary learning\">edit</a><span class=\"mw-editsection-bracket\">]</span></span></h4>\n",
            "<div role=\"note\" class=\"hatnote navigation-not-searchable\">Main article: <a href=\"/wiki/Sparse_dictionary_learning\" title=\"Sparse dictionary learning\">Sparse dictionary learning</a></div>\n",
            "<p>Sparse dictionary learning is a feature learning method where a training example is represented as a linear combination of <a href=\"/wiki/Basis_function\" title=\"Basis function\">basis functions</a>, and is assumed to be a <a href=\"/wiki/Sparse_matrix\" title=\"Sparse matrix\">sparse matrix</a>. The method is <a href=\"/wiki/Strongly_NP-hard\" class=\"mw-redirect\" title=\"Strongly NP-hard\">strongly NP-hard</a> and difficult to solve approximately.<sup id=\"cite_ref-33\" class=\"reference\"><a href=\"#cite_note-33\">&#91;33&#93;</a></sup> A popular <a href=\"/wiki/Heuristic\" title=\"Heuristic\">heuristic</a> method for sparse dictionary learning is the <a href=\"/wiki/K-SVD\" title=\"K-SVD\">K-SVD</a> algorithm. Sparse dictionary learning has been applied in several contexts. In classification, the problem is to determine to which classes a previously unseen training example belongs. For a dictionary where each class has already been built, a new training example is associated with the class that is best sparsely represented by the corresponding dictionary. Sparse dictionary learning has also been applied in <a href=\"/wiki/Image_de-noising\" class=\"mw-redirect\" title=\"Image de-noising\">image de-noising</a>. The key idea is that a clean image patch can be sparsely represented by an image dictionary, but the noise cannot.<sup id=\"cite_ref-34\" class=\"reference\"><a href=\"#cite_note-34\">&#91;34&#93;</a></sup>\n",
            "</p>\n",
            "<h4><span class=\"mw-headline\" id=\"Anomaly_detection\">Anomaly detection</span><span class=\"mw-editsection\"><span class=\"mw-editsection-bracket\">[</span><a href=\"/w/index.php?title=Machine_learning&amp;action=edit&amp;section=15\" title=\"Edit section: Anomaly detection\">edit</a><span class=\"mw-editsection-bracket\">]</span></span></h4>\n",
            "<div role=\"note\" class=\"hatnote navigation-not-searchable\">Main article: <a href=\"/wiki/Anomaly_detection\" title=\"Anomaly detection\">Anomaly detection</a></div>\n",
            "<p>In <a href=\"/wiki/Data_mining\" title=\"Data mining\">data mining</a>, anomaly detection, also known as outlier detection, is the identification of rare items, events or observations which raise suspicions by differing significantly from the majority of the data.<sup id=\"cite_ref-:0_35-0\" class=\"reference\"><a href=\"#cite_note-:0-35\">&#91;35&#93;</a></sup> Typically, the anomalous items represent an issue such as <a href=\"/wiki/Bank_fraud\" title=\"Bank fraud\">bank fraud</a>, a structural defect, medical problems or errors in a text. Anomalies are referred to as <a href=\"/wiki/Outlier\" title=\"Outlier\">outliers</a>, novelties, noise, deviations and exceptions.<sup id=\"cite_ref-36\" class=\"reference\"><a href=\"#cite_note-36\">&#91;36&#93;</a></sup>\n",
            "</p><p>In particular, in the context of abuse and network intrusion detection, the interesting objects are often not rare objects, but unexpected bursts in activity. This pattern does not adhere to the common statistical definition of an outlier as a rare object, and many outlier detection methods (in particular, unsupervised algorithms) will fail on such data, unless it has been aggregated appropriately. Instead, a cluster analysis algorithm may be able to detect the micro-clusters formed by these patterns.<sup id=\"cite_ref-37\" class=\"reference\"><a href=\"#cite_note-37\">&#91;37&#93;</a></sup>\n",
            "</p><p>Three broad categories of anomaly detection techniques exist.<sup id=\"cite_ref-ChandolaSurvey_38-0\" class=\"reference\"><a href=\"#cite_note-ChandolaSurvey-38\">&#91;38&#93;</a></sup> Unsupervised anomaly detection techniques detect anomalies in an unlabeled test data set under the assumption that the majority of the instances in the data set are normal, by looking for instances that seem to fit least to the remainder of the data set. Supervised anomaly detection techniques require a data set that has been labeled as \"normal\" and \"abnormal\" and involves training a classifier (the key difference to many other statistical classification problems is the inherent unbalanced nature of outlier detection). Semi-supervised anomaly detection techniques construct a model representing normal behavior from a given normal training data set, and then test the likelihood of a test instance to be generated by the model.\n",
            "</p>\n",
            "<h4><span class=\"mw-headline\" id=\"Association_rules\">Association rules</span><span class=\"mw-editsection\"><span class=\"mw-editsection-bracket\">[</span><a href=\"/w/index.php?title=Machine_learning&amp;action=edit&amp;section=16\" title=\"Edit section: Association rules\">edit</a><span class=\"mw-editsection-bracket\">]</span></span></h4>\n",
            "<div role=\"note\" class=\"hatnote navigation-not-searchable\">Main article: <a href=\"/wiki/Association_rule_learning\" title=\"Association rule learning\">Association rule learning</a></div><div role=\"note\" class=\"hatnote navigation-not-searchable\">See also: <a href=\"/wiki/Inductive_logic_programming\" title=\"Inductive logic programming\">Inductive logic programming</a></div>\n",
            "<p>Association rule learning is a <a href=\"/wiki/Rule-based_machine_learning\" title=\"Rule-based machine learning\">rule-based machine learning</a> method for discovering relationships between variables in large databases. It is intended to identify strong rules discovered in databases using some measure of \"interestingness\".<sup id=\"cite_ref-piatetsky_39-0\" class=\"reference\"><a href=\"#cite_note-piatetsky-39\">&#91;39&#93;</a></sup>\n",
            "</p><p>Rule-based machine learning is a general term for any machine learning method that identifies, learns, or evolves \"rules\" to store, manipulate or apply knowledge. The defining characteristic of a rule-based machine learning algorithm is the identification and utilization of a set of relational rules that collectively represent the knowledge captured by the system. This is in contrast to other machine learning algorithms that commonly identify a singular model that can be universally applied to any instance in order to make a prediction.<sup id=\"cite_ref-40\" class=\"reference\"><a href=\"#cite_note-40\">&#91;40&#93;</a></sup> Rule-based machine learning approaches include <a href=\"/wiki/Learning_classifier_system\" title=\"Learning classifier system\">learning classifier systems</a>, association rule learning, and <a href=\"/wiki/Artificial_immune_system\" title=\"Artificial immune system\">artificial immune systems</a>.\n",
            "</p><p>Based on the concept of strong rules, <a href=\"/wiki/Rakesh_Agrawal_(computer_scientist)\" title=\"Rakesh Agrawal (computer scientist)\">Rakesh Agrawal</a>, <a href=\"/wiki/Tomasz_Imieli%C5%84ski\" title=\"Tomasz Imieliński\">Tomasz Imieliński</a> and Arun Swami introduced association rules for discovering regularities between products in large-scale transaction data recorded by <a href=\"/wiki/Point-of-sale\" class=\"mw-redirect\" title=\"Point-of-sale\">point-of-sale</a> (POS) systems in supermarkets.<sup id=\"cite_ref-mining_41-0\" class=\"reference\"><a href=\"#cite_note-mining-41\">&#91;41&#93;</a></sup> For example, the rule <span class=\"mwe-math-element\"><span class=\"mwe-math-mathml-inline mwe-math-mathml-a11y\" style=\"display: none;\"><math xmlns=\"http://www.w3.org/1998/Math/MathML\"  alttext=\"{\\displaystyle \\{\\mathrm {onions,potatoes} \\}\\Rightarrow \\{\\mathrm {burger} \\}}\">\n",
            "  <semantics>\n",
            "    <mrow class=\"MJX-TeXAtom-ORD\">\n",
            "      <mstyle displaystyle=\"true\" scriptlevel=\"0\">\n",
            "        <mo fence=\"false\" stretchy=\"false\">{</mo>\n",
            "        <mrow class=\"MJX-TeXAtom-ORD\">\n",
            "          <mi mathvariant=\"normal\">o</mi>\n",
            "          <mi mathvariant=\"normal\">n</mi>\n",
            "          <mi mathvariant=\"normal\">i</mi>\n",
            "          <mi mathvariant=\"normal\">o</mi>\n",
            "          <mi mathvariant=\"normal\">n</mi>\n",
            "          <mi mathvariant=\"normal\">s</mi>\n",
            "          <mo>,</mo>\n",
            "          <mi mathvariant=\"normal\">p</mi>\n",
            "          <mi mathvariant=\"normal\">o</mi>\n",
            "          <mi mathvariant=\"normal\">t</mi>\n",
            "          <mi mathvariant=\"normal\">a</mi>\n",
            "          <mi mathvariant=\"normal\">t</mi>\n",
            "          <mi mathvariant=\"normal\">o</mi>\n",
            "          <mi mathvariant=\"normal\">e</mi>\n",
            "          <mi mathvariant=\"normal\">s</mi>\n",
            "        </mrow>\n",
            "        <mo fence=\"false\" stretchy=\"false\">}</mo>\n",
            "        <mo stretchy=\"false\">&#x21D2;<!-- ⇒ --></mo>\n",
            "        <mo fence=\"false\" stretchy=\"false\">{</mo>\n",
            "        <mrow class=\"MJX-TeXAtom-ORD\">\n",
            "          <mi mathvariant=\"normal\">b</mi>\n",
            "          <mi mathvariant=\"normal\">u</mi>\n",
            "          <mi mathvariant=\"normal\">r</mi>\n",
            "          <mi mathvariant=\"normal\">g</mi>\n",
            "          <mi mathvariant=\"normal\">e</mi>\n",
            "          <mi mathvariant=\"normal\">r</mi>\n",
            "        </mrow>\n",
            "        <mo fence=\"false\" stretchy=\"false\">}</mo>\n",
            "      </mstyle>\n",
            "    </mrow>\n",
            "    <annotation encoding=\"application/x-tex\">{\\displaystyle \\{\\mathrm {onions,potatoes} \\}\\Rightarrow \\{\\mathrm {burger} \\}}</annotation>\n",
            "  </semantics>\n",
            "</math></span><img src=\"https://wikimedia.org/api/rest_v1/media/math/render/svg/2e6daa2c8e553e87e411d6e0ec66ae596c3c9381\" class=\"mwe-math-fallback-image-inline\" aria-hidden=\"true\" style=\"vertical-align: -0.838ex; width:30.912ex; height:2.843ex;\" alt=\"\\{{\\mathrm  {onions,potatoes}}\\}\\Rightarrow \\{{\\mathrm  {burger}}\\}\"/></span> found in the sales data of a supermarket would indicate that if a customer buys onions and potatoes together, they are likely to also buy hamburger meat. Such information can be used as the basis for decisions about marketing activities such as promotional <a href=\"/wiki/Pricing\" title=\"Pricing\">pricing</a> or <a href=\"/wiki/Product_placement\" title=\"Product placement\">product placements</a>. In addition to <a href=\"/wiki/Market_basket_analysis\" class=\"mw-redirect\" title=\"Market basket analysis\">market basket analysis</a>, association rules are employed today in application areas including <a href=\"/wiki/Web_usage_mining\" class=\"mw-redirect\" title=\"Web usage mining\">Web usage mining</a>, <a href=\"/wiki/Intrusion_detection\" class=\"mw-redirect\" title=\"Intrusion detection\">intrusion detection</a>, <a href=\"/wiki/Continuous_production\" title=\"Continuous production\">continuous production</a>, and <a href=\"/wiki/Bioinformatics\" title=\"Bioinformatics\">bioinformatics</a>. In contrast with <a href=\"/wiki/Sequence_mining\" class=\"mw-redirect\" title=\"Sequence mining\">sequence mining</a>, association rule learning typically does not consider the order of items either within a transaction or across transactions.\n",
            "</p><p>Learning classifier systems (LCS) are a family of rule-based machine learning algorithms that combine a discovery component, typically a <a href=\"/wiki/Genetic_algorithm\" title=\"Genetic algorithm\">genetic algorithm</a>, with a learning component, performing either <a href=\"/wiki/Supervised_learning\" title=\"Supervised learning\">supervised learning</a>, <a href=\"/wiki/Reinforcement_learning\" title=\"Reinforcement learning\">reinforcement learning</a>, or <a href=\"/wiki/Unsupervised_learning\" title=\"Unsupervised learning\">unsupervised learning</a>. They seek to identify a set of context-dependent rules that collectively store and apply knowledge in a <a href=\"/wiki/Piecewise\" title=\"Piecewise\">piecewise</a> manner in order to make predictions.<sup id=\"cite_ref-42\" class=\"reference\"><a href=\"#cite_note-42\">&#91;42&#93;</a></sup>\n",
            "</p><p>Inductive logic programming (ILP) is an approach to rule-learning using <a href=\"/wiki/Logic_programming\" title=\"Logic programming\">logic programming</a> as a uniform representation for input examples, background knowledge, and hypotheses. Given an encoding of the known background knowledge and a set of examples represented as a logical database of facts, an ILP system will derive a hypothesized logic program that <a href=\"/wiki/Entailment\" class=\"mw-redirect\" title=\"Entailment\">entails</a> all positive and no negative examples. <a href=\"/wiki/Inductive_programming\" title=\"Inductive programming\">Inductive programming</a> is a related field that considers any kind of programming languages for representing hypotheses (and not only logic programming), such as <a href=\"/wiki/Functional_programming\" title=\"Functional programming\">functional programs</a>.\n",
            "</p><p>Inductive logic programming is particularly useful in <a href=\"/wiki/Bioinformatics\" title=\"Bioinformatics\">bioinformatics</a> and <a href=\"/wiki/Natural_language_processing\" title=\"Natural language processing\">natural language processing</a>. <a href=\"/wiki/Gordon_Plotkin\" title=\"Gordon Plotkin\">Gordon Plotkin</a> and <a href=\"/wiki/Ehud_Shapiro\" title=\"Ehud Shapiro\">Ehud Shapiro</a> laid the initial theoretical foundation for inductive machine learning in a logical setting.<sup id=\"cite_ref-43\" class=\"reference\"><a href=\"#cite_note-43\">&#91;43&#93;</a></sup><sup id=\"cite_ref-44\" class=\"reference\"><a href=\"#cite_note-44\">&#91;44&#93;</a></sup><sup id=\"cite_ref-45\" class=\"reference\"><a href=\"#cite_note-45\">&#91;45&#93;</a></sup> Shapiro built their first implementation (Model Inference System) in 1981: a Prolog program that inductively inferred logic programs from positive and negative examples.<sup id=\"cite_ref-46\" class=\"reference\"><a href=\"#cite_note-46\">&#91;46&#93;</a></sup> The term <i>inductive</i> here refers to <a href=\"/wiki/Inductive_reasoning\" title=\"Inductive reasoning\">philosophical</a> induction, suggesting a theory to explain observed facts, rather than <a href=\"/wiki/Mathematical_induction\" title=\"Mathematical induction\">mathematical</a> induction, proving a property for all members of a well-ordered set.\n",
            "</p>\n",
            "<h3><span class=\"mw-headline\" id=\"Models\">Models</span><span class=\"mw-editsection\"><span class=\"mw-editsection-bracket\">[</span><a href=\"/w/index.php?title=Machine_learning&amp;action=edit&amp;section=17\" title=\"Edit section: Models\">edit</a><span class=\"mw-editsection-bracket\">]</span></span></h3>\n",
            "<p>Performing machine learning involves creating a <a href=\"/wiki/Statistical_model\" title=\"Statistical model\">model</a>, which is trained on some training data and then can process additional data to make predictions. Various types of models have been used and researched for machine learning systems.\n",
            "</p>\n",
            "<h4><span class=\"mw-headline\" id=\"Artificial_neural_networks\">Artificial neural networks</span><span class=\"mw-editsection\"><span class=\"mw-editsection-bracket\">[</span><a href=\"/w/index.php?title=Machine_learning&amp;action=edit&amp;section=18\" title=\"Edit section: Artificial neural networks\">edit</a><span class=\"mw-editsection-bracket\">]</span></span></h4>\n",
            "<div role=\"note\" class=\"hatnote navigation-not-searchable\">Main article: <a href=\"/wiki/Artificial_neural_network\" title=\"Artificial neural network\">Artificial neural network</a></div><div role=\"note\" class=\"hatnote navigation-not-searchable\">See also: <a href=\"/wiki/Deep_learning\" title=\"Deep learning\">Deep learning</a></div>\n",
            "<div class=\"thumb tright\"><div class=\"thumbinner\" style=\"width:302px;\"><a href=\"/wiki/File:Colored_neural_network.svg\" class=\"image\"><img alt=\"\" src=\"//upload.wikimedia.org/wikipedia/commons/thumb/4/46/Colored_neural_network.svg/300px-Colored_neural_network.svg.png\" decoding=\"async\" width=\"300\" height=\"361\" class=\"thumbimage\" srcset=\"//upload.wikimedia.org/wikipedia/commons/thumb/4/46/Colored_neural_network.svg/450px-Colored_neural_network.svg.png 1.5x, //upload.wikimedia.org/wikipedia/commons/thumb/4/46/Colored_neural_network.svg/600px-Colored_neural_network.svg.png 2x\" data-file-width=\"296\" data-file-height=\"356\" /></a>  <div class=\"thumbcaption\"><div class=\"magnify\"><a href=\"/wiki/File:Colored_neural_network.svg\" class=\"internal\" title=\"Enlarge\"></a></div>An artificial neural network is an interconnected group of nodes, akin to the vast network of <a href=\"/wiki/Neuron\" title=\"Neuron\">neurons</a> in a <a href=\"/wiki/Brain\" title=\"Brain\">brain</a>. Here, each circular node represents an <a href=\"/wiki/Artificial_neuron\" title=\"Artificial neuron\">artificial neuron</a> and an arrow represents a connection from the output of one artificial neuron to the input of another.</div></div></div>\n",
            "<p>Artificial neural networks (ANNs), or <a href=\"/wiki/Connectionism\" title=\"Connectionism\">connectionist</a> systems, are computing systems vaguely inspired by the <a href=\"/wiki/Biological_neural_network\" class=\"mw-redirect\" title=\"Biological neural network\">biological neural networks</a> that constitute animal <a href=\"/wiki/Brain\" title=\"Brain\">brains</a>. Such systems \"learn\" to perform tasks by considering examples, generally without being programmed with any task-specific rules.\n",
            "</p><p>An ANN is a model based on a collection of connected units or nodes called \"<a href=\"/wiki/Artificial_neuron\" title=\"Artificial neuron\">artificial neurons</a>\", which loosely model the <a href=\"/wiki/Neuron\" title=\"Neuron\">neurons</a> in a biological <a href=\"/wiki/Brain\" title=\"Brain\">brain</a>. Each connection, like the <a href=\"/wiki/Synapse\" title=\"Synapse\">synapses</a> in a biological <a href=\"/wiki/Brain\" title=\"Brain\">brain</a>, can transmit information, a \"signal\", from one artificial neuron to another. An artificial neuron that receives a signal can process it and then signal additional artificial neurons connected to it. In common ANN implementations, the signal at a connection between artificial neurons is a <a href=\"/wiki/Real_number\" title=\"Real number\">real number</a>, and the output of each artificial neuron is computed by some non-linear function of the sum of its inputs. The connections between artificial neurons are called \"edges\". Artificial neurons and edges typically have a <a href=\"/wiki/Weight_(mathematics)\" class=\"mw-redirect\" title=\"Weight (mathematics)\">weight</a> that adjusts as learning proceeds. The weight increases or decreases the strength of the signal at a connection. Artificial neurons may have a threshold such that the signal is only sent if the aggregate signal crosses that threshold. Typically, artificial neurons are aggregated into layers. Different layers may perform different kinds of transformations on their inputs. Signals travel from the first layer (the input layer), to the last layer (the output layer), possibly after traversing the layers multiple times.\n",
            "</p><p>The original goal of the ANN approach was to solve problems in the same way that a <a href=\"/wiki/Human_brain\" title=\"Human brain\">human brain</a> would. However, over time, attention moved to performing specific tasks, leading to deviations from <a href=\"/wiki/Biology\" title=\"Biology\">biology</a>. Artificial neural networks have been used on a variety of tasks, including <a href=\"/wiki/Computer_vision\" title=\"Computer vision\">computer vision</a>, <a href=\"/wiki/Speech_recognition\" title=\"Speech recognition\">speech recognition</a>, <a href=\"/wiki/Machine_translation\" title=\"Machine translation\">machine translation</a>, <a href=\"/wiki/Social_network\" title=\"Social network\">social network</a> filtering, <a href=\"/wiki/General_game_playing\" title=\"General game playing\">playing board and video games</a> and <a href=\"/wiki/Medical_diagnosis\" title=\"Medical diagnosis\">medical diagnosis</a>.\n",
            "</p><p><a href=\"/wiki/Deep_learning\" title=\"Deep learning\">Deep learning</a> consists of multiple hidden layers in an artificial neural network. This approach tries to model the way the human brain processes light and sound into vision and hearing. Some successful applications of deep learning are <a href=\"/wiki/Computer_vision\" title=\"Computer vision\">computer vision</a> and <a href=\"/wiki/Speech_recognition\" title=\"Speech recognition\">speech recognition</a>.<sup id=\"cite_ref-47\" class=\"reference\"><a href=\"#cite_note-47\">&#91;47&#93;</a></sup>\n",
            "</p>\n",
            "<h4><span class=\"mw-headline\" id=\"Decision_trees\">Decision trees</span><span class=\"mw-editsection\"><span class=\"mw-editsection-bracket\">[</span><a href=\"/w/index.php?title=Machine_learning&amp;action=edit&amp;section=19\" title=\"Edit section: Decision trees\">edit</a><span class=\"mw-editsection-bracket\">]</span></span></h4>\n",
            "<div role=\"note\" class=\"hatnote navigation-not-searchable\">Main article: <a href=\"/wiki/Decision_tree_learning\" title=\"Decision tree learning\">Decision tree learning</a></div>\n",
            "<p>Decision tree learning uses a <a href=\"/wiki/Decision_tree\" title=\"Decision tree\">decision tree</a> as a <a href=\"/wiki/Predictive_modelling\" title=\"Predictive modelling\">predictive model</a> to go from observations about an item (represented in the branches) to conclusions about the item's target value (represented in the leaves). It is one of the predictive modeling approaches used in statistics, data mining and machine learning. Tree models where the target variable can take a discrete set of values are called classification trees; in these tree structures, <a href=\"/wiki/Leaf_node\" class=\"mw-redirect\" title=\"Leaf node\">leaves</a> represent class labels and branches represent <a href=\"/wiki/Logical_conjunction\" title=\"Logical conjunction\">conjunctions</a> of features that lead to those class labels. Decision trees where the target variable can take continuous values (typically <a href=\"/wiki/Real_numbers\" class=\"mw-redirect\" title=\"Real numbers\">real numbers</a>) are called regression trees. In decision analysis, a decision tree can be used to visually and explicitly represent decisions and <a href=\"/wiki/Decision_making\" class=\"mw-redirect\" title=\"Decision making\">decision making</a>. In data mining, a decision tree describes data, but the resulting classification tree can be an input for decision making.\n",
            "</p>\n",
            "<h4><span class=\"mw-headline\" id=\"Support_vector_machines\">Support vector machines</span><span class=\"mw-editsection\"><span class=\"mw-editsection-bracket\">[</span><a href=\"/w/index.php?title=Machine_learning&amp;action=edit&amp;section=20\" title=\"Edit section: Support vector machines\">edit</a><span class=\"mw-editsection-bracket\">]</span></span></h4>\n",
            "<div role=\"note\" class=\"hatnote navigation-not-searchable\">Main article: <a href=\"/wiki/Support_vector_machines\" class=\"mw-redirect\" title=\"Support vector machines\">Support vector machines</a></div>\n",
            "<p>Support vector machines (SVMs), also known as support vector networks, are a set of related <a href=\"/wiki/Supervised_learning\" title=\"Supervised learning\">supervised learning</a> methods used for classification and regression. Given a set of training examples, each marked as belonging to one of two categories, an SVM training algorithm builds a model that predicts whether a new example falls into one category or the other.<sup id=\"cite_ref-CorinnaCortes_48-0\" class=\"reference\"><a href=\"#cite_note-CorinnaCortes-48\">&#91;48&#93;</a></sup>  An SVM training algorithm is a non-<a href=\"/wiki/Probabilistic_classification\" title=\"Probabilistic classification\">probabilistic</a>, <a href=\"/wiki/Binary_classifier\" class=\"mw-redirect\" title=\"Binary classifier\">binary</a>, <a href=\"/wiki/Linear_classifier\" title=\"Linear classifier\">linear classifier</a>, although methods such as <a href=\"/wiki/Platt_scaling\" title=\"Platt scaling\">Platt scaling</a> exist to use SVM in a probabilistic classification setting. In addition to performing linear classification, SVMs can efficiently perform a non-linear classification using what is called the <a href=\"/wiki/Kernel_trick\" class=\"mw-redirect\" title=\"Kernel trick\">kernel trick</a>, implicitly mapping their inputs into high-dimensional feature spaces.\n",
            "</p>\n",
            "<h4><span class=\"mw-headline\" id=\"Bayesian_networks\">Bayesian networks</span><span class=\"mw-editsection\"><span class=\"mw-editsection-bracket\">[</span><a href=\"/w/index.php?title=Machine_learning&amp;action=edit&amp;section=21\" title=\"Edit section: Bayesian networks\">edit</a><span class=\"mw-editsection-bracket\">]</span></span></h4>\n",
            "<div role=\"note\" class=\"hatnote navigation-not-searchable\">Main article: <a href=\"/wiki/Bayesian_network\" title=\"Bayesian network\">Bayesian network</a></div>\n",
            "<div class=\"thumb tright\"><div class=\"thumbinner\" style=\"width:222px;\"><a href=\"/wiki/File:SimpleBayesNetNodes.svg\" class=\"image\"><img alt=\"\" src=\"//upload.wikimedia.org/wikipedia/commons/thumb/f/fd/SimpleBayesNetNodes.svg/220px-SimpleBayesNetNodes.svg.png\" decoding=\"async\" width=\"220\" height=\"114\" class=\"thumbimage\" srcset=\"//upload.wikimedia.org/wikipedia/commons/thumb/f/fd/SimpleBayesNetNodes.svg/330px-SimpleBayesNetNodes.svg.png 1.5x, //upload.wikimedia.org/wikipedia/commons/thumb/f/fd/SimpleBayesNetNodes.svg/440px-SimpleBayesNetNodes.svg.png 2x\" data-file-width=\"246\" data-file-height=\"128\" /></a>  <div class=\"thumbcaption\"><div class=\"magnify\"><a href=\"/wiki/File:SimpleBayesNetNodes.svg\" class=\"internal\" title=\"Enlarge\"></a></div>A simple Bayesian network. Rain influences whether the sprinkler is activated, and both rain and the sprinkler influence whether the grass is wet.</div></div></div>\n",
            "<p>A Bayesian network, belief network or directed acyclic graphical model is a probabilistic <a href=\"/wiki/Graphical_model\" title=\"Graphical model\">graphical model</a> that represents a set of <a href=\"/wiki/Random_variables\" class=\"mw-redirect\" title=\"Random variables\">random variables</a> and their <a href=\"/wiki/Conditional_independence\" title=\"Conditional independence\">conditional independence</a> with a <a href=\"/wiki/Directed_acyclic_graph\" title=\"Directed acyclic graph\">directed acyclic graph</a> (DAG). For example, a Bayesian network could represent the probabilistic relationships between diseases and symptoms. Given symptoms, the network can be used to compute the probabilities of the presence of various diseases. Efficient algorithms exist that perform <a href=\"/wiki/Inference\" title=\"Inference\">inference</a> and learning. Bayesian networks that model sequences of variables, like <a href=\"/wiki/Speech_recognition\" title=\"Speech recognition\">speech signals</a> or <a href=\"/wiki/Peptide_sequence\" class=\"mw-redirect\" title=\"Peptide sequence\">protein sequences</a>, are called <a href=\"/wiki/Dynamic_Bayesian_network\" title=\"Dynamic Bayesian network\">dynamic Bayesian networks</a>. Generalizations of Bayesian networks that can represent and solve decision problems under uncertainty are called <a href=\"/wiki/Influence_diagram\" title=\"Influence diagram\">influence diagrams</a>.\n",
            "</p>\n",
            "<h4><span class=\"mw-headline\" id=\"Genetic_algorithms\">Genetic algorithms</span><span class=\"mw-editsection\"><span class=\"mw-editsection-bracket\">[</span><a href=\"/w/index.php?title=Machine_learning&amp;action=edit&amp;section=22\" title=\"Edit section: Genetic algorithms\">edit</a><span class=\"mw-editsection-bracket\">]</span></span></h4>\n",
            "<div role=\"note\" class=\"hatnote navigation-not-searchable\">Main article: <a href=\"/wiki/Genetic_algorithm\" title=\"Genetic algorithm\">Genetic algorithm</a></div>\n",
            "<p>A genetic algorithm (GA) is a <a href=\"/wiki/Search_algorithm\" title=\"Search algorithm\">search algorithm</a> and <a href=\"/wiki/Heuristic_(computer_science)\" title=\"Heuristic (computer science)\">heuristic</a> technique that mimics the process of <a href=\"/wiki/Natural_selection\" title=\"Natural selection\">natural selection</a>, using methods such as <a href=\"/wiki/Mutation_(genetic_algorithm)\" title=\"Mutation (genetic algorithm)\">mutation</a> and <a href=\"/wiki/Crossover_(genetic_algorithm)\" title=\"Crossover (genetic algorithm)\">crossover</a> to generate new <a href=\"/wiki/Chromosome_(genetic_algorithm)\" title=\"Chromosome (genetic algorithm)\">genotypes</a> in the hope of finding good solutions to a given problem. In machine learning, genetic algorithms were used in the 1980s and 1990s.<sup id=\"cite_ref-49\" class=\"reference\"><a href=\"#cite_note-49\">&#91;49&#93;</a></sup><sup id=\"cite_ref-50\" class=\"reference\"><a href=\"#cite_note-50\">&#91;50&#93;</a></sup> Conversely, machine learning techniques have been used to improve the performance of genetic and <a href=\"/wiki/Evolutionary_algorithm\" title=\"Evolutionary algorithm\">evolutionary algorithms</a>.<sup id=\"cite_ref-51\" class=\"reference\"><a href=\"#cite_note-51\">&#91;51&#93;</a></sup>\n",
            "</p>\n",
            "<h3><span class=\"mw-headline\" id=\"Training_models\">Training models</span><span class=\"mw-editsection\"><span class=\"mw-editsection-bracket\">[</span><a href=\"/w/index.php?title=Machine_learning&amp;action=edit&amp;section=23\" title=\"Edit section: Training models\">edit</a><span class=\"mw-editsection-bracket\">]</span></span></h3>\n",
            "<p>Usually, machine learning models require a lot of data in order for them to perform well. Usually, when training a machine learning model, one needs to collect a large, representative sample of data from a training set. Data from the training set can be as varied as a corpus of text, a collection of images, and data collected from individual users of a service. <a href=\"/wiki/Overfitting\" title=\"Overfitting\">Overfitting</a> is something to watch out for when training a machine learning model.\n",
            "</p>\n",
            "<h4><span class=\"mw-headline\" id=\"Federated_learning\">Federated learning</span><span class=\"mw-editsection\"><span class=\"mw-editsection-bracket\">[</span><a href=\"/w/index.php?title=Machine_learning&amp;action=edit&amp;section=24\" title=\"Edit section: Federated learning\">edit</a><span class=\"mw-editsection-bracket\">]</span></span></h4>\n",
            "<div role=\"note\" class=\"hatnote navigation-not-searchable\">Main article: <a href=\"/wiki/Federated_learning\" title=\"Federated learning\">Federated learning</a></div>\n",
            "<p>Federated learning is a new approach to training machine learning models that decentralizes the training process, allowing for users' privacy to be maintained by not needing to send their data to a centralized server. This also increases efficiency by decentralizing the training process to many devices. For example, <a href=\"/wiki/Gboard\" title=\"Gboard\">Gboard</a> uses federated machine learning to train search query prediction models on users' mobile phones without having to send individual searches back to <a href=\"/wiki/Google\" title=\"Google\">Google</a>.<sup id=\"cite_ref-52\" class=\"reference\"><a href=\"#cite_note-52\">&#91;52&#93;</a></sup>\n",
            "</p>\n",
            "<h2><span class=\"mw-headline\" id=\"Applications\">Applications</span><span class=\"mw-editsection\"><span class=\"mw-editsection-bracket\">[</span><a href=\"/w/index.php?title=Machine_learning&amp;action=edit&amp;section=25\" title=\"Edit section: Applications\">edit</a><span class=\"mw-editsection-bracket\">]</span></span></h2>\n",
            "<p>There are many applications for machine learning, including:\n",
            "</p>\n",
            "<div class=\"div-col columns column-width\" style=\"-moz-column-width: 15em; -webkit-column-width: 15em; column-width: 15em;\">\n",
            "<ul><li><a href=\"/wiki/Precision_agriculture\" title=\"Precision agriculture\">Agriculture</a></li>\n",
            "<li><a href=\"/wiki/Computational_anatomy\" title=\"Computational anatomy\">Anatomy</a></li>\n",
            "<li><a href=\"/wiki/Adaptive_website\" title=\"Adaptive website\">Adaptive websites</a></li>\n",
            "<li><a href=\"/wiki/Affective_computing\" title=\"Affective computing\">Affective computing</a></li>\n",
            "<li><a href=\"/wiki/Banking\" class=\"mw-redirect\" title=\"Banking\">Banking</a></li>\n",
            "<li><a href=\"/wiki/Bioinformatics\" title=\"Bioinformatics\">Bioinformatics</a></li>\n",
            "<li><a href=\"/wiki/Brain%E2%80%93machine_interface\" class=\"mw-redirect\" title=\"Brain–machine interface\">Brain–machine interfaces</a></li>\n",
            "<li><a href=\"/wiki/Cheminformatics\" title=\"Cheminformatics\">Cheminformatics</a></li>\n",
            "<li><a href=\"/wiki/Network_simulation\" title=\"Network simulation\">Computer Networks</a></li>\n",
            "<li><a href=\"/wiki/Computer_vision\" title=\"Computer vision\">Computer vision</a></li>\n",
            "<li><a href=\"/wiki/Credit-card_fraud\" class=\"mw-redirect\" title=\"Credit-card fraud\">Credit-card fraud</a> detection</li>\n",
            "<li><a href=\"/wiki/Data_quality\" title=\"Data quality\">Data quality</a></li>\n",
            "<li><a href=\"/wiki/DNA_sequence\" class=\"mw-redirect\" title=\"DNA sequence\">DNA sequence</a> classification</li>\n",
            "<li><a href=\"/wiki/Computational_economics\" title=\"Computational economics\">Economics</a></li>\n",
            "<li><a href=\"/wiki/Financial_market\" title=\"Financial market\">Financial market</a> analysis</li>\n",
            "<li><a href=\"/wiki/General_game_playing\" title=\"General game playing\">General game playing</a></li>\n",
            "<li><a href=\"/wiki/Handwriting_recognition\" title=\"Handwriting recognition\">Handwriting recognition</a></li>\n",
            "<li><a href=\"/wiki/Information_retrieval\" title=\"Information retrieval\">Information retrieval</a></li>\n",
            "<li><a href=\"/wiki/Insurance\" title=\"Insurance\">Insurance</a></li>\n",
            "<li><a href=\"/wiki/Internet_fraud\" title=\"Internet fraud\">Internet fraud</a> detection</li>\n",
            "<li><a href=\"/wiki/Computational_linguistics\" title=\"Computational linguistics\">Linguistics</a></li>\n",
            "<li><a href=\"/wiki/Machine_learning_control\" title=\"Machine learning control\">Machine learning control</a></li>\n",
            "<li><a href=\"/wiki/Machine_perception\" title=\"Machine perception\">Machine perception</a></li>\n",
            "<li><a href=\"/wiki/Machine_translation\" title=\"Machine translation\">Machine translation</a></li>\n",
            "<li><a href=\"/wiki/Marketing\" title=\"Marketing\">Marketing</a></li>\n",
            "<li><a href=\"/wiki/Automated_medical_diagnosis\" class=\"mw-redirect\" title=\"Automated medical diagnosis\">Medical diagnosis</a></li>\n",
            "<li><a href=\"/wiki/Natural_language_processing\" title=\"Natural language processing\">Natural language processing</a></li>\n",
            "<li><a href=\"/wiki/Natural_language_understanding\" class=\"mw-redirect\" title=\"Natural language understanding\">Natural language understanding</a></li>\n",
            "<li><a href=\"/wiki/Online_advertising\" title=\"Online advertising\">Online advertising</a></li>\n",
            "<li><a href=\"/wiki/Mathematical_optimization\" title=\"Mathematical optimization\">Optimization</a></li>\n",
            "<li><a href=\"/wiki/Recommender_system\" title=\"Recommender system\">Recommender systems</a></li>\n",
            "<li><a href=\"/wiki/Robot_locomotion\" title=\"Robot locomotion\">Robot locomotion</a></li>\n",
            "<li><a href=\"/wiki/Search_engines\" class=\"mw-redirect\" title=\"Search engines\">Search engines</a></li>\n",
            "<li><a href=\"/wiki/Sentiment_analysis\" title=\"Sentiment analysis\">Sentiment analysis</a></li>\n",
            "<li><a href=\"/wiki/Sequence_mining\" class=\"mw-redirect\" title=\"Sequence mining\">Sequence mining</a></li>\n",
            "<li><a href=\"/wiki/Software_engineering\" title=\"Software engineering\">Software engineering</a></li>\n",
            "<li><a href=\"/wiki/Speech_recognition\" title=\"Speech recognition\">Speech recognition</a></li>\n",
            "<li><a href=\"/wiki/Structural_health_monitoring\" title=\"Structural health monitoring\">Structural health monitoring</a></li>\n",
            "<li><a href=\"/wiki/Syntactic_pattern_recognition\" title=\"Syntactic pattern recognition\">Syntactic pattern recognition</a></li>\n",
            "<li><a href=\"/wiki/Telecommunication\" title=\"Telecommunication\">Telecommunication</a></li>\n",
            "<li><a href=\"/wiki/Automated_theorem_proving\" title=\"Automated theorem proving\">Theorem proving</a></li>\n",
            "<li><a href=\"/wiki/Time_series\" title=\"Time series\">Time series forecasting</a></li>\n",
            "<li><a href=\"/wiki/User_behavior_analytics\" title=\"User behavior analytics\">User behavior analytics</a></li></ul>\n",
            "</div>\n",
            "<p>In 2006, the online movie company <a href=\"/wiki/Netflix\" title=\"Netflix\">Netflix</a> held the first \"<a href=\"/wiki/Netflix_Prize\" title=\"Netflix Prize\">Netflix Prize</a>\" competition to find a program to better predict user preferences and improve the accuracy on its existing Cinematch movie recommendation algorithm by at least 10%.  A joint team made up of researchers from <a href=\"/wiki/AT%26T_Labs\" title=\"AT&amp;T Labs\">AT&amp;T Labs</a>-Research in collaboration with the teams Big Chaos and Pragmatic Theory built an <a href=\"/wiki/Ensemble_Averaging\" class=\"mw-redirect\" title=\"Ensemble Averaging\">ensemble model</a> to win the Grand Prize in 2009 for $1&#160;million.<sup id=\"cite_ref-53\" class=\"reference\"><a href=\"#cite_note-53\">&#91;53&#93;</a></sup> Shortly after the prize was awarded, Netflix realized that viewers' ratings were not the best indicators of their viewing patterns (\"everything is a recommendation\") and they changed their recommendation engine accordingly.<sup id=\"cite_ref-54\" class=\"reference\"><a href=\"#cite_note-54\">&#91;54&#93;</a></sup> In 2010 The Wall Street Journal wrote about the firm Rebellion Research and their use of machine learning to predict the financial crisis.<sup id=\"cite_ref-55\" class=\"reference\"><a href=\"#cite_note-55\">&#91;55&#93;</a></sup> In 2012, co-founder of <a href=\"/wiki/Sun_Microsystems\" title=\"Sun Microsystems\">Sun Microsystems</a>, <a href=\"/wiki/Vinod_Khosla\" title=\"Vinod Khosla\">Vinod Khosla</a>, predicted that 80% of medical doctors' jobs would be lost in the next two decades to automated machine learning medical diagnostic software.<sup id=\"cite_ref-56\" class=\"reference\"><a href=\"#cite_note-56\">&#91;56&#93;</a></sup> In 2014, it was reported that a machine learning algorithm had been applied in the field of art history to study fine art paintings, and that it may have revealed previously unrecognized influences among artists.<sup id=\"cite_ref-57\" class=\"reference\"><a href=\"#cite_note-57\">&#91;57&#93;</a></sup>In 2019 <a href=\"/wiki/Springer_Nature\" title=\"Springer Nature\">Springer Nature</a> published the first research book created using machine learning.<sup id=\"cite_ref-58\" class=\"reference\"><a href=\"#cite_note-58\">&#91;58&#93;</a></sup>\n",
            "</p>\n",
            "<h2><span class=\"mw-headline\" id=\"Limitations\">Limitations</span><span class=\"mw-editsection\"><span class=\"mw-editsection-bracket\">[</span><a href=\"/w/index.php?title=Machine_learning&amp;action=edit&amp;section=26\" title=\"Edit section: Limitations\">edit</a><span class=\"mw-editsection-bracket\">]</span></span></h2>\n",
            "<p>Although machine learning has been transformative in some fields, machine-learning programs often fail to deliver expected results.<sup id=\"cite_ref-59\" class=\"reference\"><a href=\"#cite_note-59\">&#91;59&#93;</a></sup><sup id=\"cite_ref-60\" class=\"reference\"><a href=\"#cite_note-60\">&#91;60&#93;</a></sup><sup id=\"cite_ref-61\" class=\"reference\"><a href=\"#cite_note-61\">&#91;61&#93;</a></sup> Reasons for this are numerous: lack of (suitable) data, lack of access to the data, data bias, privacy problems, badly chosen tasks and algorithms, wrong tools and people, lack of resources, and evaluation problems.<sup id=\"cite_ref-62\" class=\"reference\"><a href=\"#cite_note-62\">&#91;62&#93;</a></sup> \n",
            "</p><p>In 2018, a self-driving car from <a href=\"/wiki/Uber\" title=\"Uber\">Uber</a> failed to detect a pedestrian, who was killed after a collision.<sup id=\"cite_ref-63\" class=\"reference\"><a href=\"#cite_note-63\">&#91;63&#93;</a></sup> Attempts to use machine learning in healthcare with the <a href=\"/wiki/Watson_(computer)\" title=\"Watson (computer)\">IBM Watson</a> system failed to deliver even after years of time and billions of investment.<sup id=\"cite_ref-64\" class=\"reference\"><a href=\"#cite_note-64\">&#91;64&#93;</a></sup><sup id=\"cite_ref-65\" class=\"reference\"><a href=\"#cite_note-65\">&#91;65&#93;</a></sup> \n",
            "</p>\n",
            "<h3><span class=\"mw-headline\" id=\"Bias\">Bias</span><span class=\"mw-editsection\"><span class=\"mw-editsection-bracket\">[</span><a href=\"/w/index.php?title=Machine_learning&amp;action=edit&amp;section=27\" title=\"Edit section: Bias\">edit</a><span class=\"mw-editsection-bracket\">]</span></span></h3>\n",
            "<div role=\"note\" class=\"hatnote navigation-not-searchable\">Main article: <a href=\"/wiki/Algorithmic_bias\" title=\"Algorithmic bias\">Algorithmic bias</a></div>\n",
            "<p>Machine learning approaches in particular can suffer from different data biases. A machine learning system trained on current customers only may not be able to predict the needs of new customer groups that are not represented in the training data. When trained on man-made data, machine learning is likely to pick up the same constitutional and unconscious biases already present in society.<sup id=\"cite_ref-66\" class=\"reference\"><a href=\"#cite_note-66\">&#91;66&#93;</a></sup> Language models learned from data have been shown to contain human-like biases.<sup id=\"cite_ref-67\" class=\"reference\"><a href=\"#cite_note-67\">&#91;67&#93;</a></sup><sup id=\"cite_ref-68\" class=\"reference\"><a href=\"#cite_note-68\">&#91;68&#93;</a></sup> Machine learning systems used for criminal risk assessment have been found to be biased against black people.<sup id=\"cite_ref-69\" class=\"reference\"><a href=\"#cite_note-69\">&#91;69&#93;</a></sup><sup id=\"cite_ref-70\" class=\"reference\"><a href=\"#cite_note-70\">&#91;70&#93;</a></sup> In 2015, Google photos would often tag black people as gorillas,<sup id=\"cite_ref-71\" class=\"reference\"><a href=\"#cite_note-71\">&#91;71&#93;</a></sup> and in 2018 this still was not well resolved, but Google reportedly was still using the workaround to remove all gorilla from the training data, and thus was not able to recognize real gorillas at all.<sup id=\"cite_ref-72\" class=\"reference\"><a href=\"#cite_note-72\">&#91;72&#93;</a></sup> Similar issues with recognizing non-white people have been found in many other systems.<sup id=\"cite_ref-73\" class=\"reference\"><a href=\"#cite_note-73\">&#91;73&#93;</a></sup> In 2016, Microsoft tested a <a href=\"/wiki/Chatbot\" title=\"Chatbot\">chatbot</a> that learned from Twitter, and it quickly picked up racist and sexist language.<sup id=\"cite_ref-74\" class=\"reference\"><a href=\"#cite_note-74\">&#91;74&#93;</a></sup> Because of such challenges, the effective use of machine learning may take longer to be adopted in other domains.<sup id=\"cite_ref-75\" class=\"reference\"><a href=\"#cite_note-75\">&#91;75&#93;</a></sup> Concern for reducing bias in machine learning and propelling its use for human good is increasingly expressed by artificial intelligence scientists, including <a href=\"/wiki/Fei-Fei_Li\" title=\"Fei-Fei Li\">Fei-Fei Li</a>, who reminds engineers that \"There’s nothing artificial about AI...It’s inspired by people, it’s created by people, and—most importantly—it impacts people. It is a powerful tool we are only just beginning to understand, and that is a profound responsibility.”<sup id=\"cite_ref-76\" class=\"reference\"><a href=\"#cite_note-76\">&#91;76&#93;</a></sup>\n",
            "</p>\n",
            "<h2><span class=\"mw-headline\" id=\"Model_assessments\">Model assessments</span><span class=\"mw-editsection\"><span class=\"mw-editsection-bracket\">[</span><a href=\"/w/index.php?title=Machine_learning&amp;action=edit&amp;section=28\" title=\"Edit section: Model assessments\">edit</a><span class=\"mw-editsection-bracket\">]</span></span></h2>\n",
            "<p>Classification machine learning models can be validated by accuracy estimation techniques like the <a href=\"/wiki/Test_set\" class=\"mw-redirect\" title=\"Test set\">Holdout</a> method, which splits the data in a training and test set (conventionally 2/3 training set and 1/3 test set designation) and evaluates the performance of the training model on the test set. In comparison, the K-fold-<a href=\"/wiki/Cross-validation_(statistics)\" title=\"Cross-validation (statistics)\">cross-validation</a> method randomly partitions the data into K subsets and then K experiments are performed each respectively considering 1 subset for evaluation and the remaining K-1 subsets for training the model. In addition to the holdout and cross-validation methods, <a href=\"/wiki/Bootstrapping\" title=\"Bootstrapping\">bootstrap</a>, which samples n instances with replacement from the dataset, can be used to assess model accuracy.<sup id=\"cite_ref-77\" class=\"reference\"><a href=\"#cite_note-77\">&#91;77&#93;</a></sup>\n",
            "</p><p>In addition to overall accuracy, investigators frequently report <a href=\"/wiki/Sensitivity_and_specificity\" title=\"Sensitivity and specificity\">sensitivity and specificity</a> meaning True Positive Rate (TPR) and True Negative Rate (TNR) respectively. Similarly, investigators sometimes report the <a href=\"/wiki/False_Positive_Rate\" class=\"mw-redirect\" title=\"False Positive Rate\">False Positive Rate</a> (FPR) as well as the <a href=\"/wiki/False_Negative_Rate\" class=\"mw-redirect\" title=\"False Negative Rate\">False Negative Rate</a> (FNR). However, these rates are ratios that fail to reveal their numerators and denominators. The <a href=\"/wiki/Total_Operating_Characteristic\" class=\"mw-redirect\" title=\"Total Operating Characteristic\">Total Operating Characteristic</a> (TOC) is an effective method to express a model's diagnostic ability. TOC shows the numerators and denominators of the previously mentioned rates, thus TOC provides more information than the commonly used <a href=\"/wiki/Receiver_Operating_Characteristic\" class=\"mw-redirect\" title=\"Receiver Operating Characteristic\">Receiver Operating Characteristic</a> (ROC) and ROC's associated Area Under the Curve (AUC).<sup id=\"cite_ref-78\" class=\"reference\"><a href=\"#cite_note-78\">&#91;78&#93;</a></sup>\n",
            "</p>\n",
            "<h2><span class=\"mw-headline\" id=\"Ethics\">Ethics</span><span class=\"mw-editsection\"><span class=\"mw-editsection-bracket\">[</span><a href=\"/w/index.php?title=Machine_learning&amp;action=edit&amp;section=29\" title=\"Edit section: Ethics\">edit</a><span class=\"mw-editsection-bracket\">]</span></span></h2>\n",
            "<p>Machine learning poses a host of <a href=\"/wiki/Machine_ethics\" title=\"Machine ethics\">ethical questions</a>. Systems which are trained on datasets collected with biases may exhibit these biases upon use (<a href=\"/wiki/Algorithmic_bias\" title=\"Algorithmic bias\">algorithmic bias</a>), thus digitizing cultural prejudices.<sup id=\"cite_ref-79\" class=\"reference\"><a href=\"#cite_note-79\">&#91;79&#93;</a></sup> For example, using job hiring data from a firm with racist hiring policies may lead to a machine learning system duplicating the bias by scoring job applicants against similarity to previous successful applicants.<sup id=\"cite_ref-Edionwe_Outline_80-0\" class=\"reference\"><a href=\"#cite_note-Edionwe_Outline-80\">&#91;80&#93;</a></sup><sup id=\"cite_ref-Jeffries_Outline_81-0\" class=\"reference\"><a href=\"#cite_note-Jeffries_Outline-81\">&#91;81&#93;</a></sup> Responsible <a href=\"/wiki/Data_collection\" title=\"Data collection\">collection of data</a> and documentation of algorithmic rules used by a system thus is a critical part of machine learning.\n",
            "</p><p>Because language contains biases, machines trained on language <i><a href=\"/wiki/Text_corpus\" title=\"Text corpus\">corpora</a></i> will necessarily also learn bias.<sup id=\"cite_ref-82\" class=\"reference\"><a href=\"#cite_note-82\">&#91;82&#93;</a></sup>\n",
            "</p><p>Other forms of ethical challenges, not related to personal biases, are more seen in health care. There are concerns among health care professionals that these systems might not be designed in the public's interest, but as income generating machines. This is especially true in the United States where there is a perpetual ethical dilemma of improving health care, but also increasing profits. For example, the algorithms could be designed to provide patients with unnecessary tests or medication in which the algorithm's proprietary owners hold stakes in. There is huge potential for machine learning in health care to provide professionals a great tool to diagnose, medicate, and even plan recovery paths for patients, but this will not happen until the personal biases mentioned previously, and these \"greed\" biases are addressed.<sup id=\"cite_ref-83\" class=\"reference\"><a href=\"#cite_note-83\">&#91;83&#93;</a></sup>\n",
            "</p>\n",
            "<h2><span class=\"mw-headline\" id=\"Software\">Software</span><span class=\"mw-editsection\"><span class=\"mw-editsection-bracket\">[</span><a href=\"/w/index.php?title=Machine_learning&amp;action=edit&amp;section=30\" title=\"Edit section: Software\">edit</a><span class=\"mw-editsection-bracket\">]</span></span></h2>\n",
            "<p><a href=\"/wiki/Software_suite\" title=\"Software suite\">Software suites</a> containing a variety of machine learning algorithms include the following:\n",
            "</p>\n",
            "<h3><span class=\"mw-headline\" id=\"Free_and_open-source_software\">Free and open-source software</span><span class=\"mw-editsection\"><span class=\"mw-editsection-bracket\">[</span><a href=\"/w/index.php?title=Machine_learning&amp;action=edit&amp;section=31\" title=\"Edit section: Free and open-source software\">edit</a><span class=\"mw-editsection-bracket\">]</span></span></h3>\n",
            "<div class=\"div-col columns column-width\" style=\"-moz-column-width: 18em; -webkit-column-width: 18em; column-width: 18em;\">\n",
            "<ul><li><a href=\"/wiki/Microsoft_Cognitive_Toolkit\" title=\"Microsoft Cognitive Toolkit\">CNTK</a></li>\n",
            "<li><a href=\"/wiki/Deeplearning4j\" title=\"Deeplearning4j\">Deeplearning4j</a></li>\n",
            "<li><a href=\"/wiki/ELKI\" title=\"ELKI\">ELKI</a></li>\n",
            "<li><a href=\"/wiki/H2o_(Analytics_tool)\" class=\"mw-redirect\" title=\"H2o (Analytics tool)\">H2O</a></li>\n",
            "<li><a href=\"/wiki/Keras\" title=\"Keras\">Keras</a></li>\n",
            "<li><a href=\"/wiki/Apache_Mahout\" title=\"Apache Mahout\">Mahout</a></li>\n",
            "<li><a href=\"/wiki/Mallet_(software_project)\" title=\"Mallet (software project)\">Mallet</a></li>\n",
            "<li><a href=\"/wiki/Mlpack\" title=\"Mlpack\">mlpack</a></li>\n",
            "<li><a href=\"/wiki/MXNet\" class=\"mw-redirect\" title=\"MXNet\">MXNet</a></li>\n",
            "<li><a href=\"/wiki/GNU_Octave\" title=\"GNU Octave\">GNU Octave</a></li>\n",
            "<li><a href=\"/wiki/OpenNN\" title=\"OpenNN\">OpenNN</a></li>\n",
            "<li><a href=\"/wiki/Orange_(software)\" title=\"Orange (software)\">Orange</a></li>\n",
            "<li><a href=\"/wiki/Scikit-learn\" title=\"Scikit-learn\">scikit-learn</a></li>\n",
            "<li><a href=\"/wiki/Shogun_(toolbox)\" title=\"Shogun (toolbox)\">Shogun</a></li>\n",
            "<li><a href=\"/wiki/Apache_Spark#MLlib_Machine_Learning_Library\" title=\"Apache Spark\">Spark MLlib</a></li>\n",
            "<li><a href=\"/wiki/Apache_SystemML\" title=\"Apache SystemML\">Apache SystemML</a></li>\n",
            "<li><a href=\"/wiki/TensorFlow\" title=\"TensorFlow\">TensorFlow</a></li>\n",
            "<li><a href=\"/wiki/ROOT\" title=\"ROOT\">ROOT</a> (TMVA with ROOT)</li>\n",
            "<li><a href=\"/wiki/Torch_(machine_learning)\" title=\"Torch (machine learning)\">Torch</a> / <a href=\"/wiki/PyTorch\" title=\"PyTorch\">PyTorch</a></li>\n",
            "<li><a href=\"/wiki/Weka_(machine_learning)\" title=\"Weka (machine learning)\">Weka</a> / <a href=\"/wiki/MOA_(Massive_Online_Analysis)\" class=\"mw-redirect\" title=\"MOA (Massive Online Analysis)\">MOA</a></li>\n",
            "<li><a href=\"/wiki/Yooreeka\" title=\"Yooreeka\">Yooreeka</a></li></ul>\n",
            "</div>\n",
            "<h3><span class=\"mw-headline\" id=\"Proprietary_software_with_free_and_open-source_editions\">Proprietary software with free and open-source editions</span><span class=\"mw-editsection\"><span class=\"mw-editsection-bracket\">[</span><a href=\"/w/index.php?title=Machine_learning&amp;action=edit&amp;section=32\" title=\"Edit section: Proprietary software with free and open-source editions\">edit</a><span class=\"mw-editsection-bracket\">]</span></span></h3>\n",
            "<div class=\"div-col columns column-width\" style=\"-moz-column-width: 18em; -webkit-column-width: 18em; column-width: 18em;\">\n",
            "<ul><li><a href=\"/wiki/KNIME\" title=\"KNIME\">KNIME</a></li>\n",
            "<li><a href=\"/wiki/RapidMiner\" title=\"RapidMiner\">RapidMiner</a></li></ul>\n",
            "</div>\n",
            "<h3><span class=\"mw-headline\" id=\"Proprietary_software\">Proprietary software</span><span class=\"mw-editsection\"><span class=\"mw-editsection-bracket\">[</span><a href=\"/w/index.php?title=Machine_learning&amp;action=edit&amp;section=33\" title=\"Edit section: Proprietary software\">edit</a><span class=\"mw-editsection-bracket\">]</span></span></h3>\n",
            "<div class=\"div-col columns column-width\" style=\"-moz-column-width: 18em; -webkit-column-width: 18em; column-width: 18em;\">\n",
            "<ul><li><a href=\"/wiki/Amazon_Machine_Learning\" class=\"mw-redirect\" title=\"Amazon Machine Learning\">Amazon Machine Learning</a></li>\n",
            "<li><a href=\"/wiki/Angoss\" title=\"Angoss\">Angoss</a> KnowledgeSTUDIO</li>\n",
            "<li><a href=\"/wiki/Azure_Machine_Learning\" class=\"mw-redirect\" title=\"Azure Machine Learning\">Azure Machine Learning</a></li>\n",
            "<li><a href=\"/wiki/Ayasdi\" title=\"Ayasdi\">Ayasdi</a></li>\n",
            "<li><a href=\"/wiki/IBM_Data_Science_Experience\" title=\"IBM Data Science Experience\">IBM Data Science Experience</a></li>\n",
            "<li><a href=\"/wiki/Google_APIs\" title=\"Google APIs\">Google Prediction API</a></li>\n",
            "<li><a href=\"/wiki/SPSS_Modeler\" title=\"SPSS Modeler\">IBM SPSS Modeler</a></li>\n",
            "<li><a href=\"/wiki/KXEN_Inc.\" title=\"KXEN Inc.\">KXEN Modeler</a></li>\n",
            "<li><a href=\"/wiki/LIONsolver\" title=\"LIONsolver\">LIONsolver</a></li>\n",
            "<li><a href=\"/wiki/Mathematica\" class=\"mw-redirect\" title=\"Mathematica\">Mathematica</a></li>\n",
            "<li><a href=\"/wiki/MATLAB\" title=\"MATLAB\">MATLAB</a></li>\n",
            "<li><a href=\"/wiki/Azure_machine_learning_studio\" class=\"mw-redirect\" title=\"Azure machine learning studio\">Microsoft Azure Machine Learning</a></li>\n",
            "<li><a href=\"/wiki/Neural_Designer\" title=\"Neural Designer\">Neural Designer</a></li>\n",
            "<li><a href=\"/wiki/NeuroSolutions\" title=\"NeuroSolutions\">NeuroSolutions</a></li>\n",
            "<li><a href=\"/wiki/Oracle_Data_Mining\" title=\"Oracle Data Mining\">Oracle Data Mining</a></li>\n",
            "<li><a href=\"/wiki/Oracle_Cloud#Platform_as_a_Service_(PaaS)\" title=\"Oracle Cloud\">Oracle AI Platform Cloud Service</a></li>\n",
            "<li><a href=\"/wiki/RCASE\" title=\"RCASE\">RCASE</a></li>\n",
            "<li><a href=\"/wiki/SAS_(software)#Components\" title=\"SAS (software)\">SAS Enterprise Miner</a></li>\n",
            "<li><a href=\"/wiki/SequenceL\" title=\"SequenceL\">SequenceL</a></li>\n",
            "<li><a href=\"/wiki/Splunk\" title=\"Splunk\">Splunk</a></li>\n",
            "<li><a href=\"/wiki/STATISTICA\" class=\"mw-redirect\" title=\"STATISTICA\">STATISTICA</a> Data Miner</li></ul>\n",
            "</div>\n",
            "<h2><span class=\"mw-headline\" id=\"Journals\">Journals</span><span class=\"mw-editsection\"><span class=\"mw-editsection-bracket\">[</span><a href=\"/w/index.php?title=Machine_learning&amp;action=edit&amp;section=34\" title=\"Edit section: Journals\">edit</a><span class=\"mw-editsection-bracket\">]</span></span></h2>\n",
            "<ul><li><i><a href=\"/wiki/Journal_of_Machine_Learning_Research\" title=\"Journal of Machine Learning Research\">Journal of Machine Learning Research</a></i></li>\n",
            "<li><a href=\"/wiki/Machine_Learning_(journal)\" title=\"Machine Learning (journal)\"><i>Machine Learning</i></a></li>\n",
            "<li><i><a href=\"/wiki/Nature_Machine_Intelligence\" title=\"Nature Machine Intelligence\">Nature Machine Intelligence</a></i></li>\n",
            "<li><a href=\"/wiki/Neural_Computation_(journal)\" title=\"Neural Computation (journal)\"><i>Neural Computation</i></a></li></ul>\n",
            "<h2><span class=\"mw-headline\" id=\"Conferences\">Conferences</span><span class=\"mw-editsection\"><span class=\"mw-editsection-bracket\">[</span><a href=\"/w/index.php?title=Machine_learning&amp;action=edit&amp;section=35\" title=\"Edit section: Conferences\">edit</a><span class=\"mw-editsection-bracket\">]</span></span></h2>\n",
            "<ul><li><a href=\"/wiki/Conference_on_Neural_Information_Processing_Systems\" title=\"Conference on Neural Information Processing Systems\">Conference on Neural Information Processing Systems</a></li>\n",
            "<li><a href=\"/wiki/International_Conference_on_Machine_Learning\" title=\"International Conference on Machine Learning\">International Conference on Machine Learning</a></li></ul>\n",
            "<h2><span class=\"mw-headline\" id=\"See_also\">See also</span><span class=\"mw-editsection\"><span class=\"mw-editsection-bracket\">[</span><a href=\"/w/index.php?title=Machine_learning&amp;action=edit&amp;section=36\" title=\"Edit section: See also\">edit</a><span class=\"mw-editsection-bracket\">]</span></span></h2>\n",
            "<div role=\"navigation\" aria-label=\"Portals\" class=\"noprint portal plainlist tright\" style=\"margin:0.5em 0 0.5em 1em;border:solid #aaa 1px\">\n",
            "<ul style=\"display:table;box-sizing:border-box;padding:0.1em;max-width:175px;background:#f9f9f9;font-size:85%;line-height:110%;font-style:italic;font-weight:bold\">\n",
            "<li style=\"display:table-row\"><span style=\"display:table-cell;padding:0.2em;vertical-align:middle;text-align:center\"><a href=\"/wiki/File:Animation2.gif\" class=\"image\"><img alt=\"icon\" src=\"//upload.wikimedia.org/wikipedia/commons/thumb/c/c0/Animation2.gif/17px-Animation2.gif\" decoding=\"async\" width=\"17\" height=\"28\" class=\"noviewer\" srcset=\"//upload.wikimedia.org/wikipedia/commons/thumb/c/c0/Animation2.gif/26px-Animation2.gif 1.5x, //upload.wikimedia.org/wikipedia/commons/thumb/c/c0/Animation2.gif/34px-Animation2.gif 2x\" data-file-width=\"48\" data-file-height=\"78\" /></a></span><span style=\"display:table-cell;padding:0.2em 0.2em 0.2em 0.3em;vertical-align:middle\"><a href=\"/wiki/Portal:Artificial_intelligence\" title=\"Portal:Artificial intelligence\">Artificial intelligence portal</a></span></li>\n",
            "<li style=\"display:table-row\"><span style=\"display:table-cell;padding:0.2em;vertical-align:middle;text-align:center\"><img alt=\"\" src=\"//upload.wikimedia.org/wikipedia/en/thumb/f/fd/Portal-puzzle.svg/32px-Portal-puzzle.svg.png\" decoding=\"async\" width=\"32\" height=\"28\" class=\"noviewer\" srcset=\"//upload.wikimedia.org/wikipedia/en/thumb/f/fd/Portal-puzzle.svg/48px-Portal-puzzle.svg.png 1.5x, //upload.wikimedia.org/wikipedia/en/thumb/f/fd/Portal-puzzle.svg/64px-Portal-puzzle.svg.png 2x\" data-file-width=\"32\" data-file-height=\"28\" /></span><span style=\"display:table-cell;padding:0.2em 0.2em 0.2em 0.3em;vertical-align:middle\"><a href=\"/wiki/Portal:Machine_learning\" title=\"Portal:Machine learning\">Machine learning portal</a></span></li></ul></div>\n",
            "<div class=\"div-col columns column-width\" style=\"-moz-column-width: 30em; -webkit-column-width: 30em; column-width: 30em;\">\n",
            "<ul><li><a href=\"/wiki/Automated_machine_learning\" title=\"Automated machine learning\">Automated machine learning</a></li>\n",
            "<li><a href=\"/wiki/Big_data\" title=\"Big data\">Big data</a></li>\n",
            "<li><a href=\"/wiki/Explanation-based_learning\" title=\"Explanation-based learning\">Explanation-based learning</a></li>\n",
            "<li><a href=\"/wiki/List_of_important_publications_in_computer_science#Machine_learning\" title=\"List of important publications in computer science\">Important publications in machine learning</a></li>\n",
            "<li><a href=\"/wiki/List_of_datasets_for_machine_learning_research\" class=\"mw-redirect\" title=\"List of datasets for machine learning research\">List of datasets for machine learning research</a></li>\n",
            "<li><a href=\"/wiki/Predictive_analytics\" title=\"Predictive analytics\">Predictive analytics</a></li>\n",
            "<li><a href=\"/wiki/Quantum_machine_learning\" title=\"Quantum machine learning\">Quantum machine learning</a></li>\n",
            "<li><a href=\"/wiki/Machine_learning_in_bioinformatics\" title=\"Machine learning in bioinformatics\">Machine-learning applications in bioinformatics</a></li></ul>\n",
            "</div>\n",
            "<h2><span class=\"mw-headline\" id=\"References\">References</span><span class=\"mw-editsection\"><span class=\"mw-editsection-bracket\">[</span><a href=\"/w/index.php?title=Machine_learning&amp;action=edit&amp;section=37\" title=\"Edit section: References\">edit</a><span class=\"mw-editsection-bracket\">]</span></span></h2>\n",
            "<div class=\"reflist columns references-column-width\" style=\"-moz-column-width: 30em; -webkit-column-width: 30em; column-width: 30em; list-style-type: decimal;\">\n",
            "<ol class=\"references\">\n",
            "<li id=\"cite_note-1\"><span class=\"mw-cite-backlink\"><b><a href=\"#cite_ref-1\">^</a></b></span> <span class=\"reference-text\">The definition \"without being explicitly programmed\" is often attributed to <a href=\"/wiki/Arthur_Samuel\" title=\"Arthur Samuel\">Arthur Samuel</a>, who coined the term \"machine learning\" in 1959, but the phrase is not found verbatim in this publication, and may be a <a href=\"/wiki/Paraphrase\" title=\"Paraphrase\">paraphrase</a> that appeared later. Confer \"Paraphrasing Arthur Samuel (1959), the question is: How can computers learn to solve problems without being explicitly programmed?\" in <cite class=\"citation conference\">Koza, John R.; Bennett, Forrest H.; Andre, David; Keane, Martin A. (1996). <i>Automated Design of Both the Topology and Sizing of Analog Electrical Circuits Using Genetic Programming</i>. Artificial Intelligence in Design '96. Springer, Dordrecht. pp.&#160;151–170. <a href=\"/wiki/Digital_object_identifier\" title=\"Digital object identifier\">doi</a>:<a rel=\"nofollow\" class=\"external text\" href=\"//doi.org/10.1007%2F978-94-009-0279-4_9\">10.1007/978-94-009-0279-4_9</a>.</cite><span title=\"ctx_ver=Z39.88-2004&amp;rft_val_fmt=info%3Aofi%2Ffmt%3Akev%3Amtx%3Abook&amp;rft.genre=conference&amp;rft.btitle=Automated+Design+of+Both+the+Topology+and+Sizing+of+Analog+Electrical+Circuits+Using+Genetic+Programming&amp;rft.pages=151-170&amp;rft.pub=Springer%2C+Dordrecht&amp;rft.date=1996&amp;rft_id=info%3Adoi%2F10.1007%2F978-94-009-0279-4_9&amp;rft.aulast=Koza&amp;rft.aufirst=John+R.&amp;rft.au=Bennett%2C+Forrest+H.&amp;rft.au=Andre%2C+David&amp;rft.au=Keane%2C+Martin+A.&amp;rfr_id=info%3Asid%2Fen.wikipedia.org%3AMachine+learning\" class=\"Z3988\"></span><style data-mw-deduplicate=\"TemplateStyles:r886058088\">.mw-parser-output cite.citation{font-style:inherit}.mw-parser-output .citation q{quotes:\"\\\"\"\"\\\"\"\"'\"\"'\"}.mw-parser-output .citation .cs1-lock-free a{background:url(\"//upload.wikimedia.org/wikipedia/commons/thumb/6/65/Lock-green.svg/9px-Lock-green.svg.png\")no-repeat;background-position:right .1em center}.mw-parser-output .citation .cs1-lock-limited a,.mw-parser-output .citation .cs1-lock-registration a{background:url(\"//upload.wikimedia.org/wikipedia/commons/thumb/d/d6/Lock-gray-alt-2.svg/9px-Lock-gray-alt-2.svg.png\")no-repeat;background-position:right .1em center}.mw-parser-output .citation .cs1-lock-subscription a{background:url(\"//upload.wikimedia.org/wikipedia/commons/thumb/a/aa/Lock-red-alt-2.svg/9px-Lock-red-alt-2.svg.png\")no-repeat;background-position:right .1em center}.mw-parser-output .cs1-subscription,.mw-parser-output .cs1-registration{color:#555}.mw-parser-output .cs1-subscription span,.mw-parser-output .cs1-registration span{border-bottom:1px dotted;cursor:help}.mw-parser-output .cs1-ws-icon a{background:url(\"//upload.wikimedia.org/wikipedia/commons/thumb/4/4c/Wikisource-logo.svg/12px-Wikisource-logo.svg.png\")no-repeat;background-position:right .1em center}.mw-parser-output code.cs1-code{color:inherit;background:inherit;border:inherit;padding:inherit}.mw-parser-output .cs1-hidden-error{display:none;font-size:100%}.mw-parser-output .cs1-visible-error{font-size:100%}.mw-parser-output .cs1-maint{display:none;color:#33aa33;margin-left:0.3em}.mw-parser-output .cs1-subscription,.mw-parser-output .cs1-registration,.mw-parser-output .cs1-format{font-size:95%}.mw-parser-output .cs1-kern-left,.mw-parser-output .cs1-kern-wl-left{padding-left:0.2em}.mw-parser-output .cs1-kern-right,.mw-parser-output .cs1-kern-wl-right{padding-right:0.2em}</style></span>\n",
            "</li>\n",
            "<li id=\"cite_note-bishop2006-2\"><span class=\"mw-cite-backlink\">^ <a href=\"#cite_ref-bishop2006_2-0\"><sup><i><b>a</b></i></sup></a> <a href=\"#cite_ref-bishop2006_2-1\"><sup><i><b>b</b></i></sup></a> <a href=\"#cite_ref-bishop2006_2-2\"><sup><i><b>c</b></i></sup></a> <a href=\"#cite_ref-bishop2006_2-3\"><sup><i><b>d</b></i></sup></a></span> <span class=\"reference-text\"><cite id=\"CITEREFBishop2006\" class=\"citation\"><a href=\"/wiki/Christopher_M._Bishop\" class=\"mw-redirect\" title=\"Christopher M. Bishop\">Bishop, C. M.</a> (2006), <i>Pattern Recognition and Machine Learning</i>, Springer, <a href=\"/wiki/International_Standard_Book_Number\" title=\"International Standard Book Number\">ISBN</a>&#160;<a href=\"/wiki/Special:BookSources/978-0-387-31073-2\" title=\"Special:BookSources/978-0-387-31073-2\"><bdi>978-0-387-31073-2</bdi></a></cite><span title=\"ctx_ver=Z39.88-2004&amp;rft_val_fmt=info%3Aofi%2Ffmt%3Akev%3Amtx%3Abook&amp;rft.genre=book&amp;rft.btitle=Pattern+Recognition+and+Machine+Learning&amp;rft.pub=Springer&amp;rft.date=2006&amp;rft.isbn=978-0-387-31073-2&amp;rft.aulast=Bishop&amp;rft.aufirst=C.+M.&amp;rfr_id=info%3Asid%2Fen.wikipedia.org%3AMachine+learning\" class=\"Z3988\"></span><link rel=\"mw-deduplicated-inline-style\" href=\"mw-data:TemplateStyles:r886058088\"/></span>\n",
            "</li>\n",
            "<li id=\"cite_note-3\"><span class=\"mw-cite-backlink\"><b><a href=\"#cite_ref-3\">^</a></b></span> <span class=\"reference-text\">Machine learning and pattern recognition \"can be viewed as two facets of the same field.\"<sup id=\"cite_ref-bishop2006_2-1\" class=\"reference\"><a href=\"#cite_note-bishop2006-2\">&#91;2&#93;</a></sup><sup class=\"reference\" style=\"white-space:nowrap;\">:<span>vii</span></sup></span>\n",
            "</li>\n",
            "<li id=\"cite_note-4\"><span class=\"mw-cite-backlink\"><b><a href=\"#cite_ref-4\">^</a></b></span> <span class=\"reference-text\"><cite class=\"citation journal\"><a href=\"/wiki/Jerome_H._Friedman\" title=\"Jerome H. Friedman\">Friedman, Jerome H.</a> (1998). \"Data Mining and Statistics: What's the connection?\". <i>Computing Science and Statistics</i>. <b>29</b> (1): 3–9.</cite><span title=\"ctx_ver=Z39.88-2004&amp;rft_val_fmt=info%3Aofi%2Ffmt%3Akev%3Amtx%3Ajournal&amp;rft.genre=article&amp;rft.jtitle=Computing+Science+and+Statistics&amp;rft.atitle=Data+Mining+and+Statistics%3A+What%27s+the+connection%3F&amp;rft.volume=29&amp;rft.issue=1&amp;rft.pages=3-9&amp;rft.date=1998&amp;rft.aulast=Friedman&amp;rft.aufirst=Jerome+H.&amp;rfr_id=info%3Asid%2Fen.wikipedia.org%3AMachine+learning\" class=\"Z3988\"></span><link rel=\"mw-deduplicated-inline-style\" href=\"mw-data:TemplateStyles:r886058088\"/></span>\n",
            "</li>\n",
            "<li id=\"cite_note-Samuel-5\"><span class=\"mw-cite-backlink\"><b><a href=\"#cite_ref-Samuel_5-0\">^</a></b></span> <span class=\"reference-text\"><cite class=\"citation journal\">Samuel, Arthur (1959). \"Some Studies in Machine Learning Using the Game of Checkers\". <i>IBM Journal of Research and Development</i>. <b>3</b> (3): 210–229. <a href=\"/wiki/CiteSeerX\" title=\"CiteSeerX\">CiteSeerX</a>&#160;<span class=\"cs1-lock-free\" title=\"Freely accessible\"><a rel=\"nofollow\" class=\"external text\" href=\"//citeseerx.ist.psu.edu/viewdoc/summary?doi=10.1.1.368.2254\">10.1.1.368.2254</a></span>. <a href=\"/wiki/Digital_object_identifier\" title=\"Digital object identifier\">doi</a>:<a rel=\"nofollow\" class=\"external text\" href=\"//doi.org/10.1147%2Frd.33.0210\">10.1147/rd.33.0210</a>.</cite><span title=\"ctx_ver=Z39.88-2004&amp;rft_val_fmt=info%3Aofi%2Ffmt%3Akev%3Amtx%3Ajournal&amp;rft.genre=article&amp;rft.jtitle=IBM+Journal+of+Research+and+Development&amp;rft.atitle=Some+Studies+in+Machine+Learning+Using+the+Game+of+Checkers&amp;rft.volume=3&amp;rft.issue=3&amp;rft.pages=210-229&amp;rft.date=1959&amp;rft_id=%2F%2Fciteseerx.ist.psu.edu%2Fviewdoc%2Fsummary%3Fdoi%3D10.1.1.368.2254&amp;rft_id=info%3Adoi%2F10.1147%2Frd.33.0210&amp;rft.aulast=Samuel&amp;rft.aufirst=Arthur&amp;rfr_id=info%3Asid%2Fen.wikipedia.org%3AMachine+learning\" class=\"Z3988\"></span><link rel=\"mw-deduplicated-inline-style\" href=\"mw-data:TemplateStyles:r886058088\"/></span>\n",
            "</li>\n",
            "<li id=\"cite_note-Mitchell-1997-6\"><span class=\"mw-cite-backlink\">^ <a href=\"#cite_ref-Mitchell-1997_6-0\"><sup><i><b>a</b></i></sup></a> <a href=\"#cite_ref-Mitchell-1997_6-1\"><sup><i><b>b</b></i></sup></a></span> <span class=\"reference-text\"><cite class=\"citation book\">Mitchell, T. (1997). <i>Machine Learning</i>. McGraw Hill. p.&#160;2. <a href=\"/wiki/International_Standard_Book_Number\" title=\"International Standard Book Number\">ISBN</a>&#160;<a href=\"/wiki/Special:BookSources/978-0-07-042807-2\" title=\"Special:BookSources/978-0-07-042807-2\"><bdi>978-0-07-042807-2</bdi></a>.</cite><span title=\"ctx_ver=Z39.88-2004&amp;rft_val_fmt=info%3Aofi%2Ffmt%3Akev%3Amtx%3Abook&amp;rft.genre=book&amp;rft.btitle=Machine+Learning&amp;rft.pages=2&amp;rft.pub=McGraw+Hill&amp;rft.date=1997&amp;rft.isbn=978-0-07-042807-2&amp;rft.au=Mitchell%2C+T.&amp;rfr_id=info%3Asid%2Fen.wikipedia.org%3AMachine+learning\" class=\"Z3988\"></span><link rel=\"mw-deduplicated-inline-style\" href=\"mw-data:TemplateStyles:r886058088\"/></span>\n",
            "</li>\n",
            "<li id=\"cite_note-7\"><span class=\"mw-cite-backlink\"><b><a href=\"#cite_ref-7\">^</a></b></span> <span class=\"reference-text\"><cite id=\"CITEREFHarnad2008\" class=\"citation\"><a href=\"/wiki/Stevan_Harnad\" title=\"Stevan Harnad\">Harnad, Stevan</a> (2008), <a rel=\"nofollow\" class=\"external text\" href=\"http://eprints.ecs.soton.ac.uk/12954/\">\"The Annotation Game: On Turing (1950) on Computing, Machinery, and Intelligence\"</a>,  in Epstein, Robert; Peters, Grace (eds.), <i>The Turing Test Sourcebook: Philosophical and Methodological Issues in the Quest for the Thinking Computer</i>, Kluwer</cite><span title=\"ctx_ver=Z39.88-2004&amp;rft_val_fmt=info%3Aofi%2Ffmt%3Akev%3Amtx%3Abook&amp;rft.genre=bookitem&amp;rft.atitle=The+Annotation+Game%3A+On+Turing+%281950%29+on+Computing%2C+Machinery%2C+and+Intelligence&amp;rft.btitle=The+Turing+Test+Sourcebook%3A+Philosophical+and+Methodological+Issues+in+the+Quest+for+the+Thinking+Computer&amp;rft.pub=Kluwer&amp;rft.date=2008&amp;rft.aulast=Harnad&amp;rft.aufirst=Stevan&amp;rft_id=http%3A%2F%2Feprints.ecs.soton.ac.uk%2F12954%2F&amp;rfr_id=info%3Asid%2Fen.wikipedia.org%3AMachine+learning\" class=\"Z3988\"></span><link rel=\"mw-deduplicated-inline-style\" href=\"mw-data:TemplateStyles:r886058088\"/></span>\n",
            "</li>\n",
            "<li id=\"cite_note-8\"><span class=\"mw-cite-backlink\"><b><a href=\"#cite_ref-8\">^</a></b></span> <span class=\"reference-text\">R. Kohavi and F. Provost, \"Glossary of terms,\" Machine Learning, vol. 30, no. 2–3, pp. 271–274, 1998.</span>\n",
            "</li>\n",
            "<li id=\"cite_note-9\"><span class=\"mw-cite-backlink\"><b><a href=\"#cite_ref-9\">^</a></b></span> <span class=\"reference-text\"><cite class=\"citation journal\">Sarle, Warren (1994). \"Neural Networks and statistical models\". <a href=\"/wiki/CiteSeerX\" title=\"CiteSeerX\">CiteSeerX</a>&#160;<span class=\"cs1-lock-free\" title=\"Freely accessible\"><a rel=\"nofollow\" class=\"external text\" href=\"//citeseerx.ist.psu.edu/viewdoc/summary?doi=10.1.1.27.699\">10.1.1.27.699</a></span>.</cite><span title=\"ctx_ver=Z39.88-2004&amp;rft_val_fmt=info%3Aofi%2Ffmt%3Akev%3Amtx%3Ajournal&amp;rft.genre=article&amp;rft.atitle=Neural+Networks+and+statistical+models&amp;rft.date=1994&amp;rft_id=%2F%2Fciteseerx.ist.psu.edu%2Fviewdoc%2Fsummary%3Fdoi%3D10.1.1.27.699&amp;rft.aulast=Sarle&amp;rft.aufirst=Warren&amp;rfr_id=info%3Asid%2Fen.wikipedia.org%3AMachine+learning\" class=\"Z3988\"></span><link rel=\"mw-deduplicated-inline-style\" href=\"mw-data:TemplateStyles:r886058088\"/></span>\n",
            "</li>\n",
            "<li id=\"cite_note-aima-10\"><span class=\"mw-cite-backlink\">^ <a href=\"#cite_ref-aima_10-0\"><sup><i><b>a</b></i></sup></a> <a href=\"#cite_ref-aima_10-1\"><sup><i><b>b</b></i></sup></a> <a href=\"#cite_ref-aima_10-2\"><sup><i><b>c</b></i></sup></a> <a href=\"#cite_ref-aima_10-3\"><sup><i><b>d</b></i></sup></a></span> <span class=\"reference-text\"><cite class=\"citation book\"><a href=\"/wiki/Stuart_J._Russell\" title=\"Stuart J. Russell\">Russell, Stuart</a>; <a href=\"/wiki/Peter_Norvig\" title=\"Peter Norvig\">Norvig, Peter</a> (2003) [1995]. <i><a href=\"/wiki/Artificial_Intelligence:_A_Modern_Approach\" title=\"Artificial Intelligence: A Modern Approach\">Artificial Intelligence: A Modern Approach</a></i> (2nd ed.). Prentice Hall. <a href=\"/wiki/International_Standard_Book_Number\" title=\"International Standard Book Number\">ISBN</a>&#160;<a href=\"/wiki/Special:BookSources/978-0137903955\" title=\"Special:BookSources/978-0137903955\"><bdi>978-0137903955</bdi></a>.</cite><span title=\"ctx_ver=Z39.88-2004&amp;rft_val_fmt=info%3Aofi%2Ffmt%3Akev%3Amtx%3Abook&amp;rft.genre=book&amp;rft.btitle=Artificial+Intelligence%3A+A+Modern+Approach&amp;rft.edition=2nd&amp;rft.pub=Prentice+Hall&amp;rft.date=2003&amp;rft.isbn=978-0137903955&amp;rft.aulast=Russell&amp;rft.aufirst=Stuart&amp;rft.au=Norvig%2C+Peter&amp;rfr_id=info%3Asid%2Fen.wikipedia.org%3AMachine+learning\" class=\"Z3988\"></span><link rel=\"mw-deduplicated-inline-style\" href=\"mw-data:TemplateStyles:r886058088\"/></span>\n",
            "</li>\n",
            "<li id=\"cite_note-changing-11\"><span class=\"mw-cite-backlink\">^ <a href=\"#cite_ref-changing_11-0\"><sup><i><b>a</b></i></sup></a> <a href=\"#cite_ref-changing_11-1\"><sup><i><b>b</b></i></sup></a></span> <span class=\"reference-text\"><cite class=\"citation journal\">Langley, Pat (2011). \"The changing science of machine learning\". <i><a href=\"/wiki/Machine_Learning_(journal)\" title=\"Machine Learning (journal)\">Machine Learning</a></i>. <b>82</b> (3): 275–279. <a href=\"/wiki/Digital_object_identifier\" title=\"Digital object identifier\">doi</a>:<a rel=\"nofollow\" class=\"external text\" href=\"//doi.org/10.1007%2Fs10994-011-5242-y\">10.1007/s10994-011-5242-y</a>.</cite><span title=\"ctx_ver=Z39.88-2004&amp;rft_val_fmt=info%3Aofi%2Ffmt%3Akev%3Amtx%3Ajournal&amp;rft.genre=article&amp;rft.jtitle=Machine+Learning&amp;rft.atitle=The+changing+science+of+machine+learning&amp;rft.volume=82&amp;rft.issue=3&amp;rft.pages=275-279&amp;rft.date=2011&amp;rft_id=info%3Adoi%2F10.1007%2Fs10994-011-5242-y&amp;rft.aulast=Langley&amp;rft.aufirst=Pat&amp;rfr_id=info%3Asid%2Fen.wikipedia.org%3AMachine+learning\" class=\"Z3988\"></span><link rel=\"mw-deduplicated-inline-style\" href=\"mw-data:TemplateStyles:r886058088\"/></span>\n",
            "</li>\n",
            "<li id=\"cite_note-12\"><span class=\"mw-cite-backlink\"><b><a href=\"#cite_ref-12\">^</a></b></span> <span class=\"reference-text\"><cite class=\"citation encyclopaedia\">Le Roux, Nicolas; Bengio, Yoshua; Fitzgibbon, Andrew (2012). \"Improving First and Second-Order Methods by Modeling Uncertainty\".  In Sra, Suvrit; Nowozin, Sebastian; Wright, Stephen J. (eds.). <i>Optimization for Machine Learning</i>. MIT Press. p.&#160;404.</cite><span title=\"ctx_ver=Z39.88-2004&amp;rft_val_fmt=info%3Aofi%2Ffmt%3Akev%3Amtx%3Abook&amp;rft.genre=bookitem&amp;rft.atitle=Improving+First+and+Second-Order+Methods+by+Modeling+Uncertainty&amp;rft.btitle=Optimization+for+Machine+Learning&amp;rft.pages=404&amp;rft.pub=MIT+Press&amp;rft.date=2012&amp;rft.aulast=Le+Roux&amp;rft.aufirst=Nicolas&amp;rft.au=Bengio%2C+Yoshua&amp;rft.au=Fitzgibbon%2C+Andrew&amp;rfr_id=info%3Asid%2Fen.wikipedia.org%3AMachine+learning\" class=\"Z3988\"></span><link rel=\"mw-deduplicated-inline-style\" href=\"mw-data:TemplateStyles:r886058088\"/></span>\n",
            "</li>\n",
            "<li id=\"cite_note-mi_jordan_ama-13\"><span class=\"mw-cite-backlink\">^ <a href=\"#cite_ref-mi_jordan_ama_13-0\"><sup><i><b>a</b></i></sup></a> <a href=\"#cite_ref-mi_jordan_ama_13-1\"><sup><i><b>b</b></i></sup></a></span> <span class=\"reference-text\"><cite class=\"citation web\"><a href=\"/wiki/Michael_I._Jordan\" title=\"Michael I. Jordan\">Michael I. Jordan</a> (2014-09-10). <a rel=\"nofollow\" class=\"external text\" href=\"https://www.reddit.com/r/MachineLearning/comments/2fxi6v/ama_michael_i_jordan/ckelmtt?context=3\">\"statistics and machine learning\"</a>. reddit<span class=\"reference-accessdate\">. Retrieved <span class=\"nowrap\">2014-10-01</span></span>.</cite><span title=\"ctx_ver=Z39.88-2004&amp;rft_val_fmt=info%3Aofi%2Ffmt%3Akev%3Amtx%3Abook&amp;rft.genre=unknown&amp;rft.btitle=statistics+and+machine+learning&amp;rft.pub=reddit&amp;rft.date=2014-09-10&amp;rft.au=Michael+I.+Jordan&amp;rft_id=https%3A%2F%2Fwww.reddit.com%2Fr%2FMachineLearning%2Fcomments%2F2fxi6v%2Fama_michael_i_jordan%2Fckelmtt%3Fcontext%3D3&amp;rfr_id=info%3Asid%2Fen.wikipedia.org%3AMachine+learning\" class=\"Z3988\"></span><link rel=\"mw-deduplicated-inline-style\" href=\"mw-data:TemplateStyles:r886058088\"/></span>\n",
            "</li>\n",
            "<li id=\"cite_note-14\"><span class=\"mw-cite-backlink\"><b><a href=\"#cite_ref-14\">^</a></b></span> <span class=\"reference-text\"><cite class=\"citation web\">Cornell University Library. <a rel=\"nofollow\" class=\"external text\" href=\"http://projecteuclid.org/download/pdf_1/euclid.ss/1009213726\">\"Breiman: Statistical Modeling: The Two Cultures (with comments and a rejoinder by the author)\"</a><span class=\"reference-accessdate\">. Retrieved <span class=\"nowrap\">8 August</span> 2015</span>.</cite><span title=\"ctx_ver=Z39.88-2004&amp;rft_val_fmt=info%3Aofi%2Ffmt%3Akev%3Amtx%3Abook&amp;rft.genre=unknown&amp;rft.btitle=Breiman%3A+Statistical+Modeling%3A+The+Two+Cultures+%28with+comments+and+a+rejoinder+by+the+author%29&amp;rft.au=Cornell+University+Library&amp;rft_id=http%3A%2F%2Fprojecteuclid.org%2Fdownload%2Fpdf_1%2Feuclid.ss%2F1009213726&amp;rfr_id=info%3Asid%2Fen.wikipedia.org%3AMachine+learning\" class=\"Z3988\"></span><link rel=\"mw-deduplicated-inline-style\" href=\"mw-data:TemplateStyles:r886058088\"/></span>\n",
            "</li>\n",
            "<li id=\"cite_note-islr-15\"><span class=\"mw-cite-backlink\"><b><a href=\"#cite_ref-islr_15-0\">^</a></b></span> <span class=\"reference-text\"><cite class=\"citation book\">Gareth James; Daniela Witten; Trevor Hastie; Robert Tibshirani (2013). <a rel=\"nofollow\" class=\"external text\" href=\"http://www-bcf.usc.edu/~gareth/ISL/\"><i>An Introduction to Statistical Learning</i></a>. Springer. p.&#160;vii.</cite><span title=\"ctx_ver=Z39.88-2004&amp;rft_val_fmt=info%3Aofi%2Ffmt%3Akev%3Amtx%3Abook&amp;rft.genre=book&amp;rft.btitle=An+Introduction+to+Statistical+Learning&amp;rft.pages=vii&amp;rft.pub=Springer&amp;rft.date=2013&amp;rft.au=Gareth+James&amp;rft.au=Daniela+Witten&amp;rft.au=Trevor+Hastie&amp;rft.au=Robert+Tibshirani&amp;rft_id=http%3A%2F%2Fwww-bcf.usc.edu%2F~gareth%2FISL%2F&amp;rfr_id=info%3Asid%2Fen.wikipedia.org%3AMachine+learning\" class=\"Z3988\"></span><link rel=\"mw-deduplicated-inline-style\" href=\"mw-data:TemplateStyles:r886058088\"/></span>\n",
            "</li>\n",
            "<li id=\"cite_note-16\"><span class=\"mw-cite-backlink\"><b><a href=\"#cite_ref-16\">^</a></b></span> <span class=\"reference-text\"><cite class=\"citation book\"><a href=\"/wiki/Mehryar_Mohri\" title=\"Mehryar Mohri\">Mohri, Mehryar</a>; Rostamizadeh, Afshin; Talwalkar, Ameet (2012). <i>Foundations of Machine Learning</i>. USA, Massachusetts: MIT Press. <a href=\"/wiki/International_Standard_Book_Number\" title=\"International Standard Book Number\">ISBN</a>&#160;<a href=\"/wiki/Special:BookSources/9780262018258\" title=\"Special:BookSources/9780262018258\"><bdi>9780262018258</bdi></a>.</cite><span title=\"ctx_ver=Z39.88-2004&amp;rft_val_fmt=info%3Aofi%2Ffmt%3Akev%3Amtx%3Abook&amp;rft.genre=book&amp;rft.btitle=Foundations+of+Machine+Learning&amp;rft.place=USA%2C+Massachusetts&amp;rft.pub=MIT+Press&amp;rft.date=2012&amp;rft.isbn=9780262018258&amp;rft.aulast=Mohri&amp;rft.aufirst=Mehryar&amp;rft.au=Rostamizadeh%2C+Afshin&amp;rft.au=Talwalkar%2C+Ameet&amp;rfr_id=info%3Asid%2Fen.wikipedia.org%3AMachine+learning\" class=\"Z3988\"></span><link rel=\"mw-deduplicated-inline-style\" href=\"mw-data:TemplateStyles:r886058088\"/></span>\n",
            "</li>\n",
            "<li id=\"cite_note-alpaydin-17\"><span class=\"mw-cite-backlink\"><b><a href=\"#cite_ref-alpaydin_17-0\">^</a></b></span> <span class=\"reference-text\"><cite class=\"citation book\">Alpaydin, Ethem (2010). <a rel=\"nofollow\" class=\"external text\" href=\"https://mitpress.mit.edu/books/introduction-machine-learning\"><i>Introduction to Machine Learning</i></a>. London: The MIT Press. <a href=\"/wiki/International_Standard_Book_Number\" title=\"International Standard Book Number\">ISBN</a>&#160;<a href=\"/wiki/Special:BookSources/978-0-262-01243-0\" title=\"Special:BookSources/978-0-262-01243-0\"><bdi>978-0-262-01243-0</bdi></a><span class=\"reference-accessdate\">. Retrieved <span class=\"nowrap\">4 February</span> 2017</span>.</cite><span title=\"ctx_ver=Z39.88-2004&amp;rft_val_fmt=info%3Aofi%2Ffmt%3Akev%3Amtx%3Abook&amp;rft.genre=book&amp;rft.btitle=Introduction+to+Machine+Learning&amp;rft.place=London&amp;rft.pub=The+MIT+Press&amp;rft.date=2010&amp;rft.isbn=978-0-262-01243-0&amp;rft.au=Alpaydin%2C+Ethem&amp;rft_id=https%3A%2F%2Fmitpress.mit.edu%2Fbooks%2Fintroduction-machine-learning&amp;rfr_id=info%3Asid%2Fen.wikipedia.org%3AMachine+learning\" class=\"Z3988\"></span><link rel=\"mw-deduplicated-inline-style\" href=\"mw-data:TemplateStyles:r886058088\"/></span>\n",
            "</li>\n",
            "<li id=\"cite_note-18\"><span class=\"mw-cite-backlink\"><b><a href=\"#cite_ref-18\">^</a></b></span> <span class=\"reference-text\"><cite class=\"citation book\">Russell, Stuart J.; Norvig, Peter (2010). <a href=\"/wiki/Artificial_Intelligence:_A_Modern_Approach\" title=\"Artificial Intelligence: A Modern Approach\"><i>Artificial Intelligence: A Modern Approach</i></a> (Third ed.). Prentice Hall. <a href=\"/wiki/International_Standard_Book_Number\" title=\"International Standard Book Number\">ISBN</a>&#160;<a href=\"/wiki/Special:BookSources/9780136042594\" title=\"Special:BookSources/9780136042594\"><bdi>9780136042594</bdi></a>.</cite><span title=\"ctx_ver=Z39.88-2004&amp;rft_val_fmt=info%3Aofi%2Ffmt%3Akev%3Amtx%3Abook&amp;rft.genre=book&amp;rft.btitle=Artificial+Intelligence%3A+A+Modern+Approach&amp;rft.edition=Third&amp;rft.pub=Prentice+Hall&amp;rft.date=2010&amp;rft.isbn=9780136042594&amp;rft.aulast=Russell&amp;rft.aufirst=Stuart+J.&amp;rft.au=Norvig%2C+Peter&amp;rfr_id=info%3Asid%2Fen.wikipedia.org%3AMachine+learning\" class=\"Z3988\"></span><link rel=\"mw-deduplicated-inline-style\" href=\"mw-data:TemplateStyles:r886058088\"/></span>\n",
            "</li>\n",
            "<li id=\"cite_note-19\"><span class=\"mw-cite-backlink\"><b><a href=\"#cite_ref-19\">^</a></b></span> <span class=\"reference-text\"><cite class=\"citation book\">Mohri, Mehryar; Rostamizadeh, Afshin; Talwalkar, Ameet (2012). <i>Foundations of Machine Learning</i>. The MIT Press. <a href=\"/wiki/International_Standard_Book_Number\" title=\"International Standard Book Number\">ISBN</a>&#160;<a href=\"/wiki/Special:BookSources/9780262018258\" title=\"Special:BookSources/9780262018258\"><bdi>9780262018258</bdi></a>.</cite><span title=\"ctx_ver=Z39.88-2004&amp;rft_val_fmt=info%3Aofi%2Ffmt%3Akev%3Amtx%3Abook&amp;rft.genre=book&amp;rft.btitle=Foundations+of+Machine+Learning&amp;rft.pub=The+MIT+Press&amp;rft.date=2012&amp;rft.isbn=9780262018258&amp;rft.aulast=Mohri&amp;rft.aufirst=Mehryar&amp;rft.au=Rostamizadeh%2C+Afshin&amp;rft.au=Talwalkar%2C+Ameet&amp;rfr_id=info%3Asid%2Fen.wikipedia.org%3AMachine+learning\" class=\"Z3988\"></span><link rel=\"mw-deduplicated-inline-style\" href=\"mw-data:TemplateStyles:r886058088\"/></span>\n",
            "</li>\n",
            "<li id=\"cite_note-20\"><span class=\"mw-cite-backlink\"><b><a href=\"#cite_ref-20\">^</a></b></span> <span class=\"reference-text\"><cite class=\"citation book\">Alpaydin, Ethem (2010). <a rel=\"nofollow\" class=\"external text\" href=\"https://books.google.com/books?id=7f5bBAAAQBAJ&amp;printsec=frontcover#v=onepage&amp;q=classification&amp;f=false\"><i>Introduction to Machine Learning</i></a>. MIT Press. p.&#160;9. <a href=\"/wiki/International_Standard_Book_Number\" title=\"International Standard Book Number\">ISBN</a>&#160;<a href=\"/wiki/Special:BookSources/978-0-262-01243-0\" title=\"Special:BookSources/978-0-262-01243-0\"><bdi>978-0-262-01243-0</bdi></a>.</cite><span title=\"ctx_ver=Z39.88-2004&amp;rft_val_fmt=info%3Aofi%2Ffmt%3Akev%3Amtx%3Abook&amp;rft.genre=book&amp;rft.btitle=Introduction+to+Machine+Learning&amp;rft.pages=9&amp;rft.pub=MIT+Press&amp;rft.date=2010&amp;rft.isbn=978-0-262-01243-0&amp;rft.aulast=Alpaydin&amp;rft.aufirst=Ethem&amp;rft_id=https%3A%2F%2Fbooks.google.com%2Fbooks%3Fid%3D7f5bBAAAQBAJ%26printsec%3Dfrontcover%23v%3Donepage%26q%3Dclassification%26f%3Dfalse&amp;rfr_id=info%3Asid%2Fen.wikipedia.org%3AMachine+learning\" class=\"Z3988\"></span><link rel=\"mw-deduplicated-inline-style\" href=\"mw-data:TemplateStyles:r886058088\"/></span>\n",
            "</li>\n",
            "<li id=\"cite_note-21\"><span class=\"mw-cite-backlink\"><b><a href=\"#cite_ref-21\">^</a></b></span> <span class=\"reference-text\"><cite class=\"citation web\">Alex Ratner, Stephen Bach, Paroma Varma, Chris Ré And referencing work by many other members of Hazy Research. <a rel=\"nofollow\" class=\"external text\" href=\"https://hazyresearch.github.io/snorkel/blog/ws_blog_post.html\">\"Weak Supervision: The New Programming Paradigm for Machine Learning\"</a>. <i>hazyresearch.github.io</i><span class=\"reference-accessdate\">. Retrieved <span class=\"nowrap\">2019-06-06</span></span>.</cite><span title=\"ctx_ver=Z39.88-2004&amp;rft_val_fmt=info%3Aofi%2Ffmt%3Akev%3Amtx%3Ajournal&amp;rft.genre=unknown&amp;rft.jtitle=hazyresearch.github.io&amp;rft.atitle=Weak+Supervision%3A+The+New+Programming+Paradigm+for+Machine+Learning&amp;rft.au=Alex+Ratner%2C+Stephen+Bach%2C+Paroma+Varma%2C+Chris+R%C3%A9+And+referencing+work+by+many+other+members+of+Hazy+Research&amp;rft_id=https%3A%2F%2Fhazyresearch.github.io%2Fsnorkel%2Fblog%2Fws_blog_post.html&amp;rfr_id=info%3Asid%2Fen.wikipedia.org%3AMachine+learning\" class=\"Z3988\"></span><span class=\"cs1-maint citation-comment\">CS1 maint: Multiple names: authors list (<a href=\"/wiki/Category:CS1_maint:_Multiple_names:_authors_list\" title=\"Category:CS1 maint: Multiple names: authors list\">link</a>)</span><link rel=\"mw-deduplicated-inline-style\" href=\"mw-data:TemplateStyles:r886058088\"/></span>\n",
            "</li>\n",
            "<li id=\"cite_note-JordanBishop2004-22\"><span class=\"mw-cite-backlink\"><b><a href=\"#cite_ref-JordanBishop2004_22-0\">^</a></b></span> <span class=\"reference-text\"><cite class=\"citation book\">Jordan, Michael I.; Bishop, Christopher M. (2004). \"Neural Networks\".  In Allen B. Tucker (ed.). <i>Computer Science Handbook, Second Edition (Section VII: Intelligent Systems)</i>. Boca Raton, Florida: Chapman &amp; Hall/CRC Press LLC. <a href=\"/wiki/International_Standard_Book_Number\" title=\"International Standard Book Number\">ISBN</a>&#160;<a href=\"/wiki/Special:BookSources/978-1-58488-360-9\" title=\"Special:BookSources/978-1-58488-360-9\"><bdi>978-1-58488-360-9</bdi></a>.</cite><span title=\"ctx_ver=Z39.88-2004&amp;rft_val_fmt=info%3Aofi%2Ffmt%3Akev%3Amtx%3Abook&amp;rft.genre=bookitem&amp;rft.atitle=Neural+Networks&amp;rft.btitle=Computer+Science+Handbook%2C+Second+Edition+%28Section+VII%3A+Intelligent+Systems%29&amp;rft.place=Boca+Raton%2C+Florida&amp;rft.pub=Chapman+%26+Hall%2FCRC+Press+LLC&amp;rft.date=2004&amp;rft.isbn=978-1-58488-360-9&amp;rft.aulast=Jordan&amp;rft.aufirst=Michael+I.&amp;rft.au=Bishop%2C+Christopher+M.&amp;rfr_id=info%3Asid%2Fen.wikipedia.org%3AMachine+learning\" class=\"Z3988\"></span><link rel=\"mw-deduplicated-inline-style\" href=\"mw-data:TemplateStyles:r886058088\"/></span>\n",
            "</li>\n",
            "<li id=\"cite_note-Bert12-23\"><span class=\"mw-cite-backlink\">^ <a href=\"#cite_ref-Bert12_23-0\"><sup><i><b>a</b></i></sup></a> <a href=\"#cite_ref-Bert12_23-1\"><sup><i><b>b</b></i></sup></a> <a href=\"#cite_ref-Bert12_23-2\"><sup><i><b>c</b></i></sup></a></span> <span class=\"reference-text\"><a href=\"/wiki/Dimitri_Bertsekas\" title=\"Dimitri Bertsekas\">Dimitri P. Bertsekas</a>. \"Dynamic Programming and Optimal Control: Approximate Dynamic Programming, Vol.II\", Athena Scientific, 2012,<a rel=\"nofollow\" class=\"external autonumber\" href=\"http://www.athenasc.com/dpbook.html\">[1]</a></span>\n",
            "</li>\n",
            "<li id=\"cite_note-BertTsi96-24\"><span class=\"mw-cite-backlink\">^ <a href=\"#cite_ref-BertTsi96_24-0\"><sup><i><b>a</b></i></sup></a> <a href=\"#cite_ref-BertTsi96_24-1\"><sup><i><b>b</b></i></sup></a> <a href=\"#cite_ref-BertTsi96_24-2\"><sup><i><b>c</b></i></sup></a></span> <span class=\"reference-text\">Dimitri P. Bertsekas and <a href=\"/wiki/John_Tsitsiklis\" title=\"John Tsitsiklis\">John N. Tsitsiklis</a>. \"Neuro-Dynamic Programming\", Athena Scientific, 1996,<a rel=\"nofollow\" class=\"external autonumber\" href=\"http://www.athenasc.com/ndpbook.html\">[2]</a></span>\n",
            "</li>\n",
            "<li id=\"cite_note-25\"><span class=\"mw-cite-backlink\"><b><a href=\"#cite_ref-25\">^</a></b></span> <span class=\"reference-text\"><cite class=\"citation book\">van Otterlo, M.; Wiering, M. (2012). <i>Reinforcement learning and markov decision processes</i>. <i>Reinforcement Learning</i>. Adaptation, Learning, and Optimization. <b>12</b>. pp.&#160;3–42. <a href=\"/wiki/Digital_object_identifier\" title=\"Digital object identifier\">doi</a>:<a rel=\"nofollow\" class=\"external text\" href=\"//doi.org/10.1007%2F978-3-642-27645-3_1\">10.1007/978-3-642-27645-3_1</a>. <a href=\"/wiki/International_Standard_Book_Number\" title=\"International Standard Book Number\">ISBN</a>&#160;<a href=\"/wiki/Special:BookSources/978-3-642-27644-6\" title=\"Special:BookSources/978-3-642-27644-6\"><bdi>978-3-642-27644-6</bdi></a>.</cite><span title=\"ctx_ver=Z39.88-2004&amp;rft_val_fmt=info%3Aofi%2Ffmt%3Akev%3Amtx%3Abook&amp;rft.genre=book&amp;rft.btitle=Reinforcement+learning+and+markov+decision+processes&amp;rft.series=Adaptation%2C+Learning%2C+and+Optimization&amp;rft.pages=3-42&amp;rft.date=2012&amp;rft_id=info%3Adoi%2F10.1007%2F978-3-642-27645-3_1&amp;rft.isbn=978-3-642-27644-6&amp;rft.au=van+Otterlo%2C+M.&amp;rft.au=Wiering%2C+M.&amp;rfr_id=info%3Asid%2Fen.wikipedia.org%3AMachine+learning\" class=\"Z3988\"></span><link rel=\"mw-deduplicated-inline-style\" href=\"mw-data:TemplateStyles:r886058088\"/></span>\n",
            "</li>\n",
            "<li id=\"cite_note-pami-26\"><span class=\"mw-cite-backlink\"><b><a href=\"#cite_ref-pami_26-0\">^</a></b></span> <span class=\"reference-text\"><cite class=\"citation journal\">Y. Bengio; A. Courville; P. Vincent (2013). \"Representation Learning: A Review and New Perspectives\". <i>IEEE Trans. PAMI, Special Issue Learning Deep Architectures</i>. <b>35</b> (8): 1798–1828. <a href=\"/wiki/ArXiv\" title=\"ArXiv\">arXiv</a>:<span class=\"cs1-lock-free\" title=\"Freely accessible\"><a rel=\"nofollow\" class=\"external text\" href=\"//arxiv.org/abs/1206.5538\">1206.5538</a></span>. <a href=\"/wiki/Digital_object_identifier\" title=\"Digital object identifier\">doi</a>:<a rel=\"nofollow\" class=\"external text\" href=\"//doi.org/10.1109%2Ftpami.2013.50\">10.1109/tpami.2013.50</a>. <a href=\"/wiki/PubMed_Identifier\" class=\"mw-redirect\" title=\"PubMed Identifier\">PMID</a>&#160;<a rel=\"nofollow\" class=\"external text\" href=\"//www.ncbi.nlm.nih.gov/pubmed/23787338\">23787338</a>.</cite><span title=\"ctx_ver=Z39.88-2004&amp;rft_val_fmt=info%3Aofi%2Ffmt%3Akev%3Amtx%3Ajournal&amp;rft.genre=article&amp;rft.jtitle=IEEE+Trans.+PAMI%2C+Special+Issue+Learning+Deep+Architectures&amp;rft.atitle=Representation+Learning%3A+A+Review+and+New+Perspectives&amp;rft.volume=35&amp;rft.issue=8&amp;rft.pages=1798-1828&amp;rft.date=2013&amp;rft_id=info%3Aarxiv%2F1206.5538&amp;rft_id=info%3Apmid%2F23787338&amp;rft_id=info%3Adoi%2F10.1109%2Ftpami.2013.50&amp;rft.au=Y.+Bengio&amp;rft.au=A.+Courville&amp;rft.au=P.+Vincent&amp;rfr_id=info%3Asid%2Fen.wikipedia.org%3AMachine+learning\" class=\"Z3988\"></span><link rel=\"mw-deduplicated-inline-style\" href=\"mw-data:TemplateStyles:r886058088\"/></span>\n",
            "</li>\n",
            "<li id=\"cite_note-27\"><span class=\"mw-cite-backlink\"><b><a href=\"#cite_ref-27\">^</a></b></span> <span class=\"reference-text\"><cite class=\"citation conference\">Nathan Srebro; Jason D. M. Rennie; Tommi S. Jaakkola (2004). <i>Maximum-Margin Matrix Factorization</i>. <a href=\"/wiki/Conference_on_Neural_Information_Processing_Systems\" title=\"Conference on Neural Information Processing Systems\">NIPS</a>.</cite><span title=\"ctx_ver=Z39.88-2004&amp;rft_val_fmt=info%3Aofi%2Ffmt%3Akev%3Amtx%3Abook&amp;rft.genre=conference&amp;rft.btitle=Maximum-Margin+Matrix+Factorization&amp;rft.date=2004&amp;rft.au=Nathan+Srebro&amp;rft.au=Jason+D.+M.+Rennie&amp;rft.au=Tommi+S.+Jaakkola&amp;rfr_id=info%3Asid%2Fen.wikipedia.org%3AMachine+learning\" class=\"Z3988\"></span><link rel=\"mw-deduplicated-inline-style\" href=\"mw-data:TemplateStyles:r886058088\"/></span>\n",
            "</li>\n",
            "<li id=\"cite_note-coates2011-28\"><span class=\"mw-cite-backlink\"><b><a href=\"#cite_ref-coates2011_28-0\">^</a></b></span> <span class=\"reference-text\"><cite class=\"citation conference\">Coates, Adam; Lee, Honglak; Ng, Andrew Y. (2011). <a rel=\"nofollow\" class=\"external text\" href=\"http://machinelearning.wustl.edu/mlpapers/paper_files/AISTATS2011_CoatesNL11.pdf\"><i>An analysis of single-layer networks in unsupervised feature learning</i></a> <span class=\"cs1-format\">(PDF)</span>. Int'l Conf. on AI and Statistics (AISTATS).</cite><span title=\"ctx_ver=Z39.88-2004&amp;rft_val_fmt=info%3Aofi%2Ffmt%3Akev%3Amtx%3Abook&amp;rft.genre=conference&amp;rft.btitle=An+analysis+of+single-layer+networks+in+unsupervised+feature+learning&amp;rft.date=2011&amp;rft.aulast=Coates&amp;rft.aufirst=Adam&amp;rft.au=Lee%2C+Honglak&amp;rft.au=Ng%2C+Andrew+Y.&amp;rft_id=http%3A%2F%2Fmachinelearning.wustl.edu%2Fmlpapers%2Fpaper_files%2FAISTATS2011_CoatesNL11.pdf&amp;rfr_id=info%3Asid%2Fen.wikipedia.org%3AMachine+learning\" class=\"Z3988\"></span><link rel=\"mw-deduplicated-inline-style\" href=\"mw-data:TemplateStyles:r886058088\"/></span>\n",
            "</li>\n",
            "<li id=\"cite_note-29\"><span class=\"mw-cite-backlink\"><b><a href=\"#cite_ref-29\">^</a></b></span> <span class=\"reference-text\"><cite class=\"citation conference\">Csurka, Gabriella; Dance, Christopher C.; Fan, Lixin; Willamowski, Jutta; Bray, Cédric (2004). <a rel=\"nofollow\" class=\"external text\" href=\"http://www.cs.cmu.edu/~efros/courses/LBMV07/Papers/csurka-eccv-04.pdf\"><i>Visual categorization with bags of keypoints</i></a> <span class=\"cs1-format\">(PDF)</span>. ECCV Workshop on Statistical Learning in Computer Vision.</cite><span title=\"ctx_ver=Z39.88-2004&amp;rft_val_fmt=info%3Aofi%2Ffmt%3Akev%3Amtx%3Abook&amp;rft.genre=conference&amp;rft.btitle=Visual+categorization+with+bags+of+keypoints&amp;rft.date=2004&amp;rft.aulast=Csurka&amp;rft.aufirst=Gabriella&amp;rft.au=Dance%2C+Christopher+C.&amp;rft.au=Fan%2C+Lixin&amp;rft.au=Willamowski%2C+Jutta&amp;rft.au=Bray%2C+C%C3%A9dric&amp;rft_id=http%3A%2F%2Fwww.cs.cmu.edu%2F~efros%2Fcourses%2FLBMV07%2FPapers%2Fcsurka-eccv-04.pdf&amp;rfr_id=info%3Asid%2Fen.wikipedia.org%3AMachine+learning\" class=\"Z3988\"></span><link rel=\"mw-deduplicated-inline-style\" href=\"mw-data:TemplateStyles:r886058088\"/></span>\n",
            "</li>\n",
            "<li id=\"cite_note-jurafsky-30\"><span class=\"mw-cite-backlink\"><b><a href=\"#cite_ref-jurafsky_30-0\">^</a></b></span> <span class=\"reference-text\"><cite class=\"citation book\">Daniel Jurafsky; James H. Martin (2009). <i>Speech and Language Processing</i>. Pearson Education International. pp.&#160;145–146.</cite><span title=\"ctx_ver=Z39.88-2004&amp;rft_val_fmt=info%3Aofi%2Ffmt%3Akev%3Amtx%3Abook&amp;rft.genre=book&amp;rft.btitle=Speech+and+Language+Processing&amp;rft.pages=145-146&amp;rft.pub=Pearson+Education+International&amp;rft.date=2009&amp;rft.au=Daniel+Jurafsky&amp;rft.au=James+H.+Martin&amp;rfr_id=info%3Asid%2Fen.wikipedia.org%3AMachine+learning\" class=\"Z3988\"></span><link rel=\"mw-deduplicated-inline-style\" href=\"mw-data:TemplateStyles:r886058088\"/></span>\n",
            "</li>\n",
            "<li id=\"cite_note-31\"><span class=\"mw-cite-backlink\"><b><a href=\"#cite_ref-31\">^</a></b></span> <span class=\"reference-text\"><cite class=\"citation journal\">Lu, Haiping; Plataniotis, K.N.; Venetsanopoulos, A.N. (2011). <a rel=\"nofollow\" class=\"external text\" href=\"http://www.dsp.utoronto.ca/~haiping/Publication/SurveyMSL_PR2011.pdf\">\"A Survey of Multilinear Subspace Learning for Tensor Data\"</a> <span class=\"cs1-format\">(PDF)</span>. <i>Pattern Recognition</i>. <b>44</b> (7): 1540–1551. <a href=\"/wiki/Digital_object_identifier\" title=\"Digital object identifier\">doi</a>:<a rel=\"nofollow\" class=\"external text\" href=\"//doi.org/10.1016%2Fj.patcog.2011.01.004\">10.1016/j.patcog.2011.01.004</a>.</cite><span title=\"ctx_ver=Z39.88-2004&amp;rft_val_fmt=info%3Aofi%2Ffmt%3Akev%3Amtx%3Ajournal&amp;rft.genre=article&amp;rft.jtitle=Pattern+Recognition&amp;rft.atitle=A+Survey+of+Multilinear+Subspace+Learning+for+Tensor+Data&amp;rft.volume=44&amp;rft.issue=7&amp;rft.pages=1540-1551&amp;rft.date=2011&amp;rft_id=info%3Adoi%2F10.1016%2Fj.patcog.2011.01.004&amp;rft.aulast=Lu&amp;rft.aufirst=Haiping&amp;rft.au=Plataniotis%2C+K.N.&amp;rft.au=Venetsanopoulos%2C+A.N.&amp;rft_id=http%3A%2F%2Fwww.dsp.utoronto.ca%2F~haiping%2FPublication%2FSurveyMSL_PR2011.pdf&amp;rfr_id=info%3Asid%2Fen.wikipedia.org%3AMachine+learning\" class=\"Z3988\"></span><link rel=\"mw-deduplicated-inline-style\" href=\"mw-data:TemplateStyles:r886058088\"/></span>\n",
            "</li>\n",
            "<li id=\"cite_note-32\"><span class=\"mw-cite-backlink\"><b><a href=\"#cite_ref-32\">^</a></b></span> <span class=\"reference-text\"><cite class=\"citation book\"><a href=\"/wiki/Yoshua_Bengio\" title=\"Yoshua Bengio\">Yoshua Bengio</a> (2009). <a rel=\"nofollow\" class=\"external text\" href=\"https://books.google.com/books?id=cq5ewg7FniMC&amp;pg=PA3\"><i>Learning Deep Architectures for AI</i></a>. Now Publishers Inc. pp.&#160;1–3. <a href=\"/wiki/International_Standard_Book_Number\" title=\"International Standard Book Number\">ISBN</a>&#160;<a href=\"/wiki/Special:BookSources/978-1-60198-294-0\" title=\"Special:BookSources/978-1-60198-294-0\"><bdi>978-1-60198-294-0</bdi></a>.</cite><span title=\"ctx_ver=Z39.88-2004&amp;rft_val_fmt=info%3Aofi%2Ffmt%3Akev%3Amtx%3Abook&amp;rft.genre=book&amp;rft.btitle=Learning+Deep+Architectures+for+AI&amp;rft.pages=1-3&amp;rft.pub=Now+Publishers+Inc.&amp;rft.date=2009&amp;rft.isbn=978-1-60198-294-0&amp;rft.au=Yoshua+Bengio&amp;rft_id=https%3A%2F%2Fbooks.google.com%2Fbooks%3Fid%3Dcq5ewg7FniMC%26pg%3DPA3&amp;rfr_id=info%3Asid%2Fen.wikipedia.org%3AMachine+learning\" class=\"Z3988\"></span><link rel=\"mw-deduplicated-inline-style\" href=\"mw-data:TemplateStyles:r886058088\"/></span>\n",
            "</li>\n",
            "<li id=\"cite_note-33\"><span class=\"mw-cite-backlink\"><b><a href=\"#cite_ref-33\">^</a></b></span> <span class=\"reference-text\"><cite class=\"citation journal\">Tillmann, A. M. (2015). \"On the Computational Intractability of Exact and Approximate Dictionary Learning\". <i>IEEE Signal Processing Letters</i>. <b>22</b> (1): 45–49. <a href=\"/wiki/ArXiv\" title=\"ArXiv\">arXiv</a>:<span class=\"cs1-lock-free\" title=\"Freely accessible\"><a rel=\"nofollow\" class=\"external text\" href=\"//arxiv.org/abs/1405.6664\">1405.6664</a></span>. <a href=\"/wiki/Bibcode\" title=\"Bibcode\">Bibcode</a>:<a rel=\"nofollow\" class=\"external text\" href=\"http://adsabs.harvard.edu/abs/2015ISPL...22...45T\">2015ISPL...22...45T</a>. <a href=\"/wiki/Digital_object_identifier\" title=\"Digital object identifier\">doi</a>:<a rel=\"nofollow\" class=\"external text\" href=\"//doi.org/10.1109%2FLSP.2014.2345761\">10.1109/LSP.2014.2345761</a>.</cite><span title=\"ctx_ver=Z39.88-2004&amp;rft_val_fmt=info%3Aofi%2Ffmt%3Akev%3Amtx%3Ajournal&amp;rft.genre=article&amp;rft.jtitle=IEEE+Signal+Processing+Letters&amp;rft.atitle=On+the+Computational+Intractability+of+Exact+and+Approximate+Dictionary+Learning&amp;rft.volume=22&amp;rft.issue=1&amp;rft.pages=45-49&amp;rft.date=2015&amp;rft_id=info%3Aarxiv%2F1405.6664&amp;rft_id=info%3Adoi%2F10.1109%2FLSP.2014.2345761&amp;rft_id=info%3Abibcode%2F2015ISPL...22...45T&amp;rft.aulast=Tillmann&amp;rft.aufirst=A.+M.&amp;rfr_id=info%3Asid%2Fen.wikipedia.org%3AMachine+learning\" class=\"Z3988\"></span><link rel=\"mw-deduplicated-inline-style\" href=\"mw-data:TemplateStyles:r886058088\"/></span>\n",
            "</li>\n",
            "<li id=\"cite_note-34\"><span class=\"mw-cite-backlink\"><b><a href=\"#cite_ref-34\">^</a></b></span> <span class=\"reference-text\">Aharon, M, M Elad, and A Bruckstein. 2006. \"K-SVD: An Algorithm for Designing Overcomplete Dictionaries for Sparse Representation.\" Signal Processing, IEEE Transactions on 54 (11): 4311–4322</span>\n",
            "</li>\n",
            "<li id=\"cite_note-:0-35\"><span class=\"mw-cite-backlink\"><b><a href=\"#cite_ref-:0_35-0\">^</a></b></span> <span class=\"reference-text\"><cite id=\"CITEREFZimekSchubert2017\" class=\"citation\">Zimek, Arthur; Schubert, Erich (2017), \"Outlier Detection\", <i>Encyclopedia of Database Systems</i>, Springer New York, pp.&#160;1–5, <a href=\"/wiki/Digital_object_identifier\" title=\"Digital object identifier\">doi</a>:<a rel=\"nofollow\" class=\"external text\" href=\"//doi.org/10.1007%2F978-1-4899-7993-3_80719-1\">10.1007/978-1-4899-7993-3_80719-1</a>, <a href=\"/wiki/International_Standard_Book_Number\" title=\"International Standard Book Number\">ISBN</a>&#160;<a href=\"/wiki/Special:BookSources/9781489979933\" title=\"Special:BookSources/9781489979933\"><bdi>9781489979933</bdi></a></cite><span title=\"ctx_ver=Z39.88-2004&amp;rft_val_fmt=info%3Aofi%2Ffmt%3Akev%3Amtx%3Ajournal&amp;rft.genre=article&amp;rft.jtitle=Encyclopedia+of+Database+Systems&amp;rft.atitle=Outlier+Detection&amp;rft.pages=1-5&amp;rft.date=2017&amp;rft_id=info%3Adoi%2F10.1007%2F978-1-4899-7993-3_80719-1&amp;rft.isbn=9781489979933&amp;rft.aulast=Zimek&amp;rft.aufirst=Arthur&amp;rft.au=Schubert%2C+Erich&amp;rfr_id=info%3Asid%2Fen.wikipedia.org%3AMachine+learning\" class=\"Z3988\"></span><link rel=\"mw-deduplicated-inline-style\" href=\"mw-data:TemplateStyles:r886058088\"/></span>\n",
            "</li>\n",
            "<li id=\"cite_note-36\"><span class=\"mw-cite-backlink\"><b><a href=\"#cite_ref-36\">^</a></b></span> <span class=\"reference-text\"><cite class=\"citation journal\">Hodge, V. J.; Austin, J. (2004). <a rel=\"nofollow\" class=\"external text\" href=\"http://eprints.whiterose.ac.uk/767/1/hodgevj4.pdf\">\"A Survey of Outlier Detection Methodologies\"</a> <span class=\"cs1-format\">(PDF)</span>. <i>Artificial Intelligence Review</i>. <b>22</b> (2): 85–126. <a href=\"/wiki/CiteSeerX\" title=\"CiteSeerX\">CiteSeerX</a>&#160;<span class=\"cs1-lock-free\" title=\"Freely accessible\"><a rel=\"nofollow\" class=\"external text\" href=\"//citeseerx.ist.psu.edu/viewdoc/summary?doi=10.1.1.318.4023\">10.1.1.318.4023</a></span>. <a href=\"/wiki/Digital_object_identifier\" title=\"Digital object identifier\">doi</a>:<a rel=\"nofollow\" class=\"external text\" href=\"//doi.org/10.1007%2Fs10462-004-4304-y\">10.1007/s10462-004-4304-y</a>.</cite><span title=\"ctx_ver=Z39.88-2004&amp;rft_val_fmt=info%3Aofi%2Ffmt%3Akev%3Amtx%3Ajournal&amp;rft.genre=article&amp;rft.jtitle=Artificial+Intelligence+Review&amp;rft.atitle=A+Survey+of+Outlier+Detection+Methodologies&amp;rft.volume=22&amp;rft.issue=2&amp;rft.pages=85-126&amp;rft.date=2004&amp;rft_id=%2F%2Fciteseerx.ist.psu.edu%2Fviewdoc%2Fsummary%3Fdoi%3D10.1.1.318.4023&amp;rft_id=info%3Adoi%2F10.1007%2Fs10462-004-4304-y&amp;rft.aulast=Hodge&amp;rft.aufirst=V.+J.&amp;rft.au=Austin%2C+J.&amp;rft_id=http%3A%2F%2Feprints.whiterose.ac.uk%2F767%2F1%2Fhodgevj4.pdf&amp;rfr_id=info%3Asid%2Fen.wikipedia.org%3AMachine+learning\" class=\"Z3988\"></span><link rel=\"mw-deduplicated-inline-style\" href=\"mw-data:TemplateStyles:r886058088\"/></span>\n",
            "</li>\n",
            "<li id=\"cite_note-37\"><span class=\"mw-cite-backlink\"><b><a href=\"#cite_ref-37\">^</a></b></span> <span class=\"reference-text\"><cite class=\"citation journal\">Dokas, Paul; Ertoz, Levent; Kumar, Vipin; Lazarevic, Aleksandar; Srivastava, Jaideep; Tan, Pang-Ning (2002). <a rel=\"nofollow\" class=\"external text\" href=\"http://www.csee.umbc.edu/~kolari1/Mining/ngdm/dokas.pdf\">\"Data mining for network intrusion detection\"</a> <span class=\"cs1-format\">(PDF)</span>. <i>Proceedings NSF Workshop on Next Generation Data Mining</i>.</cite><span title=\"ctx_ver=Z39.88-2004&amp;rft_val_fmt=info%3Aofi%2Ffmt%3Akev%3Amtx%3Ajournal&amp;rft.genre=article&amp;rft.jtitle=Proceedings+NSF+Workshop+on+Next+Generation+Data+Mining&amp;rft.atitle=Data+mining+for+network+intrusion+detection&amp;rft.date=2002&amp;rft.aulast=Dokas&amp;rft.aufirst=Paul&amp;rft.au=Ertoz%2C+Levent&amp;rft.au=Kumar%2C+Vipin&amp;rft.au=Lazarevic%2C+Aleksandar&amp;rft.au=Srivastava%2C+Jaideep&amp;rft.au=Tan%2C+Pang-Ning&amp;rft_id=http%3A%2F%2Fwww.csee.umbc.edu%2F~kolari1%2FMining%2Fngdm%2Fdokas.pdf&amp;rfr_id=info%3Asid%2Fen.wikipedia.org%3AMachine+learning\" class=\"Z3988\"></span><link rel=\"mw-deduplicated-inline-style\" href=\"mw-data:TemplateStyles:r886058088\"/></span>\n",
            "</li>\n",
            "<li id=\"cite_note-ChandolaSurvey-38\"><span class=\"mw-cite-backlink\"><b><a href=\"#cite_ref-ChandolaSurvey_38-0\">^</a></b></span> <span class=\"reference-text\"><cite class=\"citation journal\">Chandola, V.; Banerjee, A.; Kumar, V. (2009). \"Anomaly detection: A survey\". <i><a href=\"/wiki/ACM_Computing_Surveys\" title=\"ACM Computing Surveys\">ACM Computing Surveys</a></i>. <b>41</b> (3): 1–58. <a href=\"/wiki/Digital_object_identifier\" title=\"Digital object identifier\">doi</a>:<a rel=\"nofollow\" class=\"external text\" href=\"//doi.org/10.1145%2F1541880.1541882\">10.1145/1541880.1541882</a>.</cite><span title=\"ctx_ver=Z39.88-2004&amp;rft_val_fmt=info%3Aofi%2Ffmt%3Akev%3Amtx%3Ajournal&amp;rft.genre=article&amp;rft.jtitle=ACM+Computing+Surveys&amp;rft.atitle=Anomaly+detection%3A+A+survey&amp;rft.volume=41&amp;rft.issue=3&amp;rft.pages=1-58&amp;rft.date=2009&amp;rft_id=info%3Adoi%2F10.1145%2F1541880.1541882&amp;rft.aulast=Chandola&amp;rft.aufirst=V.&amp;rft.au=Banerjee%2C+A.&amp;rft.au=Kumar%2C+V.&amp;rfr_id=info%3Asid%2Fen.wikipedia.org%3AMachine+learning\" class=\"Z3988\"></span><link rel=\"mw-deduplicated-inline-style\" href=\"mw-data:TemplateStyles:r886058088\"/></span>\n",
            "</li>\n",
            "<li id=\"cite_note-piatetsky-39\"><span class=\"mw-cite-backlink\"><b><a href=\"#cite_ref-piatetsky_39-0\">^</a></b></span> <span class=\"reference-text\">Piatetsky-Shapiro, Gregory (1991), <i>Discovery, analysis, and presentation of strong rules</i>, in Piatetsky-Shapiro, Gregory; and Frawley, William J.; eds., <i>Knowledge Discovery in Databases</i>, AAAI/MIT Press, Cambridge, MA.</span>\n",
            "</li>\n",
            "<li id=\"cite_note-40\"><span class=\"mw-cite-backlink\"><b><a href=\"#cite_ref-40\">^</a></b></span> <span class=\"reference-text\"><cite class=\"citation journal\">Bassel, George W.; Glaab, Enrico; Marquez, Julietta; Holdsworth, Michael J.; Bacardit, Jaume (2011-09-01). <a rel=\"nofollow\" class=\"external text\" href=\"//www.ncbi.nlm.nih.gov/pmc/articles/PMC3203449\">\"Functional Network Construction in Arabidopsis Using Rule-Based Machine Learning on Large-Scale Data Sets\"</a>. <i>The Plant Cell</i>. <b>23</b> (9): 3101–3116. <a href=\"/wiki/Digital_object_identifier\" title=\"Digital object identifier\">doi</a>:<a rel=\"nofollow\" class=\"external text\" href=\"//doi.org/10.1105%2Ftpc.111.088153\">10.1105/tpc.111.088153</a>. <a href=\"/wiki/International_Standard_Serial_Number\" title=\"International Standard Serial Number\">ISSN</a>&#160;<a rel=\"nofollow\" class=\"external text\" href=\"//www.worldcat.org/issn/1532-298X\">1532-298X</a>. <a href=\"/wiki/PubMed_Central\" title=\"PubMed Central\">PMC</a>&#160;<span class=\"cs1-lock-free\" title=\"Freely accessible\"><a rel=\"nofollow\" class=\"external text\" href=\"//www.ncbi.nlm.nih.gov/pmc/articles/PMC3203449\">3203449</a></span>. <a href=\"/wiki/PubMed_Identifier\" class=\"mw-redirect\" title=\"PubMed Identifier\">PMID</a>&#160;<a rel=\"nofollow\" class=\"external text\" href=\"//www.ncbi.nlm.nih.gov/pubmed/21896882\">21896882</a>.</cite><span title=\"ctx_ver=Z39.88-2004&amp;rft_val_fmt=info%3Aofi%2Ffmt%3Akev%3Amtx%3Ajournal&amp;rft.genre=article&amp;rft.jtitle=The+Plant+Cell&amp;rft.atitle=Functional+Network+Construction+in+Arabidopsis+Using+Rule-Based+Machine+Learning+on+Large-Scale+Data+Sets&amp;rft.volume=23&amp;rft.issue=9&amp;rft.pages=3101-3116&amp;rft.date=2011-09-01&amp;rft_id=%2F%2Fwww.ncbi.nlm.nih.gov%2Fpmc%2Farticles%2FPMC3203449&amp;rft.issn=1532-298X&amp;rft_id=info%3Apmid%2F21896882&amp;rft_id=info%3Adoi%2F10.1105%2Ftpc.111.088153&amp;rft.aulast=Bassel&amp;rft.aufirst=George+W.&amp;rft.au=Glaab%2C+Enrico&amp;rft.au=Marquez%2C+Julietta&amp;rft.au=Holdsworth%2C+Michael+J.&amp;rft.au=Bacardit%2C+Jaume&amp;rft_id=%2F%2Fwww.ncbi.nlm.nih.gov%2Fpmc%2Farticles%2FPMC3203449&amp;rfr_id=info%3Asid%2Fen.wikipedia.org%3AMachine+learning\" class=\"Z3988\"></span><link rel=\"mw-deduplicated-inline-style\" href=\"mw-data:TemplateStyles:r886058088\"/></span>\n",
            "</li>\n",
            "<li id=\"cite_note-mining-41\"><span class=\"mw-cite-backlink\"><b><a href=\"#cite_ref-mining_41-0\">^</a></b></span> <span class=\"reference-text\"><cite class=\"citation book\">Agrawal, R.; Imieliński, T.; Swami, A. (1993). \"Mining association rules between sets of items in large databases\". <i>Proceedings of the 1993 ACM SIGMOD international conference on Management of data - SIGMOD '93</i>. p.&#160;207. <a href=\"/wiki/CiteSeerX\" title=\"CiteSeerX\">CiteSeerX</a>&#160;<span class=\"cs1-lock-free\" title=\"Freely accessible\"><a rel=\"nofollow\" class=\"external text\" href=\"//citeseerx.ist.psu.edu/viewdoc/summary?doi=10.1.1.40.6984\">10.1.1.40.6984</a></span>. <a href=\"/wiki/Digital_object_identifier\" title=\"Digital object identifier\">doi</a>:<a rel=\"nofollow\" class=\"external text\" href=\"//doi.org/10.1145%2F170035.170072\">10.1145/170035.170072</a>. <a href=\"/wiki/International_Standard_Book_Number\" title=\"International Standard Book Number\">ISBN</a>&#160;<a href=\"/wiki/Special:BookSources/978-0897915922\" title=\"Special:BookSources/978-0897915922\"><bdi>978-0897915922</bdi></a>.</cite><span title=\"ctx_ver=Z39.88-2004&amp;rft_val_fmt=info%3Aofi%2Ffmt%3Akev%3Amtx%3Abook&amp;rft.genre=bookitem&amp;rft.atitle=Mining+association+rules+between+sets+of+items+in+large+databases&amp;rft.btitle=Proceedings+of+the+1993+ACM+SIGMOD+international+conference+on+Management+of+data+-+SIGMOD+%2793&amp;rft.pages=207&amp;rft.date=1993&amp;rft_id=%2F%2Fciteseerx.ist.psu.edu%2Fviewdoc%2Fsummary%3Fdoi%3D10.1.1.40.6984&amp;rft_id=info%3Adoi%2F10.1145%2F170035.170072&amp;rft.isbn=978-0897915922&amp;rft.aulast=Agrawal&amp;rft.aufirst=R.&amp;rft.au=Imieli%C5%84ski%2C+T.&amp;rft.au=Swami%2C+A.&amp;rfr_id=info%3Asid%2Fen.wikipedia.org%3AMachine+learning\" class=\"Z3988\"></span><link rel=\"mw-deduplicated-inline-style\" href=\"mw-data:TemplateStyles:r886058088\"/></span>\n",
            "</li>\n",
            "<li id=\"cite_note-42\"><span class=\"mw-cite-backlink\"><b><a href=\"#cite_ref-42\">^</a></b></span> <span class=\"reference-text\"><cite class=\"citation journal\">Urbanowicz, Ryan J.; Moore, Jason H. (2009-09-22). \"Learning Classifier Systems: A Complete Introduction, Review, and Roadmap\". <i>Journal of Artificial Evolution and Applications</i>. <b>2009</b>: 1–25. <a href=\"/wiki/Digital_object_identifier\" title=\"Digital object identifier\">doi</a>:<a rel=\"nofollow\" class=\"external text\" href=\"//doi.org/10.1155%2F2009%2F736398\">10.1155/2009/736398</a>. <a href=\"/wiki/International_Standard_Serial_Number\" title=\"International Standard Serial Number\">ISSN</a>&#160;<a rel=\"nofollow\" class=\"external text\" href=\"//www.worldcat.org/issn/1687-6229\">1687-6229</a>.</cite><span title=\"ctx_ver=Z39.88-2004&amp;rft_val_fmt=info%3Aofi%2Ffmt%3Akev%3Amtx%3Ajournal&amp;rft.genre=article&amp;rft.jtitle=Journal+of+Artificial+Evolution+and+Applications&amp;rft.atitle=Learning+Classifier+Systems%3A+A+Complete+Introduction%2C+Review%2C+and+Roadmap&amp;rft.volume=2009&amp;rft.pages=1-25&amp;rft.date=2009-09-22&amp;rft_id=info%3Adoi%2F10.1155%2F2009%2F736398&amp;rft.issn=1687-6229&amp;rft.aulast=Urbanowicz&amp;rft.aufirst=Ryan+J.&amp;rft.au=Moore%2C+Jason+H.&amp;rfr_id=info%3Asid%2Fen.wikipedia.org%3AMachine+learning\" class=\"Z3988\"></span><link rel=\"mw-deduplicated-inline-style\" href=\"mw-data:TemplateStyles:r886058088\"/></span>\n",
            "</li>\n",
            "<li id=\"cite_note-43\"><span class=\"mw-cite-backlink\"><b><a href=\"#cite_ref-43\">^</a></b></span> <span class=\"reference-text\">Plotkin G.D. <a rel=\"nofollow\" class=\"external text\" href=\"https://www.era.lib.ed.ac.uk/bitstream/handle/1842/6656/Plotkin1972.pdf;sequence=1\">Automatic Methods of Inductive Inference</a>, PhD thesis, University of Edinburgh, 1970.</span>\n",
            "</li>\n",
            "<li id=\"cite_note-44\"><span class=\"mw-cite-backlink\"><b><a href=\"#cite_ref-44\">^</a></b></span> <span class=\"reference-text\">Shapiro, Ehud Y. <a rel=\"nofollow\" class=\"external text\" href=\"http://ftp.cs.yale.edu/publications/techreports/tr192.pdf\">Inductive inference of theories from facts</a>, Research Report 192, Yale University, Department of Computer Science, 1981. Reprinted in J.-L. Lassez, G. Plotkin (Eds.), Computational Logic, The MIT Press, Cambridge, MA, 1991, pp. 199–254.</span>\n",
            "</li>\n",
            "<li id=\"cite_note-45\"><span class=\"mw-cite-backlink\"><b><a href=\"#cite_ref-45\">^</a></b></span> <span class=\"reference-text\">Shapiro, Ehud Y. (1983). <i>Algorithmic program debugging</i>. Cambridge, Mass: MIT Press. <link rel=\"mw-deduplicated-inline-style\" href=\"mw-data:TemplateStyles:r886058088\"/><a href=\"/wiki/International_Standard_Book_Number\" title=\"International Standard Book Number\">ISBN</a>&#160;<a href=\"/wiki/Special:BookSources/0-262-19218-7\" title=\"Special:BookSources/0-262-19218-7\">0-262-19218-7</a></span>\n",
            "</li>\n",
            "<li id=\"cite_note-46\"><span class=\"mw-cite-backlink\"><b><a href=\"#cite_ref-46\">^</a></b></span> <span class=\"reference-text\">Shapiro, Ehud Y. \"<a rel=\"nofollow\" class=\"external text\" href=\"http://dl.acm.org/citation.cfm?id=1623364\">The model inference system</a>.\" Proceedings of the 7th international joint conference on Artificial intelligence-Volume 2. Morgan Kaufmann Publishers Inc., 1981.</span>\n",
            "</li>\n",
            "<li id=\"cite_note-47\"><span class=\"mw-cite-backlink\"><b><a href=\"#cite_ref-47\">^</a></b></span> <span class=\"reference-text\">Honglak Lee, Roger Grosse, Rajesh Ranganath, Andrew Y. Ng. \"<a rel=\"nofollow\" class=\"external text\" href=\"http://citeseerx.ist.psu.edu/viewdoc/download?doi=10.1.1.149.802&amp;rep=rep1&amp;type=pdf\">Convolutional Deep Belief Networks for Scalable Unsupervised Learning of Hierarchical Representations</a>\" Proceedings of the 26th Annual International Conference on Machine Learning, 2009.</span>\n",
            "</li>\n",
            "<li id=\"cite_note-CorinnaCortes-48\"><span class=\"mw-cite-backlink\"><b><a href=\"#cite_ref-CorinnaCortes_48-0\">^</a></b></span> <span class=\"reference-text\"><cite class=\"citation journal\"><a href=\"/wiki/Corinna_Cortes\" title=\"Corinna Cortes\">Cortes, Corinna</a>; Vapnik, Vladimir N. (1995). \"Support-vector networks\". <i><a href=\"/wiki/Machine_Learning_(journal)\" title=\"Machine Learning (journal)\">Machine Learning</a></i>. <b>20</b> (3): 273–297. <a href=\"/wiki/Digital_object_identifier\" title=\"Digital object identifier\">doi</a>:<a rel=\"nofollow\" class=\"external text\" href=\"//doi.org/10.1007%2FBF00994018\">10.1007/BF00994018</a>.</cite><span title=\"ctx_ver=Z39.88-2004&amp;rft_val_fmt=info%3Aofi%2Ffmt%3Akev%3Amtx%3Ajournal&amp;rft.genre=article&amp;rft.jtitle=Machine+Learning&amp;rft.atitle=Support-vector+networks&amp;rft.volume=20&amp;rft.issue=3&amp;rft.pages=273-297&amp;rft.date=1995&amp;rft_id=info%3Adoi%2F10.1007%2FBF00994018&amp;rft.aulast=Cortes&amp;rft.aufirst=Corinna&amp;rft.au=Vapnik%2C+Vladimir+N.&amp;rfr_id=info%3Asid%2Fen.wikipedia.org%3AMachine+learning\" class=\"Z3988\"></span><link rel=\"mw-deduplicated-inline-style\" href=\"mw-data:TemplateStyles:r886058088\"/></span>\n",
            "</li>\n",
            "<li id=\"cite_note-49\"><span class=\"mw-cite-backlink\"><b><a href=\"#cite_ref-49\">^</a></b></span> <span class=\"reference-text\"><cite class=\"citation journal\">Goldberg, David E.; Holland, John H. (1988). \"Genetic algorithms and machine learning\". <i><a href=\"/wiki/Machine_Learning_(journal)\" title=\"Machine Learning (journal)\">Machine Learning</a></i>. <b>3</b> (2): 95–99. <a href=\"/wiki/Digital_object_identifier\" title=\"Digital object identifier\">doi</a>:<a rel=\"nofollow\" class=\"external text\" href=\"//doi.org/10.1007%2Fbf00113892\">10.1007/bf00113892</a>.</cite><span title=\"ctx_ver=Z39.88-2004&amp;rft_val_fmt=info%3Aofi%2Ffmt%3Akev%3Amtx%3Ajournal&amp;rft.genre=article&amp;rft.jtitle=Machine+Learning&amp;rft.atitle=Genetic+algorithms+and+machine+learning&amp;rft.volume=3&amp;rft.issue=2&amp;rft.pages=95-99&amp;rft.date=1988&amp;rft_id=info%3Adoi%2F10.1007%2Fbf00113892&amp;rft.aulast=Goldberg&amp;rft.aufirst=David+E.&amp;rft.au=Holland%2C+John+H.&amp;rfr_id=info%3Asid%2Fen.wikipedia.org%3AMachine+learning\" class=\"Z3988\"></span><link rel=\"mw-deduplicated-inline-style\" href=\"mw-data:TemplateStyles:r886058088\"/></span>\n",
            "</li>\n",
            "<li id=\"cite_note-50\"><span class=\"mw-cite-backlink\"><b><a href=\"#cite_ref-50\">^</a></b></span> <span class=\"reference-text\"><cite class=\"citation journal\">Michie, D.; Spiegelhalter, D. J.; Taylor, C. C. (1994). \"Machine Learning, Neural and Statistical Classification\". <i>Ellis Horwood Series in Artificial Intelligence</i>. <a href=\"/wiki/Bibcode\" title=\"Bibcode\">Bibcode</a>:<a rel=\"nofollow\" class=\"external text\" href=\"http://adsabs.harvard.edu/abs/1994mlns.book.....M\">1994mlns.book.....M</a>.</cite><span title=\"ctx_ver=Z39.88-2004&amp;rft_val_fmt=info%3Aofi%2Ffmt%3Akev%3Amtx%3Ajournal&amp;rft.genre=article&amp;rft.jtitle=Ellis+Horwood+Series+in+Artificial+Intelligence&amp;rft.atitle=Machine+Learning%2C+Neural+and+Statistical+Classification&amp;rft.date=1994&amp;rft_id=info%3Abibcode%2F1994mlns.book.....M&amp;rft.aulast=Michie&amp;rft.aufirst=D.&amp;rft.au=Spiegelhalter%2C+D.+J.&amp;rft.au=Taylor%2C+C.+C.&amp;rfr_id=info%3Asid%2Fen.wikipedia.org%3AMachine+learning\" class=\"Z3988\"></span><link rel=\"mw-deduplicated-inline-style\" href=\"mw-data:TemplateStyles:r886058088\"/></span>\n",
            "</li>\n",
            "<li id=\"cite_note-51\"><span class=\"mw-cite-backlink\"><b><a href=\"#cite_ref-51\">^</a></b></span> <span class=\"reference-text\"><cite class=\"citation journal\">Zhang, Jun; Zhan, Zhi-hui; Lin, Ying; Chen, Ni; Gong, Yue-jiao; Zhong, Jing-hui; Chung, Henry S.H.; Li, Yun; Shi, Yu-hui (2011). <a rel=\"nofollow\" class=\"external text\" href=\"http://ieeexplore.ieee.org/iel5/10207/6052357/06052374.pdf?arnumber=6052374\">\"Evolutionary Computation Meets Machine Learning: A Survey\"</a> <span class=\"cs1-format\">(PDF)</span>. <i>Computational Intelligence Magazine</i>. <b>6</b> (4): 68–75. <a href=\"/wiki/Digital_object_identifier\" title=\"Digital object identifier\">doi</a>:<a rel=\"nofollow\" class=\"external text\" href=\"//doi.org/10.1109%2Fmci.2011.942584\">10.1109/mci.2011.942584</a>.</cite><span title=\"ctx_ver=Z39.88-2004&amp;rft_val_fmt=info%3Aofi%2Ffmt%3Akev%3Amtx%3Ajournal&amp;rft.genre=article&amp;rft.jtitle=Computational+Intelligence+Magazine&amp;rft.atitle=Evolutionary+Computation+Meets+Machine+Learning%3A+A+Survey&amp;rft.volume=6&amp;rft.issue=4&amp;rft.pages=68-75&amp;rft.date=2011&amp;rft_id=info%3Adoi%2F10.1109%2Fmci.2011.942584&amp;rft.aulast=Zhang&amp;rft.aufirst=Jun&amp;rft.au=Zhan%2C+Zhi-hui&amp;rft.au=Lin%2C+Ying&amp;rft.au=Chen%2C+Ni&amp;rft.au=Gong%2C+Yue-jiao&amp;rft.au=Zhong%2C+Jing-hui&amp;rft.au=Chung%2C+Henry+S.H.&amp;rft.au=Li%2C+Yun&amp;rft.au=Shi%2C+Yu-hui&amp;rft_id=http%3A%2F%2Fieeexplore.ieee.org%2Fiel5%2F10207%2F6052357%2F06052374.pdf%3Farnumber%3D6052374&amp;rfr_id=info%3Asid%2Fen.wikipedia.org%3AMachine+learning\" class=\"Z3988\"></span><link rel=\"mw-deduplicated-inline-style\" href=\"mw-data:TemplateStyles:r886058088\"/></span>\n",
            "</li>\n",
            "<li id=\"cite_note-52\"><span class=\"mw-cite-backlink\"><b><a href=\"#cite_ref-52\">^</a></b></span> <span class=\"reference-text\"><cite class=\"citation web\"><a rel=\"nofollow\" class=\"external text\" href=\"http://ai.googleblog.com/2017/04/federated-learning-collaborative.html\">\"Federated Learning: Collaborative Machine Learning without Centralized Training Data\"</a>. <i>Google AI Blog</i><span class=\"reference-accessdate\">. Retrieved <span class=\"nowrap\">2019-06-08</span></span>.</cite><span title=\"ctx_ver=Z39.88-2004&amp;rft_val_fmt=info%3Aofi%2Ffmt%3Akev%3Amtx%3Ajournal&amp;rft.genre=unknown&amp;rft.jtitle=Google+AI+Blog&amp;rft.atitle=Federated+Learning%3A+Collaborative+Machine+Learning+without+Centralized+Training+Data&amp;rft_id=http%3A%2F%2Fai.googleblog.com%2F2017%2F04%2Ffederated-learning-collaborative.html&amp;rfr_id=info%3Asid%2Fen.wikipedia.org%3AMachine+learning\" class=\"Z3988\"></span><link rel=\"mw-deduplicated-inline-style\" href=\"mw-data:TemplateStyles:r886058088\"/></span>\n",
            "</li>\n",
            "<li id=\"cite_note-53\"><span class=\"mw-cite-backlink\"><b><a href=\"#cite_ref-53\">^</a></b></span> <span class=\"reference-text\"><a rel=\"nofollow\" class=\"external text\" href=\"https://web.archive.org/web/20151110062742/http://www2.research.att.com/~volinsky/netflix/\">\"BelKor Home Page\"</a> research.att.com</span>\n",
            "</li>\n",
            "<li id=\"cite_note-54\"><span class=\"mw-cite-backlink\"><b><a href=\"#cite_ref-54\">^</a></b></span> <span class=\"reference-text\"><cite class=\"citation web\"><a rel=\"nofollow\" class=\"external text\" href=\"http://techblog.netflix.com/2012/04/netflix-recommendations-beyond-5-stars.html\">\"The Netflix Tech Blog: Netflix Recommendations: Beyond the 5 stars (Part 1)\"</a>. 2012-04-06<span class=\"reference-accessdate\">. Retrieved <span class=\"nowrap\">8 August</span> 2015</span>.</cite><span title=\"ctx_ver=Z39.88-2004&amp;rft_val_fmt=info%3Aofi%2Ffmt%3Akev%3Amtx%3Abook&amp;rft.genre=unknown&amp;rft.btitle=The+Netflix+Tech+Blog%3A+Netflix+Recommendations%3A+Beyond+the+5+stars+%28Part+1%29&amp;rft.date=2012-04-06&amp;rft_id=http%3A%2F%2Ftechblog.netflix.com%2F2012%2F04%2Fnetflix-recommendations-beyond-5-stars.html&amp;rfr_id=info%3Asid%2Fen.wikipedia.org%3AMachine+learning\" class=\"Z3988\"></span><link rel=\"mw-deduplicated-inline-style\" href=\"mw-data:TemplateStyles:r886058088\"/></span>\n",
            "</li>\n",
            "<li id=\"cite_note-55\"><span class=\"mw-cite-backlink\"><b><a href=\"#cite_ref-55\">^</a></b></span> <span class=\"reference-text\"><cite class=\"citation web\">Scott Patterson (13 July 2010). <a rel=\"nofollow\" class=\"external text\" href=\"https://www.wsj.com/articles/SB10001424052748703834604575365310813948080\">\"Letting the Machines Decide\"</a>. <a href=\"/wiki/The_Wall_Street_Journal\" title=\"The Wall Street Journal\">The Wall Street Journal</a><span class=\"reference-accessdate\">. Retrieved <span class=\"nowrap\">24 June</span> 2018</span>.</cite><span title=\"ctx_ver=Z39.88-2004&amp;rft_val_fmt=info%3Aofi%2Ffmt%3Akev%3Amtx%3Abook&amp;rft.genre=unknown&amp;rft.btitle=Letting+the+Machines+Decide&amp;rft.pub=The+Wall+Street+Journal&amp;rft.date=2010-07-13&amp;rft.au=Scott+Patterson&amp;rft_id=https%3A%2F%2Fwww.wsj.com%2Farticles%2FSB10001424052748703834604575365310813948080&amp;rfr_id=info%3Asid%2Fen.wikipedia.org%3AMachine+learning\" class=\"Z3988\"></span><link rel=\"mw-deduplicated-inline-style\" href=\"mw-data:TemplateStyles:r886058088\"/></span>\n",
            "</li>\n",
            "<li id=\"cite_note-56\"><span class=\"mw-cite-backlink\"><b><a href=\"#cite_ref-56\">^</a></b></span> <span class=\"reference-text\"><cite class=\"citation web\">Vinod Khosla (January 10, 2012). <a rel=\"nofollow\" class=\"external text\" href=\"https://techcrunch.com/2012/01/10/doctors-or-algorithms/\">\"Do We Need Doctors or Algorithms?\"</a>. Tech Crunch.</cite><span title=\"ctx_ver=Z39.88-2004&amp;rft_val_fmt=info%3Aofi%2Ffmt%3Akev%3Amtx%3Abook&amp;rft.genre=unknown&amp;rft.btitle=Do+We+Need+Doctors+or+Algorithms%3F&amp;rft.pub=Tech+Crunch&amp;rft.date=2012-01-10&amp;rft.au=Vinod+Khosla&amp;rft_id=https%3A%2F%2Ftechcrunch.com%2F2012%2F01%2F10%2Fdoctors-or-algorithms%2F&amp;rfr_id=info%3Asid%2Fen.wikipedia.org%3AMachine+learning\" class=\"Z3988\"></span><link rel=\"mw-deduplicated-inline-style\" href=\"mw-data:TemplateStyles:r886058088\"/></span>\n",
            "</li>\n",
            "<li id=\"cite_note-57\"><span class=\"mw-cite-backlink\"><b><a href=\"#cite_ref-57\">^</a></b></span> <span class=\"reference-text\"><a rel=\"nofollow\" class=\"external text\" href=\"https://medium.com/the-physics-arxiv-blog/when-a-machine-learning-algorithm-studied-fine-art-paintings-it-saw-things-art-historians-had-never-b8e4e7bf7d3e\">When A Machine Learning Algorithm Studied Fine Art Paintings, It Saw Things Art Historians Had Never Noticed</a>, <i>The Physics at <a href=\"/wiki/ArXiv\" title=\"ArXiv\">ArXiv</a> blog</i></span>\n",
            "</li>\n",
            "<li id=\"cite_note-58\"><span class=\"mw-cite-backlink\"><b><a href=\"#cite_ref-58\">^</a></b></span> <span class=\"reference-text\"><cite class=\"citation web\">Vincent, James (2019-04-10). <a rel=\"nofollow\" class=\"external text\" href=\"https://www.theverge.com/2019/4/10/18304558/ai-writing-academic-research-book-springer-nature-artificial-intelligence\">\"The first AI-generated textbook shows what robot writers are actually good at\"</a>. <i>The Verge</i><span class=\"reference-accessdate\">. Retrieved <span class=\"nowrap\">2019-05-05</span></span>.</cite><span title=\"ctx_ver=Z39.88-2004&amp;rft_val_fmt=info%3Aofi%2Ffmt%3Akev%3Amtx%3Ajournal&amp;rft.genre=unknown&amp;rft.jtitle=The+Verge&amp;rft.atitle=The+first+AI-generated+textbook+shows+what+robot+writers+are+actually+good+at&amp;rft.date=2019-04-10&amp;rft.aulast=Vincent&amp;rft.aufirst=James&amp;rft_id=https%3A%2F%2Fwww.theverge.com%2F2019%2F4%2F10%2F18304558%2Fai-writing-academic-research-book-springer-nature-artificial-intelligence&amp;rfr_id=info%3Asid%2Fen.wikipedia.org%3AMachine+learning\" class=\"Z3988\"></span><link rel=\"mw-deduplicated-inline-style\" href=\"mw-data:TemplateStyles:r886058088\"/></span>\n",
            "</li>\n",
            "<li id=\"cite_note-59\"><span class=\"mw-cite-backlink\"><b><a href=\"#cite_ref-59\">^</a></b></span> <span class=\"reference-text\"><cite class=\"citation news\"><a rel=\"nofollow\" class=\"external text\" href=\"https://web.archive.org/web/20170320225010/https://www.bloomberg.com/news/articles/2016-11-10/why-machine-learning-models-often-fail-to-learn-quicktake-q-a\">\"Why Machine Learning Models Often Fail to Learn: QuickTake Q&amp;A\"</a>. <i>Bloomberg.com</i>. 2016-11-10<span class=\"reference-accessdate\">. Retrieved <span class=\"nowrap\">2017-04-10</span></span>.</cite><span title=\"ctx_ver=Z39.88-2004&amp;rft_val_fmt=info%3Aofi%2Ffmt%3Akev%3Amtx%3Ajournal&amp;rft.genre=article&amp;rft.jtitle=Bloomberg.com&amp;rft.atitle=Why+Machine+Learning+Models+Often+Fail+to+Learn%3A+QuickTake+Q%26A&amp;rft.date=2016-11-10&amp;rft_id=https%3A%2F%2Fweb.archive.org%2Fweb%2F20170320225010%2Fhttps%3A%2F%2Fwww.bloomberg.com%2Fnews%2Farticles%2F2016-11-10%2Fwhy-machine-learning-models-often-fail-to-learn-quicktake-q-a&amp;rfr_id=info%3Asid%2Fen.wikipedia.org%3AMachine+learning\" class=\"Z3988\"></span><link rel=\"mw-deduplicated-inline-style\" href=\"mw-data:TemplateStyles:r886058088\"/></span>\n",
            "</li>\n",
            "<li id=\"cite_note-60\"><span class=\"mw-cite-backlink\"><b><a href=\"#cite_ref-60\">^</a></b></span> <span class=\"reference-text\"><cite class=\"citation news\"><a rel=\"nofollow\" class=\"external text\" href=\"https://hbr.org/2017/04/the-first-wave-of-corporate-ai-is-doomed-to-fail\">\"The First Wave of Corporate AI Is Doomed to Fail\"</a>. <i>Harvard Business Review</i>. 2017-04-18<span class=\"reference-accessdate\">. Retrieved <span class=\"nowrap\">2018-08-20</span></span>.</cite><span title=\"ctx_ver=Z39.88-2004&amp;rft_val_fmt=info%3Aofi%2Ffmt%3Akev%3Amtx%3Ajournal&amp;rft.genre=article&amp;rft.jtitle=Harvard+Business+Review&amp;rft.atitle=The+First+Wave+of+Corporate+AI+Is+Doomed+to+Fail&amp;rft.date=2017-04-18&amp;rft_id=https%3A%2F%2Fhbr.org%2F2017%2F04%2Fthe-first-wave-of-corporate-ai-is-doomed-to-fail&amp;rfr_id=info%3Asid%2Fen.wikipedia.org%3AMachine+learning\" class=\"Z3988\"></span><link rel=\"mw-deduplicated-inline-style\" href=\"mw-data:TemplateStyles:r886058088\"/></span>\n",
            "</li>\n",
            "<li id=\"cite_note-61\"><span class=\"mw-cite-backlink\"><b><a href=\"#cite_ref-61\">^</a></b></span> <span class=\"reference-text\"><cite class=\"citation news\"><a rel=\"nofollow\" class=\"external text\" href=\"https://venturebeat.com/2016/09/17/why-the-a-i-euphoria-is-doomed-to-fail/\">\"Why the A.I. euphoria is doomed to fail\"</a>. <i>VentureBeat</i>. 2016-09-18<span class=\"reference-accessdate\">. Retrieved <span class=\"nowrap\">2018-08-20</span></span>.</cite><span title=\"ctx_ver=Z39.88-2004&amp;rft_val_fmt=info%3Aofi%2Ffmt%3Akev%3Amtx%3Ajournal&amp;rft.genre=article&amp;rft.jtitle=VentureBeat&amp;rft.atitle=Why+the+A.I.+euphoria+is+doomed+to+fail&amp;rft.date=2016-09-18&amp;rft_id=https%3A%2F%2Fventurebeat.com%2F2016%2F09%2F17%2Fwhy-the-a-i-euphoria-is-doomed-to-fail%2F&amp;rfr_id=info%3Asid%2Fen.wikipedia.org%3AMachine+learning\" class=\"Z3988\"></span><link rel=\"mw-deduplicated-inline-style\" href=\"mw-data:TemplateStyles:r886058088\"/></span>\n",
            "</li>\n",
            "<li id=\"cite_note-62\"><span class=\"mw-cite-backlink\"><b><a href=\"#cite_ref-62\">^</a></b></span> <span class=\"reference-text\"><cite class=\"citation web\"><a rel=\"nofollow\" class=\"external text\" href=\"https://www.kdnuggets.com/2018/07/why-machine-learning-project-fail.html\">\"9 Reasons why your machine learning project will fail\"</a>. <i>www.kdnuggets.com</i><span class=\"reference-accessdate\">. Retrieved <span class=\"nowrap\">2018-08-20</span></span>.</cite><span title=\"ctx_ver=Z39.88-2004&amp;rft_val_fmt=info%3Aofi%2Ffmt%3Akev%3Amtx%3Ajournal&amp;rft.genre=unknown&amp;rft.jtitle=www.kdnuggets.com&amp;rft.atitle=9+Reasons+why+your+machine+learning+project+will+fail&amp;rft_id=https%3A%2F%2Fwww.kdnuggets.com%2F2018%2F07%2Fwhy-machine-learning-project-fail.html&amp;rfr_id=info%3Asid%2Fen.wikipedia.org%3AMachine+learning\" class=\"Z3988\"></span><link rel=\"mw-deduplicated-inline-style\" href=\"mw-data:TemplateStyles:r886058088\"/></span>\n",
            "</li>\n",
            "<li id=\"cite_note-63\"><span class=\"mw-cite-backlink\"><b><a href=\"#cite_ref-63\">^</a></b></span> <span class=\"reference-text\"><cite class=\"citation news\"><a rel=\"nofollow\" class=\"external text\" href=\"https://www.economist.com/the-economist-explains/2018/05/29/why-ubers-self-driving-car-killed-a-pedestrian\">\"Why Uber's self-driving car killed a pedestrian\"</a>. <i>The Economist</i><span class=\"reference-accessdate\">. Retrieved <span class=\"nowrap\">2018-08-20</span></span>.</cite><span title=\"ctx_ver=Z39.88-2004&amp;rft_val_fmt=info%3Aofi%2Ffmt%3Akev%3Amtx%3Ajournal&amp;rft.genre=article&amp;rft.jtitle=The+Economist&amp;rft.atitle=Why+Uber%E2%80%99s+self-driving+car+killed+a+pedestrian&amp;rft_id=https%3A%2F%2Fwww.economist.com%2Fthe-economist-explains%2F2018%2F05%2F29%2Fwhy-ubers-self-driving-car-killed-a-pedestrian&amp;rfr_id=info%3Asid%2Fen.wikipedia.org%3AMachine+learning\" class=\"Z3988\"></span><link rel=\"mw-deduplicated-inline-style\" href=\"mw-data:TemplateStyles:r886058088\"/></span>\n",
            "</li>\n",
            "<li id=\"cite_note-64\"><span class=\"mw-cite-backlink\"><b><a href=\"#cite_ref-64\">^</a></b></span> <span class=\"reference-text\"><cite class=\"citation news\"><a rel=\"nofollow\" class=\"external text\" href=\"https://www.statnews.com/2018/07/25/ibm-watson-recommended-unsafe-incorrect-treatments/\">\"IBM's Watson recommended 'unsafe and incorrect' cancer treatments - STAT\"</a>. <i>STAT</i>. 2018-07-25<span class=\"reference-accessdate\">. Retrieved <span class=\"nowrap\">2018-08-21</span></span>.</cite><span title=\"ctx_ver=Z39.88-2004&amp;rft_val_fmt=info%3Aofi%2Ffmt%3Akev%3Amtx%3Ajournal&amp;rft.genre=article&amp;rft.jtitle=STAT&amp;rft.atitle=IBM%27s+Watson+recommended+%27unsafe+and+incorrect%27+cancer+treatments+-+STAT&amp;rft.date=2018-07-25&amp;rft_id=https%3A%2F%2Fwww.statnews.com%2F2018%2F07%2F25%2Fibm-watson-recommended-unsafe-incorrect-treatments%2F&amp;rfr_id=info%3Asid%2Fen.wikipedia.org%3AMachine+learning\" class=\"Z3988\"></span><link rel=\"mw-deduplicated-inline-style\" href=\"mw-data:TemplateStyles:r886058088\"/></span>\n",
            "</li>\n",
            "<li id=\"cite_note-65\"><span class=\"mw-cite-backlink\"><b><a href=\"#cite_ref-65\">^</a></b></span> <span class=\"reference-text\"><cite class=\"citation news\">Hernandez, Daniela; Greenwald, Ted (2018-08-11). <a rel=\"nofollow\" class=\"external text\" href=\"https://www.wsj.com/articles/ibm-bet-billions-that-watson-could-improve-cancer-treatment-it-hasnt-worked-1533961147\">\"IBM Has a Watson Dilemma\"</a>. <i>Wall Street Journal</i>. <a href=\"/wiki/International_Standard_Serial_Number\" title=\"International Standard Serial Number\">ISSN</a>&#160;<a rel=\"nofollow\" class=\"external text\" href=\"//www.worldcat.org/issn/0099-9660\">0099-9660</a><span class=\"reference-accessdate\">. Retrieved <span class=\"nowrap\">2018-08-21</span></span>.</cite><span title=\"ctx_ver=Z39.88-2004&amp;rft_val_fmt=info%3Aofi%2Ffmt%3Akev%3Amtx%3Ajournal&amp;rft.genre=article&amp;rft.jtitle=Wall+Street+Journal&amp;rft.atitle=IBM+Has+a+Watson+Dilemma&amp;rft.date=2018-08-11&amp;rft.issn=0099-9660&amp;rft.aulast=Hernandez&amp;rft.aufirst=Daniela&amp;rft.au=Greenwald%2C+Ted&amp;rft_id=https%3A%2F%2Fwww.wsj.com%2Farticles%2Fibm-bet-billions-that-watson-could-improve-cancer-treatment-it-hasnt-worked-1533961147&amp;rfr_id=info%3Asid%2Fen.wikipedia.org%3AMachine+learning\" class=\"Z3988\"></span><link rel=\"mw-deduplicated-inline-style\" href=\"mw-data:TemplateStyles:r886058088\"/></span>\n",
            "</li>\n",
            "<li id=\"cite_note-66\"><span class=\"mw-cite-backlink\"><b><a href=\"#cite_ref-66\">^</a></b></span> <span class=\"reference-text\"><cite class=\"citation journal\">Garcia, Megan (2016). \"Racist in the Machine\". <i>World Policy Journal</i>. <b>33</b> (4): 111–117. <a href=\"/wiki/Digital_object_identifier\" title=\"Digital object identifier\">doi</a>:<a rel=\"nofollow\" class=\"external text\" href=\"//doi.org/10.1215%2F07402775-3813015\">10.1215/07402775-3813015</a>. <a href=\"/wiki/International_Standard_Serial_Number\" title=\"International Standard Serial Number\">ISSN</a>&#160;<a rel=\"nofollow\" class=\"external text\" href=\"//www.worldcat.org/issn/0740-2775\">0740-2775</a>.</cite><span title=\"ctx_ver=Z39.88-2004&amp;rft_val_fmt=info%3Aofi%2Ffmt%3Akev%3Amtx%3Ajournal&amp;rft.genre=article&amp;rft.jtitle=World+Policy+Journal&amp;rft.atitle=Racist+in+the+Machine&amp;rft.volume=33&amp;rft.issue=4&amp;rft.pages=111-117&amp;rft.date=2016&amp;rft_id=info%3Adoi%2F10.1215%2F07402775-3813015&amp;rft.issn=0740-2775&amp;rft.aulast=Garcia&amp;rft.aufirst=Megan&amp;rfr_id=info%3Asid%2Fen.wikipedia.org%3AMachine+learning\" class=\"Z3988\"></span><link rel=\"mw-deduplicated-inline-style\" href=\"mw-data:TemplateStyles:r886058088\"/></span>\n",
            "</li>\n",
            "<li id=\"cite_note-67\"><span class=\"mw-cite-backlink\"><b><a href=\"#cite_ref-67\">^</a></b></span> <span class=\"reference-text\"><cite class=\"citation journal\">Caliskan, Aylin; Bryson, Joanna J.; Narayanan, Arvind (2017-04-14). \"Semantics derived automatically from language corpora contain human-like biases\". <i>Science</i>. <b>356</b> (6334): 183–186. <a href=\"/wiki/ArXiv\" title=\"ArXiv\">arXiv</a>:<span class=\"cs1-lock-free\" title=\"Freely accessible\"><a rel=\"nofollow\" class=\"external text\" href=\"//arxiv.org/abs/1608.07187\">1608.07187</a></span>. <a href=\"/wiki/Bibcode\" title=\"Bibcode\">Bibcode</a>:<a rel=\"nofollow\" class=\"external text\" href=\"http://adsabs.harvard.edu/abs/2017Sci...356..183C\">2017Sci...356..183C</a>. <a href=\"/wiki/Digital_object_identifier\" title=\"Digital object identifier\">doi</a>:<a rel=\"nofollow\" class=\"external text\" href=\"//doi.org/10.1126%2Fscience.aal4230\">10.1126/science.aal4230</a>. <a href=\"/wiki/International_Standard_Serial_Number\" title=\"International Standard Serial Number\">ISSN</a>&#160;<a rel=\"nofollow\" class=\"external text\" href=\"//www.worldcat.org/issn/0036-8075\">0036-8075</a>. <a href=\"/wiki/PubMed_Identifier\" class=\"mw-redirect\" title=\"PubMed Identifier\">PMID</a>&#160;<a rel=\"nofollow\" class=\"external text\" href=\"//www.ncbi.nlm.nih.gov/pubmed/28408601\">28408601</a>.</cite><span title=\"ctx_ver=Z39.88-2004&amp;rft_val_fmt=info%3Aofi%2Ffmt%3Akev%3Amtx%3Ajournal&amp;rft.genre=article&amp;rft.jtitle=Science&amp;rft.atitle=Semantics+derived+automatically+from+language+corpora+contain+human-like+biases&amp;rft.volume=356&amp;rft.issue=6334&amp;rft.pages=183-186&amp;rft.date=2017-04-14&amp;rft_id=info%3Abibcode%2F2017Sci...356..183C&amp;rft_id=info%3Aarxiv%2F1608.07187&amp;rft_id=info%3Apmid%2F28408601&amp;rft_id=info%3Adoi%2F10.1126%2Fscience.aal4230&amp;rft.issn=0036-8075&amp;rft.aulast=Caliskan&amp;rft.aufirst=Aylin&amp;rft.au=Bryson%2C+Joanna+J.&amp;rft.au=Narayanan%2C+Arvind&amp;rfr_id=info%3Asid%2Fen.wikipedia.org%3AMachine+learning\" class=\"Z3988\"></span><link rel=\"mw-deduplicated-inline-style\" href=\"mw-data:TemplateStyles:r886058088\"/></span>\n",
            "</li>\n",
            "<li id=\"cite_note-68\"><span class=\"mw-cite-backlink\"><b><a href=\"#cite_ref-68\">^</a></b></span> <span class=\"reference-text\"><cite id=\"CITEREFWangDasgupta2016\" class=\"citation\">Wang, Xinan; Dasgupta, Sanjoy (2016),  Lee, D. D.; Sugiyama, M.; Luxburg, U. V.; Guyon, I. (eds.), <a rel=\"nofollow\" class=\"external text\" href=\"http://papers.nips.cc/paper/6227-an-algorithm-for-l1-nearest-neighbor-search-via-monotonic-embedding.pdf\">\"An algorithm for L1 nearest neighbor search via monotonic embedding\"</a> <span class=\"cs1-format\">(PDF)</span>, <i>Advances in Neural Information Processing Systems 29</i>, Curran Associates, Inc., pp.&#160;983–991<span class=\"reference-accessdate\">, retrieved <span class=\"nowrap\">2018-08-20</span></span></cite><span title=\"ctx_ver=Z39.88-2004&amp;rft_val_fmt=info%3Aofi%2Ffmt%3Akev%3Amtx%3Ajournal&amp;rft.genre=article&amp;rft.jtitle=Advances+in+Neural+Information+Processing+Systems+29&amp;rft.atitle=An+algorithm+for+L1+nearest+neighbor+search+via+monotonic+embedding&amp;rft.pages=983-991&amp;rft.date=2016&amp;rft.aulast=Wang&amp;rft.aufirst=Xinan&amp;rft.au=Dasgupta%2C+Sanjoy&amp;rft_id=http%3A%2F%2Fpapers.nips.cc%2Fpaper%2F6227-an-algorithm-for-l1-nearest-neighbor-search-via-monotonic-embedding.pdf&amp;rfr_id=info%3Asid%2Fen.wikipedia.org%3AMachine+learning\" class=\"Z3988\"></span><link rel=\"mw-deduplicated-inline-style\" href=\"mw-data:TemplateStyles:r886058088\"/></span>\n",
            "</li>\n",
            "<li id=\"cite_note-69\"><span class=\"mw-cite-backlink\"><b><a href=\"#cite_ref-69\">^</a></b></span> <span class=\"reference-text\"><cite class=\"citation web\"><a rel=\"nofollow\" class=\"external text\" href=\"https://www.propublica.org/article/machine-bias-risk-assessments-in-criminal-sentencing\">\"Machine Bias\"</a>. <i><a href=\"/wiki/ProPublica\" title=\"ProPublica\">ProPublica</a></i>. Julia Angwin, Jeff Larson, Lauren Kirchner, Surya Mattu. 2016-05-23<span class=\"reference-accessdate\">. Retrieved <span class=\"nowrap\">2018-08-20</span></span>.</cite><span title=\"ctx_ver=Z39.88-2004&amp;rft_val_fmt=info%3Aofi%2Ffmt%3Akev%3Amtx%3Ajournal&amp;rft.genre=unknown&amp;rft.jtitle=ProPublica&amp;rft.atitle=Machine+Bias&amp;rft.date=2016-05-23&amp;rft_id=https%3A%2F%2Fwww.propublica.org%2Farticle%2Fmachine-bias-risk-assessments-in-criminal-sentencing&amp;rfr_id=info%3Asid%2Fen.wikipedia.org%3AMachine+learning\" class=\"Z3988\"></span><span class=\"cs1-maint citation-comment\">CS1 maint: others (<a href=\"/wiki/Category:CS1_maint:_others\" title=\"Category:CS1 maint: others\">link</a>)</span><link rel=\"mw-deduplicated-inline-style\" href=\"mw-data:TemplateStyles:r886058088\"/></span>\n",
            "</li>\n",
            "<li id=\"cite_note-70\"><span class=\"mw-cite-backlink\"><b><a href=\"#cite_ref-70\">^</a></b></span> <span class=\"reference-text\"><cite class=\"citation news\"><a rel=\"nofollow\" class=\"external text\" href=\"https://www.nytimes.com/2017/10/26/opinion/algorithm-compas-sentencing-bias.html\">\"Opinion | When an Algorithm Helps Send You to Prison\"</a>. <i><a href=\"/wiki/New_York_Times\" class=\"mw-redirect\" title=\"New York Times\">New York Times</a></i><span class=\"reference-accessdate\">. Retrieved <span class=\"nowrap\">2018-08-20</span></span>.</cite><span title=\"ctx_ver=Z39.88-2004&amp;rft_val_fmt=info%3Aofi%2Ffmt%3Akev%3Amtx%3Ajournal&amp;rft.genre=article&amp;rft.jtitle=New+York+Times&amp;rft.atitle=Opinion+%7C+When+an+Algorithm+Helps+Send+You+to+Prison&amp;rft_id=https%3A%2F%2Fwww.nytimes.com%2F2017%2F10%2F26%2Fopinion%2Falgorithm-compas-sentencing-bias.html&amp;rfr_id=info%3Asid%2Fen.wikipedia.org%3AMachine+learning\" class=\"Z3988\"></span><link rel=\"mw-deduplicated-inline-style\" href=\"mw-data:TemplateStyles:r886058088\"/></span>\n",
            "</li>\n",
            "<li id=\"cite_note-71\"><span class=\"mw-cite-backlink\"><b><a href=\"#cite_ref-71\">^</a></b></span> <span class=\"reference-text\"><cite class=\"citation news\"><a rel=\"nofollow\" class=\"external text\" href=\"https://www.bbc.co.uk/news/technology-33347866\">\"Google apologises for racist blunder\"</a>. <i>BBC News</i>. 2015-07-01<span class=\"reference-accessdate\">. Retrieved <span class=\"nowrap\">2018-08-20</span></span>.</cite><span title=\"ctx_ver=Z39.88-2004&amp;rft_val_fmt=info%3Aofi%2Ffmt%3Akev%3Amtx%3Ajournal&amp;rft.genre=article&amp;rft.jtitle=BBC+News&amp;rft.atitle=Google+apologises+for+racist+blunder&amp;rft.date=2015-07-01&amp;rft_id=https%3A%2F%2Fwww.bbc.co.uk%2Fnews%2Ftechnology-33347866&amp;rfr_id=info%3Asid%2Fen.wikipedia.org%3AMachine+learning\" class=\"Z3988\"></span><link rel=\"mw-deduplicated-inline-style\" href=\"mw-data:TemplateStyles:r886058088\"/></span>\n",
            "</li>\n",
            "<li id=\"cite_note-72\"><span class=\"mw-cite-backlink\"><b><a href=\"#cite_ref-72\">^</a></b></span> <span class=\"reference-text\"><cite class=\"citation news\"><a rel=\"nofollow\" class=\"external text\" href=\"https://www.theverge.com/2018/1/12/16882408/google-racist-gorillas-photo-recognition-algorithm-ai\">\"Google 'fixed' its racist algorithm by removing gorillas from its image-labeling tech\"</a>. <i>The Verge</i><span class=\"reference-accessdate\">. Retrieved <span class=\"nowrap\">2018-08-20</span></span>.</cite><span title=\"ctx_ver=Z39.88-2004&amp;rft_val_fmt=info%3Aofi%2Ffmt%3Akev%3Amtx%3Ajournal&amp;rft.genre=article&amp;rft.jtitle=The+Verge&amp;rft.atitle=Google+%E2%80%98fixed%E2%80%99+its+racist+algorithm+by+removing+gorillas+from+its+image-labeling+tech&amp;rft_id=https%3A%2F%2Fwww.theverge.com%2F2018%2F1%2F12%2F16882408%2Fgoogle-racist-gorillas-photo-recognition-algorithm-ai&amp;rfr_id=info%3Asid%2Fen.wikipedia.org%3AMachine+learning\" class=\"Z3988\"></span><link rel=\"mw-deduplicated-inline-style\" href=\"mw-data:TemplateStyles:r886058088\"/></span>\n",
            "</li>\n",
            "<li id=\"cite_note-73\"><span class=\"mw-cite-backlink\"><b><a href=\"#cite_ref-73\">^</a></b></span> <span class=\"reference-text\"><cite class=\"citation news\"><a rel=\"nofollow\" class=\"external text\" href=\"https://www.nytimes.com/2016/06/26/opinion/sunday/artificial-intelligences-white-guy-problem.html\">\"Opinion | Artificial Intelligence's White Guy Problem\"</a>. <i><a href=\"/wiki/New_York_Times\" class=\"mw-redirect\" title=\"New York Times\">New York Times</a></i><span class=\"reference-accessdate\">. Retrieved <span class=\"nowrap\">2018-08-20</span></span>.</cite><span title=\"ctx_ver=Z39.88-2004&amp;rft_val_fmt=info%3Aofi%2Ffmt%3Akev%3Amtx%3Ajournal&amp;rft.genre=article&amp;rft.jtitle=New+York+Times&amp;rft.atitle=Opinion+%7C+Artificial+Intelligence%E2%80%99s+White+Guy+Problem&amp;rft_id=https%3A%2F%2Fwww.nytimes.com%2F2016%2F06%2F26%2Fopinion%2Fsunday%2Fartificial-intelligences-white-guy-problem.html&amp;rfr_id=info%3Asid%2Fen.wikipedia.org%3AMachine+learning\" class=\"Z3988\"></span><link rel=\"mw-deduplicated-inline-style\" href=\"mw-data:TemplateStyles:r886058088\"/></span>\n",
            "</li>\n",
            "<li id=\"cite_note-74\"><span class=\"mw-cite-backlink\"><b><a href=\"#cite_ref-74\">^</a></b></span> <span class=\"reference-text\"><cite class=\"citation news\">Metz, Rachel. <a rel=\"nofollow\" class=\"external text\" href=\"https://www.technologyreview.com/s/601111/why-microsoft-accidentally-unleashed-a-neo-nazi-sexbot/\">\"Why Microsoft's teen chatbot, Tay, said lots of awful things online\"</a>. <i>MIT Technology Review</i><span class=\"reference-accessdate\">. Retrieved <span class=\"nowrap\">2018-08-20</span></span>.</cite><span title=\"ctx_ver=Z39.88-2004&amp;rft_val_fmt=info%3Aofi%2Ffmt%3Akev%3Amtx%3Ajournal&amp;rft.genre=article&amp;rft.jtitle=MIT+Technology+Review&amp;rft.atitle=Why+Microsoft%E2%80%99s+teen+chatbot%2C+Tay%2C+said+lots+of+awful+things+online&amp;rft.aulast=Metz&amp;rft.aufirst=Rachel&amp;rft_id=https%3A%2F%2Fwww.technologyreview.com%2Fs%2F601111%2Fwhy-microsoft-accidentally-unleashed-a-neo-nazi-sexbot%2F&amp;rfr_id=info%3Asid%2Fen.wikipedia.org%3AMachine+learning\" class=\"Z3988\"></span><link rel=\"mw-deduplicated-inline-style\" href=\"mw-data:TemplateStyles:r886058088\"/></span>\n",
            "</li>\n",
            "<li id=\"cite_note-75\"><span class=\"mw-cite-backlink\"><b><a href=\"#cite_ref-75\">^</a></b></span> <span class=\"reference-text\"><cite class=\"citation news\">Simonite, Tom. <a rel=\"nofollow\" class=\"external text\" href=\"https://www.technologyreview.com/s/603944/microsoft-ai-isnt-yet-adaptable-enough-to-help-businesses/\">\"Microsoft says its racist chatbot illustrates how AI isn't adaptable enough to help most businesses\"</a>. <i>MIT Technology Review</i><span class=\"reference-accessdate\">. Retrieved <span class=\"nowrap\">2018-08-20</span></span>.</cite><span title=\"ctx_ver=Z39.88-2004&amp;rft_val_fmt=info%3Aofi%2Ffmt%3Akev%3Amtx%3Ajournal&amp;rft.genre=article&amp;rft.jtitle=MIT+Technology+Review&amp;rft.atitle=Microsoft+says+its+racist+chatbot+illustrates+how+AI+isn%E2%80%99t+adaptable+enough+to+help+most+businesses&amp;rft.aulast=Simonite&amp;rft.aufirst=Tom&amp;rft_id=https%3A%2F%2Fwww.technologyreview.com%2Fs%2F603944%2Fmicrosoft-ai-isnt-yet-adaptable-enough-to-help-businesses%2F&amp;rfr_id=info%3Asid%2Fen.wikipedia.org%3AMachine+learning\" class=\"Z3988\"></span><link rel=\"mw-deduplicated-inline-style\" href=\"mw-data:TemplateStyles:r886058088\"/></span>\n",
            "</li>\n",
            "<li id=\"cite_note-76\"><span class=\"mw-cite-backlink\"><b><a href=\"#cite_ref-76\">^</a></b></span> <span class=\"reference-text\"><cite class=\"citation news\">Hempel, Jessi (2018-11-13). <a rel=\"nofollow\" class=\"external text\" href=\"https://www.wired.com/story/fei-fei-li-artificial-intelligence-humanity/\">\"Fei-Fei Li's Quest to Make Machines Better for Humanity\"</a>. <i>Wired</i>. <a href=\"/wiki/International_Standard_Serial_Number\" title=\"International Standard Serial Number\">ISSN</a>&#160;<a rel=\"nofollow\" class=\"external text\" href=\"//www.worldcat.org/issn/1059-1028\">1059-1028</a><span class=\"reference-accessdate\">. Retrieved <span class=\"nowrap\">2019-02-17</span></span>.</cite><span title=\"ctx_ver=Z39.88-2004&amp;rft_val_fmt=info%3Aofi%2Ffmt%3Akev%3Amtx%3Ajournal&amp;rft.genre=article&amp;rft.jtitle=Wired&amp;rft.atitle=Fei-Fei+Li%27s+Quest+to+Make+Machines+Better+for+Humanity&amp;rft.date=2018-11-13&amp;rft.issn=1059-1028&amp;rft.aulast=Hempel&amp;rft.aufirst=Jessi&amp;rft_id=https%3A%2F%2Fwww.wired.com%2Fstory%2Ffei-fei-li-artificial-intelligence-humanity%2F&amp;rfr_id=info%3Asid%2Fen.wikipedia.org%3AMachine+learning\" class=\"Z3988\"></span><link rel=\"mw-deduplicated-inline-style\" href=\"mw-data:TemplateStyles:r886058088\"/></span>\n",
            "</li>\n",
            "<li id=\"cite_note-77\"><span class=\"mw-cite-backlink\"><b><a href=\"#cite_ref-77\">^</a></b></span> <span class=\"reference-text\"><cite class=\"citation journal\">Kohavi, Ron (1995). <a rel=\"nofollow\" class=\"external text\" href=\"http://web.cs.iastate.edu/~jtian/cs573/Papers/Kohavi-IJCAI-95.pdf\">\"A Study of Cross-Validation and Bootstrap for Accuracy Estimation and Model Selection\"</a> <span class=\"cs1-format\">(PDF)</span>. <i>International Joint Conference on Artificial Intelligence</i>.</cite><span title=\"ctx_ver=Z39.88-2004&amp;rft_val_fmt=info%3Aofi%2Ffmt%3Akev%3Amtx%3Ajournal&amp;rft.genre=article&amp;rft.jtitle=International+Joint+Conference+on+Artificial+Intelligence&amp;rft.atitle=A+Study+of+Cross-Validation+and+Bootstrap+for+Accuracy+Estimation+and+Model+Selection&amp;rft.date=1995&amp;rft.aulast=Kohavi&amp;rft.aufirst=Ron&amp;rft_id=http%3A%2F%2Fweb.cs.iastate.edu%2F~jtian%2Fcs573%2FPapers%2FKohavi-IJCAI-95.pdf&amp;rfr_id=info%3Asid%2Fen.wikipedia.org%3AMachine+learning\" class=\"Z3988\"></span><link rel=\"mw-deduplicated-inline-style\" href=\"mw-data:TemplateStyles:r886058088\"/></span>\n",
            "</li>\n",
            "<li id=\"cite_note-78\"><span class=\"mw-cite-backlink\"><b><a href=\"#cite_ref-78\">^</a></b></span> <span class=\"reference-text\"><cite class=\"citation journal\">Pontius, Robert Gilmore; Si, Kangping (2014). \"The total operating characteristic to measure diagnostic ability for multiple thresholds\". <i>International Journal of Geographical Information Science</i>. <b>28</b> (3): 570–583. <a href=\"/wiki/Digital_object_identifier\" title=\"Digital object identifier\">doi</a>:<a rel=\"nofollow\" class=\"external text\" href=\"//doi.org/10.1080%2F13658816.2013.862623\">10.1080/13658816.2013.862623</a>.</cite><span title=\"ctx_ver=Z39.88-2004&amp;rft_val_fmt=info%3Aofi%2Ffmt%3Akev%3Amtx%3Ajournal&amp;rft.genre=article&amp;rft.jtitle=International+Journal+of+Geographical+Information+Science&amp;rft.atitle=The+total+operating+characteristic+to+measure+diagnostic+ability+for+multiple+thresholds&amp;rft.volume=28&amp;rft.issue=3&amp;rft.pages=570-583&amp;rft.date=2014&amp;rft_id=info%3Adoi%2F10.1080%2F13658816.2013.862623&amp;rft.aulast=Pontius&amp;rft.aufirst=Robert+Gilmore&amp;rft.au=Si%2C+Kangping&amp;rfr_id=info%3Asid%2Fen.wikipedia.org%3AMachine+learning\" class=\"Z3988\"></span><link rel=\"mw-deduplicated-inline-style\" href=\"mw-data:TemplateStyles:r886058088\"/></span>\n",
            "</li>\n",
            "<li id=\"cite_note-79\"><span class=\"mw-cite-backlink\"><b><a href=\"#cite_ref-79\">^</a></b></span> <span class=\"reference-text\"><cite class=\"citation web\">Bostrom, Nick (2011). <a rel=\"nofollow\" class=\"external text\" href=\"http://www.nickbostrom.com/ethics/artificial-intelligence.pdf\">\"The Ethics of Artificial Intelligence\"</a> <span class=\"cs1-format\">(PDF)</span><span class=\"reference-accessdate\">. Retrieved <span class=\"nowrap\">11 April</span> 2016</span>.</cite><span title=\"ctx_ver=Z39.88-2004&amp;rft_val_fmt=info%3Aofi%2Ffmt%3Akev%3Amtx%3Abook&amp;rft.genre=unknown&amp;rft.btitle=The+Ethics+of+Artificial+Intelligence&amp;rft.date=2011&amp;rft.aulast=Bostrom&amp;rft.aufirst=Nick&amp;rft_id=http%3A%2F%2Fwww.nickbostrom.com%2Fethics%2Fartificial-intelligence.pdf&amp;rfr_id=info%3Asid%2Fen.wikipedia.org%3AMachine+learning\" class=\"Z3988\"></span><link rel=\"mw-deduplicated-inline-style\" href=\"mw-data:TemplateStyles:r886058088\"/></span>\n",
            "</li>\n",
            "<li id=\"cite_note-Edionwe_Outline-80\"><span class=\"mw-cite-backlink\"><b><a href=\"#cite_ref-Edionwe_Outline_80-0\">^</a></b></span> <span class=\"reference-text\"><cite class=\"citation web\">Edionwe, Tolulope. <a rel=\"nofollow\" class=\"external text\" href=\"https://theoutline.com/post/1571/the-fight-against-racist-algorithms\">\"The fight against racist algorithms\"</a>. <i>The Outline</i><span class=\"reference-accessdate\">. Retrieved <span class=\"nowrap\">17 November</span> 2017</span>.</cite><span title=\"ctx_ver=Z39.88-2004&amp;rft_val_fmt=info%3Aofi%2Ffmt%3Akev%3Amtx%3Ajournal&amp;rft.genre=unknown&amp;rft.jtitle=The+Outline&amp;rft.atitle=The+fight+against+racist+algorithms&amp;rft.aulast=Edionwe&amp;rft.aufirst=Tolulope&amp;rft_id=https%3A%2F%2Ftheoutline.com%2Fpost%2F1571%2Fthe-fight-against-racist-algorithms&amp;rfr_id=info%3Asid%2Fen.wikipedia.org%3AMachine+learning\" class=\"Z3988\"></span><link rel=\"mw-deduplicated-inline-style\" href=\"mw-data:TemplateStyles:r886058088\"/></span>\n",
            "</li>\n",
            "<li id=\"cite_note-Jeffries_Outline-81\"><span class=\"mw-cite-backlink\"><b><a href=\"#cite_ref-Jeffries_Outline_81-0\">^</a></b></span> <span class=\"reference-text\"><cite class=\"citation web\">Jeffries, Adrianne. <a rel=\"nofollow\" class=\"external text\" href=\"https://theoutline.com/post/1439/machine-learning-is-racist-because-the-internet-is-racist\">\"Machine learning is racist because the internet is racist\"</a>. <i>The Outline</i><span class=\"reference-accessdate\">. Retrieved <span class=\"nowrap\">17 November</span> 2017</span>.</cite><span title=\"ctx_ver=Z39.88-2004&amp;rft_val_fmt=info%3Aofi%2Ffmt%3Akev%3Amtx%3Ajournal&amp;rft.genre=unknown&amp;rft.jtitle=The+Outline&amp;rft.atitle=Machine+learning+is+racist+because+the+internet+is+racist&amp;rft.aulast=Jeffries&amp;rft.aufirst=Adrianne&amp;rft_id=https%3A%2F%2Ftheoutline.com%2Fpost%2F1439%2Fmachine-learning-is-racist-because-the-internet-is-racist&amp;rfr_id=info%3Asid%2Fen.wikipedia.org%3AMachine+learning\" class=\"Z3988\"></span><link rel=\"mw-deduplicated-inline-style\" href=\"mw-data:TemplateStyles:r886058088\"/></span>\n",
            "</li>\n",
            "<li id=\"cite_note-82\"><span class=\"mw-cite-backlink\"><b><a href=\"#cite_ref-82\">^</a></b></span> <span class=\"reference-text\"><cite class=\"citation web\">Narayanan, Arvind (August 24, 2016). <a rel=\"nofollow\" class=\"external text\" href=\"https://freedom-to-tinker.com/2016/08/24/language-necessarily-contains-human-biases-and-so-will-machines-trained-on-language-corpora/\">\"Language necessarily contains human biases, and so will machines trained on language corpora\"</a>. <i>Freedom to Tinker</i>.</cite><span title=\"ctx_ver=Z39.88-2004&amp;rft_val_fmt=info%3Aofi%2Ffmt%3Akev%3Amtx%3Ajournal&amp;rft.genre=unknown&amp;rft.jtitle=Freedom+to+Tinker&amp;rft.atitle=Language+necessarily+contains+human+biases%2C+and+so+will+machines+trained+on+language+corpora&amp;rft.date=2016-08-24&amp;rft.aulast=Narayanan&amp;rft.aufirst=Arvind&amp;rft_id=https%3A%2F%2Ffreedom-to-tinker.com%2F2016%2F08%2F24%2Flanguage-necessarily-contains-human-biases-and-so-will-machines-trained-on-language-corpora%2F&amp;rfr_id=info%3Asid%2Fen.wikipedia.org%3AMachine+learning\" class=\"Z3988\"></span><link rel=\"mw-deduplicated-inline-style\" href=\"mw-data:TemplateStyles:r886058088\"/></span>\n",
            "</li>\n",
            "<li id=\"cite_note-83\"><span class=\"mw-cite-backlink\"><b><a href=\"#cite_ref-83\">^</a></b></span> <span class=\"reference-text\"><cite class=\"citation journal\">Char, D. S.; Shah, N. H.; Magnus, D. (2018). <a rel=\"nofollow\" class=\"external text\" href=\"//www.ncbi.nlm.nih.gov/pmc/articles/PMC5962261\">\"Implementing Machine Learning in Health Care—Addressing Ethical Challenges\"</a>. <i><a href=\"/wiki/New_England_Journal_of_Medicine\" class=\"mw-redirect\" title=\"New England Journal of Medicine\">New England Journal of Medicine</a></i>. <b>378</b> (11): 981–983. <a href=\"/wiki/Digital_object_identifier\" title=\"Digital object identifier\">doi</a>:<a rel=\"nofollow\" class=\"external text\" href=\"//doi.org/10.1056%2Fnejmp1714229\">10.1056/nejmp1714229</a>. <a href=\"/wiki/PubMed_Central\" title=\"PubMed Central\">PMC</a>&#160;<span class=\"cs1-lock-free\" title=\"Freely accessible\"><a rel=\"nofollow\" class=\"external text\" href=\"//www.ncbi.nlm.nih.gov/pmc/articles/PMC5962261\">5962261</a></span>. <a href=\"/wiki/PubMed_Identifier\" class=\"mw-redirect\" title=\"PubMed Identifier\">PMID</a>&#160;<a rel=\"nofollow\" class=\"external text\" href=\"//www.ncbi.nlm.nih.gov/pubmed/29539284\">29539284</a>.</cite><span title=\"ctx_ver=Z39.88-2004&amp;rft_val_fmt=info%3Aofi%2Ffmt%3Akev%3Amtx%3Ajournal&amp;rft.genre=article&amp;rft.jtitle=New+England+Journal+of+Medicine&amp;rft.atitle=Implementing+Machine+Learning+in+Health+Care%E2%80%94Addressing+Ethical+Challenges&amp;rft.volume=378&amp;rft.issue=11&amp;rft.pages=981-983&amp;rft.date=2018&amp;rft_id=%2F%2Fwww.ncbi.nlm.nih.gov%2Fpmc%2Farticles%2FPMC5962261&amp;rft_id=info%3Apmid%2F29539284&amp;rft_id=info%3Adoi%2F10.1056%2Fnejmp1714229&amp;rft.aulast=Char&amp;rft.aufirst=D.+S.&amp;rft.au=Shah%2C+N.+H.&amp;rft.au=Magnus%2C+D.&amp;rft_id=%2F%2Fwww.ncbi.nlm.nih.gov%2Fpmc%2Farticles%2FPMC5962261&amp;rfr_id=info%3Asid%2Fen.wikipedia.org%3AMachine+learning\" class=\"Z3988\"></span><link rel=\"mw-deduplicated-inline-style\" href=\"mw-data:TemplateStyles:r886058088\"/></span>\n",
            "</li>\n",
            "</ol></div>\n",
            "<h2><span class=\"mw-headline\" id=\"Further_reading\">Further reading</span><span class=\"mw-editsection\"><span class=\"mw-editsection-bracket\">[</span><a href=\"/w/index.php?title=Machine_learning&amp;action=edit&amp;section=38\" title=\"Edit section: Further reading\">edit</a><span class=\"mw-editsection-bracket\">]</span></span></h2>\n",
            "<style data-mw-deduplicate=\"TemplateStyles:r886047268\">.mw-parser-output .refbegin{font-size:90%;margin-bottom:0.5em}.mw-parser-output .refbegin-hanging-indents>ul{list-style-type:none;margin-left:0}.mw-parser-output .refbegin-hanging-indents>ul>li,.mw-parser-output .refbegin-hanging-indents>dl>dd{margin-left:0;padding-left:3.2em;text-indent:-3.2em;list-style:none}.mw-parser-output .refbegin-100{font-size:100%}</style><div class=\"refbegin columns references-column-count references-column-count-2\" style=\"-moz-column-count: 2; -webkit-column-count: 2; column-count: 2;\"> \n",
            "<ul><li>Nils J. Nilsson, <i><a rel=\"nofollow\" class=\"external text\" href=\"http://ai.stanford.edu/people/nilsson/mlbook.html\">Introduction to Machine Learning</a></i>.</li>\n",
            "<li><a href=\"/wiki/Trevor_Hastie\" title=\"Trevor Hastie\">Trevor Hastie</a>, <a href=\"/wiki/Robert_Tibshirani\" title=\"Robert Tibshirani\">Robert Tibshirani</a> and <a href=\"/wiki/Jerome_H._Friedman\" title=\"Jerome H. Friedman\">Jerome H. Friedman</a> (2001). <i><a rel=\"nofollow\" class=\"external text\" href=\"https://web.stanford.edu/~hastie/ElemStatLearn/\">The Elements of Statistical Learning</a></i>, Springer. <link rel=\"mw-deduplicated-inline-style\" href=\"mw-data:TemplateStyles:r886058088\"/><a href=\"/wiki/International_Standard_Book_Number\" title=\"International Standard Book Number\">ISBN</a>&#160;<a href=\"/wiki/Special:BookSources/0-387-95284-5\" title=\"Special:BookSources/0-387-95284-5\">0-387-95284-5</a>.</li>\n",
            "<li><a href=\"/wiki/Pedro_Domingos\" title=\"Pedro Domingos\">Pedro Domingos</a> (September 2015), <i><a href=\"/wiki/The_Master_Algorithm\" title=\"The Master Algorithm\">The Master Algorithm</a></i>, Basic Books, <link rel=\"mw-deduplicated-inline-style\" href=\"mw-data:TemplateStyles:r886058088\"/><a href=\"/wiki/International_Standard_Book_Number\" title=\"International Standard Book Number\">ISBN</a>&#160;<a href=\"/wiki/Special:BookSources/978-0-465-06570-7\" title=\"Special:BookSources/978-0-465-06570-7\">978-0-465-06570-7</a></li>\n",
            "<li>Ian H. Witten and Eibe Frank (2011). <i>Data Mining: Practical machine learning tools and techniques</i> Morgan Kaufmann, 664pp., <link rel=\"mw-deduplicated-inline-style\" href=\"mw-data:TemplateStyles:r886058088\"/><a href=\"/wiki/International_Standard_Book_Number\" title=\"International Standard Book Number\">ISBN</a>&#160;<a href=\"/wiki/Special:BookSources/978-0-12-374856-0\" title=\"Special:BookSources/978-0-12-374856-0\">978-0-12-374856-0</a>.</li>\n",
            "<li>Ethem Alpaydin (2004). <i>Introduction to Machine Learning</i>, MIT Press, <link rel=\"mw-deduplicated-inline-style\" href=\"mw-data:TemplateStyles:r886058088\"/><a href=\"/wiki/International_Standard_Book_Number\" title=\"International Standard Book Number\">ISBN</a>&#160;<a href=\"/wiki/Special:BookSources/978-0-262-01243-0\" title=\"Special:BookSources/978-0-262-01243-0\">978-0-262-01243-0</a>.</li>\n",
            "<li><a href=\"/wiki/David_J._C._MacKay\" title=\"David J. C. MacKay\">David J. C. MacKay</a>. <i><a rel=\"nofollow\" class=\"external text\" href=\"http://www.inference.phy.cam.ac.uk/mackay/itila/book.html\">Information Theory, Inference, and Learning Algorithms</a></i> Cambridge: Cambridge University Press, 2003. <link rel=\"mw-deduplicated-inline-style\" href=\"mw-data:TemplateStyles:r886058088\"/><a href=\"/wiki/International_Standard_Book_Number\" title=\"International Standard Book Number\">ISBN</a>&#160;<a href=\"/wiki/Special:BookSources/0-521-64298-1\" title=\"Special:BookSources/0-521-64298-1\">0-521-64298-1</a></li>\n",
            "<li><a href=\"/wiki/Richard_O._Duda\" title=\"Richard O. Duda\">Richard O. Duda</a>, <a href=\"/wiki/Peter_E._Hart\" title=\"Peter E. Hart\">Peter E. Hart</a>, David G. Stork (2001) <i>Pattern classification</i> (2nd edition), Wiley, New York, <link rel=\"mw-deduplicated-inline-style\" href=\"mw-data:TemplateStyles:r886058088\"/><a href=\"/wiki/International_Standard_Book_Number\" title=\"International Standard Book Number\">ISBN</a>&#160;<a href=\"/wiki/Special:BookSources/0-471-05669-3\" title=\"Special:BookSources/0-471-05669-3\">0-471-05669-3</a>.</li>\n",
            "<li><a href=\"/wiki/Christopher_Bishop\" title=\"Christopher Bishop\">Christopher Bishop</a> (1995). <i>Neural Networks for Pattern Recognition</i>, Oxford University Press. <link rel=\"mw-deduplicated-inline-style\" href=\"mw-data:TemplateStyles:r886058088\"/><a href=\"/wiki/International_Standard_Book_Number\" title=\"International Standard Book Number\">ISBN</a>&#160;<a href=\"/wiki/Special:BookSources/0-19-853864-2\" title=\"Special:BookSources/0-19-853864-2\">0-19-853864-2</a>.</li>\n",
            "<li>Stuart Russell &amp; Peter Norvig, (2009). <i><a rel=\"nofollow\" class=\"external text\" href=\"http://aima.cs.berkeley.edu/\">Artificial Intelligence – A Modern Approach</a></i>. Pearson, <link rel=\"mw-deduplicated-inline-style\" href=\"mw-data:TemplateStyles:r886058088\"/><a href=\"/wiki/International_Standard_Book_Number\" title=\"International Standard Book Number\">ISBN</a>&#160;<a href=\"/wiki/Special:BookSources/9789332543515\" title=\"Special:BookSources/9789332543515\">9789332543515</a>.</li>\n",
            "<li><a href=\"/wiki/Ray_Solomonoff\" title=\"Ray Solomonoff\">Ray Solomonoff</a>, <i>An Inductive Inference Machine</i>, IRE Convention Record, Section on Information Theory, Part 2, pp., 56–62, 1957.</li>\n",
            "<li><a href=\"/wiki/Ray_Solomonoff\" title=\"Ray Solomonoff\">Ray Solomonoff</a>, <i><a rel=\"nofollow\" class=\"external text\" href=\"http://world.std.com/~rjs/indinf56.pdf\">An Inductive Inference Machine</a></i> A privately circulated report from the 1956 <a href=\"/wiki/Dartmouth_workshop\" title=\"Dartmouth workshop\">Dartmouth Summer Research Conference on AI</a>.</li></ul>\n",
            "</div>\n",
            "<h2><span class=\"mw-headline\" id=\"External_links\">External links</span><span class=\"mw-editsection\"><span class=\"mw-editsection-bracket\">[</span><a href=\"/w/index.php?title=Machine_learning&amp;action=edit&amp;section=39\" title=\"Edit section: External links\">edit</a><span class=\"mw-editsection-bracket\">]</span></span></h2>\n",
            "<table role=\"presentation\" class=\"mbox-small plainlinks sistersitebox\" style=\"background-color:#f9f9f9;border:1px solid #aaa;color:#000\">\n",
            "<tbody><tr>\n",
            "<td class=\"mbox-image\"><img alt=\"\" src=\"//upload.wikimedia.org/wikipedia/en/thumb/4/4a/Commons-logo.svg/30px-Commons-logo.svg.png\" decoding=\"async\" width=\"30\" height=\"40\" class=\"noviewer\" srcset=\"//upload.wikimedia.org/wikipedia/en/thumb/4/4a/Commons-logo.svg/45px-Commons-logo.svg.png 1.5x, //upload.wikimedia.org/wikipedia/en/thumb/4/4a/Commons-logo.svg/59px-Commons-logo.svg.png 2x\" data-file-width=\"1024\" data-file-height=\"1376\" /></td>\n",
            "<td class=\"mbox-text plainlist\">Wikimedia Commons has media related to <i><b><a href=\"https://commons.wikimedia.org/wiki/Category:Machine_learning\" class=\"extiw\" title=\"commons:Category:Machine learning\">Machine learning</a></b></i>.</td></tr>\n",
            "</tbody></table>\n",
            "<ul><li><a rel=\"nofollow\" class=\"external text\" href=\"https://web.archive.org/web/20171230081341/http://machinelearning.org:80/\">International Machine Learning Society</a></li>\n",
            "<li><a rel=\"nofollow\" class=\"external text\" href=\"https://mloss.org/\">mloss</a> is an academic database of open-source machine learning software.</li>\n",
            "<li><a rel=\"nofollow\" class=\"external text\" href=\"https://developers.google.com/machine-learning/crash-course/\">Machine Learning Crash Course</a> by <a href=\"/wiki/Google\" title=\"Google\">Google</a>. This is a free course on machine learning through the use of <a href=\"/wiki/TensorFlow\" title=\"TensorFlow\">TensorFlow</a>.</li></ul>\n",
            "<div role=\"navigation\" class=\"navbox\" aria-labelledby=\"Computer_science\" style=\"padding:3px\"><table class=\"nowraplinks hlist collapsible autocollapse navbox-inner\" style=\"border-spacing:0;background:transparent;color:inherit\"><tbody><tr><th scope=\"col\" class=\"navbox-title\" colspan=\"2\"><div class=\"plainlinks hlist navbar mini\"><ul><li class=\"nv-view\"><a href=\"/wiki/Template:Computer_science\" title=\"Template:Computer science\"><abbr title=\"View this template\" style=\";;background:none transparent;border:none;-moz-box-shadow:none;-webkit-box-shadow:none;box-shadow:none; padding:0;\">v</abbr></a></li><li class=\"nv-talk\"><a href=\"/wiki/Template_talk:Computer_science\" title=\"Template talk:Computer science\"><abbr title=\"Discuss this template\" style=\";;background:none transparent;border:none;-moz-box-shadow:none;-webkit-box-shadow:none;box-shadow:none; padding:0;\">t</abbr></a></li><li class=\"nv-edit\"><a class=\"external text\" href=\"//en.wikipedia.org/w/index.php?title=Template:Computer_science&amp;action=edit\"><abbr title=\"Edit this template\" style=\";;background:none transparent;border:none;-moz-box-shadow:none;-webkit-box-shadow:none;box-shadow:none; padding:0;\">e</abbr></a></li></ul></div><div id=\"Computer_science\" style=\"font-size:114%;margin:0 4em\"><a href=\"/wiki/Computer_science\" title=\"Computer science\">Computer science</a></div></th></tr><tr><td class=\"navbox-abovebelow\" colspan=\"2\"><div id=\"Note:_This_template_roughly_follows_the_2012_ACM_Computing_Classification_System.\">Note: This template roughly follows the 2012 <a href=\"/wiki/ACM_Computing_Classification_System\" title=\"ACM Computing Classification System\">ACM Computing Classification System</a>.</div></td></tr><tr><th scope=\"row\" class=\"navbox-group\" style=\"width:1%\"><a href=\"/wiki/Computer_hardware\" title=\"Computer hardware\">Hardware</a></th><td class=\"navbox-list navbox-odd\" style=\"text-align:left;border-left-width:2px;border-left-style:solid;width:100%;padding:0px\"><div style=\"padding:0em 0.25em\">\n",
            "<ul><li><a href=\"/wiki/Printed_circuit_board\" title=\"Printed circuit board\">Printed circuit board</a></li>\n",
            "<li><a href=\"/wiki/Peripheral\" title=\"Peripheral\">Peripheral</a></li>\n",
            "<li><a href=\"/wiki/Integrated_circuit\" title=\"Integrated circuit\">Integrated circuit</a></li>\n",
            "<li><a href=\"/wiki/Very_Large_Scale_Integration\" title=\"Very Large Scale Integration\">Very Large Scale Integration</a></li>\n",
            "<li><a href=\"/wiki/System_on_a_chip\" title=\"System on a chip\">Systems on Chip (SoCs)</a></li>\n",
            "<li><a href=\"/wiki/Green_computing\" title=\"Green computing\">Energy consumption (Green computing)</a></li>\n",
            "<li><a href=\"/wiki/Electronic_design_automation\" title=\"Electronic design automation\">Electronic design automation</a></li>\n",
            "<li><a href=\"/wiki/Hardware_acceleration\" title=\"Hardware acceleration\">Hardware acceleration</a></li></ul>\n",
            "</div></td></tr><tr><th scope=\"row\" class=\"navbox-group\" style=\"width:1%\">Computer systems<br />organization</th><td class=\"navbox-list navbox-even\" style=\"text-align:left;border-left-width:2px;border-left-style:solid;width:100%;padding:0px\"><div style=\"padding:0em 0.25em\">\n",
            "<ul><li><a href=\"/wiki/Computer_architecture\" title=\"Computer architecture\">Computer architecture</a></li>\n",
            "<li><a href=\"/wiki/Embedded_system\" title=\"Embedded system\">Embedded system</a></li>\n",
            "<li><a href=\"/wiki/Real-time_computing\" title=\"Real-time computing\">Real-time computing</a></li>\n",
            "<li><a href=\"/wiki/Dependability\" title=\"Dependability\">Dependability</a></li></ul>\n",
            "</div></td></tr><tr><th scope=\"row\" class=\"navbox-group\" style=\"width:1%\"><a href=\"/wiki/Computer_network\" title=\"Computer network\">Networks</a></th><td class=\"navbox-list navbox-odd\" style=\"text-align:left;border-left-width:2px;border-left-style:solid;width:100%;padding:0px\"><div style=\"padding:0em 0.25em\">\n",
            "<ul><li><a href=\"/wiki/Network_architecture\" title=\"Network architecture\">Network architecture</a></li>\n",
            "<li><a href=\"/wiki/Network_protocol\" class=\"mw-redirect\" title=\"Network protocol\">Network protocol</a></li>\n",
            "<li><a href=\"/wiki/Networking_hardware\" title=\"Networking hardware\">Network components</a></li>\n",
            "<li><a href=\"/wiki/Network_scheduler\" title=\"Network scheduler\">Network scheduler</a></li>\n",
            "<li><a href=\"/wiki/Network_performance\" title=\"Network performance\">Network performance evaluation</a></li>\n",
            "<li><a href=\"/wiki/Network_service\" title=\"Network service\">Network service</a></li></ul>\n",
            "</div></td></tr><tr><th scope=\"row\" class=\"navbox-group\" style=\"width:1%\">Software organization</th><td class=\"navbox-list navbox-even\" style=\"text-align:left;border-left-width:2px;border-left-style:solid;width:100%;padding:0px\"><div style=\"padding:0em 0.25em\">\n",
            "<ul><li><a href=\"/wiki/Interpreter_(computing)\" title=\"Interpreter (computing)\">Interpreter</a></li>\n",
            "<li><a href=\"/wiki/Middleware\" title=\"Middleware\">Middleware</a></li>\n",
            "<li><a href=\"/wiki/Virtual_machine\" title=\"Virtual machine\">Virtual machine</a></li>\n",
            "<li><a href=\"/wiki/Operating_system\" title=\"Operating system\">Operating system</a></li>\n",
            "<li><a href=\"/wiki/Software_quality\" title=\"Software quality\">Software quality</a></li></ul>\n",
            "</div></td></tr><tr><th scope=\"row\" class=\"navbox-group\" style=\"width:1%\"><a href=\"/wiki/Programming_language_theory\" title=\"Programming language theory\">Software notations</a><br />and <a href=\"/wiki/Programming_tool\" title=\"Programming tool\">tools</a></th><td class=\"navbox-list navbox-odd\" style=\"text-align:left;border-left-width:2px;border-left-style:solid;width:100%;padding:0px\"><div style=\"padding:0em 0.25em\">\n",
            "<ul><li><a href=\"/wiki/Programming_paradigm\" title=\"Programming paradigm\">Programming paradigm</a></li>\n",
            "<li><a href=\"/wiki/Programming_language\" title=\"Programming language\">Programming language</a></li>\n",
            "<li><a href=\"/wiki/Compiler_construction\" class=\"mw-redirect\" title=\"Compiler construction\">Compiler</a></li>\n",
            "<li><a href=\"/wiki/Domain-specific_language\" title=\"Domain-specific language\">Domain-specific language</a></li>\n",
            "<li><a href=\"/wiki/Modeling_language\" title=\"Modeling language\">Modeling language</a></li>\n",
            "<li><a href=\"/wiki/Software_framework\" title=\"Software framework\">Software framework</a></li>\n",
            "<li><a href=\"/wiki/Integrated_development_environment\" title=\"Integrated development environment\">Integrated development environment</a></li>\n",
            "<li><a href=\"/wiki/Software_configuration_management\" title=\"Software configuration management\">Software configuration management</a></li>\n",
            "<li><a href=\"/wiki/Library_(computing)\" title=\"Library (computing)\">Software library</a></li>\n",
            "<li><a href=\"/wiki/Software_repository\" title=\"Software repository\">Software repository</a></li></ul>\n",
            "</div></td></tr><tr><th scope=\"row\" class=\"navbox-group\" style=\"width:1%\"><a href=\"/wiki/Software_development\" title=\"Software development\">Software development</a></th><td class=\"navbox-list navbox-even\" style=\"text-align:left;border-left-width:2px;border-left-style:solid;width:100%;padding:0px\"><div style=\"padding:0em 0.25em\">\n",
            "<ul><li><a href=\"/wiki/Software_development_process\" title=\"Software development process\">Software development process</a></li>\n",
            "<li><a href=\"/wiki/Requirements_analysis\" title=\"Requirements analysis\">Requirements analysis</a></li>\n",
            "<li><a href=\"/wiki/Software_design\" title=\"Software design\">Software design</a></li>\n",
            "<li><a href=\"/wiki/Software_construction\" title=\"Software construction\">Software construction</a></li>\n",
            "<li><a href=\"/wiki/Software_deployment\" title=\"Software deployment\">Software deployment</a></li>\n",
            "<li><a href=\"/wiki/Software_maintenance\" title=\"Software maintenance\">Software maintenance</a></li>\n",
            "<li><a href=\"/wiki/Programming_team\" title=\"Programming team\">Programming team</a></li>\n",
            "<li><a href=\"/wiki/Open-source_software\" title=\"Open-source software\">Open-source model</a></li></ul>\n",
            "</div></td></tr><tr><th scope=\"row\" class=\"navbox-group\" style=\"width:1%\"><a href=\"/wiki/Theory_of_computation\" title=\"Theory of computation\">Theory of computation</a></th><td class=\"navbox-list navbox-odd\" style=\"text-align:left;border-left-width:2px;border-left-style:solid;width:100%;padding:0px\"><div style=\"padding:0em 0.25em\">\n",
            "<ul><li><a href=\"/wiki/Model_of_computation\" title=\"Model of computation\">Model of computation</a></li>\n",
            "<li><a href=\"/wiki/Formal_language\" title=\"Formal language\">Formal language</a></li>\n",
            "<li><a href=\"/wiki/Automata_theory\" title=\"Automata theory\">Automata theory</a></li>\n",
            "<li><a href=\"/wiki/Computational_complexity_theory\" title=\"Computational complexity theory\">Computational complexity theory</a></li>\n",
            "<li><a href=\"/wiki/Logic_in_computer_science\" title=\"Logic in computer science\">Logic</a></li>\n",
            "<li><a href=\"/wiki/Semantics_(computer_science)\" title=\"Semantics (computer science)\">Semantics</a></li></ul>\n",
            "</div></td></tr><tr><th scope=\"row\" class=\"navbox-group\" style=\"width:1%\"><a href=\"/wiki/Algorithm\" title=\"Algorithm\">Algorithms</a></th><td class=\"navbox-list navbox-even\" style=\"text-align:left;border-left-width:2px;border-left-style:solid;width:100%;padding:0px\"><div style=\"padding:0em 0.25em\">\n",
            "<ul><li><a href=\"/wiki/Algorithm_design\" class=\"mw-redirect\" title=\"Algorithm design\">Algorithm design</a></li>\n",
            "<li><a href=\"/wiki/Analysis_of_algorithms\" title=\"Analysis of algorithms\">Analysis of algorithms</a></li>\n",
            "<li><a href=\"/wiki/Algorithmic_efficiency\" title=\"Algorithmic efficiency\">Algorithmic efficiency</a></li>\n",
            "<li><a href=\"/wiki/Randomized_algorithm\" title=\"Randomized algorithm\">Randomized algorithm</a></li>\n",
            "<li><a href=\"/wiki/Computational_geometry\" title=\"Computational geometry\">Computational geometry</a></li></ul>\n",
            "</div></td></tr><tr><th scope=\"row\" class=\"navbox-group\" style=\"width:1%\">Mathematics<br />of computing</th><td class=\"navbox-list navbox-odd\" style=\"text-align:left;border-left-width:2px;border-left-style:solid;width:100%;padding:0px\"><div style=\"padding:0em 0.25em\">\n",
            "<ul><li><a href=\"/wiki/Discrete_mathematics\" title=\"Discrete mathematics\">Discrete mathematics</a></li>\n",
            "<li><a href=\"/wiki/Probability\" title=\"Probability\">Probability</a></li>\n",
            "<li><a href=\"/wiki/Statistics\" title=\"Statistics\">Statistics</a></li>\n",
            "<li><a href=\"/wiki/Mathematical_software\" title=\"Mathematical software\">Mathematical software</a></li>\n",
            "<li><a href=\"/wiki/Information_theory\" title=\"Information theory\">Information theory</a></li>\n",
            "<li><a href=\"/wiki/Mathematical_analysis\" title=\"Mathematical analysis\">Mathematical analysis</a></li>\n",
            "<li><a href=\"/wiki/Numerical_analysis\" title=\"Numerical analysis\">Numerical analysis</a></li></ul>\n",
            "</div></td></tr><tr><th scope=\"row\" class=\"navbox-group\" style=\"width:1%\"><a href=\"/wiki/Information_system\" title=\"Information system\">Information<br />systems</a></th><td class=\"navbox-list navbox-even\" style=\"text-align:left;border-left-width:2px;border-left-style:solid;width:100%;padding:0px\"><div style=\"padding:0em 0.25em\">\n",
            "<ul><li><a href=\"/wiki/Database\" title=\"Database\">Database management system</a></li>\n",
            "<li><a href=\"/wiki/Computer_data_storage\" title=\"Computer data storage\">Information storage systems</a></li>\n",
            "<li><a href=\"/wiki/Enterprise_information_system\" title=\"Enterprise information system\">Enterprise information system</a></li>\n",
            "<li><a href=\"/wiki/Social_software\" title=\"Social software\">Social information systems</a></li>\n",
            "<li><a href=\"/wiki/Geographic_information_system\" title=\"Geographic information system\">Geographic information system</a></li>\n",
            "<li><a href=\"/wiki/Decision_support_system\" title=\"Decision support system\">Decision support system</a></li>\n",
            "<li><a href=\"/wiki/Process_control\" title=\"Process control\">Process control system</a></li>\n",
            "<li><a href=\"/wiki/Multimedia_database\" title=\"Multimedia database\">Multimedia information system</a></li>\n",
            "<li><a href=\"/wiki/Data_mining\" title=\"Data mining\">Data mining</a></li>\n",
            "<li><a href=\"/wiki/Digital_library\" title=\"Digital library\">Digital library</a></li>\n",
            "<li><a href=\"/wiki/Computing_platform\" title=\"Computing platform\">Computing platform</a></li>\n",
            "<li><a href=\"/wiki/Digital_marketing\" title=\"Digital marketing\">Digital marketing</a></li>\n",
            "<li><a href=\"/wiki/World_Wide_Web\" title=\"World Wide Web\">World Wide Web</a></li>\n",
            "<li><a href=\"/wiki/Information_retrieval\" title=\"Information retrieval\">Information retrieval</a></li></ul>\n",
            "</div></td></tr><tr><th scope=\"row\" class=\"navbox-group\" style=\"width:1%\"><a href=\"/wiki/Computer_security\" title=\"Computer security\">Security</a></th><td class=\"navbox-list navbox-odd\" style=\"text-align:left;border-left-width:2px;border-left-style:solid;width:100%;padding:0px\"><div style=\"padding:0em 0.25em\">\n",
            "<ul><li><a href=\"/wiki/Cryptography\" title=\"Cryptography\">Cryptography</a></li>\n",
            "<li><a href=\"/wiki/Formal_methods\" title=\"Formal methods\">Formal methods</a></li>\n",
            "<li><a href=\"/wiki/Security_service_(telecommunication)\" title=\"Security service (telecommunication)\">Security services</a></li>\n",
            "<li><a href=\"/wiki/Intrusion_detection_system\" title=\"Intrusion detection system\">Intrusion detection system</a></li>\n",
            "<li><a href=\"/wiki/Computer_security_compromised_by_hardware_failure\" title=\"Computer security compromised by hardware failure\">Hardware security</a></li>\n",
            "<li><a href=\"/wiki/Network_security\" title=\"Network security\">Network security</a></li>\n",
            "<li><a href=\"/wiki/Information_security\" title=\"Information security\">Information security</a></li>\n",
            "<li><a href=\"/wiki/Application_security\" title=\"Application security\">Application security</a></li></ul>\n",
            "</div></td></tr><tr><th scope=\"row\" class=\"navbox-group\" style=\"width:1%\"><a href=\"/wiki/Human%E2%80%93computer_interaction\" title=\"Human–computer interaction\">Human–computer<br />interaction</a></th><td class=\"navbox-list navbox-even\" style=\"text-align:left;border-left-width:2px;border-left-style:solid;width:100%;padding:0px\"><div style=\"padding:0em 0.25em\">\n",
            "<ul><li><a href=\"/wiki/Interaction_design\" title=\"Interaction design\">Interaction design</a></li>\n",
            "<li><a href=\"/wiki/Social_computing\" title=\"Social computing\">Social computing</a></li>\n",
            "<li><a href=\"/wiki/Ubiquitous_computing\" title=\"Ubiquitous computing\">Ubiquitous computing</a></li>\n",
            "<li><a href=\"/wiki/Visualization_(graphics)\" title=\"Visualization (graphics)\">Visualization</a></li>\n",
            "<li><a href=\"/wiki/Computer_accessibility\" title=\"Computer accessibility\">Accessibility</a></li></ul>\n",
            "</div></td></tr><tr><th scope=\"row\" class=\"navbox-group\" style=\"width:1%\"><a href=\"/wiki/Concurrency_(computer_science)\" title=\"Concurrency (computer science)\">Concurrency</a></th><td class=\"navbox-list navbox-odd\" style=\"text-align:left;border-left-width:2px;border-left-style:solid;width:100%;padding:0px\"><div style=\"padding:0em 0.25em\">\n",
            "<ul><li><a href=\"/wiki/Concurrent_computing\" title=\"Concurrent computing\">Concurrent computing</a></li>\n",
            "<li><a href=\"/wiki/Parallel_computing\" title=\"Parallel computing\">Parallel computing</a></li>\n",
            "<li><a href=\"/wiki/Distributed_computing\" title=\"Distributed computing\">Distributed computing</a></li>\n",
            "<li><a href=\"/wiki/Multithreading_(computer_architecture)\" title=\"Multithreading (computer architecture)\">Multithreading</a></li>\n",
            "<li><a href=\"/wiki/Multiprocessing\" title=\"Multiprocessing\">Multiprocessing</a></li></ul>\n",
            "</div></td></tr><tr><th scope=\"row\" class=\"navbox-group\" style=\"width:1%\"><a href=\"/wiki/Artificial_intelligence\" title=\"Artificial intelligence\">Artificial<br />intelligence</a></th><td class=\"navbox-list navbox-even\" style=\"text-align:left;border-left-width:2px;border-left-style:solid;width:100%;padding:0px\"><div style=\"padding:0em 0.25em\">\n",
            "<ul><li><a href=\"/wiki/Natural_language_processing\" title=\"Natural language processing\">Natural language processing</a></li>\n",
            "<li><a href=\"/wiki/Knowledge_representation_and_reasoning\" title=\"Knowledge representation and reasoning\">Knowledge representation and reasoning</a></li>\n",
            "<li><a href=\"/wiki/Computer_vision\" title=\"Computer vision\">Computer vision</a></li>\n",
            "<li><a href=\"/wiki/Automated_planning_and_scheduling\" title=\"Automated planning and scheduling\">Automated planning and scheduling</a></li>\n",
            "<li><a href=\"/wiki/Mathematical_optimization\" title=\"Mathematical optimization\">Search methodology</a></li>\n",
            "<li><a href=\"/wiki/Control_theory\" title=\"Control theory\">Control method</a></li>\n",
            "<li><a href=\"/wiki/Philosophy_of_artificial_intelligence\" title=\"Philosophy of artificial intelligence\">Philosophy of artificial intelligence</a></li>\n",
            "<li><a href=\"/wiki/Distributed_artificial_intelligence\" title=\"Distributed artificial intelligence\">Distributed artificial intelligence</a></li></ul>\n",
            "</div></td></tr><tr><th scope=\"row\" class=\"navbox-group\" style=\"width:1%\"><a class=\"mw-selflink selflink\">Machine learning</a></th><td class=\"navbox-list navbox-odd\" style=\"text-align:left;border-left-width:2px;border-left-style:solid;width:100%;padding:0px\"><div style=\"padding:0em 0.25em\">\n",
            "<ul><li><a href=\"/wiki/Supervised_learning\" title=\"Supervised learning\">Supervised learning</a></li>\n",
            "<li><a href=\"/wiki/Unsupervised_learning\" title=\"Unsupervised learning\">Unsupervised learning</a></li>\n",
            "<li><a href=\"/wiki/Reinforcement_learning\" title=\"Reinforcement learning\">Reinforcement learning</a></li>\n",
            "<li><a href=\"/wiki/Multi-task_learning\" title=\"Multi-task learning\">Multi-task learning</a></li>\n",
            "<li><a href=\"/wiki/Cross-validation_(statistics)\" title=\"Cross-validation (statistics)\">Cross-validation</a></li></ul>\n",
            "</div></td></tr><tr><th scope=\"row\" class=\"navbox-group\" style=\"width:1%\"><a href=\"/wiki/Computer_graphics\" title=\"Computer graphics\">Graphics</a></th><td class=\"navbox-list navbox-even\" style=\"text-align:left;border-left-width:2px;border-left-style:solid;width:100%;padding:0px\"><div style=\"padding:0em 0.25em\">\n",
            "<ul><li><a href=\"/wiki/Computer_animation\" title=\"Computer animation\">Animation</a></li>\n",
            "<li><a href=\"/wiki/Rendering_(computer_graphics)\" title=\"Rendering (computer graphics)\">Rendering</a></li>\n",
            "<li><a href=\"/wiki/Photo_manipulation\" title=\"Photo manipulation\">Image manipulation</a></li>\n",
            "<li><a href=\"/wiki/Graphics_processing_unit\" title=\"Graphics processing unit\">Graphics processing unit</a></li>\n",
            "<li><a href=\"/wiki/Mixed_reality\" title=\"Mixed reality\">Mixed reality</a></li>\n",
            "<li><a href=\"/wiki/Virtual_reality\" title=\"Virtual reality\">Virtual reality</a></li>\n",
            "<li><a href=\"/wiki/Image_compression\" title=\"Image compression\">Image compression</a></li>\n",
            "<li><a href=\"/wiki/Solid_modeling\" title=\"Solid modeling\">Solid modeling</a></li></ul>\n",
            "</div></td></tr><tr><th scope=\"row\" class=\"navbox-group\" style=\"width:1%\">Applied<br />computing</th><td class=\"navbox-list navbox-odd\" style=\"text-align:left;border-left-width:2px;border-left-style:solid;width:100%;padding:0px\"><div style=\"padding:0em 0.25em\">\n",
            "<ul><li><a href=\"/wiki/E-commerce\" title=\"E-commerce\">E-commerce</a></li>\n",
            "<li><a href=\"/wiki/Enterprise_software\" title=\"Enterprise software\">Enterprise software</a></li>\n",
            "<li><a href=\"/wiki/Computational_mathematics\" title=\"Computational mathematics\">Computational mathematics</a></li>\n",
            "<li><a href=\"/wiki/Computational_physics\" title=\"Computational physics\">Computational physics</a></li>\n",
            "<li><a href=\"/wiki/Computational_chemistry\" title=\"Computational chemistry\">Computational chemistry</a></li>\n",
            "<li><a href=\"/wiki/Computational_biology\" title=\"Computational biology\">Computational biology</a></li>\n",
            "<li><a href=\"/wiki/Computational_social_science\" title=\"Computational social science\">Computational social science</a></li>\n",
            "<li><a href=\"/wiki/Computational_engineering\" title=\"Computational engineering\">Computational engineering</a></li>\n",
            "<li><a href=\"/wiki/Health_informatics\" title=\"Health informatics\">Computational healthcare</a></li>\n",
            "<li><a href=\"/wiki/Digital_art\" title=\"Digital art\">Digital art</a></li>\n",
            "<li><a href=\"/wiki/Electronic_publishing\" title=\"Electronic publishing\">Electronic publishing</a></li>\n",
            "<li><a href=\"/wiki/Cyberwarfare\" title=\"Cyberwarfare\">Cyberwarfare</a></li>\n",
            "<li><a href=\"/wiki/Electronic_voting\" title=\"Electronic voting\">Electronic voting</a></li>\n",
            "<li><a href=\"/wiki/Video_game\" title=\"Video game\">Video games</a></li>\n",
            "<li><a href=\"/wiki/Word_processor\" title=\"Word processor\">Word processing</a></li>\n",
            "<li><a href=\"/wiki/Operations_research\" title=\"Operations research\">Operations research</a></li>\n",
            "<li><a href=\"/wiki/Educational_technology\" title=\"Educational technology\">Educational technology</a></li>\n",
            "<li><a href=\"/wiki/Document_management_system\" title=\"Document management system\">Document management</a></li></ul>\n",
            "</div></td></tr><tr><td class=\"navbox-abovebelow\" colspan=\"2\"><div>\n",
            "<ul><li><img alt=\"Wikipedia book\" src=\"//upload.wikimedia.org/wikipedia/commons/thumb/8/89/Symbol_book_class2.svg/16px-Symbol_book_class2.svg.png\" decoding=\"async\" title=\"Wikipedia book\" width=\"16\" height=\"16\" srcset=\"//upload.wikimedia.org/wikipedia/commons/thumb/8/89/Symbol_book_class2.svg/23px-Symbol_book_class2.svg.png 1.5x, //upload.wikimedia.org/wikipedia/commons/thumb/8/89/Symbol_book_class2.svg/31px-Symbol_book_class2.svg.png 2x\" data-file-width=\"180\" data-file-height=\"185\" /> <b><a href=\"/wiki/Book:Computer_science\" title=\"Book:Computer science\">Book</a></b></li>\n",
            "<li><img alt=\"Category\" src=\"//upload.wikimedia.org/wikipedia/en/thumb/4/48/Folder_Hexagonal_Icon.svg/16px-Folder_Hexagonal_Icon.svg.png\" decoding=\"async\" title=\"Category\" width=\"16\" height=\"14\" srcset=\"//upload.wikimedia.org/wikipedia/en/thumb/4/48/Folder_Hexagonal_Icon.svg/24px-Folder_Hexagonal_Icon.svg.png 1.5x, //upload.wikimedia.org/wikipedia/en/thumb/4/48/Folder_Hexagonal_Icon.svg/32px-Folder_Hexagonal_Icon.svg.png 2x\" data-file-width=\"36\" data-file-height=\"31\" /> <b><a href=\"/wiki/Category:Computer_science\" title=\"Category:Computer science\">Category</a></b></li>\n",
            "<li><img alt=\"Portal\" src=\"//upload.wikimedia.org/wikipedia/en/thumb/f/fd/Portal-puzzle.svg/16px-Portal-puzzle.svg.png\" decoding=\"async\" title=\"Portal\" width=\"16\" height=\"14\" srcset=\"//upload.wikimedia.org/wikipedia/en/thumb/f/fd/Portal-puzzle.svg/24px-Portal-puzzle.svg.png 1.5x, //upload.wikimedia.org/wikipedia/en/thumb/f/fd/Portal-puzzle.svg/32px-Portal-puzzle.svg.png 2x\" data-file-width=\"32\" data-file-height=\"28\" /> <b><a href=\"/wiki/Portal:Computer_science\" title=\"Portal:Computer science\">Portal</a></b></li>\n",
            "<li><img alt=\"WikiProject\" src=\"//upload.wikimedia.org/wikipedia/commons/thumb/3/37/People_icon.svg/16px-People_icon.svg.png\" decoding=\"async\" title=\"WikiProject\" width=\"16\" height=\"16\" srcset=\"//upload.wikimedia.org/wikipedia/commons/thumb/3/37/People_icon.svg/24px-People_icon.svg.png 1.5x, //upload.wikimedia.org/wikipedia/commons/thumb/3/37/People_icon.svg/32px-People_icon.svg.png 2x\" data-file-width=\"100\" data-file-height=\"100\" /><b><a href=\"/wiki/Wikipedia:WikiProject_Computer_science\" title=\"Wikipedia:WikiProject Computer science\">WikiProject</a></b></li>\n",
            "<li><img alt=\"Commons page\" src=\"//upload.wikimedia.org/wikipedia/en/thumb/4/4a/Commons-logo.svg/12px-Commons-logo.svg.png\" decoding=\"async\" title=\"Commons page\" width=\"12\" height=\"16\" srcset=\"//upload.wikimedia.org/wikipedia/en/thumb/4/4a/Commons-logo.svg/18px-Commons-logo.svg.png 1.5x, //upload.wikimedia.org/wikipedia/en/thumb/4/4a/Commons-logo.svg/24px-Commons-logo.svg.png 2x\" data-file-width=\"1024\" data-file-height=\"1376\" /> <b><a href=\"https://commons.wikimedia.org/wiki/Category:Computer_science\" class=\"extiw\" title=\"commons:Category:Computer science\">Commons</a></b></li></ul>\n",
            "</div></td></tr></tbody></table></div>\n",
            "<!-- \n",
            "NewPP limit report\n",
            "Parsed by mw1323\n",
            "Cached time: 20190620094211\n",
            "Cache expiry: 2592000\n",
            "Dynamic content: false\n",
            "Complications: [vary‐revision]\n",
            "CPU time usage: 1.244 seconds\n",
            "Real time usage: 1.520 seconds\n",
            "Preprocessor visited node count: 6935/1000000\n",
            "Preprocessor generated node count: 0/1500000\n",
            "Post‐expand include size: 212495/2097152 bytes\n",
            "Template argument size: 9728/2097152 bytes\n",
            "Highest expansion depth: 15/40\n",
            "Expensive parser function count: 10/500\n",
            "Unstrip recursion depth: 1/20\n",
            "Unstrip post‐expand size: 240343/5000000 bytes\n",
            "Number of Wikibase entities loaded: 7/400\n",
            "Lua time usage: 0.639/10.000 seconds\n",
            "Lua memory usage: 8 MB/50 MB\n",
            "-->\n",
            "<!--\n",
            "Transclusion expansion time report (%,ms,calls,template)\n",
            "100.00% 1252.673      1 -total\n",
            " 52.12%  652.917      1 Template:Reflist\n",
            " 20.00%  250.558     20 Template:Cite_journal\n",
            " 10.17%  127.382      4 Template:Cite_conference\n",
            "  9.61%  120.336      2 Template:Refn\n",
            "  5.95%   74.521     13 Template:Cite_book\n",
            "  5.81%   72.819      9 Template:ISBN\n",
            "  5.70%   71.460      2 Template:What\n",
            "  5.50%   68.908     13 Template:Cite_news\n",
            "  5.43%   68.058     14 Template:Cite_web\n",
            "-->\n",
            "\n",
            "<!-- Saved in parser cache with key enwiki:pcache:idhash:233488-0!canonical!math=5 and timestamp 20190620094209 and revision id 902636685\n",
            " -->\n",
            "</div><noscript><img src=\"//en.wikipedia.org/wiki/Special:CentralAutoLogin/start?type=1x1\" alt=\"\" title=\"\" width=\"1\" height=\"1\" style=\"border: none; position: absolute;\" /></noscript></div>\n",
            "\t\t\n",
            "\t\t<div class=\"printfooter\">Retrieved from \"<a dir=\"ltr\" href=\"https://en.wikipedia.org/w/index.php?title=Machine_learning&amp;oldid=902636685\">https://en.wikipedia.org/w/index.php?title=Machine_learning&amp;oldid=902636685</a>\"</div>\n",
            "\t\t\n",
            "\t\t<div id=\"catlinks\" class=\"catlinks\" data-mw=\"interface\"><div id=\"mw-normal-catlinks\" class=\"mw-normal-catlinks\"><a href=\"/wiki/Help:Category\" title=\"Help:Category\">Categories</a>: <ul><li><a href=\"/wiki/Category:Machine_learning\" title=\"Category:Machine learning\">Machine learning</a></li><li><a href=\"/wiki/Category:Cybernetics\" title=\"Category:Cybernetics\">Cybernetics</a></li><li><a href=\"/wiki/Category:Learning\" title=\"Category:Learning\">Learning</a></li></ul></div><div id=\"mw-hidden-catlinks\" class=\"mw-hidden-catlinks mw-hidden-cats-hidden\">Hidden categories: <ul><li><a href=\"/wiki/Category:CS1_maint:_Multiple_names:_authors_list\" title=\"Category:CS1 maint: Multiple names: authors list\">CS1 maint: Multiple names: authors list</a></li><li><a href=\"/wiki/Category:CS1_maint:_others\" title=\"Category:CS1 maint: others\">CS1 maint: others</a></li><li><a href=\"/wiki/Category:Wikipedia_articles_needing_clarification_from_November_2018\" title=\"Category:Wikipedia articles needing clarification from November 2018\">Wikipedia articles needing clarification from November 2018</a></li><li><a href=\"/wiki/Category:Commons_category_link_from_Wikidata\" title=\"Category:Commons category link from Wikidata\">Commons category link from Wikidata</a></li></ul></div></div>\n",
            "\t\t\n",
            "\t\t<div class=\"visualClear\"></div>\n",
            "\t\t\n",
            "\t</div>\n",
            "</div>\n",
            "\n",
            "\t\t<div id=\"mw-navigation\">\n",
            "\t\t\t<h2>Navigation menu</h2>\n",
            "\t\t\t<div id=\"mw-head\">\n",
            "\t\t\t\t\t\t\t\t\t<div id=\"p-personal\" role=\"navigation\" aria-labelledby=\"p-personal-label\">\n",
            "\t\t\t\t\t\t<h3 id=\"p-personal-label\">Personal tools</h3>\n",
            "\t\t\t\t\t\t<ul>\n",
            "\t\t\t\t\t\t\t<li id=\"pt-anonuserpage\">Not logged in</li><li id=\"pt-anontalk\"><a href=\"/wiki/Special:MyTalk\" title=\"Discussion about edits from this IP address [n]\" accesskey=\"n\">Talk</a></li><li id=\"pt-anoncontribs\"><a href=\"/wiki/Special:MyContributions\" title=\"A list of edits made from this IP address [y]\" accesskey=\"y\">Contributions</a></li><li id=\"pt-createaccount\"><a href=\"/w/index.php?title=Special:CreateAccount&amp;returnto=Machine+learning\" title=\"You are encouraged to create an account and log in; however, it is not mandatory\">Create account</a></li><li id=\"pt-login\"><a href=\"/w/index.php?title=Special:UserLogin&amp;returnto=Machine+learning\" title=\"You&#039;re encouraged to log in; however, it&#039;s not mandatory. [o]\" accesskey=\"o\">Log in</a></li>\t\t\t\t\t\t</ul>\n",
            "\t\t\t\t\t</div>\n",
            "\t\t\t\t\t\t\t\t\t<div id=\"left-navigation\">\n",
            "\t\t\t\t\t\t\t\t\t\t<div id=\"p-namespaces\" role=\"navigation\" class=\"vectorTabs\" aria-labelledby=\"p-namespaces-label\">\n",
            "\t\t\t\t\t\t<h3 id=\"p-namespaces-label\">Namespaces</h3>\n",
            "\t\t\t\t\t\t<ul>\n",
            "\t\t\t\t\t\t\t<li id=\"ca-nstab-main\" class=\"selected\"><span><a href=\"/wiki/Machine_learning\" title=\"View the content page [c]\" accesskey=\"c\">Article</a></span></li><li id=\"ca-talk\"><span><a href=\"/wiki/Talk:Machine_learning\" rel=\"discussion\" title=\"Discussion about the content page [t]\" accesskey=\"t\">Talk</a></span></li>\t\t\t\t\t\t</ul>\n",
            "\t\t\t\t\t</div>\n",
            "\t\t\t\t\t\t\t\t\t\t<div id=\"p-variants\" role=\"navigation\" class=\"vectorMenu emptyPortlet\" aria-labelledby=\"p-variants-label\">\n",
            "\t\t\t\t\t\t\t\t\t\t\t\t<input type=\"checkbox\" class=\"vectorMenuCheckbox\" aria-labelledby=\"p-variants-label\" />\n",
            "\t\t\t\t\t\t<h3 id=\"p-variants-label\">\n",
            "\t\t\t\t\t\t\t<span>Variants</span>\n",
            "\t\t\t\t\t\t</h3>\n",
            "\t\t\t\t\t\t<ul class=\"menu\">\n",
            "\t\t\t\t\t\t\t\t\t\t\t\t\t</ul>\n",
            "\t\t\t\t\t</div>\n",
            "\t\t\t\t\t\t\t\t\t</div>\n",
            "\t\t\t\t<div id=\"right-navigation\">\n",
            "\t\t\t\t\t\t\t\t\t\t<div id=\"p-views\" role=\"navigation\" class=\"vectorTabs\" aria-labelledby=\"p-views-label\">\n",
            "\t\t\t\t\t\t<h3 id=\"p-views-label\">Views</h3>\n",
            "\t\t\t\t\t\t<ul>\n",
            "\t\t\t\t\t\t\t<li id=\"ca-view\" class=\"collapsible selected\"><span><a href=\"/wiki/Machine_learning\">Read</a></span></li><li id=\"ca-edit\" class=\"collapsible\"><span><a href=\"/w/index.php?title=Machine_learning&amp;action=edit\" title=\"Edit this page [e]\" accesskey=\"e\">Edit</a></span></li><li id=\"ca-history\" class=\"collapsible\"><span><a href=\"/w/index.php?title=Machine_learning&amp;action=history\" title=\"Past revisions of this page [h]\" accesskey=\"h\">View history</a></span></li>\t\t\t\t\t\t</ul>\n",
            "\t\t\t\t\t</div>\n",
            "\t\t\t\t\t\t\t\t\t\t<div id=\"p-cactions\" role=\"navigation\" class=\"vectorMenu emptyPortlet\" aria-labelledby=\"p-cactions-label\">\n",
            "\t\t\t\t\t\t<input type=\"checkbox\" class=\"vectorMenuCheckbox\" aria-labelledby=\"p-cactions-label\" />\n",
            "\t\t\t\t\t\t<h3 id=\"p-cactions-label\"><span>More</span></h3>\n",
            "\t\t\t\t\t\t<ul class=\"menu\">\n",
            "\t\t\t\t\t\t\t\t\t\t\t\t\t</ul>\n",
            "\t\t\t\t\t</div>\n",
            "\t\t\t\t\t\t\t\t\t\t<div id=\"p-search\" role=\"search\">\n",
            "\t\t\t\t\t\t<h3>\n",
            "\t\t\t\t\t\t\t<label for=\"searchInput\">Search</label>\n",
            "\t\t\t\t\t\t</h3>\n",
            "\t\t\t\t\t\t<form action=\"/w/index.php\" id=\"searchform\">\n",
            "\t\t\t\t\t\t\t<div id=\"simpleSearch\">\n",
            "\t\t\t\t\t\t\t\t<input type=\"search\" name=\"search\" placeholder=\"Search Wikipedia\" title=\"Search Wikipedia [f]\" accesskey=\"f\" id=\"searchInput\"/><input type=\"hidden\" value=\"Special:Search\" name=\"title\"/><input type=\"submit\" name=\"fulltext\" value=\"Search\" title=\"Search Wikipedia for this text\" id=\"mw-searchButton\" class=\"searchButton mw-fallbackSearchButton\"/><input type=\"submit\" name=\"go\" value=\"Go\" title=\"Go to a page with this exact name if it exists\" id=\"searchButton\" class=\"searchButton\"/>\t\t\t\t\t\t\t</div>\n",
            "\t\t\t\t\t\t</form>\n",
            "\t\t\t\t\t</div>\n",
            "\t\t\t\t\t\t\t\t\t</div>\n",
            "\t\t\t</div>\n",
            "\t\t\t<div id=\"mw-panel\">\n",
            "\t\t\t\t<div id=\"p-logo\" role=\"banner\"><a class=\"mw-wiki-logo\" href=\"/wiki/Main_Page\" title=\"Visit the main page\"></a></div>\n",
            "\t\t\t\t\t\t<div class=\"portal\" role=\"navigation\" id=\"p-navigation\" aria-labelledby=\"p-navigation-label\">\n",
            "\t\t\t<h3 id=\"p-navigation-label\">Navigation</h3>\n",
            "\t\t\t<div class=\"body\">\n",
            "\t\t\t\t\t\t\t\t<ul>\n",
            "\t\t\t\t\t<li id=\"n-mainpage-description\"><a href=\"/wiki/Main_Page\" title=\"Visit the main page [z]\" accesskey=\"z\">Main page</a></li><li id=\"n-contents\"><a href=\"/wiki/Portal:Contents\" title=\"Guides to browsing Wikipedia\">Contents</a></li><li id=\"n-featuredcontent\"><a href=\"/wiki/Portal:Featured_content\" title=\"Featured content – the best of Wikipedia\">Featured content</a></li><li id=\"n-currentevents\"><a href=\"/wiki/Portal:Current_events\" title=\"Find background information on current events\">Current events</a></li><li id=\"n-randompage\"><a href=\"/wiki/Special:Random\" title=\"Load a random article [x]\" accesskey=\"x\">Random article</a></li><li id=\"n-sitesupport\"><a href=\"https://donate.wikimedia.org/wiki/Special:FundraiserRedirector?utm_source=donate&amp;utm_medium=sidebar&amp;utm_campaign=C13_en.wikipedia.org&amp;uselang=en\" title=\"Support us\">Donate to Wikipedia</a></li><li id=\"n-shoplink\"><a href=\"//shop.wikimedia.org\" title=\"Visit the Wikipedia store\">Wikipedia store</a></li>\t\t\t\t</ul>\n",
            "\t\t\t\t\t\t\t</div>\n",
            "\t\t</div>\n",
            "\t\t\t<div class=\"portal\" role=\"navigation\" id=\"p-interaction\" aria-labelledby=\"p-interaction-label\">\n",
            "\t\t\t<h3 id=\"p-interaction-label\">Interaction</h3>\n",
            "\t\t\t<div class=\"body\">\n",
            "\t\t\t\t\t\t\t\t<ul>\n",
            "\t\t\t\t\t<li id=\"n-help\"><a href=\"/wiki/Help:Contents\" title=\"Guidance on how to use and edit Wikipedia\">Help</a></li><li id=\"n-aboutsite\"><a href=\"/wiki/Wikipedia:About\" title=\"Find out about Wikipedia\">About Wikipedia</a></li><li id=\"n-portal\"><a href=\"/wiki/Wikipedia:Community_portal\" title=\"About the project, what you can do, where to find things\">Community portal</a></li><li id=\"n-recentchanges\"><a href=\"/wiki/Special:RecentChanges\" title=\"A list of recent changes in the wiki [r]\" accesskey=\"r\">Recent changes</a></li><li id=\"n-contactpage\"><a href=\"//en.wikipedia.org/wiki/Wikipedia:Contact_us\" title=\"How to contact Wikipedia\">Contact page</a></li>\t\t\t\t</ul>\n",
            "\t\t\t\t\t\t\t</div>\n",
            "\t\t</div>\n",
            "\t\t\t<div class=\"portal\" role=\"navigation\" id=\"p-tb\" aria-labelledby=\"p-tb-label\">\n",
            "\t\t\t<h3 id=\"p-tb-label\">Tools</h3>\n",
            "\t\t\t<div class=\"body\">\n",
            "\t\t\t\t\t\t\t\t<ul>\n",
            "\t\t\t\t\t<li id=\"t-whatlinkshere\"><a href=\"/wiki/Special:WhatLinksHere/Machine_learning\" title=\"List of all English Wikipedia pages containing links to this page [j]\" accesskey=\"j\">What links here</a></li><li id=\"t-recentchangeslinked\"><a href=\"/wiki/Special:RecentChangesLinked/Machine_learning\" rel=\"nofollow\" title=\"Recent changes in pages linked from this page [k]\" accesskey=\"k\">Related changes</a></li><li id=\"t-upload\"><a href=\"/wiki/Wikipedia:File_Upload_Wizard\" title=\"Upload files [u]\" accesskey=\"u\">Upload file</a></li><li id=\"t-specialpages\"><a href=\"/wiki/Special:SpecialPages\" title=\"A list of all special pages [q]\" accesskey=\"q\">Special pages</a></li><li id=\"t-permalink\"><a href=\"/w/index.php?title=Machine_learning&amp;oldid=902636685\" title=\"Permanent link to this revision of the page\">Permanent link</a></li><li id=\"t-info\"><a href=\"/w/index.php?title=Machine_learning&amp;action=info\" title=\"More information about this page\">Page information</a></li><li id=\"t-wikibase\"><a href=\"https://www.wikidata.org/wiki/Special:EntityPage/Q2539\" title=\"Link to connected data repository item [g]\" accesskey=\"g\">Wikidata item</a></li><li id=\"t-cite\"><a href=\"/w/index.php?title=Special:CiteThisPage&amp;page=Machine_learning&amp;id=902636685\" title=\"Information on how to cite this page\">Cite this page</a></li>\t\t\t\t</ul>\n",
            "\t\t\t\t\t\t\t</div>\n",
            "\t\t</div>\n",
            "\t\t\t<div class=\"portal\" role=\"navigation\" id=\"p-wikibase-otherprojects\" aria-labelledby=\"p-wikibase-otherprojects-label\">\n",
            "\t\t\t<h3 id=\"p-wikibase-otherprojects-label\">In other projects</h3>\n",
            "\t\t\t<div class=\"body\">\n",
            "\t\t\t\t\t\t\t\t<ul>\n",
            "\t\t\t\t\t<li class=\"wb-otherproject-link wb-otherproject-commons\"><a href=\"https://commons.wikimedia.org/wiki/Category:Machine_learning\" hreflang=\"en\">Wikimedia Commons</a></li><li class=\"wb-otherproject-link wb-otherproject-wikiversity\"><a href=\"https://en.wikiversity.org/wiki/Machine_learning\" hreflang=\"en\">Wikiversity</a></li>\t\t\t\t</ul>\n",
            "\t\t\t\t\t\t\t</div>\n",
            "\t\t</div>\n",
            "\t\t\t<div class=\"portal\" role=\"navigation\" id=\"p-coll-print_export\" aria-labelledby=\"p-coll-print_export-label\">\n",
            "\t\t\t<h3 id=\"p-coll-print_export-label\">Print/export</h3>\n",
            "\t\t\t<div class=\"body\">\n",
            "\t\t\t\t\t\t\t\t<ul>\n",
            "\t\t\t\t\t<li id=\"coll-create_a_book\"><a href=\"/w/index.php?title=Special:Book&amp;bookcmd=book_creator&amp;referer=Machine+learning\">Create a book</a></li><li id=\"coll-download-as-rl\"><a href=\"/w/index.php?title=Special:ElectronPdf&amp;page=Machine+learning&amp;action=show-download-screen\">Download as PDF</a></li><li id=\"t-print\"><a href=\"/w/index.php?title=Machine_learning&amp;printable=yes\" title=\"Printable version of this page [p]\" accesskey=\"p\">Printable version</a></li>\t\t\t\t</ul>\n",
            "\t\t\t\t\t\t\t</div>\n",
            "\t\t</div>\n",
            "\t\t\t<div class=\"portal\" role=\"navigation\" id=\"p-lang\" aria-labelledby=\"p-lang-label\">\n",
            "\t\t\t<h3 id=\"p-lang-label\">Languages</h3>\n",
            "\t\t\t<div class=\"body\">\n",
            "\t\t\t\t\t\t\t\t<ul>\n",
            "\t\t\t\t\t<li class=\"interlanguage-link interwiki-ar\"><a href=\"https://ar.wikipedia.org/wiki/%D8%AA%D8%B9%D9%84%D9%85_%D8%A2%D9%84%D9%8A\" title=\"تعلم آلي – Arabic\" lang=\"ar\" hreflang=\"ar\" class=\"interlanguage-link-target\">العربية</a></li><li class=\"interlanguage-link interwiki-as\"><a href=\"https://as.wikipedia.org/wiki/%E0%A6%AF%E0%A6%A8%E0%A7%8D%E0%A6%A4%E0%A7%8D%E0%A7%B0_%E0%A6%B6%E0%A6%BF%E0%A6%95%E0%A7%8D%E0%A6%B7%E0%A6%A3\" title=\"যন্ত্ৰ শিক্ষণ – Assamese\" lang=\"as\" hreflang=\"as\" class=\"interlanguage-link-target\">অসমীয়া</a></li><li class=\"interlanguage-link interwiki-az\"><a href=\"https://az.wikipedia.org/wiki/Ma%C5%9F%C4%B1n_%C3%B6yr%C9%99nm%C9%99si\" title=\"Maşın öyrənməsi – Azerbaijani\" lang=\"az\" hreflang=\"az\" class=\"interlanguage-link-target\">Azərbaycanca</a></li><li class=\"interlanguage-link interwiki-bn\"><a href=\"https://bn.wikipedia.org/wiki/%E0%A6%AE%E0%A7%87%E0%A6%B6%E0%A6%BF%E0%A6%A8_%E0%A6%B2%E0%A6%BE%E0%A6%B0%E0%A7%8D%E0%A6%A8%E0%A6%BF%E0%A6%82\" title=\"মেশিন লার্নিং – Bangla\" lang=\"bn\" hreflang=\"bn\" class=\"interlanguage-link-target\">বাংলা</a></li><li class=\"interlanguage-link interwiki-zh-min-nan\"><a href=\"https://zh-min-nan.wikipedia.org/wiki/Ki-h%C4%81i_ha%CC%8Dk-si%CC%8Dp\" title=\"Ki-hāi ha̍k-si̍p – Chinese (Min Nan)\" lang=\"nan\" hreflang=\"nan\" class=\"interlanguage-link-target\">Bân-lâm-gú</a></li><li class=\"interlanguage-link interwiki-bg\"><a href=\"https://bg.wikipedia.org/wiki/%D0%9C%D0%B0%D1%88%D0%B8%D0%BD%D0%BD%D0%BE_%D1%81%D0%B0%D0%BC%D0%BE%D0%BE%D0%B1%D1%83%D1%87%D0%B5%D0%BD%D0%B8%D0%B5\" title=\"Машинно самообучение – Bulgarian\" lang=\"bg\" hreflang=\"bg\" class=\"interlanguage-link-target\">Български</a></li><li class=\"interlanguage-link interwiki-ca\"><a href=\"https://ca.wikipedia.org/wiki/Aprenentatge_autom%C3%A0tic\" title=\"Aprenentatge automàtic – Catalan\" lang=\"ca\" hreflang=\"ca\" class=\"interlanguage-link-target\">Català</a></li><li class=\"interlanguage-link interwiki-cs\"><a href=\"https://cs.wikipedia.org/wiki/Strojov%C3%A9_u%C4%8Den%C3%AD\" title=\"Strojové učení – Czech\" lang=\"cs\" hreflang=\"cs\" class=\"interlanguage-link-target\">Čeština</a></li><li class=\"interlanguage-link interwiki-cy\"><a href=\"https://cy.wikipedia.org/wiki/Dysgu_peirianyddol\" title=\"Dysgu peirianyddol – Welsh\" lang=\"cy\" hreflang=\"cy\" class=\"interlanguage-link-target\">Cymraeg</a></li><li class=\"interlanguage-link interwiki-da\"><a href=\"https://da.wikipedia.org/wiki/Maskinl%C3%A6ring\" title=\"Maskinlæring – Danish\" lang=\"da\" hreflang=\"da\" class=\"interlanguage-link-target\">Dansk</a></li><li class=\"interlanguage-link interwiki-de\"><a href=\"https://de.wikipedia.org/wiki/Maschinelles_Lernen\" title=\"Maschinelles Lernen – German\" lang=\"de\" hreflang=\"de\" class=\"interlanguage-link-target\">Deutsch</a></li><li class=\"interlanguage-link interwiki-et\"><a href=\"https://et.wikipedia.org/wiki/Masin%C3%B5ppimine\" title=\"Masinõppimine – Estonian\" lang=\"et\" hreflang=\"et\" class=\"interlanguage-link-target\">Eesti</a></li><li class=\"interlanguage-link interwiki-el\"><a href=\"https://el.wikipedia.org/wiki/%CE%9C%CE%B7%CF%87%CE%B1%CE%BD%CE%B9%CE%BA%CE%AE_%CE%BC%CE%AC%CE%B8%CE%B7%CF%83%CE%B7\" title=\"Μηχανική μάθηση – Greek\" lang=\"el\" hreflang=\"el\" class=\"interlanguage-link-target\">Ελληνικά</a></li><li class=\"interlanguage-link interwiki-es\"><a href=\"https://es.wikipedia.org/wiki/Aprendizaje_autom%C3%A1tico\" title=\"Aprendizaje automático – Spanish\" lang=\"es\" hreflang=\"es\" class=\"interlanguage-link-target\">Español</a></li><li class=\"interlanguage-link interwiki-eu\"><a href=\"https://eu.wikipedia.org/wiki/Ikasketa_automatiko\" title=\"Ikasketa automatiko – Basque\" lang=\"eu\" hreflang=\"eu\" class=\"interlanguage-link-target\">Euskara</a></li><li class=\"interlanguage-link interwiki-fa\"><a href=\"https://fa.wikipedia.org/wiki/%DB%8C%D8%A7%D8%AF%DA%AF%DB%8C%D8%B1%DB%8C_%D9%85%D8%A7%D8%B4%DB%8C%D9%86\" title=\"یادگیری ماشین – Persian\" lang=\"fa\" hreflang=\"fa\" class=\"interlanguage-link-target\">فارسی</a></li><li class=\"interlanguage-link interwiki-fr\"><a href=\"https://fr.wikipedia.org/wiki/Apprentissage_automatique\" title=\"Apprentissage automatique – French\" lang=\"fr\" hreflang=\"fr\" class=\"interlanguage-link-target\">Français</a></li><li class=\"interlanguage-link interwiki-ko\"><a href=\"https://ko.wikipedia.org/wiki/%EA%B8%B0%EA%B3%84_%ED%95%99%EC%8A%B5\" title=\"기계 학습 – Korean\" lang=\"ko\" hreflang=\"ko\" class=\"interlanguage-link-target\">한국어</a></li><li class=\"interlanguage-link interwiki-hy\"><a href=\"https://hy.wikipedia.org/wiki/%D5%84%D5%A5%D6%84%D5%A5%D5%B6%D5%A1%D5%B5%D5%A1%D5%AF%D5%A1%D5%B6_%D5%B8%D6%82%D5%BD%D5%B8%D6%82%D6%81%D5%B8%D6%82%D5%B4\" title=\"Մեքենայական ուսուցում – Armenian\" lang=\"hy\" hreflang=\"hy\" class=\"interlanguage-link-target\">Հայերեն</a></li><li class=\"interlanguage-link interwiki-hi\"><a href=\"https://hi.wikipedia.org/wiki/%E0%A4%AF%E0%A4%82%E0%A4%A4%E0%A5%8D%E0%A4%B0_%E0%A4%B6%E0%A4%BF%E0%A4%95%E0%A5%8D%E0%A4%B7%E0%A4%A3\" title=\"यंत्र शिक्षण – Hindi\" lang=\"hi\" hreflang=\"hi\" class=\"interlanguage-link-target\">हिन्दी</a></li><li class=\"interlanguage-link interwiki-id\"><a href=\"https://id.wikipedia.org/wiki/Pemelajaran_mesin\" title=\"Pemelajaran mesin – Indonesian\" lang=\"id\" hreflang=\"id\" class=\"interlanguage-link-target\">Bahasa Indonesia</a></li><li class=\"interlanguage-link interwiki-is\"><a href=\"https://is.wikipedia.org/wiki/V%C3%A9lan%C3%A1m\" title=\"Vélanám – Icelandic\" lang=\"is\" hreflang=\"is\" class=\"interlanguage-link-target\">Íslenska</a></li><li class=\"interlanguage-link interwiki-it\"><a href=\"https://it.wikipedia.org/wiki/Apprendimento_automatico\" title=\"Apprendimento automatico – Italian\" lang=\"it\" hreflang=\"it\" class=\"interlanguage-link-target\">Italiano</a></li><li class=\"interlanguage-link interwiki-he\"><a href=\"https://he.wikipedia.org/wiki/%D7%9C%D7%9E%D7%99%D7%93%D7%AA_%D7%9E%D7%9B%D7%95%D7%A0%D7%94\" title=\"למידת מכונה – Hebrew\" lang=\"he\" hreflang=\"he\" class=\"interlanguage-link-target\">עברית</a></li><li class=\"interlanguage-link interwiki-kn\"><a href=\"https://kn.wikipedia.org/wiki/%E0%B2%AF%E0%B2%82%E0%B2%A4%E0%B3%8D%E0%B2%B0_%E0%B2%95%E0%B2%B2%E0%B2%BF%E0%B2%95%E0%B3%86\" title=\"ಯಂತ್ರ ಕಲಿಕೆ – Kannada\" lang=\"kn\" hreflang=\"kn\" class=\"interlanguage-link-target\">ಕನ್ನಡ</a></li><li class=\"interlanguage-link interwiki-lv\"><a href=\"https://lv.wikipedia.org/wiki/Ma%C5%A1%C4%ABnm%C4%81c%C4%AB%C5%A1an%C4%81s\" title=\"Mašīnmācīšanās – Latvian\" lang=\"lv\" hreflang=\"lv\" class=\"interlanguage-link-target\">Latviešu</a></li><li class=\"interlanguage-link interwiki-lt\"><a href=\"https://lt.wikipedia.org/wiki/Sistemos_mokymasis\" title=\"Sistemos mokymasis – Lithuanian\" lang=\"lt\" hreflang=\"lt\" class=\"interlanguage-link-target\">Lietuvių</a></li><li class=\"interlanguage-link interwiki-hu\"><a href=\"https://hu.wikipedia.org/wiki/G%C3%A9pi_tanul%C3%A1s\" title=\"Gépi tanulás – Hungarian\" lang=\"hu\" hreflang=\"hu\" class=\"interlanguage-link-target\">Magyar</a></li><li class=\"interlanguage-link interwiki-mk\"><a href=\"https://mk.wikipedia.org/wiki/%D0%9C%D0%B0%D1%88%D0%B8%D0%BD%D1%81%D0%BA%D0%BE_%D1%83%D1%87%D0%B5%D1%9A%D0%B5\" title=\"Машинско учење – Macedonian\" lang=\"mk\" hreflang=\"mk\" class=\"interlanguage-link-target\">Македонски</a></li><li class=\"interlanguage-link interwiki-ml\"><a href=\"https://ml.wikipedia.org/wiki/%E0%B4%AF%E0%B4%A8%E0%B5%8D%E0%B4%A4%E0%B5%8D%E0%B4%B0%E0%B4%AA%E0%B4%A0%E0%B4%A8%E0%B4%82\" title=\"യന്ത്രപഠനം – Malayalam\" lang=\"ml\" hreflang=\"ml\" class=\"interlanguage-link-target\">മലയാളം</a></li><li class=\"interlanguage-link interwiki-mr\"><a href=\"https://mr.wikipedia.org/wiki/%E0%A4%AF%E0%A4%82%E0%A4%A4%E0%A5%8D%E0%A4%B0_%E0%A4%B6%E0%A4%BF%E0%A4%95%E0%A5%8D%E0%A4%B7%E0%A4%A3\" title=\"यंत्र शिक्षण – Marathi\" lang=\"mr\" hreflang=\"mr\" class=\"interlanguage-link-target\">मराठी</a></li><li class=\"interlanguage-link interwiki-ms\"><a href=\"https://ms.wikipedia.org/wiki/Pembelajaran_mesin\" title=\"Pembelajaran mesin – Malay\" lang=\"ms\" hreflang=\"ms\" class=\"interlanguage-link-target\">Bahasa Melayu</a></li><li class=\"interlanguage-link interwiki-mn\"><a href=\"https://mn.wikipedia.org/wiki/%D0%9C%D0%B0%D1%88%D0%B8%D0%BD_%D1%81%D1%83%D1%80%D0%B3%D0%B0%D0%BB%D1%82\" title=\"Машин сургалт – Mongolian\" lang=\"mn\" hreflang=\"mn\" class=\"interlanguage-link-target\">Монгол</a></li><li class=\"interlanguage-link interwiki-nl\"><a href=\"https://nl.wikipedia.org/wiki/Machinaal_leren\" title=\"Machinaal leren – Dutch\" lang=\"nl\" hreflang=\"nl\" class=\"interlanguage-link-target\">Nederlands</a></li><li class=\"interlanguage-link interwiki-ja\"><a href=\"https://ja.wikipedia.org/wiki/%E6%A9%9F%E6%A2%B0%E5%AD%A6%E7%BF%92\" title=\"機械学習 – Japanese\" lang=\"ja\" hreflang=\"ja\" class=\"interlanguage-link-target\">日本語</a></li><li class=\"interlanguage-link interwiki-no\"><a href=\"https://no.wikipedia.org/wiki/Maskinl%C3%A6ring\" title=\"Maskinlæring – Norwegian\" lang=\"no\" hreflang=\"no\" class=\"interlanguage-link-target\">Norsk</a></li><li class=\"interlanguage-link interwiki-nn\"><a href=\"https://nn.wikipedia.org/wiki/Maskinl%C3%A6ring\" title=\"Maskinlæring – Norwegian Nynorsk\" lang=\"nn\" hreflang=\"nn\" class=\"interlanguage-link-target\">Norsk nynorsk</a></li><li class=\"interlanguage-link interwiki-oc\"><a href=\"https://oc.wikipedia.org/wiki/Aprendissatge_automatic\" title=\"Aprendissatge automatic – Occitan\" lang=\"oc\" hreflang=\"oc\" class=\"interlanguage-link-target\">Occitan</a></li><li class=\"interlanguage-link interwiki-or\"><a href=\"https://or.wikipedia.org/wiki/%E0%AC%AE%E0%AD%87%E0%AC%B8%E0%AC%BF%E0%AC%A8_%E0%AC%B2%E0%AC%B0%E0%AD%8D%E0%AC%A3%E0%AC%BF%E0%AC%82\" title=\"ମେସିନ ଲର୍ଣିଂ – Odia\" lang=\"or\" hreflang=\"or\" class=\"interlanguage-link-target\">ଓଡ଼ିଆ</a></li><li class=\"interlanguage-link interwiki-pl\"><a href=\"https://pl.wikipedia.org/wiki/Uczenie_maszynowe\" title=\"Uczenie maszynowe – Polish\" lang=\"pl\" hreflang=\"pl\" class=\"interlanguage-link-target\">Polski</a></li><li class=\"interlanguage-link interwiki-pt\"><a href=\"https://pt.wikipedia.org/wiki/Aprendizado_de_m%C3%A1quina\" title=\"Aprendizado de máquina – Portuguese\" lang=\"pt\" hreflang=\"pt\" class=\"interlanguage-link-target\">Português</a></li><li class=\"interlanguage-link interwiki-ro\"><a href=\"https://ro.wikipedia.org/wiki/%C3%8Env%C4%83%C8%9Bare_automat%C4%83\" title=\"Învățare automată – Romanian\" lang=\"ro\" hreflang=\"ro\" class=\"interlanguage-link-target\">Română</a></li><li class=\"interlanguage-link interwiki-ru\"><a href=\"https://ru.wikipedia.org/wiki/%D0%9C%D0%B0%D1%88%D0%B8%D0%BD%D0%BD%D0%BE%D0%B5_%D0%BE%D0%B1%D1%83%D1%87%D0%B5%D0%BD%D0%B8%D0%B5\" title=\"Машинное обучение – Russian\" lang=\"ru\" hreflang=\"ru\" class=\"interlanguage-link-target\">Русский</a></li><li class=\"interlanguage-link interwiki-sat\"><a href=\"https://sat.wikipedia.org/wiki/%E1%B1%A2%E1%B1%AE%E1%B1%A5%E1%B1%A4%E1%B1%B1_%E1%B1%9E%E1%B1%9A%E1%B1%A8%E1%B1%B1%E1%B1%A4%E1%B1%9D\" title=\"ᱢᱮᱥᱤᱱ ᱞᱚᱨᱱᱤᱝ – Santali\" lang=\"sat\" hreflang=\"sat\" class=\"interlanguage-link-target\">ᱥᱟᱱᱛᱟᱲᱤ</a></li><li class=\"interlanguage-link interwiki-sq\"><a href=\"https://sq.wikipedia.org/wiki/Automati_nx%C3%ABn%C3%ABs\" title=\"Automati nxënës – Albanian\" lang=\"sq\" hreflang=\"sq\" class=\"interlanguage-link-target\">Shqip</a></li><li class=\"interlanguage-link interwiki-simple\"><a href=\"https://simple.wikipedia.org/wiki/Machine_learning\" title=\"Machine learning – Simple English\" lang=\"en-simple\" hreflang=\"en-simple\" class=\"interlanguage-link-target\">Simple English</a></li><li class=\"interlanguage-link interwiki-sl\"><a href=\"https://sl.wikipedia.org/wiki/Strojno_u%C4%8Denje\" title=\"Strojno učenje – Slovenian\" lang=\"sl\" hreflang=\"sl\" class=\"interlanguage-link-target\">Slovenščina</a></li><li class=\"interlanguage-link interwiki-sr\"><a href=\"https://sr.wikipedia.org/wiki/%D0%9C%D0%B0%D1%88%D0%B8%D0%BD%D1%81%D0%BA%D0%BE_%D1%83%D1%87%D0%B5%D1%9A%D0%B5\" title=\"Машинско учење – Serbian\" lang=\"sr\" hreflang=\"sr\" class=\"interlanguage-link-target\">Српски / srpski</a></li><li class=\"interlanguage-link interwiki-sh\"><a href=\"https://sh.wikipedia.org/wiki/Ma%C5%A1insko_u%C4%8Denje\" title=\"Mašinsko učenje – Serbo-Croatian\" lang=\"sh\" hreflang=\"sh\" class=\"interlanguage-link-target\">Srpskohrvatski / српскохрватски</a></li><li class=\"interlanguage-link interwiki-fi\"><a href=\"https://fi.wikipedia.org/wiki/Koneoppiminen\" title=\"Koneoppiminen – Finnish\" lang=\"fi\" hreflang=\"fi\" class=\"interlanguage-link-target\">Suomi</a></li><li class=\"interlanguage-link interwiki-sv\"><a href=\"https://sv.wikipedia.org/wiki/Maskininl%C3%A4rning\" title=\"Maskininlärning – Swedish\" lang=\"sv\" hreflang=\"sv\" class=\"interlanguage-link-target\">Svenska</a></li><li class=\"interlanguage-link interwiki-tl\"><a href=\"https://tl.wikipedia.org/wiki/Pagkatuto_ng_makina\" title=\"Pagkatuto ng makina – Tagalog\" lang=\"tl\" hreflang=\"tl\" class=\"interlanguage-link-target\">Tagalog</a></li><li class=\"interlanguage-link interwiki-ta\"><a href=\"https://ta.wikipedia.org/wiki/%E0%AE%87%E0%AE%AF%E0%AE%A8%E0%AF%8D%E0%AE%A4%E0%AE%BF%E0%AE%B0_%E0%AE%95%E0%AE%B1%E0%AF%8D%E0%AE%B1%E0%AE%B2%E0%AF%8D\" title=\"இயந்திர கற்றல் – Tamil\" lang=\"ta\" hreflang=\"ta\" class=\"interlanguage-link-target\">தமிழ்</a></li><li class=\"interlanguage-link interwiki-te\"><a href=\"https://te.wikipedia.org/wiki/%E0%B0%AE%E0%B0%B0_%E0%B0%AA%E0%B1%8D%E0%B0%B0%E0%B0%9C%E0%B1%8D%E0%B0%9E\" title=\"మర ప్రజ్ఞ – Telugu\" lang=\"te\" hreflang=\"te\" class=\"interlanguage-link-target\">తెలుగు</a></li><li class=\"interlanguage-link interwiki-th\"><a href=\"https://th.wikipedia.org/wiki/%E0%B8%81%E0%B8%B2%E0%B8%A3%E0%B9%80%E0%B8%A3%E0%B8%B5%E0%B8%A2%E0%B8%99%E0%B8%A3%E0%B8%B9%E0%B9%89%E0%B8%82%E0%B8%AD%E0%B8%87%E0%B9%80%E0%B8%84%E0%B8%A3%E0%B8%B7%E0%B9%88%E0%B8%AD%E0%B8%87\" title=\"การเรียนรู้ของเครื่อง – Thai\" lang=\"th\" hreflang=\"th\" class=\"interlanguage-link-target\">ไทย</a></li><li class=\"interlanguage-link interwiki-tr\"><a href=\"https://tr.wikipedia.org/wiki/Makine_%C3%B6%C4%9Frenimi\" title=\"Makine öğrenimi – Turkish\" lang=\"tr\" hreflang=\"tr\" class=\"interlanguage-link-target\">Türkçe</a></li><li class=\"interlanguage-link interwiki-uk\"><a href=\"https://uk.wikipedia.org/wiki/%D0%9C%D0%B0%D1%88%D0%B8%D0%BD%D0%BD%D0%B5_%D0%BD%D0%B0%D0%B2%D1%87%D0%B0%D0%BD%D0%BD%D1%8F\" title=\"Машинне навчання – Ukrainian\" lang=\"uk\" hreflang=\"uk\" class=\"interlanguage-link-target\">Українська</a></li><li class=\"interlanguage-link interwiki-vi\"><a href=\"https://vi.wikipedia.org/wiki/H%E1%BB%8Dc_m%C3%A1y\" title=\"Học máy – Vietnamese\" lang=\"vi\" hreflang=\"vi\" class=\"interlanguage-link-target\">Tiếng Việt</a></li><li class=\"interlanguage-link interwiki-fiu-vro\"><a href=\"https://fiu-vro.wikipedia.org/wiki/Massinoppus\" title=\"Massinoppus – Võro\" lang=\"vro\" hreflang=\"vro\" class=\"interlanguage-link-target\">Võro</a></li><li class=\"interlanguage-link interwiki-zh\"><a href=\"https://zh.wikipedia.org/wiki/%E6%9C%BA%E5%99%A8%E5%AD%A6%E4%B9%A0\" title=\"机器学习 – Chinese\" lang=\"zh\" hreflang=\"zh\" class=\"interlanguage-link-target\">中文</a></li>\t\t\t\t</ul>\n",
            "\t\t\t\t<div class=\"after-portlet after-portlet-lang\"><span class=\"wb-langlinks-edit wb-langlinks-link\"><a href=\"https://www.wikidata.org/wiki/Special:EntityPage/Q2539#sitelinks-wikipedia\" title=\"Edit interlanguage links\" class=\"wbc-editpage\">Edit links</a></span></div>\t\t\t</div>\n",
            "\t\t</div>\n",
            "\t\t\t\t</div>\n",
            "\t\t</div>\n",
            "\t\t\t\t<div id=\"footer\" role=\"contentinfo\">\n",
            "\t\t\t\t\t\t<ul id=\"footer-info\">\n",
            "\t\t\t\t\t\t\t\t<li id=\"footer-info-lastmod\"> This page was last edited on 20 June 2019, at 06:35<span class=\"anonymous-show\">&#160;(UTC)</span>.</li>\n",
            "\t\t\t\t\t\t\t\t<li id=\"footer-info-copyright\">Text is available under the <a rel=\"license\" href=\"//en.wikipedia.org/wiki/Wikipedia:Text_of_Creative_Commons_Attribution-ShareAlike_3.0_Unported_License\">Creative Commons Attribution-ShareAlike License</a><a rel=\"license\" href=\"//creativecommons.org/licenses/by-sa/3.0/\" style=\"display:none;\"></a>;\n",
            "additional terms may apply.  By using this site, you agree to the <a href=\"//foundation.wikimedia.org/wiki/Terms_of_Use\">Terms of Use</a> and <a href=\"//foundation.wikimedia.org/wiki/Privacy_policy\">Privacy Policy</a>. Wikipedia® is a registered trademark of the <a href=\"//www.wikimediafoundation.org/\">Wikimedia Foundation, Inc.</a>, a non-profit organization.</li>\n",
            "\t\t\t\t\t\t\t</ul>\n",
            "\t\t\t\t\t\t<ul id=\"footer-places\">\n",
            "\t\t\t\t\t\t\t\t<li id=\"footer-places-privacy\"><a href=\"https://foundation.wikimedia.org/wiki/Privacy_policy\" class=\"extiw\" title=\"wmf:Privacy policy\">Privacy policy</a></li>\n",
            "\t\t\t\t\t\t\t\t<li id=\"footer-places-about\"><a href=\"/wiki/Wikipedia:About\" title=\"Wikipedia:About\">About Wikipedia</a></li>\n",
            "\t\t\t\t\t\t\t\t<li id=\"footer-places-disclaimer\"><a href=\"/wiki/Wikipedia:General_disclaimer\" title=\"Wikipedia:General disclaimer\">Disclaimers</a></li>\n",
            "\t\t\t\t\t\t\t\t<li id=\"footer-places-contact\"><a href=\"//en.wikipedia.org/wiki/Wikipedia:Contact_us\">Contact Wikipedia</a></li>\n",
            "\t\t\t\t\t\t\t\t<li id=\"footer-places-developers\"><a href=\"https://www.mediawiki.org/wiki/Special:MyLanguage/How_to_contribute\">Developers</a></li>\n",
            "\t\t\t\t\t\t\t\t<li id=\"footer-places-cookiestatement\"><a href=\"https://foundation.wikimedia.org/wiki/Cookie_statement\">Cookie statement</a></li>\n",
            "\t\t\t\t\t\t\t\t<li id=\"footer-places-mobileview\"><a href=\"//en.m.wikipedia.org/w/index.php?title=Machine_learning&amp;mobileaction=toggle_view_mobile\" class=\"noprint stopMobileRedirectToggle\">Mobile view</a></li>\n",
            "\t\t\t\t\t\t\t</ul>\n",
            "\t\t\t\t\t\t\t\t\t\t<ul id=\"footer-icons\" class=\"noprint\">\n",
            "\t\t\t\t\t\t\t\t\t\t<li id=\"footer-copyrightico\">\n",
            "\t\t\t\t\t\t<a href=\"https://wikimediafoundation.org/\"><img src=\"/static/images/wikimedia-button.png\" srcset=\"/static/images/wikimedia-button-1.5x.png 1.5x, /static/images/wikimedia-button-2x.png 2x\" width=\"88\" height=\"31\" alt=\"Wikimedia Foundation\"/></a>\t\t\t\t\t</li>\n",
            "\t\t\t\t\t\t\t\t\t\t<li id=\"footer-poweredbyico\">\n",
            "\t\t\t\t\t\t<a href=\"https://www.mediawiki.org/\"><img src=\"/static/images/poweredby_mediawiki_88x31.png\" alt=\"Powered by MediaWiki\" srcset=\"/static/images/poweredby_mediawiki_132x47.png 1.5x, /static/images/poweredby_mediawiki_176x62.png 2x\" width=\"88\" height=\"31\"/></a>\t\t\t\t\t</li>\n",
            "\t\t\t\t\t\t\t\t\t</ul>\n",
            "\t\t\t\t\t\t<div style=\"clear: both;\"></div>\n",
            "\t\t</div>\n",
            "\t\t\n",
            "\n",
            "<script>(RLQ=window.RLQ||[]).push(function(){mw.config.set({\"wgPageParseReport\":{\"limitreport\":{\"cputime\":\"1.244\",\"walltime\":\"1.520\",\"ppvisitednodes\":{\"value\":6935,\"limit\":1000000},\"ppgeneratednodes\":{\"value\":0,\"limit\":1500000},\"postexpandincludesize\":{\"value\":212495,\"limit\":2097152},\"templateargumentsize\":{\"value\":9728,\"limit\":2097152},\"expansiondepth\":{\"value\":15,\"limit\":40},\"expensivefunctioncount\":{\"value\":10,\"limit\":500},\"unstrip-depth\":{\"value\":1,\"limit\":20},\"unstrip-size\":{\"value\":240343,\"limit\":5000000},\"entityaccesscount\":{\"value\":7,\"limit\":400},\"timingprofile\":[\"100.00% 1252.673      1 -total\",\" 52.12%  652.917      1 Template:Reflist\",\" 20.00%  250.558     20 Template:Cite_journal\",\" 10.17%  127.382      4 Template:Cite_conference\",\"  9.61%  120.336      2 Template:Refn\",\"  5.95%   74.521     13 Template:Cite_book\",\"  5.81%   72.819      9 Template:ISBN\",\"  5.70%   71.460      2 Template:What\",\"  5.50%   68.908     13 Template:Cite_news\",\"  5.43%   68.058     14 Template:Cite_web\"]},\"scribunto\":{\"limitreport-timeusage\":{\"value\":\"0.639\",\"limit\":\"10.000\"},\"limitreport-memusage\":{\"value\":8387751,\"limit\":52428800},\"limitreport-logs\":\"table#1 {\\n  [\\\"size\\\"] = \\\"tiny\\\",\\n}\\n\"},\"cachereport\":{\"origin\":\"mw1323\",\"timestamp\":\"20190620094211\",\"ttl\":2592000,\"transientcontent\":false}}});});</script>\n",
            "<script type=\"application/ld+json\">{\"@context\":\"https:\\/\\/schema.org\",\"@type\":\"Article\",\"name\":\"Machine learning\",\"url\":\"https:\\/\\/en.wikipedia.org\\/wiki\\/Machine_learning\",\"sameAs\":\"http:\\/\\/www.wikidata.org\\/entity\\/Q2539\",\"mainEntity\":\"http:\\/\\/www.wikidata.org\\/entity\\/Q2539\",\"author\":{\"@type\":\"Organization\",\"name\":\"Contributors to Wikimedia projects\"},\"publisher\":{\"@type\":\"Organization\",\"name\":\"Wikimedia Foundation, Inc.\",\"logo\":{\"@type\":\"ImageObject\",\"url\":\"https:\\/\\/www.wikimedia.org\\/static\\/images\\/wmf-hor-googpub.png\"}},\"datePublished\":\"2003-05-25T06:03:17Z\",\"dateModified\":\"2019-06-20T06:35:50Z\",\"image\":\"https:\\/\\/upload.wikimedia.org\\/wikipedia\\/commons\\/f\\/fe\\/Kernel_Machine.svg\",\"headline\":\"branch of statistics and computer science, which studies algorithms and architectures that learn from observed facts\"}</script>\n",
            "<script>(RLQ=window.RLQ||[]).push(function(){mw.config.set({\"wgBackendResponseTime\":116,\"wgHostname\":\"mw1275\"});});</script>\n",
            "</body>\n",
            "</html>\n",
            "\n"
          ],
          "name": "stdout"
        }
      ]
    },
    {
      "cell_type": "code",
      "metadata": {
        "id": "8DH-iRNqHhr-",
        "colab_type": "code",
        "colab": {}
      },
      "source": [
        ""
      ],
      "execution_count": 0,
      "outputs": []
    }
  ]
}