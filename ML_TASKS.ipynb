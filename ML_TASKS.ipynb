{
  "nbformat": 4,
  "nbformat_minor": 0,
  "metadata": {
    "colab": {
      "name": "ML_TASKS.ipynb",
      "version": "0.3.2",
      "provenance": [],
      "include_colab_link": true
    },
    "kernelspec": {
      "name": "python3",
      "display_name": "Python 3"
    }
  },
  "cells": [
    {
      "cell_type": "markdown",
      "metadata": {
        "id": "view-in-github",
        "colab_type": "text"
      },
      "source": [
        "<a href=\"https://colab.research.google.com/github/piyushagarwal08/Adhoc-Specialisation-ML/blob/master/ML_TASKS.ipynb\" target=\"_parent\"><img src=\"https://colab.research.google.com/assets/colab-badge.svg\" alt=\"Open In Colab\"/></a>"
      ]
    },
    {
      "cell_type": "markdown",
      "metadata": {
        "id": "t6hWmGXLVuSt",
        "colab_type": "text"
      },
      "source": [
        "pynumber: 1\n",
        "\n",
        "create 2D numpy  based array with given conditions:\n",
        "\n",
        "i)   take input from user in terms of dimension like (3x2 or 6x7)\n",
        "ii)   fill this numpy array with random number\n",
        "iii)  store this array in a file"
      ]
    },
    {
      "cell_type": "code",
      "metadata": {
        "id": "rPNBgLJ6V1Z4",
        "colab_type": "code",
        "outputId": "a64f017c-0a20-40ca-e03e-8173c8a82651",
        "colab": {
          "base_uri": "https://localhost:8080/",
          "height": 34
        }
      },
      "source": [
        "row,column = input().split('x')"
      ],
      "execution_count": 1,
      "outputs": [
        {
          "output_type": "stream",
          "text": [
            "6x7\n"
          ],
          "name": "stdout"
        }
      ]
    },
    {
      "cell_type": "code",
      "metadata": {
        "id": "UW5_dorCWBhE",
        "colab_type": "code",
        "colab": {}
      },
      "source": [
        "import numpy as np"
      ],
      "execution_count": 0,
      "outputs": []
    },
    {
      "cell_type": "code",
      "metadata": {
        "id": "ZeyMenLRWIqo",
        "colab_type": "code",
        "colab": {}
      },
      "source": [
        "array1 = np.random.random((int(row),int(column)))"
      ],
      "execution_count": 0,
      "outputs": []
    },
    {
      "cell_type": "code",
      "metadata": {
        "id": "g2oMRnJGZ0ht",
        "colab_type": "code",
        "colab": {}
      },
      "source": [
        "np.savetxt('array.txt',array1)"
      ],
      "execution_count": 0,
      "outputs": []
    },
    {
      "cell_type": "code",
      "metadata": {
        "id": "7oLjbuB5adqg",
        "colab_type": "code",
        "colab": {
          "base_uri": "https://localhost:8080/",
          "height": 225
        },
        "outputId": "46c03798-0953-44b1-ee51-6c281888e217"
      },
      "source": [
        "y = np.loadtxt('array.txt')\n",
        "y"
      ],
      "execution_count": 5,
      "outputs": [
        {
          "output_type": "execute_result",
          "data": {
            "text/plain": [
              "array([[0.40428772, 0.73309937, 0.66534877, 0.57510388, 0.66860435,\n",
              "        0.74888709, 0.51495115],\n",
              "       [0.77087295, 0.95990978, 0.8774961 , 0.72154994, 0.90665452,\n",
              "        0.53756129, 0.98875697],\n",
              "       [0.7540841 , 0.88412249, 0.90658452, 0.82709655, 0.26558024,\n",
              "        0.94415765, 0.5366644 ],\n",
              "       [0.69843221, 0.24261056, 0.51727011, 0.95165216, 0.09496263,\n",
              "        0.37921466, 0.72110687],\n",
              "       [0.29143073, 0.85216994, 0.57853082, 0.82329872, 0.51872811,\n",
              "        0.96520199, 0.61771062],\n",
              "       [0.58762131, 0.03646372, 0.7710308 , 0.10588733, 0.36139337,\n",
              "        0.27916492, 0.2806825 ]])"
            ]
          },
          "metadata": {
            "tags": []
          },
          "execution_count": 5
        }
      ]
    },
    {
      "cell_type": "markdown",
      "metadata": {
        "id": "N1bBoBaDcIYc",
        "colab_type": "text"
      },
      "source": [
        "pynumber: 2\n",
        "\n",
        "create a numpy array of  8x2 as having number  in each cell between 100 and 200 such that difference between each element is 5 \n"
      ]
    },
    {
      "cell_type": "code",
      "metadata": {
        "id": "yXtpz2iGb_ew",
        "colab_type": "code",
        "colab": {
          "base_uri": "https://localhost:8080/",
          "height": 211
        },
        "outputId": "0354a136-08a2-4453-8ea1-13d4c294a6ac"
      },
      "source": [
        "x = np.random.random_integers(low=100,high=200,size=(8,2))\n",
        "x"
      ],
      "execution_count": 6,
      "outputs": [
        {
          "output_type": "stream",
          "text": [
            "/usr/local/lib/python3.6/dist-packages/ipykernel_launcher.py:1: DeprecationWarning: This function is deprecated. Please call randint(100, 200 + 1) instead\n",
            "  \"\"\"Entry point for launching an IPython kernel.\n"
          ],
          "name": "stderr"
        },
        {
          "output_type": "execute_result",
          "data": {
            "text/plain": [
              "array([[196, 192],\n",
              "       [118, 161],\n",
              "       [122, 100],\n",
              "       [156, 135],\n",
              "       [168, 126],\n",
              "       [136, 101],\n",
              "       [137, 126],\n",
              "       [197, 162]])"
            ]
          },
          "metadata": {
            "tags": []
          },
          "execution_count": 6
        }
      ]
    },
    {
      "cell_type": "markdown",
      "metadata": {
        "id": "KOMr0WM4gx8s",
        "colab_type": "text"
      },
      "source": [
        "data_visualization: 1\n",
        "\n",
        "visualize data graphs \n",
        "i)  take input from  a file where you have 4 rows and 5 columns\n",
        "ii)  columns having - student_name , marks , age , contact , study_hours\n",
        "iii)  visualize this data as pie chart\n",
        "iv)  file name must  student.csv with all column separated by ','"
      ]
    },
    {
      "cell_type": "code",
      "metadata": {
        "id": "_hKNzH7wfQMc",
        "colab_type": "code",
        "colab": {}
      },
      "source": [
        "import pandas as pd\n",
        "import matplotlib.pyplot as plt"
      ],
      "execution_count": 0,
      "outputs": []
    },
    {
      "cell_type": "code",
      "metadata": {
        "id": "SCpb7glNknts",
        "colab_type": "code",
        "colab": {}
      },
      "source": [
        "data = {'student_name': ['Piyush','Saksham','Shivam','Akshay'],'marks':[76,89,96,99],'age':[20,20,21,21],'contact':['8749573948','3847563947','7480384729','9485736402'],'study_hours':[10,6,8,23]}"
      ],
      "execution_count": 0,
      "outputs": []
    },
    {
      "cell_type": "code",
      "metadata": {
        "id": "sKkXHTvNliMw",
        "colab_type": "code",
        "colab": {
          "base_uri": "https://localhost:8080/",
          "height": 175
        },
        "outputId": "9cb423fa-a21b-44f9-a3fe-8f4acca2d6bc"
      },
      "source": [
        "student = pd.DataFrame(data,columns=['student_name','marks','age','contact','study_hours'])\n",
        "student"
      ],
      "execution_count": 9,
      "outputs": [
        {
          "output_type": "execute_result",
          "data": {
            "text/html": [
              "<div>\n",
              "<style scoped>\n",
              "    .dataframe tbody tr th:only-of-type {\n",
              "        vertical-align: middle;\n",
              "    }\n",
              "\n",
              "    .dataframe tbody tr th {\n",
              "        vertical-align: top;\n",
              "    }\n",
              "\n",
              "    .dataframe thead th {\n",
              "        text-align: right;\n",
              "    }\n",
              "</style>\n",
              "<table border=\"1\" class=\"dataframe\">\n",
              "  <thead>\n",
              "    <tr style=\"text-align: right;\">\n",
              "      <th></th>\n",
              "      <th>student_name</th>\n",
              "      <th>marks</th>\n",
              "      <th>age</th>\n",
              "      <th>contact</th>\n",
              "      <th>study_hours</th>\n",
              "    </tr>\n",
              "  </thead>\n",
              "  <tbody>\n",
              "    <tr>\n",
              "      <th>0</th>\n",
              "      <td>Piyush</td>\n",
              "      <td>76</td>\n",
              "      <td>20</td>\n",
              "      <td>8749573948</td>\n",
              "      <td>10</td>\n",
              "    </tr>\n",
              "    <tr>\n",
              "      <th>1</th>\n",
              "      <td>Saksham</td>\n",
              "      <td>89</td>\n",
              "      <td>20</td>\n",
              "      <td>3847563947</td>\n",
              "      <td>6</td>\n",
              "    </tr>\n",
              "    <tr>\n",
              "      <th>2</th>\n",
              "      <td>Shivam</td>\n",
              "      <td>96</td>\n",
              "      <td>21</td>\n",
              "      <td>7480384729</td>\n",
              "      <td>8</td>\n",
              "    </tr>\n",
              "    <tr>\n",
              "      <th>3</th>\n",
              "      <td>Akshay</td>\n",
              "      <td>99</td>\n",
              "      <td>21</td>\n",
              "      <td>9485736402</td>\n",
              "      <td>23</td>\n",
              "    </tr>\n",
              "  </tbody>\n",
              "</table>\n",
              "</div>"
            ],
            "text/plain": [
              "  student_name  marks  age     contact  study_hours\n",
              "0       Piyush     76   20  8749573948           10\n",
              "1      Saksham     89   20  3847563947            6\n",
              "2       Shivam     96   21  7480384729            8\n",
              "3       Akshay     99   21  9485736402           23"
            ]
          },
          "metadata": {
            "tags": []
          },
          "execution_count": 9
        }
      ]
    },
    {
      "cell_type": "code",
      "metadata": {
        "id": "NO4cA30emD5V",
        "colab_type": "code",
        "colab": {
          "base_uri": "https://localhost:8080/",
          "height": 394
        },
        "outputId": "f5f03972-9ff6-4eed-c2a6-578af58d2b88"
      },
      "source": [
        "plt.pie(student['marks'],labels=student['student_name'])"
      ],
      "execution_count": 10,
      "outputs": [
        {
          "output_type": "execute_result",
          "data": {
            "text/plain": [
              "([<matplotlib.patches.Wedge at 0x7fa1f780fc18>,\n",
              "  <matplotlib.patches.Wedge at 0x7fa1f7822128>,\n",
              "  <matplotlib.patches.Wedge at 0x7fa1f78225f8>,\n",
              "  <matplotlib.patches.Wedge at 0x7fa1f7822ac8>],\n",
              " [Text(0.8668118240357677, 0.6772276291704181, 'Piyush'),\n",
              "  Text(-0.5582921913688901, 0.9477920811319974, 'Saksham'),\n",
              "  Text(-0.9225376172610245, -0.5991029500330906, 'Shivam'),\n",
              "  Text(0.714392915814223, -0.8364465086510031, 'Akshay')])"
            ]
          },
          "metadata": {
            "tags": []
          },
          "execution_count": 10
        },
        {
          "output_type": "display_data",
          "data": {
            "image/png": "[encoded data removed]",
            "text/plain": [
              "<Figure size 432x288 with 1 Axes>"
            ]
          },
          "metadata": {
            "tags": []
          }
        }
      ]
    },
    {
      "cell_type": "code",
      "metadata": {
        "id": "IZxURsAumaog",
        "colab_type": "code",
        "colab": {}
      },
      "source": [
        ""
      ],
      "execution_count": 0,
      "outputs": []
    }
  ]
}