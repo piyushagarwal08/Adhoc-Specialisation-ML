{
  "nbformat": 4,
  "nbformat_minor": 0,
  "metadata": {
    "colab": {
      "name": "DL_DAY12_Tokenization.ipynb",
      "version": "0.3.2",
      "provenance": [],
      "collapsed_sections": [],
      "include_colab_link": true
    },
    "kernelspec": {
      "name": "python3",
      "display_name": "Python 3"
    }
  },
  "cells": [
    {
      "cell_type": "markdown",
      "metadata": {
        "id": "view-in-github",
        "colab_type": "text"
      },
      "source": [
        "<a href=\"https://colab.research.google.com/github/piyushagarwal08/Adhoc-Specialisation-ML/blob/DeepLearning/DL_DAY12_Tokenization.ipynb\" target=\"_parent\"><img src=\"https://colab.research.google.com/assets/colab-badge.svg\" alt=\"Open In Colab\"/></a>"
      ]
    },
    {
      "cell_type": "code",
      "metadata": {
        "id": "5d_UY60-QJd1",
        "colab_type": "code",
        "colab": {}
      },
      "source": [
        "msg='''\n",
        "Light Yagami (Tatsuya Fujiwara) is a normal, \n",
        "undistinguished college student -- that is, until he discovers an odd notebook lying on the ground.\n",
        "He soon discovers that the notebook has magic powers: \n",
        "If someone's name is written on it while the writer imagines that person's face, \n",
        "he or she will die. Intoxicated with his new godlike power?, Light kills those he deems unworthy of \n",
        "life. But a mysterious detective known only as L (Ken'ichi Matsuyama) becomes determined to put a\n",
        "stop to his reign.\n",
        "'''"
      ],
      "execution_count": 0,
      "outputs": []
    },
    {
      "cell_type": "code",
      "metadata": {
        "id": "7vLjK5wjQotG",
        "colab_type": "code",
        "colab": {}
      },
      "source": [
        "# import the tokenizer\n",
        "from nltk import sent_tokenize     #sentence tokenizer\n",
        "from nltk import word_tokenize     #word tokenizer"
      ],
      "execution_count": 0,
      "outputs": []
    },
    {
      "cell_type": "code",
      "metadata": {
        "id": "SoNWqp_XX3ws",
        "colab_type": "code",
        "outputId": "aee08f6d-2018-48ad-bb6f-b462d16de5fe",
        "colab": {
          "base_uri": "https://localhost:8080/",
          "height": 69
        }
      },
      "source": [
        "import matplotlib.pyplot as plt\n",
        "import nltk\n",
        "nltk.download('punkt')"
      ],
      "execution_count": 0,
      "outputs": [
        {
          "output_type": "stream",
          "text": [
            "[nltk_data] Downloading package punkt to /root/nltk_data...\n",
            "[nltk_data]   Package punkt is already up-to-date!\n"
          ],
          "name": "stdout"
        },
        {
          "output_type": "execute_result",
          "data": {
            "text/plain": [
              "True"
            ]
          },
          "metadata": {
            "tags": []
          },
          "execution_count": 17
        }
      ]
    },
    {
      "cell_type": "code",
      "metadata": {
        "id": "kwRppmVSXYB9",
        "colab_type": "code",
        "colab": {}
      },
      "source": [
        "# tokenizing sentence\n",
        "\n",
        "sentence = sent_tokenize(msg)"
      ],
      "execution_count": 0,
      "outputs": []
    },
    {
      "cell_type": "code",
      "metadata": {
        "id": "lvshZJp_Xwp3",
        "colab_type": "code",
        "outputId": "e0287dc3-930d-43aa-c553-2286c0d563db",
        "colab": {
          "base_uri": "https://localhost:8080/",
          "height": 106
        }
      },
      "source": [
        "sentence"
      ],
      "execution_count": 0,
      "outputs": [
        {
          "output_type": "execute_result",
          "data": {
            "text/plain": [
              "['\\nLight Yagami (Tatsuya Fujiwara) is a normal, \\nundistinguished college student -- that is, until he discovers an odd notebook lying on the ground.',\n",
              " \"He soon discovers that the notebook has magic powers: \\nIf someone's name is written on it while the writer imagines that person's face, \\nhe or she will die.\",\n",
              " 'Intoxicated with his new godlike power?, Light kills those he deems unworthy of \\nlife.',\n",
              " \"But a mysterious detective known only as L (Ken'ichi Matsuyama) becomes determined to put a\\nstop to his reign.\"]"
            ]
          },
          "metadata": {
            "tags": []
          },
          "execution_count": 9
        }
      ]
    },
    {
      "cell_type": "code",
      "metadata": {
        "id": "yN4FCIuYYBM6",
        "colab_type": "code",
        "outputId": "4868c03b-7392-4fdb-8545-732db7be4a39",
        "colab": {
          "base_uri": "https://localhost:8080/",
          "height": 34
        }
      },
      "source": [
        "len(sentence)"
      ],
      "execution_count": 0,
      "outputs": [
        {
          "output_type": "execute_result",
          "data": {
            "text/plain": [
              "4"
            ]
          },
          "metadata": {
            "tags": []
          },
          "execution_count": 10
        }
      ]
    },
    {
      "cell_type": "code",
      "metadata": {
        "id": "E5ClWu9oYLmA",
        "colab_type": "code",
        "colab": {}
      },
      "source": [
        "# tokenizing words\n",
        "word = word_tokenize(msg)"
      ],
      "execution_count": 0,
      "outputs": []
    },
    {
      "cell_type": "code",
      "metadata": {
        "id": "sorp1UjbYJfZ",
        "colab_type": "code",
        "outputId": "c6451c5b-ed31-472e-d530-0ad43ff3d9b8",
        "colab": {
          "base_uri": "https://localhost:8080/",
          "height": 34
        }
      },
      "source": [
        "len(word) # counted words based on space"
      ],
      "execution_count": 0,
      "outputs": [
        {
          "output_type": "execute_result",
          "data": {
            "text/plain": [
              "100"
            ]
          },
          "metadata": {
            "tags": []
          },
          "execution_count": 13
        }
      ]
    },
    {
      "cell_type": "code",
      "metadata": {
        "id": "MRHsEVa5YSEv",
        "colab_type": "code",
        "colab": {}
      },
      "source": [
        "# stopwords\n",
        "from nltk.corpus import stopwords"
      ],
      "execution_count": 0,
      "outputs": []
    },
    {
      "cell_type": "code",
      "metadata": {
        "id": "iiiF3FJqYtIy",
        "colab_type": "code",
        "colab": {}
      },
      "source": [
        "# removing stop words from actual words\n",
        "new_word = [i for i in word if i.lower() not in stopwords.words('english')]"
      ],
      "execution_count": 0,
      "outputs": []
    },
    {
      "cell_type": "code",
      "metadata": {
        "id": "1cBUm-raY6TN",
        "colab_type": "code",
        "outputId": "e7841bac-6f1a-405d-90b0-8f80d85bd00f",
        "colab": {
          "base_uri": "https://localhost:8080/",
          "height": 34
        }
      },
      "source": [
        "len(new_word)"
      ],
      "execution_count": 0,
      "outputs": [
        {
          "output_type": "execute_result",
          "data": {
            "text/plain": [
              "63"
            ]
          },
          "metadata": {
            "tags": []
          },
          "execution_count": 16
        }
      ]
    },
    {
      "cell_type": "code",
      "metadata": {
        "id": "VMKZWKzuY8HI",
        "colab_type": "code",
        "outputId": "6d94e967-48c8-4ab0-f3a5-89362ea930b2",
        "colab": {
          "base_uri": "https://localhost:8080/",
          "height": 656
        }
      },
      "source": [
        "# frequency plot using nltk\n",
        "nlp_word = nltk.FreqDist(word)\n",
        "\n",
        "# plotting actual words\n",
        "nlp_word.plot(20,label='word')\n",
        "nlp_new_word = nltk.FreqDist(new_word)\n",
        "nlp_new_word.plot(20,label='new word')\n"
      ],
      "execution_count": 0,
      "outputs": [
        {
          "output_type": "display_data",
          "data": {
            "image/png": "[encoded data removed]",
            "text/plain": [
              "<Figure size 432x288 with 1 Axes>"
            ]
          },
          "metadata": {
            "tags": []
          }
        },
        {
          "output_type": "display_data",
          "data": {
            "image/png": "[encoded data removed]",
            "text/plain": [
              "<Figure size 432x288 with 1 Axes>"
            ]
          },
          "metadata": {
            "tags": []
          }
        }
      ]
    },
    {
      "cell_type": "code",
      "metadata": {
        "id": "tVe2brsHZerM",
        "colab_type": "code",
        "colab": {}
      },
      "source": [
        ""
      ],
      "execution_count": 0,
      "outputs": []
    }
  ]
}