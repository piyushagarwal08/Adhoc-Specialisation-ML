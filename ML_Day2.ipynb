{
  "nbformat": 4,
  "nbformat_minor": 0,
  "metadata": {
    "colab": {
      "name": "ML Day2.ipynb",
      "version": "0.3.2",
      "provenance": [],
      "collapsed_sections": [],
      "include_colab_link": true
    },
    "kernelspec": {
      "name": "python3",
      "display_name": "Python 3"
    }
  },
  "cells": [
    {
      "cell_type": "markdown",
      "metadata": {
        "id": "view-in-github",
        "colab_type": "text"
      },
      "source": [
        "<a href=\"https://colab.research.google.com/github/piyushagarwal08/Adhoc-Specialisation-ML/blob/master/ML_Day2.ipynb\" target=\"_parent\"><img src=\"https://colab.research.google.com/assets/colab-badge.svg\" alt=\"Open In Colab\"/></a>"
      ]
    },
    {
      "cell_type": "markdown",
      "metadata": {
        "id": "tWOJ-EPhA6OF",
        "colab_type": "text"
      },
      "source": [
        "* Libraries other then numpy are :\n",
        "    1. Theano \n",
        "    2. Tensorflow\n",
        " \n"
      ]
    },
    {
      "cell_type": "code",
      "metadata": {
        "id": "JIIfNoNJBMEO",
        "colab_type": "code",
        "colab": {}
      },
      "source": [
        "import numpy as np\n",
        "import matplotlib.pyplot as plt\n",
        "import time"
      ],
      "execution_count": 0,
      "outputs": []
    },
    {
      "cell_type": "code",
      "metadata": {
        "id": "CZ5g6JdyBdsD",
        "colab_type": "code",
        "colab": {}
      },
      "source": [
        "x = [4,5,7,6,5,4]\n",
        "y = (1,2,12,3,4,54)\n",
        "player = ['virat','abhinay','push','rahul']\n",
        "runs = [120,44,77,33]"
      ],
      "execution_count": 0,
      "outputs": []
    },
    {
      "cell_type": "markdown",
      "metadata": {
        "id": "AU0D943nB-8C",
        "colab_type": "text"
      },
      "source": [
        "## Plotting graphs"
      ]
    },
    {
      "cell_type": "code",
      "metadata": {
        "id": "zFlYFlRFB7R6",
        "colab_type": "code",
        "colab": {
          "base_uri": "https://localhost:8080/",
          "height": 300
        },
        "outputId": "49282cf8-62f2-4f04-ebf6-cde55e51c70d"
      },
      "source": [
        "plt.xlabel('x-axis')    #label at x - axis\n",
        "plt.ylabel('y-axis')    #label at y-axis\n",
        "plt.plot(x,y)           # to plot lines using x and y\n",
        "plt.bar(x,y,label='variable')\n",
        "plt.scatter(x,y)             # shows only points not lines \n",
        "plt.bar(player,runs,label='cricket')\n",
        "plt.grid(color='red')\n",
        "plt.legend()"
      ],
      "execution_count": 13,
      "outputs": [
        {
          "output_type": "execute_result",
          "data": {
            "text/plain": [
              "<matplotlib.legend.Legend at 0x7fe6246847b8>"
            ]
          },
          "metadata": {
            "tags": []
          },
          "execution_count": 13
        },
        {
          "output_type": "display_data",
          "data": {
            "image/png": "[encoded data removed]",
            "text/plain": [
              "<Figure size 432x288 with 1 Axes>"
            ]
          },
          "metadata": {
            "tags": []
          }
        }
      ]
    },
    {
      "cell_type": "markdown",
      "metadata": {
        "id": "YFGXsXNbD8nX",
        "colab_type": "text"
      },
      "source": [
        "## PIECHART"
      ]
    },
    {
      "cell_type": "code",
      "metadata": {
        "id": "_hkpygPHCLvk",
        "colab_type": "code",
        "colab": {
          "base_uri": "https://localhost:8080/",
          "height": 394
        },
        "outputId": "9b945e53-eabc-42bd-dd1b-791121336140"
      },
      "source": [
        "# exlpode is used to shift the part of piechart separately\n",
        "exp=[0.1,0,0,0.2]\n",
        "plt.pie(runs,labels=player,explode=exp,shadow=True)\n",
        "#plt.pie(data,label=whose_data)\n",
        "#shadow is used to create dark parts below pie areas\n"
      ],
      "execution_count": 22,
      "outputs": [
        {
          "output_type": "execute_result",
          "data": {
            "text/plain": [
              "([<matplotlib.patches.Wedge at 0x7fe62459eeb8>,\n",
              "  <matplotlib.patches.Wedge at 0x7fe6245a7668>,\n",
              "  <matplotlib.patches.Wedge at 0x7fe6245a7dd8>,\n",
              "  <matplotlib.patches.Wedge at 0x7fe6245b0588>],\n",
              " [Text(0.23242130759939578, 1.177276660676575, 'virat'),\n",
              "  Text(-1.092777526229224, -0.12584624812976195, 'abhinay'),\n",
              "  Text(-0.07561366497327134, -1.0973980926123892, 'push'),\n",
              "  Text(1.2080498647797875, -0.48022445190300056, 'rahul')])"
            ]
          },
          "metadata": {
            "tags": []
          },
          "execution_count": 22
        },
        {
          "output_type": "display_data",
          "data": {
            "image/png": "[encoded data removed]",
            "text/plain": [
              "<Figure size 432x288 with 1 Axes>"
            ]
          },
          "metadata": {
            "tags": []
          }
        }
      ]
    },
    {
      "cell_type": "code",
      "metadata": {
        "id": "T_CycEYiEPNQ",
        "colab_type": "code",
        "colab": {
          "base_uri": "https://localhost:8080/",
          "height": 463
        },
        "outputId": "d04749c7-bb47-4d88-c72f-0c0f31dc50c7"
      },
      "source": [
        "plt.pie(runs,labels=player,explode=exp,shadow=True,autopct='%1.1f%%')"
      ],
      "execution_count": 23,
      "outputs": [
        {
          "output_type": "execute_result",
          "data": {
            "text/plain": [
              "([<matplotlib.patches.Wedge at 0x7fe624565a20>,\n",
              "  <matplotlib.patches.Wedge at 0x7fe62456f400>,\n",
              "  <matplotlib.patches.Wedge at 0x7fe62456fda0>,\n",
              "  <matplotlib.patches.Wedge at 0x7fe6244f9780>],\n",
              " [Text(0.23242130759939578, 1.177276660676575, 'virat'),\n",
              "  Text(-1.092777526229224, -0.12584624812976195, 'abhinay'),\n",
              "  Text(-0.07561366497327134, -1.0973980926123892, 'push'),\n",
              "  Text(1.2080498647797875, -0.48022445190300056, 'rahul')],\n",
              " [Text(0.13557909609964752, 0.686744718728002, '43.8%'),\n",
              "  Text(-0.596060468852304, -0.06864340807077923, '16.1%'),\n",
              "  Text(-0.041243817258148, -0.5985807777885759, '28.1%'),\n",
              "  Text(0.7434153014029462, -0.2955227396326157, '12.0%')])"
            ]
          },
          "metadata": {
            "tags": []
          },
          "execution_count": 23
        },
        {
          "output_type": "display_data",
          "data": {
            "image/png": "[encoded data removed]",
            "text/plain": [
              "<Figure size 432x288 with 1 Axes>"
            ]
          },
          "metadata": {
            "tags": []
          }
        }
      ]
    },
    {
      "cell_type": "markdown",
      "metadata": {
        "id": "kHypyKLsJ7iK",
        "colab_type": "text"
      },
      "source": [
        "## PANDAS\n"
      ]
    },
    {
      "cell_type": "code",
      "metadata": {
        "id": "X68qruzTG2QT",
        "colab_type": "code",
        "colab": {}
      },
      "source": [
        "import pandas as pd"
      ],
      "execution_count": 0,
      "outputs": []
    },
    {
      "cell_type": "markdown",
      "metadata": {
        "id": "RyEFDtR8KLQ0",
        "colab_type": "text"
      },
      "source": [
        "Converts data of any type into data frame\n"
      ]
    },
    {
      "cell_type": "code",
      "metadata": {
        "id": "lhUdkCaEJ55L",
        "colab_type": "code",
        "colab": {}
      },
      "source": [
        "# Reading data from a csv file\n",
        "df = pd.read_csv('com.csv')\n",
        "# pd.read_csv creates a data frame of csv file and is stored in df"
      ],
      "execution_count": 0,
      "outputs": []
    },
    {
      "cell_type": "code",
      "metadata": {
        "id": "TFVZ0QhhLXwS",
        "colab_type": "code",
        "colab": {
          "base_uri": "https://localhost:8080/",
          "height": 173
        },
        "outputId": "b4375767-1538-448f-bc60-3f8a09a91cf3"
      },
      "source": [
        "# To find the structure of data frame \n",
        "df.info()"
      ],
      "execution_count": 30,
      "outputs": [
        {
          "output_type": "stream",
          "text": [
            "<class 'pandas.core.frame.DataFrame'>\n",
            "RangeIndex: 6 entries, 0 to 5\n",
            "Data columns (total 4 columns):\n",
            "Name          6 non-null object\n",
            "Department    4 non-null object\n",
            "Manager       4 non-null object\n",
            "Salary        6 non-null int64\n",
            "dtypes: int64(1), object(3)\n",
            "memory usage: 272.0+ bytes\n"
          ],
          "name": "stdout"
        }
      ]
    },
    {
      "cell_type": "code",
      "metadata": {
        "id": "Bi9kvUxIL9UB",
        "colab_type": "code",
        "colab": {
          "base_uri": "https://localhost:8080/",
          "height": 237
        },
        "outputId": "8f4d166f-01e1-4a0b-e61a-08a89b556c35"
      },
      "source": [
        "# to print all data\n",
        "df"
      ],
      "execution_count": 31,
      "outputs": [
        {
          "output_type": "execute_result",
          "data": {
            "text/html": [
              "<div>\n",
              "<style scoped>\n",
              "    .dataframe tbody tr th:only-of-type {\n",
              "        vertical-align: middle;\n",
              "    }\n",
              "\n",
              "    .dataframe tbody tr th {\n",
              "        vertical-align: top;\n",
              "    }\n",
              "\n",
              "    .dataframe thead th {\n",
              "        text-align: right;\n",
              "    }\n",
              "</style>\n",
              "<table border=\"1\" class=\"dataframe\">\n",
              "  <thead>\n",
              "    <tr style=\"text-align: right;\">\n",
              "      <th></th>\n",
              "      <th>Name</th>\n",
              "      <th>Department</th>\n",
              "      <th>Manager</th>\n",
              "      <th>Salary</th>\n",
              "    </tr>\n",
              "  </thead>\n",
              "  <tbody>\n",
              "    <tr>\n",
              "      <th>0</th>\n",
              "      <td>Robin Hood</td>\n",
              "      <td>NaN</td>\n",
              "      <td>NaN</td>\n",
              "      <td>200</td>\n",
              "    </tr>\n",
              "    <tr>\n",
              "      <th>1</th>\n",
              "      <td>Arsene Wenger</td>\n",
              "      <td>Bar</td>\n",
              "      <td>Friar Tuck</td>\n",
              "      <td>50</td>\n",
              "    </tr>\n",
              "    <tr>\n",
              "      <th>2</th>\n",
              "      <td>Friar Tuck</td>\n",
              "      <td>Foo</td>\n",
              "      <td>Robin Hood</td>\n",
              "      <td>100</td>\n",
              "    </tr>\n",
              "    <tr>\n",
              "      <th>3</th>\n",
              "      <td>Little John</td>\n",
              "      <td>Foo</td>\n",
              "      <td>Robin Hood</td>\n",
              "      <td>100</td>\n",
              "    </tr>\n",
              "    <tr>\n",
              "      <th>4</th>\n",
              "      <td>Sam Allardyce</td>\n",
              "      <td>NaN</td>\n",
              "      <td>NaN</td>\n",
              "      <td>250</td>\n",
              "    </tr>\n",
              "    <tr>\n",
              "      <th>5</th>\n",
              "      <td>Dimi Berbatov</td>\n",
              "      <td>Foo</td>\n",
              "      <td>Little John</td>\n",
              "      <td>50</td>\n",
              "    </tr>\n",
              "  </tbody>\n",
              "</table>\n",
              "</div>"
            ],
            "text/plain": [
              "            Name Department      Manager  Salary\n",
              "0     Robin Hood        NaN          NaN     200\n",
              "1  Arsene Wenger        Bar   Friar Tuck      50\n",
              "2     Friar Tuck        Foo   Robin Hood     100\n",
              "3    Little John        Foo   Robin Hood     100\n",
              "4  Sam Allardyce        NaN          NaN     250\n",
              "5  Dimi Berbatov        Foo  Little John      50"
            ]
          },
          "metadata": {
            "tags": []
          },
          "execution_count": 31
        }
      ]
    },
    {
      "cell_type": "code",
      "metadata": {
        "id": "lELLoLcpM7HT",
        "colab_type": "code",
        "colab": {
          "base_uri": "https://localhost:8080/",
          "height": 143
        },
        "outputId": "30585013-620d-448e-c7f2-fd2eef4333f4"
      },
      "source": [
        "# to show top 3 rows\n",
        "df.head(3)"
      ],
      "execution_count": 34,
      "outputs": [
        {
          "output_type": "execute_result",
          "data": {
            "text/html": [
              "<div>\n",
              "<style scoped>\n",
              "    .dataframe tbody tr th:only-of-type {\n",
              "        vertical-align: middle;\n",
              "    }\n",
              "\n",
              "    .dataframe tbody tr th {\n",
              "        vertical-align: top;\n",
              "    }\n",
              "\n",
              "    .dataframe thead th {\n",
              "        text-align: right;\n",
              "    }\n",
              "</style>\n",
              "<table border=\"1\" class=\"dataframe\">\n",
              "  <thead>\n",
              "    <tr style=\"text-align: right;\">\n",
              "      <th></th>\n",
              "      <th>Name</th>\n",
              "      <th>Department</th>\n",
              "      <th>Manager</th>\n",
              "      <th>Salary</th>\n",
              "    </tr>\n",
              "  </thead>\n",
              "  <tbody>\n",
              "    <tr>\n",
              "      <th>0</th>\n",
              "      <td>Robin Hood</td>\n",
              "      <td>NaN</td>\n",
              "      <td>NaN</td>\n",
              "      <td>200</td>\n",
              "    </tr>\n",
              "    <tr>\n",
              "      <th>1</th>\n",
              "      <td>Arsene Wenger</td>\n",
              "      <td>Bar</td>\n",
              "      <td>Friar Tuck</td>\n",
              "      <td>50</td>\n",
              "    </tr>\n",
              "    <tr>\n",
              "      <th>2</th>\n",
              "      <td>Friar Tuck</td>\n",
              "      <td>Foo</td>\n",
              "      <td>Robin Hood</td>\n",
              "      <td>100</td>\n",
              "    </tr>\n",
              "  </tbody>\n",
              "</table>\n",
              "</div>"
            ],
            "text/plain": [
              "            Name Department     Manager  Salary\n",
              "0     Robin Hood        NaN         NaN     200\n",
              "1  Arsene Wenger        Bar  Friar Tuck      50\n",
              "2     Friar Tuck        Foo  Robin Hood     100"
            ]
          },
          "metadata": {
            "tags": []
          },
          "execution_count": 34
        }
      ]
    },
    {
      "cell_type": "code",
      "metadata": {
        "id": "CwJrCYzCNI5w",
        "colab_type": "code",
        "colab": {
          "base_uri": "https://localhost:8080/",
          "height": 143
        },
        "outputId": "e814100b-4af1-41f1-8ec3-17f468d4444e"
      },
      "source": [
        "# to show bottom 3 rows\n",
        "df.tail(3)"
      ],
      "execution_count": 35,
      "outputs": [
        {
          "output_type": "execute_result",
          "data": {
            "text/html": [
              "<div>\n",
              "<style scoped>\n",
              "    .dataframe tbody tr th:only-of-type {\n",
              "        vertical-align: middle;\n",
              "    }\n",
              "\n",
              "    .dataframe tbody tr th {\n",
              "        vertical-align: top;\n",
              "    }\n",
              "\n",
              "    .dataframe thead th {\n",
              "        text-align: right;\n",
              "    }\n",
              "</style>\n",
              "<table border=\"1\" class=\"dataframe\">\n",
              "  <thead>\n",
              "    <tr style=\"text-align: right;\">\n",
              "      <th></th>\n",
              "      <th>Name</th>\n",
              "      <th>Department</th>\n",
              "      <th>Manager</th>\n",
              "      <th>Salary</th>\n",
              "    </tr>\n",
              "  </thead>\n",
              "  <tbody>\n",
              "    <tr>\n",
              "      <th>3</th>\n",
              "      <td>Little John</td>\n",
              "      <td>Foo</td>\n",
              "      <td>Robin Hood</td>\n",
              "      <td>100</td>\n",
              "    </tr>\n",
              "    <tr>\n",
              "      <th>4</th>\n",
              "      <td>Sam Allardyce</td>\n",
              "      <td>NaN</td>\n",
              "      <td>NaN</td>\n",
              "      <td>250</td>\n",
              "    </tr>\n",
              "    <tr>\n",
              "      <th>5</th>\n",
              "      <td>Dimi Berbatov</td>\n",
              "      <td>Foo</td>\n",
              "      <td>Little John</td>\n",
              "      <td>50</td>\n",
              "    </tr>\n",
              "  </tbody>\n",
              "</table>\n",
              "</div>"
            ],
            "text/plain": [
              "            Name Department      Manager  Salary\n",
              "3    Little John        Foo   Robin Hood     100\n",
              "4  Sam Allardyce        NaN          NaN     250\n",
              "5  Dimi Berbatov        Foo  Little John      50"
            ]
          },
          "metadata": {
            "tags": []
          },
          "execution_count": 35
        }
      ]
    },
    {
      "cell_type": "code",
      "metadata": {
        "id": "1MIqjPzaNTqr",
        "colab_type": "code",
        "colab": {
          "base_uri": "https://localhost:8080/",
          "height": 139
        },
        "outputId": "309cb8dc-a065-4d16-91ea-70c0d0d4e7ce"
      },
      "source": [
        "# to print only single column data\n",
        "df['Name']"
      ],
      "execution_count": 36,
      "outputs": [
        {
          "output_type": "execute_result",
          "data": {
            "text/plain": [
              "0       Robin Hood\n",
              "1    Arsene Wenger\n",
              "2       Friar Tuck\n",
              "3      Little John\n",
              "4    Sam Allardyce\n",
              "5    Dimi Berbatov\n",
              "Name: Name, dtype: object"
            ]
          },
          "metadata": {
            "tags": []
          },
          "execution_count": 36
        }
      ]
    },
    {
      "cell_type": "code",
      "metadata": {
        "id": "1WvT-6f4NWyM",
        "colab_type": "code",
        "colab": {
          "base_uri": "https://localhost:8080/",
          "height": 143
        },
        "outputId": "44905aaf-7c18-4792-b13d-c956552fd41a"
      },
      "source": [
        "# For selecting rows and columns\n",
        "df.iloc[1:4,[2,3]]\n",
        "# df.iloc[ row-slicing,[column_index] ]  df.iloc[ [list_index],column-slicing ]"
      ],
      "execution_count": 43,
      "outputs": [
        {
          "output_type": "execute_result",
          "data": {
            "text/html": [
              "<div>\n",
              "<style scoped>\n",
              "    .dataframe tbody tr th:only-of-type {\n",
              "        vertical-align: middle;\n",
              "    }\n",
              "\n",
              "    .dataframe tbody tr th {\n",
              "        vertical-align: top;\n",
              "    }\n",
              "\n",
              "    .dataframe thead th {\n",
              "        text-align: right;\n",
              "    }\n",
              "</style>\n",
              "<table border=\"1\" class=\"dataframe\">\n",
              "  <thead>\n",
              "    <tr style=\"text-align: right;\">\n",
              "      <th></th>\n",
              "      <th>Manager</th>\n",
              "      <th>Salary</th>\n",
              "    </tr>\n",
              "  </thead>\n",
              "  <tbody>\n",
              "    <tr>\n",
              "      <th>1</th>\n",
              "      <td>Friar Tuck</td>\n",
              "      <td>50</td>\n",
              "    </tr>\n",
              "    <tr>\n",
              "      <th>2</th>\n",
              "      <td>Robin Hood</td>\n",
              "      <td>100</td>\n",
              "    </tr>\n",
              "    <tr>\n",
              "      <th>3</th>\n",
              "      <td>Robin Hood</td>\n",
              "      <td>100</td>\n",
              "    </tr>\n",
              "  </tbody>\n",
              "</table>\n",
              "</div>"
            ],
            "text/plain": [
              "      Manager  Salary\n",
              "1  Friar Tuck      50\n",
              "2  Robin Hood     100\n",
              "3  Robin Hood     100"
            ]
          },
          "metadata": {
            "tags": []
          },
          "execution_count": 43
        }
      ]
    },
    {
      "cell_type": "code",
      "metadata": {
        "id": "UCFL-Ts2Nmme",
        "colab_type": "code",
        "colab": {
          "base_uri": "https://localhost:8080/",
          "height": 237
        },
        "outputId": "cf092bc3-0d7d-424a-a21e-d892471f5843"
      },
      "source": [
        "df.iloc[0:,[0,3]]"
      ],
      "execution_count": 44,
      "outputs": [
        {
          "output_type": "execute_result",
          "data": {
            "text/html": [
              "<div>\n",
              "<style scoped>\n",
              "    .dataframe tbody tr th:only-of-type {\n",
              "        vertical-align: middle;\n",
              "    }\n",
              "\n",
              "    .dataframe tbody tr th {\n",
              "        vertical-align: top;\n",
              "    }\n",
              "\n",
              "    .dataframe thead th {\n",
              "        text-align: right;\n",
              "    }\n",
              "</style>\n",
              "<table border=\"1\" class=\"dataframe\">\n",
              "  <thead>\n",
              "    <tr style=\"text-align: right;\">\n",
              "      <th></th>\n",
              "      <th>Name</th>\n",
              "      <th>Salary</th>\n",
              "    </tr>\n",
              "  </thead>\n",
              "  <tbody>\n",
              "    <tr>\n",
              "      <th>0</th>\n",
              "      <td>Robin Hood</td>\n",
              "      <td>200</td>\n",
              "    </tr>\n",
              "    <tr>\n",
              "      <th>1</th>\n",
              "      <td>Arsene Wenger</td>\n",
              "      <td>50</td>\n",
              "    </tr>\n",
              "    <tr>\n",
              "      <th>2</th>\n",
              "      <td>Friar Tuck</td>\n",
              "      <td>100</td>\n",
              "    </tr>\n",
              "    <tr>\n",
              "      <th>3</th>\n",
              "      <td>Little John</td>\n",
              "      <td>100</td>\n",
              "    </tr>\n",
              "    <tr>\n",
              "      <th>4</th>\n",
              "      <td>Sam Allardyce</td>\n",
              "      <td>250</td>\n",
              "    </tr>\n",
              "    <tr>\n",
              "      <th>5</th>\n",
              "      <td>Dimi Berbatov</td>\n",
              "      <td>50</td>\n",
              "    </tr>\n",
              "  </tbody>\n",
              "</table>\n",
              "</div>"
            ],
            "text/plain": [
              "            Name  Salary\n",
              "0     Robin Hood     200\n",
              "1  Arsene Wenger      50\n",
              "2     Friar Tuck     100\n",
              "3    Little John     100\n",
              "4  Sam Allardyce     250\n",
              "5  Dimi Berbatov      50"
            ]
          },
          "metadata": {
            "tags": []
          },
          "execution_count": 44
        }
      ]
    },
    {
      "cell_type": "code",
      "metadata": {
        "id": "YE22qG-3OhHD",
        "colab_type": "code",
        "colab": {
          "base_uri": "https://localhost:8080/",
          "height": 34
        },
        "outputId": "e70dbb7c-dddd-4dc4-a8ec-f69f9996feda"
      },
      "source": [
        "# salary Column\n",
        "df['Salary'].max()\n",
        "# data_column.function()\n",
        "# max() function used to find the maximum data available in a data frame"
      ],
      "execution_count": 45,
      "outputs": [
        {
          "output_type": "execute_result",
          "data": {
            "text/plain": [
              "250"
            ]
          },
          "metadata": {
            "tags": []
          },
          "execution_count": 45
        }
      ]
    },
    {
      "cell_type": "code",
      "metadata": {
        "id": "LWNTsirxPCgA",
        "colab_type": "code",
        "colab": {
          "base_uri": "https://localhost:8080/",
          "height": 34
        },
        "outputId": "e2daf505-c1b4-4d84-90f5-11571f474842"
      },
      "source": [
        "# to get the lowest value in a data frame\n",
        "df['Salary'].min()"
      ],
      "execution_count": 46,
      "outputs": [
        {
          "output_type": "execute_result",
          "data": {
            "text/plain": [
              "50"
            ]
          },
          "metadata": {
            "tags": []
          },
          "execution_count": 46
        }
      ]
    },
    {
      "cell_type": "code",
      "metadata": {
        "id": "kh7Svkn0PU_D",
        "colab_type": "code",
        "colab": {
          "base_uri": "https://localhost:8080/",
          "height": 34
        },
        "outputId": "df21a911-c776-4839-c294-8694cbec6b50"
      },
      "source": [
        "# to get the average or mean of value in data frame\n",
        "df['Salary'].mean()"
      ],
      "execution_count": 47,
      "outputs": [
        {
          "output_type": "execute_result",
          "data": {
            "text/plain": [
              "125.0"
            ]
          },
          "metadata": {
            "tags": []
          },
          "execution_count": 47
        }
      ]
    },
    {
      "cell_type": "code",
      "metadata": {
        "id": "Rka-3dYwPbsi",
        "colab_type": "code",
        "colab": {
          "base_uri": "https://localhost:8080/",
          "height": 69
        },
        "outputId": "b0b8caa9-e50c-4e4a-a97e-1a990456b7bc"
      },
      "source": [
        "\n",
        "# to get the median and mode of value in date frame\n",
        "df['Salary'].median() , df['Salary'].mode()"
      ],
      "execution_count": 49,
      "outputs": [
        {
          "output_type": "execute_result",
          "data": {
            "text/plain": [
              "(100.0, 0     50\n",
              " 1    100\n",
              " dtype: int64)"
            ]
          },
          "metadata": {
            "tags": []
          },
          "execution_count": 49
        }
      ]
    },
    {
      "cell_type": "code",
      "metadata": {
        "id": "w2LsFfHIPonv",
        "colab_type": "code",
        "colab": {
          "base_uri": "https://localhost:8080/",
          "height": 121
        },
        "outputId": "795fbacd-41d7-44d3-c98b-5fe2a7c1d66f"
      },
      "source": [
        "df.values\n",
        "# it gives an numpy array"
      ],
      "execution_count": 51,
      "outputs": [
        {
          "output_type": "execute_result",
          "data": {
            "text/plain": [
              "array([['Robin Hood', nan, nan, 200],\n",
              "       ['Arsene Wenger', 'Bar', 'Friar Tuck', 50],\n",
              "       ['Friar Tuck', 'Foo', 'Robin Hood', 100],\n",
              "       ['Little John', 'Foo', 'Robin Hood', 100],\n",
              "       ['Sam Allardyce', nan, nan, 250],\n",
              "       ['Dimi Berbatov', 'Foo', 'Little John', 50]], dtype=object)"
            ]
          },
          "metadata": {
            "tags": []
          },
          "execution_count": 51
        }
      ]
    },
    {
      "cell_type": "code",
      "metadata": {
        "id": "u4ortGhTQHwD",
        "colab_type": "code",
        "colab": {
          "base_uri": "https://localhost:8080/",
          "height": 52
        },
        "outputId": "52f7cce7-c130-4aa7-d730-c1bb95a241ef"
      },
      "source": [
        "df['Name'].values\n",
        "# gives an ndarray with all values of Name column"
      ],
      "execution_count": 54,
      "outputs": [
        {
          "output_type": "execute_result",
          "data": {
            "text/plain": [
              "array(['Robin Hood', 'Arsene Wenger', 'Friar Tuck', 'Little John',\n",
              "       'Sam Allardyce', 'Dimi Berbatov'], dtype=object)"
            ]
          },
          "metadata": {
            "tags": []
          },
          "execution_count": 54
        }
      ]
    },
    {
      "cell_type": "markdown",
      "metadata": {
        "id": "DGAG_Zd3RLAy",
        "colab_type": "text"
      },
      "source": [
        "# Categories of Machine Learning\n",
        "  1. Supervised\n",
        "  2. Unsupervised\n",
        "  3. Reinforcement\n",
        "  \n",
        "    ### Supervised ML\n",
        "     * Machine is trained by providing it with various datasets and after training use the machine to test for non-given datas\n",
        "\n",
        "    ### Unsupervised ML\n",
        "     * Categorising of data based on homogenous characteristics of the data is done in this category"
      ]
    },
    {
      "cell_type": "code",
      "metadata": {
        "id": "rHIRyJOtQMiv",
        "colab_type": "code",
        "colab": {}
      },
      "source": [
        ""
      ],
      "execution_count": 0,
      "outputs": []
    }
  ]
}