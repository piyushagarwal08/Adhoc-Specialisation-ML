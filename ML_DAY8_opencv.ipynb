{
 "cells": [
  {
   "cell_type": "code",
   "execution_count": 1,
   "metadata": {},
   "outputs": [],
   "source": [
    "import pandas as pd"
   ]
  },
  {
   "cell_type": "code",
   "execution_count": 2,
   "metadata": {},
   "outputs": [],
   "source": [
    "# loading data\n",
    "df = pd.read_csv('http://13.234.66.67/summer19/datasets/social.csv')"
   ]
  },
  {
   "cell_type": "code",
   "execution_count": 3,
   "metadata": {},
   "outputs": [
    {
     "name": "stdout",
     "output_type": "stream",
     "text": [
      "<class 'pandas.core.frame.DataFrame'>\n",
      "RangeIndex: 400 entries, 0 to 399\n",
      "Data columns (total 5 columns):\n",
      "User ID            400 non-null int64\n",
      "Gender             400 non-null object\n",
      "Age                400 non-null int64\n",
      "EstimatedSalary    400 non-null int64\n",
      "Purchased          400 non-null int64\n",
      "dtypes: int64(4), object(1)\n",
      "memory usage: 15.7+ KB\n"
     ]
    }
   ],
   "source": [
    "# schema\n",
    "df.info()"
   ]
  },
  {
   "cell_type": "code",
   "execution_count": 4,
   "metadata": {},
   "outputs": [
    {
     "data": {
      "text/html": [
       "<div>\n",
       "<style scoped>\n",
       "    .dataframe tbody tr th:only-of-type {\n",
       "        vertical-align: middle;\n",
       "    }\n",
       "\n",
       "    .dataframe tbody tr th {\n",
       "        vertical-align: top;\n",
       "    }\n",
       "\n",
       "    .dataframe thead th {\n",
       "        text-align: right;\n",
       "    }\n",
       "</style>\n",
       "<table border=\"1\" class=\"dataframe\">\n",
       "  <thead>\n",
       "    <tr style=\"text-align: right;\">\n",
       "      <th></th>\n",
       "      <th>User ID</th>\n",
       "      <th>Gender</th>\n",
       "      <th>Age</th>\n",
       "      <th>EstimatedSalary</th>\n",
       "      <th>Purchased</th>\n",
       "    </tr>\n",
       "  </thead>\n",
       "  <tbody>\n",
       "    <tr>\n",
       "      <th>0</th>\n",
       "      <td>15624510</td>\n",
       "      <td>Male</td>\n",
       "      <td>19</td>\n",
       "      <td>19000</td>\n",
       "      <td>0</td>\n",
       "    </tr>\n",
       "    <tr>\n",
       "      <th>1</th>\n",
       "      <td>15810944</td>\n",
       "      <td>Male</td>\n",
       "      <td>35</td>\n",
       "      <td>20000</td>\n",
       "      <td>0</td>\n",
       "    </tr>\n",
       "    <tr>\n",
       "      <th>2</th>\n",
       "      <td>15668575</td>\n",
       "      <td>Female</td>\n",
       "      <td>26</td>\n",
       "      <td>43000</td>\n",
       "      <td>0</td>\n",
       "    </tr>\n",
       "    <tr>\n",
       "      <th>3</th>\n",
       "      <td>15603246</td>\n",
       "      <td>Female</td>\n",
       "      <td>27</td>\n",
       "      <td>57000</td>\n",
       "      <td>0</td>\n",
       "    </tr>\n",
       "    <tr>\n",
       "      <th>4</th>\n",
       "      <td>15804002</td>\n",
       "      <td>Male</td>\n",
       "      <td>19</td>\n",
       "      <td>76000</td>\n",
       "      <td>0</td>\n",
       "    </tr>\n",
       "  </tbody>\n",
       "</table>\n",
       "</div>"
      ],
      "text/plain": [
       "    User ID  Gender  Age  EstimatedSalary  Purchased\n",
       "0  15624510    Male   19            19000          0\n",
       "1  15810944    Male   35            20000          0\n",
       "2  15668575  Female   26            43000          0\n",
       "3  15603246  Female   27            57000          0\n",
       "4  15804002    Male   19            76000          0"
      ]
     },
     "execution_count": 4,
     "metadata": {},
     "output_type": "execute_result"
    }
   ],
   "source": [
    "#n top 5 rows\n",
    "df.head()"
   ]
  },
  {
   "cell_type": "code",
   "execution_count": 5,
   "metadata": {},
   "outputs": [],
   "source": [
    "# removing user id\n",
    "filterdata = df.iloc[:,2:].values"
   ]
  },
  {
   "cell_type": "code",
   "execution_count": 6,
   "metadata": {},
   "outputs": [],
   "source": [
    "# Now we can apply training test\n",
    "features = filterdata[0:,0:2]"
   ]
  },
  {
   "cell_type": "code",
   "execution_count": 7,
   "metadata": {},
   "outputs": [],
   "source": [
    "label = filterdata[:,-1]"
   ]
  },
  {
   "cell_type": "code",
   "execution_count": 8,
   "metadata": {},
   "outputs": [],
   "source": [
    "from sklearn.model_selection import train_test_split"
   ]
  },
  {
   "cell_type": "code",
   "execution_count": 19,
   "metadata": {},
   "outputs": [],
   "source": [
    "train_data,test_data,train_answer,test_answer = train_test_split(features,label,test_size=0.2)"
   ]
  },
  {
   "cell_type": "code",
   "execution_count": 20,
   "metadata": {},
   "outputs": [],
   "source": [
    "# now applying feature scaling\n",
    "from sklearn.preprocessing import StandardScaler\n"
   ]
  },
  {
   "cell_type": "code",
   "execution_count": 21,
   "metadata": {},
   "outputs": [],
   "source": [
    "sc = StandardScaler()"
   ]
  },
  {
   "cell_type": "code",
   "execution_count": 22,
   "metadata": {},
   "outputs": [
    {
     "data": {
      "text/plain": [
       "array([[ 0.17697971, -0.27707754],\n",
       "       [-0.29184072, -0.60034998],\n",
       "       [ 0.36450789, -0.48279636],\n",
       "       [-1.32324567, -1.27628325],\n",
       "       [-0.38560481, -1.33506006],\n",
       "       [ 0.36450789, -0.15952393],\n",
       "       [-1.88583019, -0.07135872],\n",
       "       [-0.47936889, -0.04197031],\n",
       "       [-1.04195341, -0.36524275],\n",
       "       [-0.29184072, -0.15952393],\n",
       "       [-0.29184072, -0.27707754],\n",
       "       [ 0.08321563,  0.25191372],\n",
       "       [-0.38560481, -0.8060688 ],\n",
       "       [-0.10431255,  0.25191372],\n",
       "       [ 0.36450789, -0.18891233],\n",
       "       [ 0.83332832,  1.01601221],\n",
       "       [-1.22948159,  0.57518616],\n",
       "       [ 0.17697971,  0.13436011],\n",
       "       [-0.85442524,  0.36946733],\n",
       "       [-0.76066115,  0.54579775],\n",
       "       [ 2.05226144, -0.8354572 ],\n",
       "       [-0.29184072, -0.68851519],\n",
       "       [ 0.17697971, -0.30646594],\n",
       "       [-0.66689707, -0.07135872],\n",
       "       [-1.04195341,  0.75151658],\n",
       "       [ 0.36450789,  0.25191372],\n",
       "       [-0.66689707, -1.62894409],\n",
       "       [ 0.36450789, -0.51218477],\n",
       "       [-0.94818933,  0.48702095],\n",
       "       [-0.66689707, -0.13013552],\n",
       "       [-1.22948159, -1.09995283],\n",
       "       [-0.01054846,  0.28130212],\n",
       "       [-0.57313298,  1.8976643 ],\n",
       "       [ 0.2707438 ,  0.0461949 ],\n",
       "       [-1.04195341,  0.57518616],\n",
       "       [-0.10431255, -0.01258191],\n",
       "       [-0.10431255,  0.0461949 ],\n",
       "       [ 0.55203606,  2.01521792],\n",
       "       [-0.94818933,  0.39885574],\n",
       "       [-0.85442524, -0.68851519],\n",
       "       [ 1.30214875, -0.95301082],\n",
       "       [ 1.02085649,  0.45763254],\n",
       "       [-1.1357175 , -0.8060688 ],\n",
       "       [-0.01054846, -0.57096157],\n",
       "       [-0.94818933,  1.54500346],\n",
       "       [ 0.92709241, -1.18811804],\n",
       "       [ 0.92709241,  2.07399472],\n",
       "       [-0.29184072,  0.13436011],\n",
       "       [ 1.48967693, -1.30567166],\n",
       "       [-0.29184072, -0.92362241],\n",
       "       [-0.38560481, -0.8060688 ],\n",
       "       [ 1.58344101,  1.75072229],\n",
       "       [-0.01054846, -0.60034998],\n",
       "       [ 1.48967693,  1.10417742],\n",
       "       [-0.29184072,  0.78090498],\n",
       "       [-1.04195341, -0.36524275],\n",
       "       [ 1.48967693,  0.9866238 ],\n",
       "       [-0.47936889, -1.15872964],\n",
       "       [-1.1357175 ,  0.0461949 ],\n",
       "       [-0.10431255,  2.16215993],\n",
       "       [ 1.39591284,  2.13277153],\n",
       "       [-0.94818933, -0.98239922],\n",
       "       [ 1.20838467, -1.39383687],\n",
       "       [ 0.08321563,  1.8682759 ],\n",
       "       [-0.01054846,  0.01680649],\n",
       "       [ 1.39591284,  0.34007893],\n",
       "       [-0.29184072, -0.39463115],\n",
       "       [-0.29184072,  0.60457456],\n",
       "       [-1.32324567, -1.12934124],\n",
       "       [ 0.08321563,  0.13436011],\n",
       "       [-0.94818933, -0.33585435],\n",
       "       [ 1.39591284,  0.0461949 ],\n",
       "       [-1.69830202,  0.34007893],\n",
       "       [-0.10431255, -0.51218477],\n",
       "       [-0.76066115,  0.25191372],\n",
       "       [ 1.77096918, -1.09995283],\n",
       "       [ 1.02085649, -0.92362241],\n",
       "       [-1.88583019,  0.34007893],\n",
       "       [-0.57313298,  1.36867304],\n",
       "       [ 1.86473327,  0.89845859],\n",
       "       [-1.1357175 , -0.54157317],\n",
       "       [-1.41700976, -0.13013552],\n",
       "       [-0.29184072,  0.01680649],\n",
       "       [ 1.86473327, -0.95301082],\n",
       "       [ 1.58344101,  1.60378027],\n",
       "       [ 1.02085649, -1.24689485],\n",
       "       [ 0.2707438 ,  0.28130212],\n",
       "       [ 1.39591284,  0.9866238 ],\n",
       "       [ 0.08321563,  0.01680649],\n",
       "       [ 1.95849736,  0.51640935],\n",
       "       [ 0.92709241, -1.09995283],\n",
       "       [-0.10431255, -0.24768914],\n",
       "       [-1.88583019, -0.7766804 ],\n",
       "       [-1.69830202, -1.39383687],\n",
       "       [-1.51077384, -0.21830073],\n",
       "       [-0.66689707, -1.07056443],\n",
       "       [-0.29184072, -1.42322527],\n",
       "       [ 0.92709241, -1.09995283],\n",
       "       [ 0.08321563, -0.27707754],\n",
       "       [-0.19807663, -0.21830073],\n",
       "       [ 0.92709241,  0.1049717 ],\n",
       "       [ 0.36450789, -0.01258191],\n",
       "       [-0.47936889, -0.8060688 ],\n",
       "       [ 0.64580015, -1.30567166],\n",
       "       [ 1.86473327, -1.39383687],\n",
       "       [-0.01054846, -0.27707754],\n",
       "       [-0.10431255, -1.09995283],\n",
       "       [ 0.17697971,  2.10338313],\n",
       "       [-1.60453793, -0.07135872],\n",
       "       [-1.04195341,  1.95644111],\n",
       "       [-1.04195341,  0.51640935],\n",
       "       [ 0.92709241, -1.21750645],\n",
       "       [ 1.77096918,  0.1049717 ],\n",
       "       [-0.01054846, -0.60034998],\n",
       "       [-0.57313298,  0.86907019],\n",
       "       [-0.10431255,  2.22093674],\n",
       "       [ 0.73956423,  1.36867304],\n",
       "       [-1.22948159, -1.42322527],\n",
       "       [ 0.64580015,  0.25191372],\n",
       "       [-1.1357175 , -1.12934124],\n",
       "       [ 0.08321563,  0.01680649],\n",
       "       [ 0.17697971,  0.13436011],\n",
       "       [-1.04195341,  0.54579775],\n",
       "       [-1.7920661 , -1.33506006],\n",
       "       [-1.41700976,  0.34007893],\n",
       "       [-0.57313298,  1.45683825],\n",
       "       [-1.1357175 ,  0.45763254],\n",
       "       [ 1.58344101, -0.92362241],\n",
       "       [ 1.39591284, -1.07056443],\n",
       "       [ 1.11462058, -1.01178762],\n",
       "       [-0.19807663, -0.60034998],\n",
       "       [-0.94818933, -0.7766804 ],\n",
       "       [-1.7920661 ,  0.16374851],\n",
       "       [ 2.05226144, -0.71790359],\n",
       "       [ 1.95849736,  1.75072229],\n",
       "       [-0.01054846,  1.22173103],\n",
       "       [ 1.30214875,  0.57518616],\n",
       "       [ 0.08321563,  0.19313691],\n",
       "       [ 0.64580015, -1.12934124],\n",
       "       [-1.1357175 ,  0.31069053],\n",
       "       [-0.66689707, -0.36524275],\n",
       "       [-1.41700976, -0.65912678],\n",
       "       [ 0.2707438 , -0.57096157],\n",
       "       [ 0.73956423,  0.51640935],\n",
       "       [-1.1357175 ,  0.39885574],\n",
       "       [ 0.45827197,  1.22173103],\n",
       "       [-0.47936889,  1.25111943],\n",
       "       [-1.60453793,  0.0461949 ],\n",
       "       [-1.51077384, -1.54077888],\n",
       "       [ 1.02085649, -1.24689485],\n",
       "       [-0.94818933, -0.33585435],\n",
       "       [-1.1357175 , -1.59955569],\n",
       "       [ 0.2707438 , -0.74729199],\n",
       "       [ 0.17697971,  1.07478901],\n",
       "       [-0.10431255,  0.19313691],\n",
       "       [ 0.73956423, -1.42322527],\n",
       "       [-1.32324567,  0.54579775],\n",
       "       [-0.57313298,  2.33849035],\n",
       "       [ 0.36450789,  2.30910195],\n",
       "       [-1.69830202,  0.1049717 ],\n",
       "       [-1.60453793,  0.51640935],\n",
       "       [-0.19807663,  0.13436011],\n",
       "       [ 1.77096918, -0.30646594],\n",
       "       [ 0.2707438 , -0.21830073],\n",
       "       [-0.47936889, -1.24689485],\n",
       "       [-0.66689707,  0.54579775],\n",
       "       [-0.10431255,  0.22252532],\n",
       "       [ 1.11462058, -0.7766804 ],\n",
       "       [ 0.64580015,  1.78011069],\n",
       "       [ 0.36450789,  0.13436011],\n",
       "       [-1.7920661 , -1.45261367],\n",
       "       [ 0.08321563,  1.04540061],\n",
       "       [ 0.73956423,  0.75151658],\n",
       "       [-0.29184072,  2.25032514],\n",
       "       [ 0.2707438 , -0.33585435],\n",
       "       [-1.1357175 , -1.62894409],\n",
       "       [-1.1357175 , -1.04117603],\n",
       "       [-1.1357175 , -1.18811804],\n",
       "       [-0.57313298,  1.36867304],\n",
       "       [ 0.2707438 , -0.30646594],\n",
       "       [ 1.02085649,  0.51640935],\n",
       "       [-1.51077384, -1.27628325],\n",
       "       [ 0.36450789,  0.9866238 ],\n",
       "       [ 0.83332832, -0.62973838],\n",
       "       [ 1.02085649, -1.01178762],\n",
       "       [-1.1357175 ,  0.28130212],\n",
       "       [-0.47936889,  2.30910195],\n",
       "       [ 1.95849736,  0.36946733],\n",
       "       [ 1.6772051 ,  1.8388875 ],\n",
       "       [ 0.17697971,  0.0461949 ],\n",
       "       [-0.85442524,  2.27971355],\n",
       "       [ 0.92709241,  1.42744985],\n",
       "       [-1.04195341, -1.48200207],\n",
       "       [ 0.73956423, -0.33585435],\n",
       "       [ 0.08321563,  0.0755833 ],\n",
       "       [ 0.08321563, -0.8354572 ],\n",
       "       [ 0.2707438 ,  0.25191372],\n",
       "       [ 0.83332832,  2.16215993],\n",
       "       [-0.29184072, -0.33585435],\n",
       "       [ 0.17697971, -0.33585435],\n",
       "       [ 0.73956423,  0.34007893],\n",
       "       [ 1.6772051 ,  0.9866238 ],\n",
       "       [ 1.86473327,  0.72212817],\n",
       "       [ 2.05226144,  1.10417742],\n",
       "       [-0.66689707,  0.01680649],\n",
       "       [ 1.95849736, -1.21750645],\n",
       "       [ 0.83332832, -0.8060688 ],\n",
       "       [-0.76066115, -0.24768914],\n",
       "       [-0.38560481,  0.0461949 ],\n",
       "       [ 1.30214875,  1.98582951],\n",
       "       [ 0.36450789,  1.10417742],\n",
       "       [-0.94818933, -0.45340796],\n",
       "       [ 1.95849736,  0.16374851],\n",
       "       [-0.29184072, -0.45340796],\n",
       "       [-0.76066115, -1.57016728],\n",
       "       [ 0.17697971, -0.15952393],\n",
       "       [-0.01054846, -0.45340796],\n",
       "       [-1.51077384, -0.45340796],\n",
       "       [ 0.83332832, -1.33506006],\n",
       "       [-1.04195341, -1.57016728],\n",
       "       [-0.29184072,  0.0461949 ],\n",
       "       [ 0.2707438 , -0.54157317],\n",
       "       [-0.38560481,  1.22173103],\n",
       "       [ 0.92709241, -0.86484561],\n",
       "       [ 1.02085649,  2.07399472],\n",
       "       [-1.32324567, -0.45340796],\n",
       "       [-0.66689707,  1.39806145],\n",
       "       [-0.19807663, -0.48279636],\n",
       "       [-1.41700976, -1.48200207],\n",
       "       [-0.29184072,  0.13436011],\n",
       "       [ 0.83332832, -0.57096157],\n",
       "       [-0.94818933,  0.42824414],\n",
       "       [ 1.11462058,  0.51640935],\n",
       "       [ 1.95849736,  2.13277153],\n",
       "       [-0.57313298, -1.54077888],\n",
       "       [ 1.30214875,  2.33849035],\n",
       "       [-1.69830202,  0.45763254],\n",
       "       [ 2.05226144, -0.8354572 ],\n",
       "       [-0.94818933,  0.25191372],\n",
       "       [ 1.6772051 , -0.30646594],\n",
       "       [ 0.83332832,  1.07478901],\n",
       "       [ 0.83332832, -0.68851519],\n",
       "       [-0.66689707,  0.1049717 ],\n",
       "       [-0.29184072,  0.0755833 ],\n",
       "       [ 0.83332832,  1.25111943],\n",
       "       [ 1.77096918,  1.51561506],\n",
       "       [ 2.05226144, -1.07056443],\n",
       "       [ 1.02085649,  0.54579775],\n",
       "       [-0.29184072, -1.48200207],\n",
       "       [-0.94818933, -1.12934124],\n",
       "       [-1.32324567, -1.39383687],\n",
       "       [ 0.73956423, -0.86484561],\n",
       "       [-0.29184072, -0.60034998],\n",
       "       [-1.7920661 , -1.30567166],\n",
       "       [ 0.73956423, -1.24689485],\n",
       "       [ 1.11462058, -1.48200207],\n",
       "       [-0.29184072,  0.51640935],\n",
       "       [ 0.92709241,  1.78011069],\n",
       "       [-0.76066115,  1.07478901],\n",
       "       [-1.22948159,  0.25191372],\n",
       "       [ 0.55203606, -0.92362241],\n",
       "       [-0.19807663, -0.30646594],\n",
       "       [-1.69830202, -1.01178762],\n",
       "       [ 0.17697971,  0.22252532],\n",
       "       [ 0.08321563,  1.8682759 ],\n",
       "       [ 0.17697971,  0.01680649],\n",
       "       [-0.57313298, -1.54077888],\n",
       "       [-0.57313298,  0.45763254],\n",
       "       [ 0.08321563, -0.8354572 ],\n",
       "       [-0.10431255,  0.1049717 ],\n",
       "       [-0.19807663,  1.60378027],\n",
       "       [-1.41700976, -0.21830073],\n",
       "       [ 0.17697971, -0.39463115],\n",
       "       [-0.10431255, -0.39463115],\n",
       "       [ 0.83332832, -0.60034998],\n",
       "       [-0.29184072, -0.95301082],\n",
       "       [ 0.17697971, -0.68851519],\n",
       "       [-0.19807663,  1.39806145],\n",
       "       [-0.29184072, -1.27628325],\n",
       "       [ 0.92709241,  1.98582951],\n",
       "       [ 0.08321563,  0.75151658],\n",
       "       [-0.29184072,  0.19313691],\n",
       "       [-0.01054846, -0.27707754],\n",
       "       [ 0.83332832, -1.48200207],\n",
       "       [ 0.64580015, -0.74729199],\n",
       "       [-0.10431255, -0.54157317],\n",
       "       [ 0.45827197,  1.72133388],\n",
       "       [ 1.95849736, -0.8354572 ],\n",
       "       [ 0.2707438 ,  0.01680649],\n",
       "       [ 0.83332832, -1.18811804],\n",
       "       [-0.19807663,  0.83968179],\n",
       "       [-0.47936889, -0.86484561],\n",
       "       [ 1.02085649,  0.1049717 ],\n",
       "       [-1.22948159,  0.28130212],\n",
       "       [ 0.36450789,  0.57518616],\n",
       "       [-0.85442524, -0.8060688 ],\n",
       "       [ 0.36450789,  0.28130212],\n",
       "       [-1.69830202,  0.34007893],\n",
       "       [ 1.30214875, -1.45261367],\n",
       "       [ 1.20838467,  2.22093674],\n",
       "       [-0.85442524, -0.27707754],\n",
       "       [-0.76066115, -0.62973838],\n",
       "       [ 1.86473327, -0.68851519],\n",
       "       [ 1.48967693, -0.01258191],\n",
       "       [-0.01054846, -0.15952393],\n",
       "       [-0.29184072,  1.10417742],\n",
       "       [-0.29184072,  0.0461949 ],\n",
       "       [-0.94818933,  0.54579775],\n",
       "       [-0.10431255,  0.66335137],\n",
       "       [-0.76066115,  0.48702095],\n",
       "       [ 1.77096918, -1.30567166],\n",
       "       [-0.29184072,  0.25191372],\n",
       "       [ 1.30214875,  1.28050783],\n",
       "       [-1.32324567, -0.36524275],\n",
       "       [ 1.20838467,  1.8682759 ],\n",
       "       [-1.1357175 , -1.62894409],\n",
       "       [-0.85442524,  0.36946733],\n",
       "       [ 0.36450789,  0.0755833 ],\n",
       "       [-1.32324567,  0.39885574],\n",
       "       [-1.69830202, -0.62973838]])"
      ]
     },
     "execution_count": 22,
     "metadata": {},
     "output_type": "execute_result"
    }
   ],
   "source": [
    "# Apply Scalling in training data only\n",
    "train_data=sc.fit_transform(train_data)\n",
    "train_data"
   ]
  },
  {
   "cell_type": "code",
   "execution_count": 23,
   "metadata": {},
   "outputs": [],
   "source": [
    "# test data scaling\n",
    "test_data = sc.transform(test_data)\n"
   ]
  },
  {
   "cell_type": "code",
   "execution_count": 24,
   "metadata": {},
   "outputs": [],
   "source": [
    "# KNN\n",
    "from sklearn.neighbors import KNeighborsClassifier\n",
    "from sklearn.ensemble import RandomForestClassifier"
   ]
  },
  {
   "cell_type": "code",
   "execution_count": 25,
   "metadata": {},
   "outputs": [],
   "source": [
    "# random forest classifier call with no of decision tree\n",
    "Rclf = RandomForestClassifier(n_estimators=20) # default value of n_estimator is 10"
   ]
  },
  {
   "cell_type": "code",
   "execution_count": 26,
   "metadata": {},
   "outputs": [],
   "source": [
    "# Now training\n",
    "trained = Rclf.fit(train_data,train_answer)"
   ]
  },
  {
   "cell_type": "code",
   "execution_count": 27,
   "metadata": {},
   "outputs": [],
   "source": [
    "# now predicting \n",
    "predict = trained.predict(test_data)"
   ]
  },
  {
   "cell_type": "code",
   "execution_count": 28,
   "metadata": {},
   "outputs": [],
   "source": [
    "from sklearn.metrics import accuracy_score"
   ]
  },
  {
   "cell_type": "code",
   "execution_count": 30,
   "metadata": {},
   "outputs": [
    {
     "data": {
      "text/plain": [
       "0.85"
      ]
     },
     "execution_count": 30,
     "metadata": {},
     "output_type": "execute_result"
    }
   ],
   "source": [
    "accuracy_score(predict,test_answer)"
   ]
  },
  {
   "cell_type": "code",
   "execution_count": 31,
   "metadata": {},
   "outputs": [],
   "source": [
    "clf = KNeighborsClassifier()\n",
    "trained = clf.fit(train_data,train_answer)"
   ]
  },
  {
   "cell_type": "code",
   "execution_count": 32,
   "metadata": {},
   "outputs": [],
   "source": [
    "predict = trained.predict(test_data)"
   ]
  },
  {
   "cell_type": "code",
   "execution_count": 33,
   "metadata": {},
   "outputs": [
    {
     "data": {
      "text/plain": [
       "0.9"
      ]
     },
     "execution_count": 33,
     "metadata": {},
     "output_type": "execute_result"
    }
   ],
   "source": [
    "accuracy_score(predict,test_answer)"
   ]
  },
  {
   "cell_type": "code",
   "execution_count": 34,
   "metadata": {},
   "outputs": [],
   "source": [
    "import numpy as np"
   ]
  },
  {
   "cell_type": "code",
   "execution_count": 36,
   "metadata": {},
   "outputs": [],
   "source": [
    "image = np.zeros((300,200))"
   ]
  },
  {
   "cell_type": "code",
   "execution_count": 37,
   "metadata": {},
   "outputs": [
    {
     "data": {
      "text/plain": [
       "array([[0., 0., 0., ..., 0., 0., 0.],\n",
       "       [0., 0., 0., ..., 0., 0., 0.],\n",
       "       [0., 0., 0., ..., 0., 0., 0.],\n",
       "       ...,\n",
       "       [0., 0., 0., ..., 0., 0., 0.],\n",
       "       [0., 0., 0., ..., 0., 0., 0.],\n",
       "       [0., 0., 0., ..., 0., 0., 0.]])"
      ]
     },
     "execution_count": 37,
     "metadata": {},
     "output_type": "execute_result"
    }
   ],
   "source": [
    "image"
   ]
  },
  {
   "cell_type": "code",
   "execution_count": 38,
   "metadata": {},
   "outputs": [],
   "source": [
    "import matplotlib as plot\n"
   ]
  },
  {
   "cell_type": "code",
   "execution_count": 39,
   "metadata": {},
   "outputs": [
    {
     "ename": "AttributeError",
     "evalue": "module 'matplotlib' has no attribute 'image'",
     "output_type": "error",
     "traceback": [
      "\u001b[0;31m---------------------------------------------------------------------------\u001b[0m",
      "\u001b[0;31mAttributeError\u001b[0m                            Traceback (most recent call last)",
      "\u001b[0;32m<ipython-input-39-1700c242923d>\u001b[0m in \u001b[0;36m<module>\u001b[0;34m\u001b[0m\n\u001b[0;32m----> 1\u001b[0;31m \u001b[0mplot\u001b[0m\u001b[0;34m.\u001b[0m\u001b[0mimage\u001b[0m\u001b[0;34m.\u001b[0m\u001b[0mimsave\u001b[0m\u001b[0;34m(\u001b[0m\u001b[0;34m'a.png'\u001b[0m\u001b[0;34m,\u001b[0m\u001b[0mimage\u001b[0m\u001b[0;34m)\u001b[0m\u001b[0;34m\u001b[0m\u001b[0;34m\u001b[0m\u001b[0m\n\u001b[0m",
      "\u001b[0;31mAttributeError\u001b[0m: module 'matplotlib' has no attribute 'image'"
     ]
    }
   ],
   "source": [
    "plot.image.imsave('a.png',image)"
   ]
  },
  {
   "cell_type": "code",
   "execution_count": 40,
   "metadata": {},
   "outputs": [
    {
     "ename": "ModuleNotFoundError",
     "evalue": "No module named 'PIL'",
     "output_type": "error",
     "traceback": [
      "\u001b[0;31m---------------------------------------------------------------------------\u001b[0m",
      "\u001b[0;31mModuleNotFoundError\u001b[0m                       Traceback (most recent call last)",
      "\u001b[0;32m<ipython-input-40-b7f01c2f8cfe>\u001b[0m in \u001b[0;36m<module>\u001b[0;34m\u001b[0m\n\u001b[0;32m----> 1\u001b[0;31m \u001b[0;32mfrom\u001b[0m \u001b[0mPIL\u001b[0m \u001b[0;32mimport\u001b[0m \u001b[0mImage\u001b[0m\u001b[0;34m\u001b[0m\u001b[0;34m\u001b[0m\u001b[0m\n\u001b[0m",
      "\u001b[0;31mModuleNotFoundError\u001b[0m: No module named 'PIL'"
     ]
    }
   ],
   "source": [
    "!pip in"
   ]
  },
  {
   "cell_type": "code",
   "execution_count": 43,
   "metadata": {},
   "outputs": [
    {
     "name": "stdout",
     "output_type": "stream",
     "text": [
      "Collecting png\n",
      "\u001b[31mException:\n",
      "Traceback (most recent call last):\n",
      "  File \"/usr/lib/python3/dist-packages/pip/basecommand.py\", line 215, in main\n",
      "    status = self.run(options, args)\n",
      "  File \"/usr/lib/python3/dist-packages/pip/commands/install.py\", line 353, in run\n",
      "    wb.build(autobuilding=True)\n",
      "  File \"/usr/lib/python3/dist-packages/pip/wheel.py\", line 749, in build\n",
      "    self.requirement_set.prepare_files(self.finder)\n",
      "  File \"/usr/lib/python3/dist-packages/pip/req/req_set.py\", line 380, in prepare_files\n",
      "    ignore_dependencies=self.ignore_dependencies))\n",
      "  File \"/usr/lib/python3/dist-packages/pip/req/req_set.py\", line 554, in _prepare_file\n",
      "    require_hashes\n",
      "  File \"/usr/lib/python3/dist-packages/pip/req/req_install.py\", line 278, in populate_link\n",
      "    self.link = finder.find_requirement(self, upgrade)\n",
      "  File \"/usr/lib/python3/dist-packages/pip/index.py\", line 465, in find_requirement\n",
      "    all_candidates = self.find_all_candidates(req.name)\n",
      "  File \"/usr/lib/python3/dist-packages/pip/index.py\", line 423, in find_all_candidates\n",
      "    for page in self._get_pages(url_locations, project_name):\n",
      "  File \"/usr/lib/python3/dist-packages/pip/index.py\", line 568, in _get_pages\n",
      "    page = self._get_page(location)\n",
      "  File \"/usr/lib/python3/dist-packages/pip/index.py\", line 683, in _get_page\n",
      "    return HTMLPage.get_page(link, session=self.session)\n",
      "  File \"/usr/lib/python3/dist-packages/pip/index.py\", line 795, in get_page\n",
      "    resp.raise_for_status()\n",
      "  File \"/usr/share/python-wheels/requests-2.18.4-py2.py3-none-any.whl/requests/models.py\", line 935, in raise_for_status\n",
      "    raise HTTPError(http_error_msg, response=self)\n",
      "requests.exceptions.HTTPError: 404 Client Error: Not Found for url: https://pypi.org/simple/png/\u001b[0m\n"
     ]
    }
   ],
   "source": []
  },
  {
   "cell_type": "code",
   "execution_count": null,
   "metadata": {},
   "outputs": [],
   "source": []
  }
 ],
 "metadata": {
  "kernelspec": {
   "display_name": "Python 3",
   "language": "python",
   "name": "python3"
  },
  "language_info": {
   "codemirror_mode": {
    "name": "ipython",
    "version": 3
   },
   "file_extension": ".py",
   "mimetype": "text/x-python",
   "name": "python",
   "nbconvert_exporter": "python",
   "pygments_lexer": "ipython3",
   "version": "3.6.8"
  }
 },
 "nbformat": 4,
 "nbformat_minor": 2
}
