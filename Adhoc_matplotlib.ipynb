{
  "nbformat": 4,
  "nbformat_minor": 0,
  "metadata": {
    "colab": {
      "name": "Adhoc_matplotlib.ipynb",
      "version": "0.3.2",
      "provenance": [],
      "include_colab_link": true
    },
    "kernelspec": {
      "name": "python3",
      "display_name": "Python 3"
    }
  },
  "cells": [
    {
      "cell_type": "markdown",
      "metadata": {
        "id": "view-in-github",
        "colab_type": "text"
      },
      "source": [
        "<a href=\"https://colab.research.google.com/github/piyushagarwal08/Adhoc-Specialisation-ML/blob/master/Adhoc_matplotlib.ipynb\" target=\"_parent\"><img src=\"https://colab.research.google.com/assets/colab-badge.svg\" alt=\"Open In Colab\"/></a>"
      ]
    },
    {
      "cell_type": "markdown",
      "metadata": {
        "id": "RawAKNPATjT3",
        "colab_type": "text"
      },
      "source": [
        "# DATA PROCESSING and VISUALIZATION"
      ]
    },
    {
      "cell_type": "code",
      "metadata": {
        "id": "MZw2pPteTryu",
        "colab_type": "code",
        "colab": {}
      },
      "source": [
        "import matplotlib.pyplot as plt\n",
        "# only loading python oriented library"
      ],
      "execution_count": 0,
      "outputs": []
    },
    {
      "cell_type": "code",
      "metadata": {
        "id": "J0X866OxTzDs",
        "colab_type": "code",
        "colab": {
          "base_uri": "https://localhost:8080/",
          "height": 286
        },
        "outputId": "c6109624-88fc-405e-a499-4c8c64c9aaee"
      },
      "source": [
        "plt.plot()\n",
        "# used to plot data"
      ],
      "execution_count": 5,
      "outputs": [
        {
          "output_type": "execute_result",
          "data": {
            "text/plain": [
              "[]"
            ]
          },
          "metadata": {
            "tags": []
          },
          "execution_count": 5
        },
        {
          "output_type": "display_data",
          "data": {
            "image/png": "[encoded data removed]",
            "text/plain": [
              "<Figure size 432x288 with 1 Axes>"
            ]
          },
          "metadata": {
            "tags": []
          }
        }
      ]
    },
    {
      "cell_type": "code",
      "metadata": {
        "id": "5GbkXBGxUweP",
        "colab_type": "code",
        "colab": {}
      },
      "source": [
        "plt.show()\n",
        "# it is used to represent a plot in graphical manner"
      ],
      "execution_count": 0,
      "outputs": []
    },
    {
      "cell_type": "code",
      "metadata": {
        "id": "wmh3BqqtU0ou",
        "colab_type": "code",
        "colab": {}
      },
      "source": [
        "x = [2,3]\n",
        "y = [9,5]\n",
        "x1 = [4,3,8]\n",
        "y1 = [2,9,7]"
      ],
      "execution_count": 0,
      "outputs": []
    },
    {
      "cell_type": "code",
      "metadata": {
        "id": "O2O9bg3AVs7K",
        "colab_type": "code",
        "colab": {
          "base_uri": "https://localhost:8080/",
          "height": 300
        },
        "outputId": "c7192baf-ba57-4efd-eb0d-56ed66941aa3"
      },
      "source": [
        "plt.xlabel(\"time\")\n",
        "plt.ylabel(\"speed\")\n",
        "plt.plot(x,y,label=\"water\",color='red')\n",
        "plt.plot(x1,y1,label=\"sand\")\n",
        "# makes a straight line by joining two points (2,9) and (3,5)\n",
        "plt.grid()\n",
        "\n",
        "plt.bar(x1,y1,color='yellow') # to plot bar graph of x1 and y1\n",
        "plt.bar(x,y,color='red')   # plot bar graph of x,y\n",
        "\n",
        "plt.legend() # to show labels with plot\n",
        "\n",
        "plt.xlim(0,12)   # to show min and max number in x axis\n",
        "plt.ylim(0,15)   # to show min and max number in y axis"
      ],
      "execution_count": 41,
      "outputs": [
        {
          "output_type": "execute_result",
          "data": {
            "text/plain": [
              "(0, 15)"
            ]
          },
          "metadata": {
            "tags": []
          },
          "execution_count": 41
        },
        {
          "output_type": "display_data",
          "data": {
            "image/png": "[encoded data removed]",
            "text/plain": [
              "<Figure size 432x288 with 1 Axes>"
            ]
          },
          "metadata": {
            "tags": []
          }
        }
      ]
    },
    {
      "cell_type": "code",
      "metadata": {
        "id": "fiBIsp38U5Fm",
        "colab_type": "code",
        "colab": {
          "base_uri": "https://localhost:8080/",
          "height": 269
        },
        "outputId": "19ef8f7f-b06f-4bf0-aa6b-2a2d356b73da"
      },
      "source": [
        "a = [2,2,6,6,6]\n",
        "b = [2,5,5,2,4]\n",
        "plt.plot(a,b)\n",
        "plt.grid(color='green')\n",
        "#to plot a grid in graph, color is a parameter used to define color"
      ],
      "execution_count": 35,
      "outputs": [
        {
          "output_type": "display_data",
          "data": {
            "image/png": "[encoded data removed]",
            "text/plain": [
              "<Figure size 432x288 with 1 Axes>"
            ]
          },
          "metadata": {
            "tags": []
          }
        }
      ]
    },
    {
      "cell_type": "code",
      "metadata": {
        "id": "d0rtPKwZVHY-",
        "colab_type": "code",
        "colab": {
          "base_uri": "https://localhost:8080/",
          "height": 318
        },
        "outputId": "894d5a24-35c4-4930-d2b4-c22dc167b53d"
      },
      "source": [
        "player = ['virat','dhoni','pandya','rahul','rohit']\n",
        "runs = [120,87,34,90,99]\n",
        "plt.bar(player,runs)\n",
        "plt.xlabel('player')\n",
        "plt.ylabel('runs')\n",
        "plt.legend()"
      ],
      "execution_count": 43,
      "outputs": [
        {
          "output_type": "stream",
          "text": [
            "No handles with labels found to put in legend.\n"
          ],
          "name": "stderr"
        },
        {
          "output_type": "execute_result",
          "data": {
            "text/plain": [
              "<matplotlib.legend.Legend at 0x7fcf6ae01518>"
            ]
          },
          "metadata": {
            "tags": []
          },
          "execution_count": 43
        },
        {
          "output_type": "display_data",
          "data": {
            "image/png": "[encoded data removed]",
            "text/plain": [
              "<Figure size 432x288 with 1 Axes>"
            ]
          },
          "metadata": {
            "tags": []
          }
        }
      ]
    },
    {
      "cell_type": "code",
      "metadata": {
        "id": "ZV6Imcs4ZoxK",
        "colab_type": "code",
        "colab": {}
      },
      "source": [
        ""
      ],
      "execution_count": 0,
      "outputs": []
    }
  ]
}