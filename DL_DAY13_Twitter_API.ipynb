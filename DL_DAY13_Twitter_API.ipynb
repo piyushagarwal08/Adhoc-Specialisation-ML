{
  "nbformat": 4,
  "nbformat_minor": 0,
  "metadata": {
    "colab": {
      "name": "DL_DAY13_Twitter_API.ipynb",
      "version": "0.3.2",
      "provenance": [],
      "collapsed_sections": [],
      "include_colab_link": true
    },
    "kernelspec": {
      "name": "python3",
      "display_name": "Python 3"
    }
  },
  "cells": [
    {
      "cell_type": "markdown",
      "metadata": {
        "id": "view-in-github",
        "colab_type": "text"
      },
      "source": [
        "<a href=\"https://colab.research.google.com/github/piyushagarwal08/Adhoc-Specialisation-ML/blob/DeepLearning/DL_DAY13_Twitter_API.ipynb\" target=\"_parent\"><img src=\"https://colab.research.google.com/assets/colab-badge.svg\" alt=\"Open In Colab\"/></a>"
      ]
    },
    {
      "cell_type": "code",
      "metadata": {
        "id": "_EyMZZJnK0xR",
        "colab_type": "code",
        "colab": {}
      },
      "source": [
        "import tweepy\n",
        "import matplotlib.pyplot as plt\n",
        "from textblob import TextBlob as tb\n",
        "import time"
      ],
      "execution_count": 0,
      "outputs": []
    },
    {
      "cell_type": "code",
      "metadata": {
        "id": "7d7PY1bEK6aY",
        "colab_type": "code",
        "colab": {}
      },
      "source": [
        "# All 4 authentication keys to access twitter API\n",
        "# to connect as OAth handler \n",
        "CONSUMER_KEY = 'Zz53ItBl5nuTZTZd8TNqwtx3x'\n",
        "CONSUMER_SECRET = 'FenxSGSeszPIgm3J5TGVOZSPyWJjEY9sJO1iw4psn49OALuwZR'\n",
        "ACCESS_TOKEN = '1079059621745111041-JVp8bOizsujQRcqBd4XDYBYxwkQ2ds' \n",
        "ACCESS_TOKEN_SECRET = 'bWKsImgRnYUxa0ZF9eY4sVULM17GOgMQdgpGJOAkL5HKv' "
      ],
      "execution_count": 0,
      "outputs": []
    },
    {
      "cell_type": "markdown",
      "metadata": {
        "id": "AKnp4FasO1mG",
        "colab_type": "text"
      },
      "source": [
        "# I AM SMART ENOUGH TO CHANGE MY KEYS -----lol"
      ]
    },
    {
      "cell_type": "code",
      "metadata": {
        "id": "2vi8UywUMxxL",
        "colab_type": "code",
        "colab": {}
      },
      "source": [
        "# tweepy explore --\n",
        "# connecting to jump server of twitter\n",
        "auth=tweepy.OAuthHandler(CONSUMER_KEY,CONSUMER_SECRET)"
      ],
      "execution_count": 0,
      "outputs": []
    },
    {
      "cell_type": "code",
      "metadata": {
        "id": "eUIjf37eOf6f",
        "colab_type": "code",
        "colab": {}
      },
      "source": [
        "# now we connect from jump server to web server of twitter\n",
        "auth.set_access_token(ACCESS_TOKEN,ACCESS_TOKEN_SECRET)"
      ],
      "execution_count": 0,
      "outputs": []
    },
    {
      "cell_type": "code",
      "metadata": {
        "id": "xDsQ03yvPLiT",
        "colab_type": "code",
        "colab": {}
      },
      "source": [
        "# now we can connect to API storage server of twitter\n",
        "api_connect =tweepy.API(auth)"
      ],
      "execution_count": 0,
      "outputs": []
    },
    {
      "cell_type": "code",
      "metadata": {
        "id": "3nzFEv1kPcON",
        "colab_type": "code",
        "colab": {}
      },
      "source": [
        "# now we can search any topic on twitter\n",
        "tweet_data=api_connect.search('python',count=30)\n"
      ],
      "execution_count": 0,
      "outputs": []
    },
    {
      "cell_type": "code",
      "metadata": {
        "id": "-a8uEv5SPqoa",
        "colab_type": "code",
        "colab": {
          "base_uri": "https://localhost:8080/",
          "height": 538
        },
        "outputId": "849fe9bc-05f9-42b4-967b-b9ab592f64c0"
      },
      "source": [
        "# printing line by line\n",
        "for tweet in tweet_data:\n",
        "  #print(tweet.text)\n",
        "  analysis=tb(tweet.text)\n",
        "  print(analysis.sentiment)\n",
        "  "
      ],
      "execution_count": 7,
      "outputs": [
        {
          "output_type": "stream",
          "text": [
            "Sentiment(polarity=0.0, subjectivity=0.0)\n",
            "Sentiment(polarity=0.2, subjectivity=0.3)\n",
            "Sentiment(polarity=0.0, subjectivity=0.0)\n",
            "Sentiment(polarity=0.0, subjectivity=0.0)\n",
            "Sentiment(polarity=0.0, subjectivity=0.1)\n",
            "Sentiment(polarity=0.0, subjectivity=0.0)\n",
            "Sentiment(polarity=-0.08333333333333333, subjectivity=0.3333333333333333)\n",
            "Sentiment(polarity=0.0, subjectivity=0.0)\n",
            "Sentiment(polarity=-0.2, subjectivity=0.05)\n",
            "Sentiment(polarity=0.24285714285714285, subjectivity=0.4178571428571428)\n",
            "Sentiment(polarity=0.0, subjectivity=0.0)\n",
            "Sentiment(polarity=0.0, subjectivity=0.0)\n",
            "Sentiment(polarity=0.6, subjectivity=0.9)\n",
            "Sentiment(polarity=0.0, subjectivity=0.0)\n",
            "Sentiment(polarity=0.0, subjectivity=0.0)\n",
            "Sentiment(polarity=0.5, subjectivity=0.5)\n",
            "Sentiment(polarity=0.0, subjectivity=0.0)\n",
            "Sentiment(polarity=0.0, subjectivity=0.0)\n",
            "Sentiment(polarity=0.0, subjectivity=0.0)\n",
            "Sentiment(polarity=0.0, subjectivity=0.0)\n",
            "Sentiment(polarity=0.16666666666666666, subjectivity=0.3333333333333333)\n",
            "Sentiment(polarity=0.0, subjectivity=0.0)\n",
            "Sentiment(polarity=0.0, subjectivity=0.0)\n",
            "Sentiment(polarity=0.4, subjectivity=0.4)\n",
            "Sentiment(polarity=0.16666666666666666, subjectivity=0.3333333333333333)\n",
            "Sentiment(polarity=-0.4125, subjectivity=0.6499999999999999)\n",
            "Sentiment(polarity=0.0, subjectivity=0.0)\n",
            "Sentiment(polarity=0.0, subjectivity=0.0)\n",
            "Sentiment(polarity=0.0, subjectivity=0.0)\n",
            "Sentiment(polarity=-0.05, subjectivity=0.0)\n"
          ],
          "name": "stdout"
        }
      ]
    },
    {
      "cell_type": "code",
      "metadata": {
        "id": "Egf4P9NXQN2s",
        "colab_type": "code",
        "colab": {
          "base_uri": "https://localhost:8080/",
          "height": 625
        },
        "outputId": "1e5e66e6-5225-4cd3-9ca0-8303e4f26882"
      },
      "source": [
        "pos = 0\n",
        "neg = 0\n",
        "neu = 0\n",
        "# printing line by line\n",
        "for tweet in tweet_data:\n",
        "  analysis=tb(tweet.text)\n",
        "  # now checking polarity\n",
        "  if analysis.sentiment.polarity > 0:\n",
        "    print('positive')\n",
        "    pos = pos +1\n",
        "  elif analysis.sentiment.polarity == 0:\n",
        "    print('neutral')\n",
        "    neu = neu+1\n",
        "  else:\n",
        "    print('negative')\n",
        "    neg = neg + 1\n",
        "    \n",
        "print(f'''total twitter polarity is \n",
        "positive: {pos}\n",
        "negative: {neg}\n",
        "neutral:  {neu}\n",
        "''')"
      ],
      "execution_count": 8,
      "outputs": [
        {
          "output_type": "stream",
          "text": [
            "neutral\n",
            "positive\n",
            "neutral\n",
            "neutral\n",
            "neutral\n",
            "neutral\n",
            "negative\n",
            "neutral\n",
            "negative\n",
            "positive\n",
            "neutral\n",
            "neutral\n",
            "positive\n",
            "neutral\n",
            "neutral\n",
            "positive\n",
            "neutral\n",
            "neutral\n",
            "neutral\n",
            "neutral\n",
            "positive\n",
            "neutral\n",
            "neutral\n",
            "positive\n",
            "positive\n",
            "negative\n",
            "neutral\n",
            "neutral\n",
            "neutral\n",
            "negative\n",
            "total twitter polarity is \n",
            "positive: 7\n",
            "negative: 4\n",
            "neutral:  19\n",
            "\n"
          ],
          "name": "stdout"
        }
      ]
    },
    {
      "cell_type": "code",
      "metadata": {
        "id": "Dqi1ORPsS_C1",
        "colab_type": "code",
        "colab": {
          "base_uri": "https://localhost:8080/",
          "height": 300
        },
        "outputId": "25bce602-59a3-4c10-b491-c8e7111a0271"
      },
      "source": [
        "# plotting graphs\n",
        "plt.xlabel('tags')\n",
        "plt.ylabel('polarity')\n",
        "plt.bar(['pos','neu','neg'],[pos,neu,neg])"
      ],
      "execution_count": 9,
      "outputs": [
        {
          "output_type": "execute_result",
          "data": {
            "text/plain": [
              "<BarContainer object of 3 artists>"
            ]
          },
          "metadata": {
            "tags": []
          },
          "execution_count": 9
        },
        {
          "output_type": "display_data",
          "data": {
            "image/png": "[encoded data removed]",
            "text/plain": [
              "<Figure size 432x288 with 1 Axes>"
            ]
          },
          "metadata": {
            "tags": []
          }
        }
      ]
    },
    {
      "cell_type": "code",
      "metadata": {
        "id": "9hR06XcQTRdA",
        "colab_type": "code",
        "colab": {
          "base_uri": "https://localhost:8080/",
          "height": 359
        },
        "outputId": "ae870716-1ede-4cd1-f1ad-934eba0ba7ea"
      },
      "source": [
        "plt.pie([pos,neu,neg],labels=['positive','neutral','negative'])"
      ],
      "execution_count": 10,
      "outputs": [
        {
          "output_type": "execute_result",
          "data": {
            "text/plain": [
              "([<matplotlib.patches.Wedge at 0x7fb551e52e80>,\n",
              "  <matplotlib.patches.Wedge at 0x7fb551e52908>,\n",
              "  <matplotlib.patches.Wedge at 0x7fb551e52390>],\n",
              " [Text(0.817459305728021, 0.7360436695459462, 'positive'),\n",
              "  Text(-1.046162174289766, -0.3399186742226877, 'neutral'),\n",
              "  Text(1.0048999936326262, -0.4474103293366707, 'negative')])"
            ]
          },
          "metadata": {
            "tags": []
          },
          "execution_count": 10
        },
        {
          "output_type": "display_data",
          "data": {
            "image/png": "[encoded data removed]",
            "text/plain": [
              "<Figure size 432x288 with 1 Axes>"
            ]
          },
          "metadata": {
            "tags": []
          }
        }
      ]
    },
    {
      "cell_type": "code",
      "metadata": {
        "id": "ZIT5x5yKULXh",
        "colab_type": "code",
        "colab": {}
      },
      "source": [
        ""
      ],
      "execution_count": 0,
      "outputs": []
    }
  ]
}